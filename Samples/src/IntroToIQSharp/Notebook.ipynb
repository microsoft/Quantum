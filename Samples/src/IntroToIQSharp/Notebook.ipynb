{
 "cells": [
  {
   "cell_type": "markdown",
   "metadata": {
    "slideshow": {
     "slide_type": "slide"
    }
   },
   "source": [
    "# Introduction to Q# #"
   ]
  },
  {
   "cell_type": "markdown",
   "metadata": {
    "slideshow": {
     "slide_type": "notes"
    }
   },
   "source": [
    "\n",
    "Q# (Q-sharp) is a domain-specific and [open source](https://github.com/microsoft/qsharp-compiler) programming language, part of [Microsoft's Quantum Development Kit (QDK)](https://docs.microsoft.com/en-us/quantum/), used for expressing quantum algorithms. It is to be used for writing subroutines that execute on an adjunct quantum processing unit (QPU), under the control of a classical host program and computer.\n",
    "\n"
   ]
  },
  {
   "cell_type": "markdown",
   "metadata": {
    "slideshow": {
     "slide_type": "notes"
    }
   },
   "source": [
    "\n",
    "Operations and functions are the basic unit of execution in Q#. They are roughly equivalent to a function in C or C++ or Python, or a static method in C# or Java.\n",
    "\n",
    "A Q# operation is a quantum subroutine. That is, it is a callable routine that contains quantum operations.\n",
    "\n",
    "A Q# function is a classical subroutine used within a quantum algorithm. It may contain classical code but no quantum operations. Specifically, functions may not allocate or borrow qubits, nor may they call operations. It is possible, however, to pass them operations or qubits for processing. Functions are thus entirely deterministic in the sense that calling them with the same arguments will always produce the same result.\n",
    "\n",
    "Together, operations and functions are called callables.\n",
    "\n"
   ]
  },
  {
   "cell_type": "markdown",
   "metadata": {
    "slideshow": {
     "slide_type": "notes"
    }
   },
   "source": [
    "\n",
    "IQ#, the Q# Jupyter kernel, allows you to write Q# functions and operations directly on a code cell and compile them by running the cell (pressing Ctrl/⌘+Enter). For example:"
   ]
  },
  {
   "cell_type": "code",
   "execution_count": 1,
   "metadata": {
    "slideshow": {
     "slide_type": "slide"
    }
   },
   "outputs": [
    {
     "data": {
      "application/json": "[\"Hello\"]",
      "text/html": [
       "<ul><li>Hello</li></ul>"
      ],
      "text/plain": [
       "Hello"
      ]
     },
     "execution_count": 1,
     "metadata": {},
     "output_type": "execute_result"
    }
   ],
   "source": [
    "function Hello(name: String) : Unit {\n",
    "\n",
    "    // The following line will simply write a message to the console:\n",
    "    Message($\"Hello {name}!\");\n",
    "\n",
    "}"
   ]
  },
  {
   "cell_type": "markdown",
   "metadata": {
    "slideshow": {
     "slide_type": "notes"
    }
   },
   "source": [
    "When you **Run** the cell, Q# compiles the code and returns the name of the callables it found. \n",
    "In this case, it finds only one callable (`Hello`) that accepts one argument (`name` of type `String`) \n",
    "and returns no value (`Unit`, roughly equivalent to `void` in C).\n",
    "\n",
    "As you can see, Q# is structurally very similar to familiar\n",
    "languages such as C# and Java in its use of semicolons to end\n",
    "statements, curly brackets to group statements, function calls and doubleslash to introduce comments. \n",
    "It is a strongly typed language so all variables, arguments and return values\n",
    "must have an associated type. Q# supports a familar set of classical types like:\n",
    "- Int\n",
    "- BigInt\n",
    "- Bool\n",
    "- Double\n",
    "\n",
    "but also some quantum-specific:\n",
    "- Qubit\n",
    "- Result\n",
    "- Pauli\n",
    "\n",
    "The complete set of primitive types can be found in [Q# type model documentation](https://docs.microsoft.com/quantum/language/type-model#primitive-types).\n",
    "\n",
    "In classical programs a bit, or binary digit, represents the basic unit of information and can be only one of two states: `0` or `1`.\n",
    "\n",
    "Similarly, the **qubit**, or quantum bit, represents the basic unit of information for quantum algorithms. Like a bit, a qubit when measured can only be in one of two states:  $|0\\rangle$ or  $|1\\rangle$; however during execution, the state of the qubit represents *the probability of reading* $|0\\rangle$ or $|1\\rangle$. \n",
    "\n",
    "> For more information about qubits and their mathematical description, \n",
    "> take a look at [the qubit topic](https://docs.microsoft.com/quantum/concepts/the-qubit) inside \n",
    "\n",
    "In Q#, $|0\\rangle$ and $|1\\rangle$ are represented by `Result.Zero` and `Result.One` accordingly and qubits can only be allocated inside an operation with the `using` statement. When it gets allocated a qubit is always in the $|0\\rangle$  state. To measure a qubit and read its value you use the [`M`](https://docs.microsoft.com/qsharp/api/qsharp/microsoft.quantum.primitive.m) intrinsic operation.\n",
    "\n",
    "As such, the next `HelloQuantum` operation always return `Result.Zero`:"
   ]
  },
  {
   "cell_type": "code",
   "execution_count": 2,
   "metadata": {
    "slideshow": {
     "slide_type": "slide"
    }
   },
   "outputs": [
    {
     "data": {
      "application/json": "[\"HelloQuantum\"]",
      "text/html": [
       "<ul><li>HelloQuantum</li></ul>"
      ],
      "text/plain": [
       "HelloQuantum"
      ]
     },
     "execution_count": 2,
     "metadata": {},
     "output_type": "execute_result"
    }
   ],
   "source": [
    "operation HelloQuantum() : Result {\n",
    "    using (q = Qubit()) {\n",
    "        return M(q);\n",
    "    }\n",
    "}"
   ]
  },
  {
   "cell_type": "markdown",
   "metadata": {
    "slideshow": {
     "slide_type": "notes"
    }
   },
   "source": [
    "To verify this, you can use the `%simulate` magic to simulate the execution of the operation in a QPU:"
   ]
  },
  {
   "cell_type": "code",
   "execution_count": 3,
   "metadata": {
    "slideshow": {
     "slide_type": "-"
    }
   },
   "outputs": [
    {
     "data": {
      "application/json": "0",
      "text/plain": [
       "Zero"
      ]
     },
     "execution_count": 3,
     "metadata": {},
     "output_type": "execute_result"
    }
   ],
   "source": [
    "%simulate HelloQuantum"
   ]
  },
  {
   "cell_type": "markdown",
   "metadata": {
    "slideshow": {
     "slide_type": "notes"
    }
   },
   "source": [
    "A more interesting example for a Q# operation is a quantum random number generator (QNRG). A QNRG returns a different value each time it is invoked:"
   ]
  },
  {
   "cell_type": "code",
   "execution_count": 4,
   "metadata": {
    "slideshow": {
     "slide_type": "slide"
    }
   },
   "outputs": [
    {
     "data": {
      "application/json": "[\"QNRG\"]",
      "text/html": [
       "<ul><li>QNRG</li></ul>"
      ],
      "text/plain": [
       "QNRG"
      ]
     },
     "execution_count": 4,
     "metadata": {},
     "output_type": "execute_result"
    }
   ],
   "source": [
    "open Microsoft.Quantum.Diagnostics;\n",
    "    \n",
    "operation QNRG() : Result {\n",
    "    using (q = Qubit()) {\n",
    "        H(q);\n",
    "        let r = M(q);\n",
    "        \n",
    "        Reset(q);\n",
    "        return r;\n",
    "    }\n",
    "}"
   ]
  },
  {
   "cell_type": "code",
   "execution_count": 5,
   "metadata": {},
   "outputs": [
    {
     "data": {
      "application/json": "1",
      "text/plain": [
       "One"
      ]
     },
     "execution_count": 5,
     "metadata": {},
     "output_type": "execute_result"
    }
   ],
   "source": [
    "%simulate QNRG"
   ]
  },
  {
   "cell_type": "markdown",
   "metadata": {
    "slideshow": {
     "slide_type": "notes"
    }
   },
   "source": [
    "As mentioned, one of the key characteristics of a qubit is that during execution it's state represents the probabiliy of measuring $|0\\rangle$ or $|1\\rangle$. In particular, the [`H`](https://docs.microsoft.com/qsharp/api/qsharp/microsoft.quantum.intrinsic.h) intrinsic operation modifies the state of a qubit from $|0\\rangle$ to a state in which there is 50% probability of measuring  $|0\\rangle$ and 50% probability of measuring  $|1\\rangle$.\n",
    "\n",
    "> When the state of a qubit is such that it is not a 100% $|0\\rangle$ or 100% $|1\\rangle$, \n",
    "> we say the qubit is in **superposition** of $|0\\rangle$ and $|1\\rangle$."
   ]
  },
  {
   "cell_type": "markdown",
   "metadata": {
    "slideshow": {
     "slide_type": "slide"
    }
   },
   "source": [
    "The `QNRG` operation demonstrates some basic Q# features:\n",
    "\n",
    "- Immutable variables are declared using `let`, in the previous example, the variable `r` is assigned the value returned by invoking `M` on qubit `q`.\n",
    "- When de-allocated, qubits must be explicitly set back to $|0\\rangle$, otherwise the simulator will report a runtime error. An easy way to achieve this is invoking [`Reset`](https://docs.microsoft.com/qsharp/api/qsharp/microsoft.quantum.intrinsic.reset).\n"
   ]
  },
  {
   "cell_type": "markdown",
   "metadata": {
    "slideshow": {
     "slide_type": "notes"
    }
   },
   "source": [
    "\n",
    "To verify the behavior of `QNRG`, we can create another Q# operation that invokes it 10 times and prints the result to the console:"
   ]
  },
  {
   "cell_type": "code",
   "execution_count": 6,
   "metadata": {
    "slideshow": {
     "slide_type": "slide"
    }
   },
   "outputs": [
    {
     "data": {
      "application/json": "[\"Main\"]",
      "text/html": [
       "<ul><li>Main</li></ul>"
      ],
      "text/plain": [
       "Main"
      ]
     },
     "execution_count": 6,
     "metadata": {},
     "output_type": "execute_result"
    }
   ],
   "source": [
    "operation Main() : Unit {\n",
    "    for (i in 1..10) {\n",
    "        Message($\"{i}: {QNRG()}\");\n",
    "    }\n",
    "}"
   ]
  },
  {
   "cell_type": "code",
   "execution_count": 7,
   "metadata": {
    "slideshow": {
     "slide_type": "-"
    }
   },
   "outputs": [
    {
     "name": "stdout",
     "output_type": "stream",
     "text": [
      "1: Zero\n",
      "2: One\n",
      "3: Zero\n",
      "4: Zero\n",
      "5: Zero\n",
      "6: Zero\n",
      "7: Zero\n",
      "8: One\n",
      "9: One\n",
      "10: One\n"
     ]
    },
    {
     "data": {
      "application/json": "{\"@type\":\"tuple\"}",
      "text/plain": [
       "()"
      ]
     },
     "execution_count": 7,
     "metadata": {},
     "output_type": "execute_result"
    }
   ],
   "source": [
    "%simulate Main"
   ]
  },
  {
   "cell_type": "markdown",
   "metadata": {
    "slideshow": {
     "slide_type": "notes"
    }
   },
   "source": [
    "Q# operations can return more than a single `Result`, let's modify `QRNG` to return an array:"
   ]
  },
  {
   "cell_type": "code",
   "execution_count": 8,
   "metadata": {
    "slideshow": {
     "slide_type": "slide"
    }
   },
   "outputs": [
    {
     "data": {
      "application/json": "[\"QNRG2\"]",
      "text/html": [
       "<ul><li>QNRG2</li></ul>"
      ],
      "text/plain": [
       "QNRG2"
      ]
     },
     "execution_count": 8,
     "metadata": {},
     "output_type": "execute_result"
    }
   ],
   "source": [
    "open Microsoft.Quantum.Arrays;\n",
    "\n",
    "operation QNRG2(n : Int) : Result[] {\n",
    "\n",
    "    mutable r = new Result[n];\n",
    "    \n",
    "    using (qs = Qubit[n]) {\n",
    "        ApplyToEach(H, qs);\n",
    "        \n",
    "        for (i in IndexRange(qs)) {\n",
    "            // other languages: set r[i] <- M(qs[i]);\n",
    "            set r w/= i <- M(qs[i]);\n",
    "        }\n",
    "        \n",
    "        ResetAll(qs);\n",
    "    }\n",
    "\n",
    "    return r;\n",
    "}"
   ]
  },
  {
   "cell_type": "markdown",
   "metadata": {
    "slideshow": {
     "slide_type": "slide"
    }
   },
   "source": [
    "`QRNG2` demonstrates other Q# features:\n",
    "\n",
    "- `mutable` is used to initialize variables that can be modified later in the code using `set`.\n",
    "- `new Result[n]` is used to initialize a new `Result` array of size `n`.\n",
    "- `[]` is used to access the element of an array.\n",
    "- New arrays can be created from existing ones via [copy-and-update expressions](https://docs.microsoft.com/en-us/quantum/language/expressions?view=qsharp-preview#copy-and-update-expressions). A copy-and-update expression is an expression of the form `arr w/ idx <- value` that constructs a new array with all elements set to the corresponding element in `arr`, except for the element(s) at `idx`, which are set to the one(s) in `value`. The resulting array can be assigned to the same variable by using the `w/=` operator.\n"
   ]
  },
  {
   "cell_type": "markdown",
   "metadata": {
    "slideshow": {
     "slide_type": "slide"
    }
   },
   "source": [
    "- Q# has a rich set of built-in libraries, for example:\n",
    "  -  [`ApplyToEach`](https://docs.microsoft.com/qsharp/api/qsharp/microsoft.quantum.canon.applytoeach): is an operation that receives another operation as parameter and an array, and applies the given operation to each element of the array. In this particular case\n",
    "  -  [`IndexRange`](https://docs.microsoft.com/en-us/qsharp/api/qsharp/microsoft.quantum.arrays.indexrange): is a function that given an array, creates a range to iterate over the indices of the elements in the array.\n",
    "  -  [`ResetAll`](https://docs.microsoft.com/en-us/qsharp/api/qsharp/microsoft.quantum.intrinsic.resetall): similar to `Reset`, it makes sure all elements of a qubit array are in `Result.Zero` state so they can be safely de-allocated.\n"
   ]
  },
  {
   "cell_type": "markdown",
   "metadata": {
    "slideshow": {
     "slide_type": "slide"
    }
   },
   "source": [
    "- All callables belong to a namespace. In Jupyter, you can use all the operations in the [Microsoft.Quantum.Intrinsic](https://docs.microsoft.com/en-us/qsharp/api/qsharp/microsoft.quantum.intrinsic?view=qsharp-preview) and the [Microsoft.Quantum.Canon](https://docs.microsoft.com/en-us/qsharp/api/qsharp/microsoft.quantum.canon?view=qsharp-preview) namespaces automatically. To use operations in other namespaces, like `IndexRange` from `Microsoft.Quantum.Array`, you have to use the fully qualified name of the operation (i.e. `Microsoft.Quantum.Array.IndexRange`) or include an `open` statement at the top.\n"
   ]
  },
  {
   "cell_type": "markdown",
   "metadata": {
    "slideshow": {
     "slide_type": "notes"
    }
   },
   "source": [
    "You can define multiple operations in a single cell and use any valid Q# code, for example:"
   ]
  },
  {
   "cell_type": "code",
   "execution_count": 9,
   "metadata": {
    "slideshow": {
     "slide_type": "slide"
    }
   },
   "outputs": [
    {
     "data": {
      "application/json": "[\"PrepareMinus\",\"PreparePlus\"]",
      "text/html": [
       "<ul><li>PrepareMinus</li><li>PreparePlus</li></ul>"
      ],
      "text/plain": [
       "PrepareMinus, PreparePlus"
      ]
     },
     "execution_count": 9,
     "metadata": {},
     "output_type": "execute_result"
    }
   ],
   "source": [
    "open Microsoft.Quantum.Math;\n",
    "\n",
    "/// # Summary\n",
    "/// Given a qubit in the |0⟩ state, prepares the qubit's state to |+⟩\n",
    "operation PreparePlus(q: Qubit) : Unit \n",
    "is Adj + Ctl {\n",
    "    H(q);\n",
    "}\n",
    "\n",
    "/// # Summary\n",
    "/// Given a qubit in |0⟩, prepares the qubit's state to |-⟩\n",
    "operation PrepareMinus(q: Qubit) : Unit\n",
    "is Adj + Ctl {\n",
    "    X(q);\n",
    "    H(q);\n",
    "}\n",
    "\n"
   ]
  },
  {
   "cell_type": "markdown",
   "metadata": {
    "slideshow": {
     "slide_type": "notes"
    }
   },
   "source": [
    "`PrepareMinus` and `PreparePlus` show how Q# can automatically calculate the adjoint and the controlled version of an operation. In the declaration you simply include `is Adj + Ctrl`. You can then invoke the operation's adjoint by using the `Adjoint` keyword. Similarly, you can invoke the quantum-controlled version of the operation using the `Controlled` keyword and passing an array of control qubits:"
   ]
  },
  {
   "cell_type": "code",
   "execution_count": 10,
   "metadata": {
    "slideshow": {
     "slide_type": "slide"
    }
   },
   "outputs": [
    {
     "data": {
      "application/json": "[\"AlwaysZero\",\"LoopAlwaysZero\"]",
      "text/html": [
       "<ul><li>AlwaysZero</li><li>LoopAlwaysZero</li></ul>"
      ],
      "text/plain": [
       "AlwaysZero, LoopAlwaysZero"
      ]
     },
     "execution_count": 10,
     "metadata": {},
     "output_type": "execute_result"
    }
   ],
   "source": [
    "\n",
    "operation AlwaysZero() : Result \n",
    "{\n",
    "    using((ctrls, q) = (Qubit[1], Qubit())) {    \n",
    "    \n",
    "        PreparePlus(q);                         // The operation we just defined\n",
    "        Controlled PrepareMinus(ctrls, q);      // Passing control qubits\n",
    "        \n",
    "        Adjoint PreparePlus(q);                 // The adjoint of the original\n",
    "        Adjoint Controlled PrepareMinus(ctrls, q);        \n",
    "        \n",
    "        return M(q);\n",
    "    }\n",
    "}\n",
    "\n",
    "operation LoopAlwaysZero() : Unit {\n",
    "    for(i in 1..5) {\n",
    "        Message($\"Result: {AlwaysZero()}\");\n",
    "    }\n",
    "}\n",
    "\n"
   ]
  },
  {
   "cell_type": "code",
   "execution_count": 11,
   "metadata": {
    "slideshow": {
     "slide_type": "-"
    }
   },
   "outputs": [
    {
     "name": "stdout",
     "output_type": "stream",
     "text": [
      "Result: Zero\n",
      "Result: Zero\n",
      "Result: Zero\n",
      "Result: Zero\n",
      "Result: Zero\n"
     ]
    },
    {
     "data": {
      "application/json": "{\"@type\":\"tuple\"}",
      "text/plain": [
       "()"
      ]
     },
     "execution_count": 11,
     "metadata": {},
     "output_type": "execute_result"
    }
   ],
   "source": [
    "%simulate LoopAlwaysZero"
   ]
  },
  {
   "cell_type": "markdown",
   "metadata": {
    "slideshow": {
     "slide_type": "notes"
    }
   },
   "source": [
    "It is common for quantum algorithsm to have a pattern of applying a list of operations to prepare certain state, do some other operation and then do the adjoint of the fist set to undo its effects, for example:\n"
   ]
  },
  {
   "cell_type": "markdown",
   "metadata": {
    "slideshow": {
     "slide_type": "slide"
    }
   },
   "source": [
    "![](data:image/png;base64,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)"
   ]
  },
  {
   "cell_type": "markdown",
   "metadata": {
    "slideshow": {
     "slide_type": "notes"
    }
   },
   "source": [
    "Q# provides built-in functionality for this using `within / apply`:"
   ]
  },
  {
   "cell_type": "code",
   "execution_count": 12,
   "metadata": {
    "slideshow": {
     "slide_type": "slide"
    }
   },
   "outputs": [
    {
     "data": {
      "application/json": "[\"Mirror\"]",
      "text/html": [
       "<ul><li>Mirror</li></ul>"
      ],
      "text/plain": [
       "Mirror"
      ]
     },
     "execution_count": 12,
     "metadata": {},
     "output_type": "execute_result"
    }
   ],
   "source": [
    "open Microsoft.Quantum.Diagnostics;\n",
    "    \n",
    "operation Mirror(oracle: (Qubit[] => Unit is Adj), qubits: Qubit[]) : Unit\n",
    "is Adj {\n",
    "\n",
    "    Message(\"Before:\");\n",
    "    DumpMachine();\n",
    "    \n",
    "    within {\n",
    "        ApplyToEachA(H, qubits);\n",
    "        ApplyToEachA(X, qubits);\n",
    "    }\n",
    "    apply {\n",
    "        oracle(qubits);\n",
    "    }\n",
    "\n",
    "    Message(\"After:\");\n",
    "    DumpMachine();\n",
    "}"
   ]
  },
  {
   "cell_type": "markdown",
   "metadata": {
    "slideshow": {
     "slide_type": "notes"
    }
   },
   "source": [
    "Notice also the [`DumpMachine`](https://docs.microsoft.com/en-us/quantum/techniques/testing-and-debugging?#dump-functions) calls. As in a real QPU, Q# does not allow you to access the qubit's state. However, you can use [`DumpMachine`](https://docs.microsoft.com/en-us/quantum/techniques/testing-and-debugging?#dump-functions) to have the simulator output to the console its internal status and debug your code:"
   ]
  },
  {
   "cell_type": "code",
   "execution_count": 13,
   "metadata": {
    "slideshow": {
     "slide_type": "slide"
    }
   },
   "outputs": [
    {
     "data": {
      "application/json": "[\"Phase\",\"TestMirror\"]",
      "text/html": [
       "<ul><li>Phase</li><li>TestMirror</li></ul>"
      ],
      "text/plain": [
       "Phase, TestMirror"
      ]
     },
     "execution_count": 13,
     "metadata": {},
     "output_type": "execute_result"
    }
   ],
   "source": [
    "open Microsoft.Quantum.Arrays;\n",
    "\n",
    "operation Phase (qubits : Qubit[]) : Unit\n",
    "is Adj {\n",
    "    Controlled Z (Rest(qubits), Head(qubits));\n",
    "}\n",
    "\n",
    "operation TestMirror() : Unit {\n",
    "    using (qubits = Qubit[4]) {\n",
    "        let oracle = Phase;\n",
    "        let uniformSuperposition = ApplyToEachA(H, _);\n",
    "\n",
    "        uniformSuperposition(qubits);\n",
    "        Mirror(oracle, qubits);\n",
    "        \n",
    "        ResetAll(qubits);\n",
    "    }\n",
    "}"
   ]
  },
  {
   "cell_type": "code",
   "execution_count": 14,
   "metadata": {
    "slideshow": {
     "slide_type": "slide"
    }
   },
   "outputs": [
    {
     "name": "stdout",
     "output_type": "stream",
     "text": [
      "Before:\n",
      "# wave function for qubits with ids (least to most significant): 0;1;2;3\n",
      "∣ 0❭:\t 0.250000 +  0.000000 i\t == \t**                   [ 0.062500 ]     --- [  0.00000 rad ]\n",
      "∣ 1❭:\t 0.250000 +  0.000000 i\t == \t**                   [ 0.062500 ]     --- [  0.00000 rad ]\n",
      "∣ 2❭:\t 0.250000 +  0.000000 i\t == \t**                   [ 0.062500 ]     --- [  0.00000 rad ]\n",
      "∣ 3❭:\t 0.250000 +  0.000000 i\t == \t**                   [ 0.062500 ]     --- [  0.00000 rad ]\n",
      "∣ 4❭:\t 0.250000 +  0.000000 i\t == \t**                   [ 0.062500 ]     --- [  0.00000 rad ]\n",
      "∣ 5❭:\t 0.250000 +  0.000000 i\t == \t**                   [ 0.062500 ]     --- [  0.00000 rad ]\n",
      "∣ 6❭:\t 0.250000 +  0.000000 i\t == \t**                   [ 0.062500 ]     --- [  0.00000 rad ]\n",
      "∣ 7❭:\t 0.250000 +  0.000000 i\t == \t**                   [ 0.062500 ]     --- [  0.00000 rad ]\n",
      "∣ 8❭:\t 0.250000 +  0.000000 i\t == \t**                   [ 0.062500 ]     --- [  0.00000 rad ]\n",
      "∣ 9❭:\t 0.250000 +  0.000000 i\t == \t**                   [ 0.062500 ]     --- [  0.00000 rad ]\n",
      "∣10❭:\t 0.250000 +  0.000000 i\t == \t**                   [ 0.062500 ]     --- [  0.00000 rad ]\n",
      "∣11❭:\t 0.250000 +  0.000000 i\t == \t**                   [ 0.062500 ]     --- [  0.00000 rad ]\n",
      "∣12❭:\t 0.250000 +  0.000000 i\t == \t**                   [ 0.062500 ]     --- [  0.00000 rad ]\n",
      "∣13❭:\t 0.250000 +  0.000000 i\t == \t**                   [ 0.062500 ]     --- [  0.00000 rad ]\n",
      "∣14❭:\t 0.250000 +  0.000000 i\t == \t**                   [ 0.062500 ]     --- [  0.00000 rad ]\n",
      "∣15❭:\t 0.250000 +  0.000000 i\t == \t**                   [ 0.062500 ]     --- [  0.00000 rad ]\n",
      "After:\n",
      "# wave function for qubits with ids (least to most significant): 0;1;2;3\n",
      "∣ 0❭:\t-0.250000 +  0.000000 i\t == \t**                   [ 0.062500 ] ---     [  3.14159 rad ]\n",
      "∣ 1❭:\t-0.250000 +  0.000000 i\t == \t**                   [ 0.062500 ] ---     [  3.14159 rad ]\n",
      "∣ 2❭:\t-0.250000 +  0.000000 i\t == \t**                   [ 0.062500 ] ---     [  3.14159 rad ]\n",
      "∣ 3❭:\t-0.250000 +  0.000000 i\t == \t**                   [ 0.062500 ] ---     [  3.14159 rad ]\n",
      "∣ 4❭:\t-0.250000 +  0.000000 i\t == \t**                   [ 0.062500 ] ---     [  3.14159 rad ]\n",
      "∣ 5❭:\t-0.250000 +  0.000000 i\t == \t**                   [ 0.062500 ] ---     [  3.14159 rad ]\n",
      "∣ 6❭:\t-0.250000 +  0.000000 i\t == \t**                   [ 0.062500 ] ---     [  3.14159 rad ]\n",
      "∣ 7❭:\t-0.250000 +  0.000000 i\t == \t**                   [ 0.062500 ] ---     [  3.14159 rad ]\n",
      "∣ 8❭:\t-0.250000 +  0.000000 i\t == \t**                   [ 0.062500 ] ---     [  3.14159 rad ]\n",
      "∣ 9❭:\t-0.250000 +  0.000000 i\t == \t**                   [ 0.062500 ] ---     [  3.14159 rad ]\n",
      "∣10❭:\t-0.250000 +  0.000000 i\t == \t**                   [ 0.062500 ] ---     [  3.14159 rad ]\n",
      "∣11❭:\t-0.250000 +  0.000000 i\t == \t**                   [ 0.062500 ] ---     [  3.14159 rad ]\n",
      "∣12❭:\t-0.250000 +  0.000000 i\t == \t**                   [ 0.062500 ] ---     [  3.14159 rad ]\n",
      "∣13❭:\t-0.250000 +  0.000000 i\t == \t**                   [ 0.062500 ] ---     [  3.14159 rad ]\n",
      "∣14❭:\t-0.250000 +  0.000000 i\t == \t**                   [ 0.062500 ] ---     [  3.14159 rad ]\n",
      "∣15❭:\t-0.250000 +  0.000000 i\t == \t**                   [ 0.062500 ] ---     [  3.14159 rad ]\n"
     ]
    },
    {
     "data": {
      "application/json": "{\"@type\":\"tuple\"}",
      "text/plain": [
       "()"
      ]
     },
     "execution_count": 14,
     "metadata": {},
     "output_type": "execute_result"
    }
   ],
   "source": [
    "%simulate TestMirror"
   ]
  },
  {
   "cell_type": "markdown",
   "metadata": {
    "slideshow": {
     "slide_type": "slide"
    }
   },
   "source": [
    "Callables are first class objects in Q#. Functions and operations can:\n",
    "- be used as parameters of other callables: `oracle` in `Mirror` is an input parameter.\n",
    "- be assigned to variables, like `Phase` is assigned to `oracle` inside the `TestMirror` function\n",
    "- created from other callables by using *partial-application*: partial application happens when you invoke a callable, but leave some of the parameters missing using `_`; Q# automatically creates another operation that receives the missing parameters as arguments. For example `uniformSuperposition` is a partial application of `ApplyToEachA(H, _)`, since the argument missing for `ApplyToEach` is the input array, the `uniformSuperposition` is now a function that takes an array as a single argument."
   ]
  },
  {
   "cell_type": "markdown",
   "metadata": {
    "slideshow": {
     "slide_type": "notes"
    }
   },
   "source": [
    "The `%estimate` command lets you estimate the resources a given quantum operation will need to execute, without actually executing the operation. Similar to `%simulate` it takes the name of a no-arguments operation. However, `%estimate` does not keep track of the qubit's state and will not return the output of the operation, instead it returns the estimated values of how many resources, like Qubits and CNOT gates, the corresponding operation will use:"
   ]
  },
  {
   "cell_type": "code",
   "execution_count": 15,
   "metadata": {
    "slideshow": {
     "slide_type": "slide"
    }
   },
   "outputs": [
    {
     "data": {
      "application/json": "{\"CNOT\":30.0,\"QubitClifford\":28.0,\"R\":0.0,\"Measure\":4.0,\"T\":21.0,\"Depth\":14.0,\"Width\":5.0,\"BorrowedWidth\":0.0}",
      "text/html": [
       "<ul><li>[CNOT, 30]</li><li>[QubitClifford, 28]</li><li>[R, 0]</li><li>[Measure, 4]</li><li>[T, 21]</li><li>[Depth, 14]</li><li>[Width, 5]</li><li>[BorrowedWidth, 0]</li></ul>"
      ],
      "text/plain": [
       "[CNOT, 30], [QubitClifford, 28], [R, 0], [Measure, 4], [T, 21], [Depth, 14], [Width, 5], [BorrowedWidth, 0]"
      ]
     },
     "execution_count": 15,
     "metadata": {},
     "output_type": "execute_result"
    }
   ],
   "source": [
    "%estimate TestMirror"
   ]
  },
  {
   "cell_type": "markdown",
   "metadata": {
    "slideshow": {
     "slide_type": "notes"
    }
   },
   "source": [
    "To learn more about resources estimation, take a look at [The ResourcesEstimator Target Machine](https://docs.microsoft.com/en-us/quantum/machines/resources-estimator?) documentation."
   ]
  },
  {
   "cell_type": "markdown",
   "metadata": {
    "slideshow": {
     "slide_type": "notes"
    }
   },
   "source": [
    "## The Workspace\n",
    "\n",
    "The notebook uses the folder it lives on disk to define a workspace. It will try to compile all the Q# files (i.e. all files with a `.qs` extension) it finds under the current folder and will make the operations it finds available to operations in the notebook. For example, the [Operations.qs](/edit/Operations.qs) file in this folder defines two operations:\n",
    "* Microsoft.Quantum.Samples.IsMinus\n",
    "* Microsoft.Quantum.Samples.IsPlus\n",
    "\n",
    "To get the list of operations defined in the workspace, you can use the `%workspace` command:"
   ]
  },
  {
   "cell_type": "code",
   "execution_count": 16,
   "metadata": {
    "slideshow": {
     "slide_type": "slide"
    }
   },
   "outputs": [
    {
     "data": {
      "application/json": "[\"Microsoft.Quantum.Samples.IsMinus\",\"Microsoft.Quantum.Samples.IsPlus\"]",
      "text/html": [
       "<ul><li>Microsoft.Quantum.Samples.IsMinus</li><li>Microsoft.Quantum.Samples.IsPlus</li></ul>"
      ],
      "text/plain": [
       "Microsoft.Quantum.Samples.IsMinus, Microsoft.Quantum.Samples.IsPlus"
      ]
     },
     "execution_count": 16,
     "metadata": {},
     "output_type": "execute_result"
    }
   ],
   "source": [
    "%workspace"
   ]
  },
  {
   "cell_type": "markdown",
   "metadata": {
    "slideshow": {
     "slide_type": "notes"
    }
   },
   "source": [
    "These operations can be used in this notebook, for example:"
   ]
  },
  {
   "cell_type": "code",
   "execution_count": 17,
   "metadata": {
    "slideshow": {
     "slide_type": "slide"
    }
   },
   "outputs": [
    {
     "data": {
      "application/json": "[\"CheckPlus\"]",
      "text/html": [
       "<ul><li>CheckPlus</li></ul>"
      ],
      "text/plain": [
       "CheckPlus"
      ]
     },
     "execution_count": 17,
     "metadata": {},
     "output_type": "execute_result"
    }
   ],
   "source": [
    "open Microsoft.Quantum.Samples;\n",
    "\n",
    "operation CheckPlus() : Bool {\n",
    "    mutable result = false;\n",
    "    \n",
    "    using (q = Qubit()) {\n",
    "        PreparePlus(q);\n",
    "        set result = IsPlus(q);\n",
    "        \n",
    "        Reset(q);\n",
    "    }\n",
    "\n",
    "    return result;\n",
    "}"
   ]
  },
  {
   "cell_type": "code",
   "execution_count": 18,
   "metadata": {
    "slideshow": {
     "slide_type": "-"
    }
   },
   "outputs": [
    {
     "data": {
      "application/json": "true",
      "text/plain": [
       "True"
      ]
     },
     "execution_count": 18,
     "metadata": {},
     "output_type": "execute_result"
    }
   ],
   "source": [
    "%simulate CheckPlus"
   ]
  },
  {
   "cell_type": "markdown",
   "metadata": {
    "slideshow": {
     "slide_type": "notes"
    }
   },
   "source": [
    "To pick up any changes you make to a Q# file in the workspace, use `%workspace reload`. "
   ]
  },
  {
   "cell_type": "code",
   "execution_count": 19,
   "metadata": {
    "slideshow": {
     "slide_type": "skip"
    }
   },
   "outputs": [
    {
     "data": {
      "application/json": "[\"Microsoft.Quantum.Samples.IsMinus\",\"Microsoft.Quantum.Samples.IsPlus\"]",
      "text/html": [
       "<ul><li>Microsoft.Quantum.Samples.IsMinus</li><li>Microsoft.Quantum.Samples.IsPlus</li></ul>"
      ],
      "text/plain": [
       "Microsoft.Quantum.Samples.IsMinus, Microsoft.Quantum.Samples.IsPlus"
      ]
     },
     "execution_count": 19,
     "metadata": {},
     "output_type": "execute_result"
    }
   ],
   "source": [
    "%workspace reload"
   ]
  },
  {
   "cell_type": "markdown",
   "metadata": {
    "slideshow": {
     "slide_type": "notes"
    }
   },
   "source": [
    "## Getting Help ##\n",
    "\n",
    "Q# supports adding documentation to operations via comments in the code. When such documentation exists, you can access it from the notebook by adding a question mark before or after the operation name on a code cell, for example:"
   ]
  },
  {
   "cell_type": "code",
   "execution_count": 20,
   "metadata": {
    "slideshow": {
     "slide_type": "slide"
    }
   },
   "outputs": [
    {
     "data": {
      "application/json": "{\"name\":\"Microsoft.Quantum.Intrinsic.X\",\"kind\":1,\"source\":\"C:/Users/anpaz/.dotnet/tools/.store/microsoft.quantum.iqsharp/0.9.1909.3002/microsoft.quantum.iqsharp/0.9.1909.3002/tools/netcoreapp2.2/any/Microsoft.Quantum.Intrinsic.dll\",\"documentation\":\" # Summary\\n Applies the Pauli $X$ gate.\\n\\n \\\\begin{align}\\n     \\\\sigma_x \\\\mathrel{:=}\\n     \\\\begin{bmatrix}\\n         0 & 1 \\\\\\\\\\\\\\\\\\n         1 & 0\\n     \\\\end{bmatrix}.\\n \\\\end{align}\\n\\n # Input\\n ## qubit\\n Qubit to which the gate should be applied.\"}",
      "text/html": [
       "<h4><i class=\"fa fas fa-terminal\"></i> Microsoft.Quantum.Intrinsic.X <a href=\"C:/Users/anpaz/.dotnet/tools/.store/microsoft.quantum.iqsharp/0.9.1909.3002/microsoft.quantum.iqsharp/0.9.1909.3002/tools/netcoreapp2.2/any/Microsoft.Quantum.Intrinsic.dll\"><i class=\"fa fas fa-code\"></i></a></h4><h1>Summary</h1>\n",
       "<p>Applies the Pauli $X$ gate.</p>\n",
       "<p>\\begin{align}\n",
       "\\sigma_x \\mathrel{:=}\n",
       "\\begin{bmatrix}\n",
       "0 &amp; 1 \\\\\n",
       "1 &amp; 0\n",
       "\\end{bmatrix}.\n",
       "\\end{align}</p>\n",
       "<h1>Input</h1>\n",
       "<h2>qubit</h2>\n",
       "<p>Qubit to which the gate should be applied.</p>\n"
      ],
      "text/plain": [
       "Microsoft.Quantum.Intrinsic.X"
      ]
     },
     "execution_count": 20,
     "metadata": {},
     "output_type": "execute_result"
    }
   ],
   "source": [
    "Microsoft.Quantum.Intrinsic.X?"
   ]
  },
  {
   "cell_type": "markdown",
   "metadata": {
    "slideshow": {
     "slide_type": "notes"
    }
   },
   "source": [
    "This documentation is available for any operations in the Prelude, Canon and Workspace, or even those defined locally in the notebook:"
   ]
  },
  {
   "cell_type": "code",
   "execution_count": 21,
   "metadata": {
    "slideshow": {
     "slide_type": "-"
    }
   },
   "outputs": [
    {
     "data": {
      "application/json": "{\"name\":\"PreparePlus\",\"kind\":1,\"source\":\"C:/Repos/Solid/submodules/Quantum/Samples/src/IntroToIQSharp/obj/__snippets__.dll\",\"documentation\":\" # Summary\\n Given a qubit in |0⟩, prepares the qubit's state to |+⟩\"}",
      "text/html": [
       "<h4><i class=\"fa fas fa-terminal\"></i> PreparePlus <a href=\"C:/Repos/Solid/submodules/Quantum/Samples/src/IntroToIQSharp/obj/__snippets__.dll\"><i class=\"fa fas fa-code\"></i></a></h4><h1>Summary</h1>\n",
       "<p>Given a qubit in |0⟩, prepares the qubit's state to |+⟩</p>\n"
      ],
      "text/plain": [
       "PreparePlus"
      ]
     },
     "execution_count": 21,
     "metadata": {},
     "output_type": "execute_result"
    }
   ],
   "source": [
    "PreparePlus?"
   ]
  },
  {
   "cell_type": "markdown",
   "metadata": {
    "slideshow": {
     "slide_type": "notes"
    }
   },
   "source": [
    "### `%who`\n",
    "\n",
    "`%who` returns the list of all local and workspace operations available."
   ]
  },
  {
   "cell_type": "code",
   "execution_count": 22,
   "metadata": {
    "slideshow": {
     "slide_type": "slide"
    }
   },
   "outputs": [
    {
     "data": {
      "application/json": "[\"AlwaysZero\",\"CheckPlus\",\"Hello\",\"HelloQuantum\",\"LoopAlwaysZero\",\"Main\",\"Microsoft.Quantum.Samples.IsMinus\",\"Microsoft.Quantum.Samples.IsPlus\",\"Mirror\",\"Phase\",\"PrepareMinus\",\"PreparePlus\",\"QNRG\",\"QNRG2\",\"TestMirror\"]",
      "text/html": [
       "<ul><li>AlwaysZero</li><li>CheckPlus</li><li>Hello</li><li>HelloQuantum</li><li>LoopAlwaysZero</li><li>Main</li><li>Microsoft.Quantum.Samples.IsMinus</li><li>Microsoft.Quantum.Samples.IsPlus</li><li>Mirror</li><li>Phase</li><li>PrepareMinus</li><li>PreparePlus</li><li>QNRG</li><li>QNRG2</li><li>TestMirror</li></ul>"
      ],
      "text/plain": [
       "AlwaysZero, CheckPlus, Hello, HelloQuantum, LoopAlwaysZero, Main, Microsoft.Quantum.Samples.IsMinus, Microsoft.Quantum.Samples.IsPlus, Mirror, Phase, PrepareMinus, PreparePlus, QNRG, QNRG2, TestMirror"
      ]
     },
     "execution_count": 22,
     "metadata": {},
     "output_type": "execute_result"
    }
   ],
   "source": [
    "%who"
   ]
  },
  {
   "cell_type": "markdown",
   "metadata": {
    "slideshow": {
     "slide_type": "notes"
    }
   },
   "source": [
    "### `%package`\n",
    "\n",
    "`%package` allows you to load nuget packages and makes available any Q# operations defined on them. For example, to use the operations from [Q#'s Quantum Chemistry Library](https://docs.microsoft.com/en-us/quantum/libraries/chemistry/?view=qsharp-preview), you must load the [Microsoft.Quantum.Chemistry](https://www.nuget.org/packages/Microsoft.Quantum.Chemistry/) nuget package:"
   ]
  },
  {
   "cell_type": "code",
   "execution_count": 23,
   "metadata": {
    "slideshow": {
     "slide_type": "slide"
    }
   },
   "outputs": [
    {
     "data": {
      "application/json": "[\"Microsoft.Quantum.Standard::0.9.1909.3002\",\"Microsoft.Quantum.Chemistry::0.9.1909.3002\"]",
      "text/html": [
       "<ul><li>Microsoft.Quantum.Standard::0.9.1909.3002</li><li>Microsoft.Quantum.Chemistry::0.9.1909.3002</li></ul>"
      ],
      "text/plain": [
       "Microsoft.Quantum.Standard::0.9.1909.3002, Microsoft.Quantum.Chemistry::0.9.1909.3002"
      ]
     },
     "execution_count": 23,
     "metadata": {},
     "output_type": "execute_result"
    }
   ],
   "source": [
    "%package Microsoft.Quantum.Chemistry"
   ]
  },
  {
   "cell_type": "markdown",
   "metadata": {
    "slideshow": {
     "slide_type": "notes"
    }
   },
   "source": [
    "`%package` returns the list of nuget packages currently loaded and their version."
   ]
  },
  {
   "cell_type": "markdown",
   "metadata": {
    "slideshow": {
     "slide_type": "notes"
    }
   },
   "source": [
    "### `%version`\n",
    "\n",
    "`%version` simply returns the current versions of IQ# and of Jupyter Core (a library used by IQ#):"
   ]
  },
  {
   "cell_type": "code",
   "execution_count": 24,
   "metadata": {},
   "outputs": [
    {
     "data": {
      "application/json": "{\"rows\":[{\"@type\":\"@tuple\",\"Item1\":\"iqsharp\",\"Item2\":\"0.9.1909.3002\"},{\"@type\":\"@tuple\",\"Item1\":\"Jupyter Core\",\"Item2\":\"1.1.18837.0\"}]}",
      "text/html": [
       "<table><thead><tr><th>Component</th><th>Version</th></tr></thead><tbody><tr><td>iqsharp</td><td>0.9.1909.3002</td></tr><tr><td>Jupyter Core</td><td>1.1.18837.0</td></tr></tbody></table>"
      ],
      "text/plain": [
       "Component    Version\r\n",
       "------------ -------------\r\n",
       "iqsharp      0.9.1909.3002\r\n",
       "Jupyter Core 1.1.18837.0\r\n"
      ]
     },
     "metadata": {},
     "output_type": "display_data"
    }
   ],
   "source": [
    "%version"
   ]
  }
 ],
 "metadata": {
  "kernelspec": {
   "display_name": "Q#",
   "language": "qsharp",
   "name": "iqsharp"
  },
  "language_info": {
   "file_extension": ".qs",
   "mimetype": "text/x-qsharp",
   "name": "qsharp",
   "version": "0.4"
  }
 },
 "nbformat": 4,
 "nbformat_minor": 2
}
