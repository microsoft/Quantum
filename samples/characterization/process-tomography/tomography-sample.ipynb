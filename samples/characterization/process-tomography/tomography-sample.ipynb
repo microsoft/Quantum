{
 "cells": [
  {
   "cell_type": "markdown",
   "metadata": {},
   "source": [
    "# Quantum Process Tomography with Q# and Python"
   ]
  },
  {
   "cell_type": "markdown",
   "metadata": {},
   "source": [
    "**NB**: This notebook requires additional packages to provide process tomography support. Dependencies for this sample can be installed as a new virtual environment by using `conda`:\n",
    "\n",
    "```sh\n",
    "conda env create -f environment.yml\n",
    "conda activate process-tomography\n",
    "```"
   ]
  },
  {
   "cell_type": "markdown",
   "metadata": {},
   "source": [
    "## Abstract ##"
   ]
  },
  {
   "cell_type": "markdown",
   "metadata": {},
   "source": [
    "In this sample, we will demonstrate using Q# and Python together with the QInfer and QuTiP libraries for Python to characterize and verify quantum processes implemented in Q#.\n",
    "In particular, this sample will use *quantum process tomography* to learn about the behavior of a \"noisy\" Hadamard operation from the results of random Pauli measurements.\n",
    "\n",
    "So that we have some noise to learn, we will use the open systems simulator provided with the Quantum Development Kit to simulate the action of a noisy `H` operation."
   ]
  },
  {
   "cell_type": "markdown",
   "metadata": {},
   "source": [
    "## Preamble ##"
   ]
  },
  {
   "cell_type": "markdown",
   "metadata": {},
   "source": [
    "We can enable Q# support in Python by importing the `qsharp` package."
   ]
  },
  {
   "cell_type": "code",
   "execution_count": 1,
   "metadata": {},
   "outputs": [
    {
     "name": "stdout",
     "output_type": "stream",
     "text": [
      "Preparing Q# environment...\n",
      "."
     ]
    }
   ],
   "source": [
    "import qsharp\n",
    "import qsharp.experimental\n",
    "qsharp.experimental.enable_noisy_simulation()"
   ]
  },
  {
   "cell_type": "markdown",
   "metadata": {},
   "source": [
    "We'll also be using numerics in this sample, so we import NumPy as well."
   ]
  },
  {
   "cell_type": "code",
   "execution_count": 2,
   "metadata": {},
   "outputs": [],
   "source": [
    "import numpy as np"
   ]
  },
  {
   "cell_type": "markdown",
   "metadata": {},
   "source": [
    "Next, we import plotting support and the QuTiP library, since these will be helpful to us in manipulating the quantum objects returned by the quantum process tomography functionality that we call later."
   ]
  },
  {
   "cell_type": "code",
   "execution_count": 3,
   "metadata": {},
   "outputs": [],
   "source": [
    "%matplotlib inline\n",
    "import matplotlib.pyplot as plt"
   ]
  },
  {
   "cell_type": "code",
   "execution_count": 4,
   "metadata": {},
   "outputs": [],
   "source": [
    "import qutip as qt\n",
    "qt.settings.colorblind_safe = True"
   ]
  },
  {
   "cell_type": "markdown",
   "metadata": {},
   "source": [
    "Finally, to run process tomography, we'll be using the [QInfer](http://qinfer.org) library, so we go on and import it here."
   ]
  },
  {
   "cell_type": "code",
   "execution_count": 5,
   "metadata": {},
   "outputs": [],
   "source": [
    "import qinfer as qi"
   ]
  },
  {
   "cell_type": "markdown",
   "metadata": {},
   "source": [
    "## Tomography"
   ]
  },
  {
   "cell_type": "markdown",
   "metadata": {},
   "source": [
    "We start by defining a noise model to use in simulating the `H` operation. For example, suppose that nothing happens 10% of the time we call `H`, but that the other 90% of the time, `H` works perfectly. We can use QuTiP to define a channel representing this case by using `qt.to_super` to turn unitary operators into channels, then adding the channels for each of the two possibilities."
   ]
  },
  {
   "cell_type": "code",
   "execution_count": 6,
   "metadata": {},
   "outputs": [
    {
     "data": {
      "text/latex": [
       "Quantum object: dims = [[[2], [2]], [[2], [2]]], shape = (4, 4), type = super, isherm = True\\begin{equation*}\\left(\\begin{array}{*{11}c}0.550 & 0.450 & 0.450 & 0.450\\\\0.450 & -0.350 & 0.450 & -0.450\\\\0.450 & 0.450 & -0.350 & -0.450\\\\0.450 & -0.450 & -0.450 & 0.550\\\\\\end{array}\\right)\\end{equation*}"
      ],
      "text/plain": [
       "Quantum object: dims = [[[2], [2]], [[2], [2]]], shape = (4, 4), type = super, isherm = True\n",
       "Qobj data =\n",
       "[[ 0.55  0.45  0.45  0.45]\n",
       " [ 0.45 -0.35  0.45 -0.45]\n",
       " [ 0.45  0.45 -0.35 -0.45]\n",
       " [ 0.45 -0.45 -0.45  0.55]]"
      ]
     },
     "execution_count": 6,
     "metadata": {},
     "output_type": "execute_result"
    }
   ],
   "source": [
    "noisy_h = 0.9 * qt.to_super(qt.qip.operations.hadamard_transform()) + 0.1 * qt.to_super(qt.qeye(2))\n",
    "noisy_h"
   ]
  },
  {
   "cell_type": "markdown",
   "metadata": {},
   "source": [
    "Once we have a channel describing the noise in our `H` operation, we can set that to the noise model used by the open systems simulator."
   ]
  },
  {
   "cell_type": "code",
   "execution_count": 7,
   "metadata": {},
   "outputs": [],
   "source": [
    "noise_model = qsharp.experimental.get_noise_model_by_name('ideal')\n",
    "noise_model['h'] = noisy_h\n",
    "qsharp.experimental.set_noise_model(noise_model)"
   ]
  },
  {
   "cell_type": "markdown",
   "metadata": {},
   "source": [
    "We can then define a new Q# operation that takes a preparation and a measurement, then returns the result of performing that tomographic measurement on the noisy Hadamard operation that we defined the noise model for immediately above."
   ]
  },
  {
   "cell_type": "code",
   "execution_count": 8,
   "metadata": {},
   "outputs": [],
   "source": [
    "%%qsharp\n",
    "open Microsoft.Quantum.Characterization;\n",
    "\n",
    "operation DrawTomographyMeasurement(prep : Pauli, meas : Pauli) : Result {\n",
    "    return SingleQubitProcessTomographyMeasurement(prep, meas, H);\n",
    "}"
   ]
  },
  {
   "cell_type": "markdown",
   "metadata": {},
   "source": [
    "In quantum tomography experiments, it is often helpful to select preparation and measurement bases at random [arXiv:1302.0932](https://arxiv.org/abs/1302.0932) so as to average out random drift in noise processes, so we'll next write an operation that does this random sampling within a Q# program directly, allowing us to batch up measurements with less round trips between our host and our quantum program."
   ]
  },
  {
   "cell_type": "code",
   "execution_count": 9,
   "metadata": {},
   "outputs": [],
   "source": [
    "%%qsharp\n",
    "open Microsoft.Quantum.Random;\n",
    "open Microsoft.Quantum.Arrays;\n",
    "\n",
    "operation DrawTomographyMeasurementInRandomBasis() : (Pauli, Pauli, Result) {\n",
    "    let prep = DrawRandomPauli();\n",
    "    let meas = DrawRandomPauli();\n",
    "    return (prep, meas, DrawTomographyMeasurement(prep, meas));\n",
    "}\n",
    "\n",
    "operation DrawTomographyBatch(nMeasurements : Int) : (Pauli, Pauli, Result)[] {\n",
    "    return DrawMany(DrawTomographyMeasurementInRandomBasis, nMeasurements, ());\n",
    "}"
   ]
  },
  {
   "cell_type": "code",
   "execution_count": 10,
   "metadata": {},
   "outputs": [
    {
     "data": {
      "text/plain": [
       "[(3, 0, 0), (3, 2, 0), (3, 2, 0), (2, 3, 1), (0, 2, 1)]"
      ]
     },
     "execution_count": 10,
     "metadata": {},
     "output_type": "execute_result"
    }
   ],
   "source": [
    "DrawTomographyBatch.simulate(nMeasurements=5)"
   ]
  },
  {
   "cell_type": "markdown",
   "metadata": {},
   "source": [
    "Finally, we define a function for quantum tomography itself."
   ]
  },
  {
   "cell_type": "code",
   "execution_count": 11,
   "metadata": {},
   "outputs": [],
   "source": [
    "def projector(P):\n",
    "    return (qt.qeye(2) + P) / 2.0\n",
    "\n",
    "def single_qubit_process_tomography(\n",
    "    n_measurements_per_batch=100,\n",
    "    n_batches=40,\n",
    "    n_particles=128_000\n",
    "):\n",
    "\n",
    "    # We start by preparing a model for quantum tomography.\n",
    "    # This model predicts the output of different measurements,\n",
    "    # conditioned on different hypotheses.\n",
    "    print(\"Preparing tomography model...\")\n",
    "    state_basis = qi.tomography.pauli_basis(1)\n",
    "    prior = qi.tomography.BCSZChoiDistribution(state_basis)\n",
    "    model = qi.tomography.TomographyModel(prior.basis)\n",
    "\n",
    "    # Once we have a model, we can define how our knowledge\n",
    "    # about that model is updated with new data.\n",
    "    updater = qi.SMCUpdater(model, n_particles, prior)\n",
    "\n",
    "    # To learn the channel, we loop through each different\n",
    "    # measurement and use the updater to incorporate those results.\n",
    "    print(\"Performing tomography...\")\n",
    "    for idx_batch in range(n_batches):\n",
    "        print(f\"\\tBatch {idx_batch + 1} of {n_batches}...\")\n",
    "        # Get a batch of measurements from our tomography operation\n",
    "        # above.\n",
    "        print(\"\\t\\tRunning measurements...\")\n",
    "        batch = DrawTomographyBatch.simulate_noise(nMeasurements=n_measurements_per_batch)\n",
    "        \n",
    "        # Process each of the results and update our knowledge using\n",
    "        # Bayesian inference.\n",
    "        print(\"\\t\\tUpdating posterior distribution...\")\n",
    "        for prep, meas, result in batch:\n",
    "            # Convert into a QuTiP object by using the standard transformation\n",
    "            # between state and process tomography.\n",
    "            qobj = 2.0 * qt.tensor(\n",
    "                projector(\n",
    "                    qsharp.Pauli(prep).as_qobj()\n",
    "                ).trans(),\n",
    "                projector(\n",
    "                    qsharp.Pauli(meas).as_qobj()\n",
    "                )\n",
    "            )\n",
    "            expparams = np.array(\n",
    "                [(model.basis.state_to_modelparams(qobj),)],\n",
    "                dtype=model.expparams_dtype\n",
    "            )\n",
    "            updater.update(1 - result, expparams)\n",
    "        \n",
    "    return (\n",
    "        # After we've collected all of our data, we can use the\n",
    "        # mean (that is, the average) from our updater to estimate\n",
    "        # the channel.\n",
    "        # NB: We multiply by 2 to turn into a Choi–Jamiłkowski operator instead\n",
    "        #     of a Choi–Jamiłkowski state.\n",
    "        2.0 * model.basis.modelparams_to_state(updater.est_mean()),\n",
    "        # We also return the full distribution itself so that we\n",
    "        # can look at other properties such as error bars.\n",
    "        updater\n",
    "    )"
   ]
  },
  {
   "cell_type": "markdown",
   "metadata": {},
   "source": [
    "Here, we ask for 10,000 measurements from the noisy Hadamard operation that we defined above.\n",
    "\n",
    "> **NOTE**: The next cell may take several minutes to run."
   ]
  },
  {
   "cell_type": "markdown",
   "metadata": {},
   "source": [
    "We then plot the estimated and actual channels as Hinton diagrams, showing how each acts on the Pauli operators $X$, $Y$ and $Z$."
   ]
  },
  {
   "cell_type": "code",
   "execution_count": 12,
   "metadata": {
    "scrolled": true
   },
   "outputs": [
    {
     "name": "stdout",
     "output_type": "stream",
     "text": [
      "Preparing tomography model...\n",
      "Performing tomography...\n",
      "\tBatch 1 of 40...\n",
      "\t\tRunning measurements...\n",
      "\t\tUpdating posterior distribution...\n"
     ]
    },
    {
     "name": "stderr",
     "output_type": "stream",
     "text": [
      "C:\\Users\\cgran\\Anaconda3\\envs\\process-tomography\\lib\\site-packages\\qinfer\\utils.py:268: ApproximationWarning: Numerical error in covariance estimation causing positive semidefinite violation.\n",
      "  warnings.warn('Numerical error in covariance estimation causing positive semidefinite violation.', ApproximationWarning)\n"
     ]
    },
    {
     "name": "stdout",
     "output_type": "stream",
     "text": [
      "\tBatch 2 of 40...\n",
      "\t\tRunning measurements...\n",
      "\t\tUpdating posterior distribution...\n",
      "\tBatch 3 of 40...\n",
      "\t\tRunning measurements...\n",
      "\t\tUpdating posterior distribution...\n",
      "\tBatch 4 of 40...\n",
      "\t\tRunning measurements...\n",
      "\t\tUpdating posterior distribution...\n",
      "\tBatch 5 of 40...\n",
      "\t\tRunning measurements...\n",
      "\t\tUpdating posterior distribution...\n",
      "\tBatch 6 of 40...\n",
      "\t\tRunning measurements...\n",
      "\t\tUpdating posterior distribution...\n",
      "\tBatch 7 of 40...\n",
      "\t\tRunning measurements...\n",
      "\t\tUpdating posterior distribution...\n",
      "\tBatch 8 of 40...\n",
      "\t\tRunning measurements...\n",
      "\t\tUpdating posterior distribution...\n",
      "\tBatch 9 of 40...\n",
      "\t\tRunning measurements...\n",
      "\t\tUpdating posterior distribution...\n",
      "\tBatch 10 of 40...\n",
      "\t\tRunning measurements...\n",
      "\t\tUpdating posterior distribution...\n",
      "\tBatch 11 of 40...\n",
      "\t\tRunning measurements...\n",
      "\t\tUpdating posterior distribution...\n",
      "\tBatch 12 of 40...\n",
      "\t\tRunning measurements...\n",
      "\t\tUpdating posterior distribution...\n",
      "\tBatch 13 of 40...\n",
      "\t\tRunning measurements...\n",
      "\t\tUpdating posterior distribution...\n",
      "\tBatch 14 of 40...\n",
      "\t\tRunning measurements...\n",
      "\t\tUpdating posterior distribution...\n",
      "\tBatch 15 of 40...\n",
      "\t\tRunning measurements...\n",
      "\t\tUpdating posterior distribution...\n",
      "\tBatch 16 of 40...\n",
      "\t\tRunning measurements...\n",
      "\t\tUpdating posterior distribution...\n",
      "\tBatch 17 of 40...\n",
      "\t\tRunning measurements...\n",
      "\t\tUpdating posterior distribution...\n",
      "\tBatch 18 of 40...\n",
      "\t\tRunning measurements...\n",
      "\t\tUpdating posterior distribution...\n",
      "\tBatch 19 of 40...\n",
      "\t\tRunning measurements...\n",
      "\t\tUpdating posterior distribution...\n",
      "\tBatch 20 of 40...\n",
      "\t\tRunning measurements...\n",
      "\t\tUpdating posterior distribution...\n",
      "\tBatch 21 of 40...\n",
      "\t\tRunning measurements...\n",
      "\t\tUpdating posterior distribution...\n",
      "\tBatch 22 of 40...\n",
      "\t\tRunning measurements...\n",
      "\t\tUpdating posterior distribution...\n",
      "\tBatch 23 of 40...\n",
      "\t\tRunning measurements...\n",
      "\t\tUpdating posterior distribution...\n",
      "\tBatch 24 of 40...\n",
      "\t\tRunning measurements...\n",
      "\t\tUpdating posterior distribution...\n",
      "\tBatch 25 of 40...\n",
      "\t\tRunning measurements...\n",
      "\t\tUpdating posterior distribution...\n",
      "\tBatch 26 of 40...\n",
      "\t\tRunning measurements...\n",
      "\t\tUpdating posterior distribution...\n",
      "\tBatch 27 of 40...\n",
      "\t\tRunning measurements...\n",
      "\t\tUpdating posterior distribution...\n",
      "\tBatch 28 of 40...\n",
      "\t\tRunning measurements...\n",
      "\t\tUpdating posterior distribution...\n",
      "\tBatch 29 of 40...\n",
      "\t\tRunning measurements...\n",
      "\t\tUpdating posterior distribution...\n",
      "\tBatch 30 of 40...\n",
      "\t\tRunning measurements...\n",
      "\t\tUpdating posterior distribution...\n",
      "\tBatch 31 of 40...\n",
      "\t\tRunning measurements...\n",
      "\t\tUpdating posterior distribution...\n",
      "\tBatch 32 of 40...\n",
      "\t\tRunning measurements...\n",
      "\t\tUpdating posterior distribution...\n",
      "\tBatch 33 of 40...\n",
      "\t\tRunning measurements...\n",
      "\t\tUpdating posterior distribution...\n",
      "\tBatch 34 of 40...\n",
      "\t\tRunning measurements...\n",
      "\t\tUpdating posterior distribution...\n",
      "\tBatch 35 of 40...\n",
      "\t\tRunning measurements...\n",
      "\t\tUpdating posterior distribution...\n",
      "\tBatch 36 of 40...\n",
      "\t\tRunning measurements...\n",
      "\t\tUpdating posterior distribution...\n",
      "\tBatch 37 of 40...\n",
      "\t\tRunning measurements...\n",
      "\t\tUpdating posterior distribution...\n",
      "\tBatch 38 of 40...\n",
      "\t\tRunning measurements...\n",
      "\t\tUpdating posterior distribution...\n",
      "\tBatch 39 of 40...\n",
      "\t\tRunning measurements...\n",
      "\t\tUpdating posterior distribution...\n",
      "\tBatch 40 of 40...\n",
      "\t\tRunning measurements...\n",
      "\t\tUpdating posterior distribution...\n"
     ]
    }
   ],
   "source": [
    "est_channel, updater = single_qubit_process_tomography()"
   ]
  },
  {
   "cell_type": "code",
   "execution_count": 13,
   "metadata": {},
   "outputs": [
    {
     "data": {
      "text/plain": [
       "(None, <matplotlib.axes._subplots.AxesSubplot at 0x1a1807aa408>)"
      ]
     },
     "execution_count": 13,
     "metadata": {},
     "output_type": "execute_result"
    },
    {
     "data": {
      "image/png": "[encoded data removed]",
      "text/plain": [
       "<matplotlib.figure.Figure at 0x1a1fe35df48>"
      ]
     },
     "metadata": {
      "needs_background": "light"
     },
     "output_type": "display_data"
    }
   ],
   "source": [
    "fig, (left, right) = plt.subplots(ncols=2, figsize=(12, 4))\n",
    "plt.sca(left)\n",
    "plt.xlabel('Estimated', fontsize='x-large')\n",
    "qt.visualization.hinton(est_channel, ax=left)\n",
    "plt.sca(right)\n",
    "plt.xlabel('Actual', fontsize='x-large')\n",
    "qt.visualization.hinton(noisy_h, ax=right)"
   ]
  },
  {
   "cell_type": "markdown",
   "metadata": {},
   "source": [
    "We also obtain a wealth of other information as well, such as the covariance matrix over each parameter of the resulting channel.\n",
    "This shows us which parameters we are least certain about, as well as how those parameters are correlated with each other."
   ]
  },
  {
   "cell_type": "code",
   "execution_count": 14,
   "metadata": {},
   "outputs": [
    {
     "name": "stderr",
     "output_type": "stream",
     "text": [
      "C:\\Users\\cgran\\Anaconda3\\envs\\process-tomography\\lib\\site-packages\\mpltools\\special\\hinton.py:56: MatplotlibDeprecationWarning: The set_axis_bgcolor function was deprecated in version 2.0. Use set_facecolor instead.\n",
      "  ax.set_axis_bgcolor('gray')\n"
     ]
    },
    {
     "data": {
      "text/plain": [
       "(array([ 0,  1,  2,  3,  4,  5,  6,  7,  8,  9, 10, 11, 12, 13, 14, 15]),\n",
       " <a list of 16 Text xticklabel objects>)"
      ]
     },
     "execution_count": 14,
     "metadata": {},
     "output_type": "execute_result"
    },
    {
     "data": {
      "image/png": "[encoded data removed]",
      "text/plain": [
       "<matplotlib.figure.Figure at 0x1a18091e388>"
      ]
     },
     "metadata": {
      "needs_background": "light"
     },
     "output_type": "display_data"
    }
   ],
   "source": [
    "plt.figure(figsize=(10, 10))\n",
    "updater.plot_covariance()\n",
    "plt.xticks(rotation=90)"
   ]
  },
  {
   "cell_type": "markdown",
   "metadata": {},
   "source": [
    "\n",
    "## Epilogue"
   ]
  },
  {
   "cell_type": "code",
   "execution_count": 15,
   "metadata": {},
   "outputs": [
    {
     "name": "stdout",
     "output_type": "stream",
     "text": [
      ".NET Runtime        .NETCoreApp,Version=v3.1\n",
      "Jupyter Core        1.5.0.0\n",
      "experimental        {'simulators': {'features': ['DEFAULT'], 'name': 'Microsoft.Quantum.Experimental.Simulators', 'opt_level': '3', 'target': 'x86_64-pc-windows-msvc', 'version': '0.18.2108160999'}}\n",
      "iqsharp             0.18.2108160999\n",
      "qsharp              0.18.2108.160999\n"
     ]
    }
   ],
   "source": [
    "for component, version in sorted(qsharp.component_versions().items(), key=lambda x: x[0]):\n",
    "    print(f\"{component:20}{version}\")"
   ]
  },
  {
   "cell_type": "code",
   "execution_count": 16,
   "metadata": {},
   "outputs": [
    {
     "name": "stdout",
     "output_type": "stream",
     "text": [
      "3.7.10 | packaged by conda-forge | (default, Feb 19 2021, 15:37:01) [MSC v.1916 64 bit (AMD64)]\n"
     ]
    }
   ],
   "source": [
    "import sys\n",
    "print(sys.version)"
   ]
  }
 ],
 "metadata": {
  "kernelspec": {
   "display_name": "Python 3 (ipykernel)",
   "language": "python",
   "name": "python3"
  },
  "language_info": {
   "codemirror_mode": {
    "name": "ipython",
    "version": 3
   },
   "file_extension": ".py",
   "mimetype": "text/x-python",
   "name": "python",
   "nbconvert_exporter": "python",
   "pygments_lexer": "ipython3",
   "version": "3.7.10"
  }
 },
 "nbformat": 4,
 "nbformat_minor": 2
}
