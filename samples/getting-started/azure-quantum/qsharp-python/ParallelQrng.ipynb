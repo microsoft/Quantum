{
 "cells": [
  {
   "cell_type": "markdown",
   "id": "automotive-girlfriend",
   "metadata": {},
   "source": [
    "# Get started using Python to submit Q# programs to the Azure Quantum service"
   ]
  },
  {
   "cell_type": "markdown",
   "id": "foreign-vegetation",
   "metadata": {},
   "source": [
    "> **⚠ WARNING**:\n",
    "> This sample makes use of paid services on Azure Quantum. The cost of running this sample *with the provided parameters* on IonQ in a Pay-As-You-Go subscription is approximately \\\\$1-\\\\$2 USD (or the equivalent amount in your local currency). This quantity is only an approximate estimate and should not be used as a binding reference. The cost of the service might vary depending on your region, demand and other factors."
   ]
  },
  {
   "cell_type": "markdown",
   "id": "better-rainbow",
   "metadata": {},
   "source": [
    "We start by importing the `qsharp` package, as this package provides interoperability between Q# and Python."
   ]
  },
  {
   "cell_type": "code",
   "execution_count": 1,
   "id": "thrown-maple",
   "metadata": {},
   "outputs": [],
   "source": [
    "import qsharp\n",
    "import qsharp.azure"
   ]
  },
  {
   "cell_type": "markdown",
   "id": "existing-monitor",
   "metadata": {},
   "source": [
    "Once we've imported the `qsharp` package, we can use the `%%qsharp` magic command to define a Q# operation that we'd like to run on hardware via Azure Quantum services.\n",
    "\n",
    "In this notebook, we'll use the example of a quantum random number generator."
   ]
  },
  {
   "cell_type": "code",
   "execution_count": 2,
   "id": "after-entry",
   "metadata": {},
   "outputs": [],
   "source": [
    "%%qsharp\n",
    "open Microsoft.Quantum.Arrays;\n",
    "open Microsoft.Quantum.Measurement;\n",
    "\n",
    "operation SampleRandomNumber(nQubits : Int) : Result[] {\n",
    "\n",
    "    // We prepare a register of qubits in a uniform\n",
    "    // superposition state, such that when we measure,\n",
    "    // all bitstrings occur with equal probability.\n",
    "    use register = Qubit[nQubits];\n",
    "\n",
    "    // Set qubits in superposition.\n",
    "    ApplyToEachA(H, register);\n",
    "\n",
    "    // Measure all qubits and return.\n",
    "    return ForEach(MResetZ, register);\n",
    "\n",
    "}"
   ]
  },
  {
   "cell_type": "markdown",
   "id": "differential-bridge",
   "metadata": {},
   "source": [
    "We can verify that our program works before submitting it by using the local full-state simulator:"
   ]
  },
  {
   "cell_type": "code",
   "execution_count": 3,
   "id": "alpha-sound",
   "metadata": {},
   "outputs": [
    {
     "data": {
      "text/plain": [
       "[1, 1, 1]"
      ]
     },
     "execution_count": 3,
     "metadata": {},
     "output_type": "execute_result"
    }
   ],
   "source": [
    "result = SampleRandomNumber.simulate(nQubits=3)\n",
    "result"
   ]
  },
  {
   "cell_type": "markdown",
   "id": "polyphonic-workplace",
   "metadata": {},
   "source": [
    "Next, we can use the `qsharp.azure.connect` function to choose a quantum workspace. Replace the `resource_id` and location below with the resource ID for your workspace, as found in the Azure Portal."
   ]
  },
  {
   "cell_type": "code",
   "execution_count": 4,
   "id": "liberal-progress",
   "metadata": {},
   "outputs": [],
   "source": [
    "resource_id = \"\"\n",
    "location = \"\""
   ]
  },
  {
   "cell_type": "code",
   "execution_count": 5,
   "id": "european-product",
   "metadata": {},
   "outputs": [
    {
     "name": "stdout",
     "output_type": "stream",
     "text": [
      "Authenticated using Azure.Identity.AzureCliCredential\n",
      "\n",
      "\n",
      "Connected to Azure Quantum workspace chgranad-0-15-2103-test5 in location eastus.\n"
     ]
    },
    {
     "data": {
      "text/plain": [
       "[{'id': 'honeywell.hqs-lt-s1', 'current_availability': {}, 'average_queue_time': 0},\n",
       " {'id': 'honeywell.hqs-lt-s1-apival', 'current_availability': {}, 'average_queue_time': 0},\n",
       " {'id': 'honeywell.hqs-lt-s2', 'current_availability': {}, 'average_queue_time': 0},\n",
       " {'id': 'honeywell.hqs-lt-s2-apival', 'current_availability': {}, 'average_queue_time': 0},\n",
       " {'id': 'honeywell.hqs-lt-s1-sim', 'current_availability': {}, 'average_queue_time': 513},\n",
       " {'id': 'ionq.qpu', 'current_availability': {}, 'average_queue_time': 1409},\n",
       " {'id': 'ionq.simulator', 'current_availability': {}, 'average_queue_time': 0}]"
      ]
     },
     "execution_count": 5,
     "metadata": {},
     "output_type": "execute_result"
    }
   ],
   "source": [
    "qsharp.azure.connect(resourceId=resource_id, location=location)"
   ]
  },
  {
   "cell_type": "markdown",
   "id": "rocky-representation",
   "metadata": {},
   "source": [
    "Next, we can choose what target we would like to submit our Q# program to."
   ]
  },
  {
   "cell_type": "code",
   "execution_count": 6,
   "id": "fourth-attack",
   "metadata": {},
   "outputs": [
    {
     "name": "stdout",
     "output_type": "stream",
     "text": [
      "Loading package Microsoft.Quantum.Providers.IonQ and dependencies...\n",
      "Active target is now ionq.qpu\n"
     ]
    },
    {
     "data": {
      "text/plain": [
       "{'id': 'ionq.qpu', 'current_availability': {}, 'average_queue_time': 1409}"
      ]
     },
     "execution_count": 6,
     "metadata": {},
     "output_type": "execute_result"
    }
   ],
   "source": [
    "qsharp.azure.target(\"ionq.qpu\")"
   ]
  },
  {
   "cell_type": "markdown",
   "id": "piano-above",
   "metadata": {},
   "source": [
    "Finally, we can sumbit our Q# program to run on actual hardware."
   ]
  },
  {
   "cell_type": "code",
   "execution_count": 7,
   "id": "linear-driving",
   "metadata": {},
   "outputs": [
    {
     "name": "stdout",
     "output_type": "stream",
     "text": [
      "Submitting SampleRandomNumber to target ionq.qpu...\n",
      "Job successfully submitted for 1000 shots.\n",
      "   Job name: Generate 3-bit random number\n",
      "   Job ID: d1229348-e3d9-4cbc-abe1-0a710a66d0a3\n"
     ]
    }
   ],
   "source": [
    "job = qsharp.azure.submit(SampleRandomNumber, nQubits=3, shots=1000, jobName=\"Generate 3-bit random number\")"
   ]
  },
  {
   "cell_type": "markdown",
   "id": "czech-circle",
   "metadata": {},
   "source": [
    "To query the status of a job once it has been submitted, use the `qsharp.azure.status` function:"
   ]
  },
  {
   "cell_type": "code",
   "execution_count": 8,
   "id": "cheap-transsexual",
   "metadata": {},
   "outputs": [
    {
     "data": {
      "text/plain": [
       "{'id': 'd1229348-e3d9-4cbc-abe1-0a710a66d0a3', 'name': 'Generate 3-bit random number', 'status': 'Succeeded', 'uri': 'https://portal.azure.com/#@microsoft.onmicrosoft.com/resource/subscriptions/916dfd6d-030c-4bd9-b579-7bb6d1926e97/resourceGroups/qdk-validations/providers/Microsoft.Quantum/Workspaces/chgranad-0-15-2103-test5/job_management?microsoft_azure_quantum_jobid=d1229348-e3d9-4cbc-abe1-0a710a66d0a3', 'provider': 'ionq', 'target': 'ionq.qpu', 'creation_time': '2021-09-28T02:51:05.9887623+00:00', 'begin_execution_time': '2021-09-28T02:59:57.565+00:00', 'end_execution_time': '2021-09-28T03:00:03.806+00:00'}"
      ]
     },
     "execution_count": 8,
     "metadata": {},
     "output_type": "execute_result"
    }
   ],
   "source": [
    "qsharp.azure.status(job.id)"
   ]
  },
  {
   "cell_type": "code",
   "execution_count": 9,
   "id": "naval-adelaide",
   "metadata": {},
   "outputs": [
    {
     "data": {
      "text/plain": [
       "{'[0,0,0]': 0.125,\n",
       " '[1,0,0]': 0.097,\n",
       " '[0,1,0]': 0.155,\n",
       " '[1,1,0]': 0.148,\n",
       " '[0,0,1]': 0.115,\n",
       " '[1,0,1]': 0.078,\n",
       " '[0,1,1]': 0.165,\n",
       " '[1,1,1]': 0.117}"
      ]
     },
     "execution_count": 9,
     "metadata": {},
     "output_type": "execute_result"
    }
   ],
   "source": [
    "qsharp.azure.output(job.id)"
   ]
  },
  {
   "cell_type": "code",
   "execution_count": null,
   "id": "fitting-template",
   "metadata": {},
   "outputs": [],
   "source": []
  }
 ],
 "metadata": {
  "jupytext": {
   "cell_metadata_filter": "-all",
   "notebook_metadata_filter": "-all",
   "text_representation": {
    "extension": ".py",
    "format_name": "light"
   }
  },
  "kernelspec": {
   "display_name": "Python 3",
   "language": "python",
   "name": "python3"
  },
  "language_info": {
   "codemirror_mode": {
    "name": "ipython",
    "version": 3
   },
   "file_extension": ".py",
   "mimetype": "text/x-python",
   "name": "python",
   "nbconvert_exporter": "python",
   "pygments_lexer": "ipython3",
   "version": "3.7.6"
  }
 },
 "nbformat": 4,
 "nbformat_minor": 5
}
