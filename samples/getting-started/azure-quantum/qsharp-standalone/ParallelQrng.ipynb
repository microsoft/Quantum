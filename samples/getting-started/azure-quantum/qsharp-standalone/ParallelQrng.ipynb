{
 "cells": [
  {
   "cell_type": "markdown",
   "metadata": {},
   "source": [
    "# Quantum Computing on Azure Quantum with Q# and Jupyter Notebook: <br> Parallel QRNG"
   ]
  },
  {
   "cell_type": "markdown",
   "metadata": {},
   "source": [
    "This notebook demonstrates how to execute a Q# program on Azure Quantum."
   ]
  },
  {
   "cell_type": "markdown",
   "metadata": {},
   "source": [
    "## Define Q# operations"
   ]
  },
  {
   "cell_type": "markdown",
   "metadata": {},
   "source": [
    "The quickest way to define a Q# operation in a Q# Jupyter Notebook is to simply write the Q# code directly into a notebook cell and execute it. Note that for convenience, the `Microsoft.Quantum.Canon` and `Microsoft.Quantum.Intrinsic` namespaces are automatically opened in every cell."
   ]
  },
  {
   "cell_type": "code",
   "execution_count": 1,
   "metadata": {},
   "outputs": [
    {
     "data": {
      "application/x-qsharp-data": "[\"SampleRandomNumber\"]",
      "text/html": [
       "<ul><li>SampleRandomNumber</li></ul>"
      ],
      "text/plain": [
       "SampleRandomNumber"
      ]
     },
     "execution_count": 1,
     "metadata": {},
     "output_type": "execute_result"
    }
   ],
   "source": [
    "open Microsoft.Quantum.Arrays;\n",
    "open Microsoft.Quantum.Measurement;\n",
    "    \n",
    "operation SampleRandomNumber(nQubits : Int) : Result[] {\n",
    "    // We prepare a register of qubits in a uniform\n",
    "    // superposition state, such that when we measure,\n",
    "    // all bitstrings occur with equal probability.\n",
    "    use register = Qubit[nQubits] {\n",
    "        // Set qubits in superposition.\n",
    "        ApplyToEachA(H, register);\n",
    "\n",
    "        // Measure all qubits and return.\n",
    "        return ForEach(MResetZ, register);\n",
    "    }\n",
    "}"
   ]
  },
  {
   "cell_type": "markdown",
   "metadata": {},
   "source": [
    "You can also write your Q# code in .qs files which are in the same folder as the .ipynb notebook. Running `%workspace reload` will recompile all such .qs files and report the list of available Q# operations and functions. In this case, it finds an operation called `SampleRandomNumber` in a namespace called `Microsoft.Quantum.AzureSamples`."
   ]
  },
  {
   "cell_type": "code",
   "execution_count": 2,
   "metadata": {},
   "outputs": [
    {
     "data": {
      "application/x-qsharp-data": "{\"LastUpdated\":\"2021-09-27T21:57:27.0946379-07:00\",\"IsCompleted\":true,\"Description\":\"Reloading workspace\",\"Subtask\":\"done\"}",
      "text/plain": [
       "Reloading workspace: done!"
      ]
     },
     "metadata": {},
     "output_type": "display_data"
    },
    {
     "data": {
      "application/x-qsharp-data": "[\"Microsoft.Quantum.Samples.SampleRandomNumber\"]",
      "text/html": [
       "<ul><li>Microsoft.Quantum.Samples.SampleRandomNumber</li></ul>"
      ],
      "text/plain": [
       "Microsoft.Quantum.Samples.SampleRandomNumber"
      ]
     },
     "execution_count": 2,
     "metadata": {},
     "output_type": "execute_result"
    }
   ],
   "source": [
    "%workspace reload"
   ]
  },
  {
   "cell_type": "markdown",
   "metadata": {},
   "source": [
    "Using `%simulate`, you can invoke the built-in Q# functionality to simulate a quantum operation locally and return the result. You can specify any operation that has been defined in the notebook or that has been imported from a .qs file."
   ]
  },
  {
   "cell_type": "code",
   "execution_count": 3,
   "metadata": {},
   "outputs": [
    {
     "data": {
      "application/x-qsharp-data": "[0,1,1]",
      "text/html": [
       "<ul><li>Zero</li><li>One</li><li>One</li></ul>"
      ],
      "text/plain": [
       "Zero, One, One"
      ]
     },
     "execution_count": 3,
     "metadata": {},
     "output_type": "execute_result"
    }
   ],
   "source": [
    "%simulate SampleRandomNumber nQubits=3"
   ]
  },
  {
   "cell_type": "markdown",
   "metadata": {},
   "source": [
    "## Executing Q# operations in Azure Quantum"
   ]
  },
  {
   "cell_type": "markdown",
   "metadata": {},
   "source": [
    "First, find the resource ID of your Azure Quantum workspace. You can copy/paste this from the top-right corner of your Quantum Workspace page in Azure Portal.\n",
    "\n",
    "Next, you can run `%azure.connect` to connect to the workspace and display the list of provisioned targets that support execution of Q# programs. If you are prompted to login, be sure to use the same account you used to create your Azure Quantum workspace."
   ]
  },
  {
   "cell_type": "code",
   "execution_count": 4,
   "metadata": {},
   "outputs": [
    {
     "name": "stdout",
     "output_type": "stream",
     "text": [
      "Authenticated using Azure.Identity.AzureCliCredential\n",
      "\n",
      "\n",
      "Connected to Azure Quantum workspace chgranad-0-15-2103-test5 in location eastus.\n"
     ]
    },
    {
     "data": {
      "application/x-qsharp-data": "[{\"id\":\"honeywell.hqs-lt-s1\",\"current_availability\":{},\"average_queue_time\":0},{\"id\":\"honeywell.hqs-lt-s1-apival\",\"current_availability\":{},\"average_queue_time\":0},{\"id\":\"honeywell.hqs-lt-s2\",\"current_availability\":{},\"average_queue_time\":0},{\"id\":\"honeywell.hqs-lt-s2-apival\",\"current_availability\":{},\"average_queue_time\":0},{\"id\":\"honeywell.hqs-lt-s1-sim\",\"current_availability\":{},\"average_queue_time\":930},{\"id\":\"ionq.qpu\",\"current_availability\":{},\"average_queue_time\":1108},{\"id\":\"ionq.simulator\",\"current_availability\":{},\"average_queue_time\":0}]",
      "text/html": [
       "<table><thead><tr><th style=\"text-align: start;\">Target ID</th><th style=\"text-align: start;\">Current Availability</th><th style=\"text-align: start;\">Average Queue Time (Seconds)</th></tr></thead><tbody><tr><td style=\"text-align: start;\">honeywell.hqs-lt-s1</td><td style=\"text-align: start;\">Unavailable</td><td style=\"text-align: start;\">0</td></tr><tr><td style=\"text-align: start;\">honeywell.hqs-lt-s1-apival</td><td style=\"text-align: start;\">Available</td><td style=\"text-align: start;\">0</td></tr><tr><td style=\"text-align: start;\">honeywell.hqs-lt-s2</td><td style=\"text-align: start;\">Degraded</td><td style=\"text-align: start;\">0</td></tr><tr><td style=\"text-align: start;\">honeywell.hqs-lt-s2-apival</td><td style=\"text-align: start;\">Available</td><td style=\"text-align: start;\">0</td></tr><tr><td style=\"text-align: start;\">honeywell.hqs-lt-s1-sim</td><td style=\"text-align: start;\">Available</td><td style=\"text-align: start;\">930</td></tr><tr><td style=\"text-align: start;\">ionq.qpu</td><td style=\"text-align: start;\">Available</td><td style=\"text-align: start;\">1108</td></tr><tr><td style=\"text-align: start;\">ionq.simulator</td><td style=\"text-align: start;\">Available</td><td style=\"text-align: start;\">0</td></tr></tbody></table>"
      ],
      "text/plain": [
       "Target ID                  Current Availability Average Queue Time (Seconds)\r\n",
       "-------------------------- ----------- ----\r\n",
       "honeywell.hqs-lt-s1        Unavailable 0\r\n",
       "honeywell.hqs-lt-s1-apival Available   0\r\n",
       "honeywell.hqs-lt-s2        Degraded    0\r\n",
       "honeywell.hqs-lt-s2-apival Available   0\r\n",
       "honeywell.hqs-lt-s1-sim    Available   930\r\n",
       "ionq.qpu                   Available   1108\r\n",
       "ionq.simulator             Available   0\r\n"
      ]
     },
     "execution_count": 4,
     "metadata": {},
     "output_type": "execute_result"
    }
   ],
   "source": [
    "%azure.connect \"/subscriptions/subscriptionId/resourceGroups/resourceGroupName/providers/Microsoft.Quantum/Workspaces/workspaceName\" location=\"westus\""
   ]
  },
  {
   "cell_type": "markdown",
   "metadata": {},
   "source": [
    "Now, use `%azure.target` to specify the target you'd like to use for job submission."
   ]
  },
  {
   "cell_type": "code",
   "execution_count": 5,
   "metadata": {},
   "outputs": [
    {
     "name": "stdout",
     "output_type": "stream",
     "text": [
      "Loading package Microsoft.Quantum.Providers.IonQ and dependencies...\n",
      "Active target is now ionq.simulator\n"
     ]
    },
    {
     "data": {
      "application/x-qsharp-data": "{\"id\":\"ionq.simulator\",\"current_availability\":{},\"average_queue_time\":0}",
      "text/html": [
       "<table><thead><tr><th style=\"text-align: start;\">Target ID</th><th style=\"text-align: start;\">Current Availability</th><th style=\"text-align: start;\">Average Queue Time (Seconds)</th></tr></thead><tbody><tr><td style=\"text-align: start;\">ionq.simulator</td><td style=\"text-align: start;\">Available</td><td style=\"text-align: start;\">0</td></tr></tbody></table>"
      ],
      "text/plain": [
       "Target ID      Current Availability Average Queue Time (Seconds)\r\n",
       "-------------- --------- -\r\n",
       "ionq.simulator Available 0\r\n"
      ]
     },
     "execution_count": 5,
     "metadata": {},
     "output_type": "execute_result"
    }
   ],
   "source": [
    "%azure.target ionq.simulator"
   ]
  },
  {
   "cell_type": "markdown",
   "metadata": {},
   "source": [
    "To submit a job, use `%azure.submit` along with the Q# operation name and any parameters required by that operation. The `%azure.submit` command will return immediately after the job is created. Alternatively, you can use `%azure.execute`, which will submit the job and wait for it to complete."
   ]
  },
  {
   "cell_type": "code",
   "execution_count": 6,
   "metadata": {
    "scrolled": true
   },
   "outputs": [
    {
     "name": "stdout",
     "output_type": "stream",
     "text": [
      "Submitting SampleRandomNumber to target ionq.simulator...\n",
      "Job successfully submitted for 500 shots.\n",
      "   Job name: SampleRandomNumber\n",
      "   Job ID: 2737b0fe-883c-4e08-964a-14c22cf6e591\n"
     ]
    },
    {
     "data": {
      "application/x-qsharp-data": "{\"id\":\"2737b0fe-883c-4e08-964a-14c22cf6e591\",\"name\":\"SampleRandomNumber\",\"status\":\"Waiting\",\"uri\":\"https://portal.azure.com/#@microsoft.onmicrosoft.com/resource/subscriptions/916dfd6d-030c-4bd9-b579-7bb6d1926e97/resourceGroups/qdk-validations/providers/Microsoft.Quantum/Workspaces/chgranad-0-15-2103-test5/job_management?microsoft_azure_quantum_jobid=2737b0fe-883c-4e08-964a-14c22cf6e591\",\"provider\":\"ionq\",\"target\":\"ionq.simulator\",\"creation_time\":\"2021-09-28T04:58:17.3566651+00:00\",\"begin_execution_time\":null,\"end_execution_time\":null}",
      "text/html": [
       "<table><thead><tr><th style=\"text-align: start;\">Job Name</th><th style=\"text-align: start;\">Job ID</th><th style=\"text-align: start;\">Job Status</th><th style=\"text-align: start;\">Target</th><th style=\"text-align: start;\">Creation Time</th><th style=\"text-align: start;\">Begin Execution Time</th><th style=\"text-align: start;\">End Execution Time</th></tr></thead><tbody><tr><td style=\"text-align: start;\">SampleRandomNumber</td><td style=\"text-align: start;\"><a href=\"https://portal.azure.com/#@microsoft.onmicrosoft.com/resource/subscriptions/916dfd6d-030c-4bd9-b579-7bb6d1926e97/resourceGroups/qdk-validations/providers/Microsoft.Quantum/Workspaces/chgranad-0-15-2103-test5/job_management?microsoft_azure_quantum_jobid=2737b0fe-883c-4e08-964a-14c22cf6e591\" target=\"_blank\">2737b0fe-883c-4e08-964a-14c22cf6e591</a></td><td style=\"text-align: start;\">Waiting</td><td style=\"text-align: start;\">ionq.simulator</td><td style=\"text-align: start;\">9/28/2021 4:58:17 AM +00:00</td><td style=\"text-align: start;\"></td><td style=\"text-align: start;\"></td></tr></tbody></table>"
      ],
      "text/plain": [
       "Job Name           Job ID                                                                                                                                                                                                                                                                                                                                                               Job Status Target         Creation Time               Begin Execution Time End Execution Time\r\n",
       "------------------ -------------------------------------------------------------------------------------------------------------------------------------------------------------------------------------------------------------------------------------------------------------------------------------------------------------------------------------------------------------------- ------- -------------- ---------------------------\r\n",
       "SampleRandomNumber <a href=\"https://portal.azure.com/#@microsoft.onmicrosoft.com/resource/subscriptions/916dfd6d-030c-4bd9-b579-7bb6d1926e97/resourceGroups/qdk-validations/providers/Microsoft.Quantum/Workspaces/chgranad-0-15-2103-test5/job_management?microsoft_azure_quantum_jobid=2737b0fe-883c-4e08-964a-14c22cf6e591\" target=\"_blank\">2737b0fe-883c-4e08-964a-14c22cf6e591</a> Waiting ionq.simulator 9/28/2021 4:58:17 AM +00:00\r\n"
      ]
     },
     "execution_count": 6,
     "metadata": {},
     "output_type": "execute_result"
    }
   ],
   "source": [
    "%azure.submit SampleRandomNumber nQubits=3"
   ]
  },
  {
   "cell_type": "markdown",
   "metadata": {},
   "source": [
    "Running `%azure.status` will display the status of the most recently submitted job in this session. If you want to check the status of a different job, provide the job ID to `%azure.status`."
   ]
  },
  {
   "cell_type": "code",
   "execution_count": 7,
   "metadata": {},
   "outputs": [
    {
     "data": {
      "application/x-qsharp-data": "{\"id\":\"2737b0fe-883c-4e08-964a-14c22cf6e591\",\"name\":\"SampleRandomNumber\",\"status\":\"Succeeded\",\"uri\":\"https://portal.azure.com/#@microsoft.onmicrosoft.com/resource/subscriptions/916dfd6d-030c-4bd9-b579-7bb6d1926e97/resourceGroups/qdk-validations/providers/Microsoft.Quantum/Workspaces/chgranad-0-15-2103-test5/job_management?microsoft_azure_quantum_jobid=2737b0fe-883c-4e08-964a-14c22cf6e591\",\"provider\":\"ionq\",\"target\":\"ionq.simulator\",\"creation_time\":\"2021-09-28T04:58:17.3566651+00:00\",\"begin_execution_time\":\"2021-09-28T04:58:19.859+00:00\",\"end_execution_time\":\"2021-09-28T04:58:19.871+00:00\"}",
      "text/html": [
       "<table><thead><tr><th style=\"text-align: start;\">Job Name</th><th style=\"text-align: start;\">Job ID</th><th style=\"text-align: start;\">Job Status</th><th style=\"text-align: start;\">Target</th><th style=\"text-align: start;\">Creation Time</th><th style=\"text-align: start;\">Begin Execution Time</th><th style=\"text-align: start;\">End Execution Time</th></tr></thead><tbody><tr><td style=\"text-align: start;\">SampleRandomNumber</td><td style=\"text-align: start;\"><a href=\"https://portal.azure.com/#@microsoft.onmicrosoft.com/resource/subscriptions/916dfd6d-030c-4bd9-b579-7bb6d1926e97/resourceGroups/qdk-validations/providers/Microsoft.Quantum/Workspaces/chgranad-0-15-2103-test5/job_management?microsoft_azure_quantum_jobid=2737b0fe-883c-4e08-964a-14c22cf6e591\" target=\"_blank\">2737b0fe-883c-4e08-964a-14c22cf6e591</a></td><td style=\"text-align: start;\">Succeeded</td><td style=\"text-align: start;\">ionq.simulator</td><td style=\"text-align: start;\">9/28/2021 4:58:17 AM +00:00</td><td style=\"text-align: start;\">9/28/2021 4:58:19 AM +00:00</td><td style=\"text-align: start;\">9/28/2021 4:58:19 AM +00:00</td></tr></tbody></table>"
      ],
      "text/plain": [
       "Job Name           Job ID                                                                                                                                                                                                                                                                                                                                                               Job Status Target         Creation Time               Begin Execution Time        End Execution Time\r\n",
       "------------------ -------------------------------------------------------------------------------------------------------------------------------------------------------------------------------------------------------------------------------------------------------------------------------------------------------------------------------------------------------------------- --------- -------------- --------------------------- --------------------------- ---------------------------\r\n",
       "SampleRandomNumber <a href=\"https://portal.azure.com/#@microsoft.onmicrosoft.com/resource/subscriptions/916dfd6d-030c-4bd9-b579-7bb6d1926e97/resourceGroups/qdk-validations/providers/Microsoft.Quantum/Workspaces/chgranad-0-15-2103-test5/job_management?microsoft_azure_quantum_jobid=2737b0fe-883c-4e08-964a-14c22cf6e591\" target=\"_blank\">2737b0fe-883c-4e08-964a-14c22cf6e591</a> Succeeded ionq.simulator 9/28/2021 4:58:17 AM +00:00 9/28/2021 4:58:19 AM +00:00 9/28/2021 4:58:19 AM +00:00\r\n"
      ]
     },
     "execution_count": 7,
     "metadata": {},
     "output_type": "execute_result"
    }
   ],
   "source": [
    "%azure.status"
   ]
  },
  {
   "cell_type": "markdown",
   "metadata": {},
   "source": [
    "Once the job has completed, use `%azure.output` to display the result. Again, you can provide a job ID to `%azure.output` if you want to display the status of a specific job."
   ]
  },
  {
   "cell_type": "code",
   "execution_count": 8,
   "metadata": {},
   "outputs": [
    {
     "data": {
      "application/x-qsharp-data": "{\"[0,0,0]\":0.125,\"[1,0,0]\":0.125,\"[0,1,0]\":0.125,\"[1,1,0]\":0.125,\"[0,0,1]\":0.125,\"[1,0,1]\":0.125,\"[0,1,1]\":0.125,\"[1,1,1]\":0.125}",
      "text/html": [
       "\r\n",
       "                    <table style=\"table-layout: fixed; width: 100%\">\r\n",
       "                        <thead>\r\n",
       "                            <tr>\r\n",
       "                                <th style=\"text-align: left; width: 25ch\">Result</th>\r\n",
       "                                <th style=\"text-align: left; width: 25ch\">Frequency</th>\r\n",
       "                                <th style=\"text-align: left; width: calc(100% - 25ch - 25ch)\">Histogram</th>\r\n",
       "                            </tr>\r\n",
       "                        </thead>\r\n",
       "                        <tbody>\r\n",
       "                            \r\n",
       "                            <tr>\r\n",
       "                                <td style=\"text-align: left; width: 25ch\">[0,0,0]</td>\r\n",
       "                                <td style=\"text-align: left; width: 25ch\">0.125</td>\r\n",
       "                                <td style=\"text-align: left; width: calc(100% - 25ch - 25ch)\">\r\n",
       "                                    <progress\r\n",
       "                                        max=\"100\"\r\n",
       "                                        value=\"12.5\"\r\n",
       "                                        style=\"width: 100%;\"\r\n",
       "                                    >\r\n",
       "                                </td>\r\n",
       "                            </tr>\r\n",
       "                        \n",
       "\r\n",
       "                            <tr>\r\n",
       "                                <td style=\"text-align: left; width: 25ch\">[1,0,0]</td>\r\n",
       "                                <td style=\"text-align: left; width: 25ch\">0.125</td>\r\n",
       "                                <td style=\"text-align: left; width: calc(100% - 25ch - 25ch)\">\r\n",
       "                                    <progress\r\n",
       "                                        max=\"100\"\r\n",
       "                                        value=\"12.5\"\r\n",
       "                                        style=\"width: 100%;\"\r\n",
       "                                    >\r\n",
       "                                </td>\r\n",
       "                            </tr>\r\n",
       "                        \n",
       "\r\n",
       "                            <tr>\r\n",
       "                                <td style=\"text-align: left; width: 25ch\">[0,1,0]</td>\r\n",
       "                                <td style=\"text-align: left; width: 25ch\">0.125</td>\r\n",
       "                                <td style=\"text-align: left; width: calc(100% - 25ch - 25ch)\">\r\n",
       "                                    <progress\r\n",
       "                                        max=\"100\"\r\n",
       "                                        value=\"12.5\"\r\n",
       "                                        style=\"width: 100%;\"\r\n",
       "                                    >\r\n",
       "                                </td>\r\n",
       "                            </tr>\r\n",
       "                        \n",
       "\r\n",
       "                            <tr>\r\n",
       "                                <td style=\"text-align: left; width: 25ch\">[1,1,0]</td>\r\n",
       "                                <td style=\"text-align: left; width: 25ch\">0.125</td>\r\n",
       "                                <td style=\"text-align: left; width: calc(100% - 25ch - 25ch)\">\r\n",
       "                                    <progress\r\n",
       "                                        max=\"100\"\r\n",
       "                                        value=\"12.5\"\r\n",
       "                                        style=\"width: 100%;\"\r\n",
       "                                    >\r\n",
       "                                </td>\r\n",
       "                            </tr>\r\n",
       "                        \n",
       "\r\n",
       "                            <tr>\r\n",
       "                                <td style=\"text-align: left; width: 25ch\">[0,0,1]</td>\r\n",
       "                                <td style=\"text-align: left; width: 25ch\">0.125</td>\r\n",
       "                                <td style=\"text-align: left; width: calc(100% - 25ch - 25ch)\">\r\n",
       "                                    <progress\r\n",
       "                                        max=\"100\"\r\n",
       "                                        value=\"12.5\"\r\n",
       "                                        style=\"width: 100%;\"\r\n",
       "                                    >\r\n",
       "                                </td>\r\n",
       "                            </tr>\r\n",
       "                        \n",
       "\r\n",
       "                            <tr>\r\n",
       "                                <td style=\"text-align: left; width: 25ch\">[1,0,1]</td>\r\n",
       "                                <td style=\"text-align: left; width: 25ch\">0.125</td>\r\n",
       "                                <td style=\"text-align: left; width: calc(100% - 25ch - 25ch)\">\r\n",
       "                                    <progress\r\n",
       "                                        max=\"100\"\r\n",
       "                                        value=\"12.5\"\r\n",
       "                                        style=\"width: 100%;\"\r\n",
       "                                    >\r\n",
       "                                </td>\r\n",
       "                            </tr>\r\n",
       "                        \n",
       "\r\n",
       "                            <tr>\r\n",
       "                                <td style=\"text-align: left; width: 25ch\">[0,1,1]</td>\r\n",
       "                                <td style=\"text-align: left; width: 25ch\">0.125</td>\r\n",
       "                                <td style=\"text-align: left; width: calc(100% - 25ch - 25ch)\">\r\n",
       "                                    <progress\r\n",
       "                                        max=\"100\"\r\n",
       "                                        value=\"12.5\"\r\n",
       "                                        style=\"width: 100%;\"\r\n",
       "                                    >\r\n",
       "                                </td>\r\n",
       "                            </tr>\r\n",
       "                        \n",
       "\r\n",
       "                            <tr>\r\n",
       "                                <td style=\"text-align: left; width: 25ch\">[1,1,1]</td>\r\n",
       "                                <td style=\"text-align: left; width: 25ch\">0.125</td>\r\n",
       "                                <td style=\"text-align: left; width: calc(100% - 25ch - 25ch)\">\r\n",
       "                                    <progress\r\n",
       "                                        max=\"100\"\r\n",
       "                                        value=\"12.5\"\r\n",
       "                                        style=\"width: 100%;\"\r\n",
       "                                    >\r\n",
       "                                </td>\r\n",
       "                            </tr>\r\n",
       "                        \r\n",
       "                        </tbody>\r\n",
       "                    </table>\r\n",
       "                "
      ],
      "text/plain": [
       "Result  Frequency\r\n",
       "------- -----\r\n",
       "[0,0,0] 0.125\r\n",
       "[1,0,0] 0.125\r\n",
       "[0,1,0] 0.125\r\n",
       "[1,1,0] 0.125\r\n",
       "[0,0,1] 0.125\r\n",
       "[1,0,1] 0.125\r\n",
       "[0,1,1] 0.125\r\n",
       "[1,1,1] 0.125\r\n"
      ]
     },
     "execution_count": 8,
     "metadata": {},
     "output_type": "execute_result"
    }
   ],
   "source": [
    "%azure.output"
   ]
  },
  {
   "cell_type": "markdown",
   "metadata": {},
   "source": [
    "You can also view the status of all jobs by using `%azure.jobs`. Providing a parameter to this command will filter to just the jobs containing that string. For example, you can query for the status of all jobs named `Microsoft.Quantum.AzureSamples.SampleRandomNumber`."
   ]
  },
  {
   "cell_type": "code",
   "execution_count": null,
   "metadata": {},
   "outputs": [],
   "source": [
    "%azure.jobs SampleRandomNumber"
   ]
  },
  {
   "cell_type": "markdown",
   "metadata": {},
   "source": [
    "## Usage information"
   ]
  },
  {
   "cell_type": "markdown",
   "metadata": {},
   "source": [
    "To list all of the available magic commands, run `%lsmagic`."
   ]
  },
  {
   "cell_type": "code",
   "execution_count": null,
   "metadata": {},
   "outputs": [],
   "source": [
    "%lsmagic"
   ]
  },
  {
   "cell_type": "markdown",
   "metadata": {},
   "source": [
    "And to get detailed usage information on any of these magic commands, simply append `?` to its name."
   ]
  },
  {
   "cell_type": "code",
   "execution_count": 11,
   "metadata": {},
   "outputs": [
    {
     "data": {
      "application/x-qsharp-data": "{\"AzureClient\":{},\"Name\":\"%azure.execute\",\"Kind\":0,\"Documentation\":{\"Summary\":\"Submits a job to an Azure Quantum workspace and waits for completion.\",\"Full\":null,\"Description\":\"\\r\\nThis magic command allows for submitting a Q# operation or function\\r\\nto be run on the specified target in the current Azure Quantum workspace.\\r\\nThe command waits a specified amount of time for the job to complete before returning.\\r\\n\\r\\nThe Azure Quantum workspace must have been previously initialized\\r\\nusing the [`%azure.connect` magic command](https://docs.microsoft.com/qsharp/api/iqsharp-magic/azure.connect),\\r\\nand an execution target for the job must have been specified using the\\r\\n[`%azure.target` magic command](https://docs.microsoft.com/qsharp/api/iqsharp-magic/azure.target).\\r\\n\\r\\n#### Required parameters\\r\\n\\r\\n- Q# operation or function name. This must be the first parameter, and must be a valid Q# operation\\r\\nor function name that has been defined either in the notebook or in a Q# file in the same folder.\\r\\n- Arguments for the Q# operation or function must also be specified as `key=value` pairs.\\r\\n\\r\\n#### Optional parameters\\r\\n\\r\\n- `jobName=<string>`: Friendly name to identify this job. If not specified,\\r\\nthe Q# operation or function name will be used as the job name.\\r\\n- `shots=<integer>` (default=500): Number of times to repeat execution of the\\r\\nspecified Q# operation or function.\\r\\n- `timeout=<integer>` (default=30): Time to wait (in seconds) for job completion\\r\\nbefore the magic command returns.\\r\\n- `poll=<integer>` (default=5): Interval (in seconds) to poll for\\r\\njob status while waiting for job execution to complete.\\r\\n\\r\\n#### Possible errors\\r\\n\\r\\n- `NotConnected`: Not connected to any Azure Quantum workspace.\\r\\n- `NoTarget`: No execution target has been configured for Azure Quantum job submission.\\r\\n- `NoOperationName`: No Q# operation name was specified for Azure Quantum job submission.\\r\\n- `InvalidTarget`: The specified execution target is not valid for Q# job submission in the current Azure Quantum workspace.\\r\\n- `UnrecognizedOperationName`: The specified Q# operation name was not recognized.\\r\\n- `InvalidEntryPoint`: The specified Q# operation cannot be used as an entry point for Azure Quantum job submission.\\r\\n- `JobSubmissionFailed`: Failed to submit the job to the Azure Quantum workspace.\\r\\n- `JobNotCompleted`: The specified Azure Quantum job has not yet completed.\\r\\n- `JobOutputDownloadFailed`: Failed to download results for the specified Azure Quantum job.\\r\\n- `JobFailedOrCancelled`: The specified Azure Quantum job failed or was cancelled.\\r\\n                    \",\"Remarks\":null,\"Examples\":[\"\\r\\nRun a Q# operation defined as `operation MyOperation(a : Int, b : Int) : Result`\\r\\non the active target in the current Azure Quantum workspace:\\r\\n```\\r\\nIn []: %azure.execute MyOperation a=5 b=10\\r\\nOut[]: Submitting MyOperation to target provider.qpu...\\r\\n       Job successfully submitted for 500 shots.\\r\\n          Job name: MyOperation\\r\\n          Job ID: <Azure Quantum job ID>\\r\\n       Waiting up to 30 seconds for Azure Quantum job to complete...\\r\\n       [1:23:45 PM] Current job status: Waiting\\r\\n       [1:23:50 PM] Current job status: Executing\\r\\n       [1:23:55 PM] Current job status: Succeeded\\r\\n       <detailed results of completed job>\\r\\n```\\r\\n                        \",\"\\r\\nRun a Q# operation defined as `operation MyOperation(a : Int, b : Int) : Result`\\r\\non the active target in the current Azure Quantum workspace,\\r\\nspecifying a custom job name, number of shots, timeout, and polling interval:\\r\\n```\\r\\nIn []: %azure.submit MyOperation a=5 b=10 jobName=\\\"My job\\\" shots=100 timeout=60 poll=10\\r\\nOut[]: Submitting MyOperation to target provider.qpu...\\r\\n       Job successfully submitted for 100 shots.\\r\\n          Job name: My job\\r\\n          Job ID: <Azure Quantum job ID>\\r\\n       Waiting up to 60 seconds for Azure Quantum job to complete...\\r\\n       [1:23:45 PM] Current job status: Waiting\\r\\n       [1:23:55 PM] Current job status: Waiting\\r\\n       [1:24:05 PM] Current job status: Executing\\r\\n       [1:24:15 PM] Current job status: Succeeded\\r\\n       <detailed results of completed job>\\r\\n```\\r\\n                        \"],\"SeeAlso\":null}}",
      "text/html": [
       "<h4><i class=\"fa fas fa-magic\"></i> %azure.execute</h4><p>Submits a job to an Azure Quantum workspace and waits for completion.</p><h5>Description</h5><p>This magic command allows for submitting a Q# operation or function\n",
       "to be run on the specified target in the current Azure Quantum workspace.\n",
       "The command waits a specified amount of time for the job to complete before returning.</p>\n",
       "<p>The Azure Quantum workspace must have been previously initialized\n",
       "using the <a href=\"https://docs.microsoft.com/qsharp/api/iqsharp-magic/azure.connect\"><code>%azure.connect</code> magic command</a>,\n",
       "and an execution target for the job must have been specified using the\n",
       "<a href=\"https://docs.microsoft.com/qsharp/api/iqsharp-magic/azure.target\"><code>%azure.target</code> magic command</a>.</p>\n",
       "<h4>Required parameters</h4>\n",
       "<ul>\n",
       "<li>Q# operation or function name. This must be the first parameter, and must be a valid Q# operation\n",
       "or function name that has been defined either in the notebook or in a Q# file in the same folder.</li>\n",
       "<li>Arguments for the Q# operation or function must also be specified as <code>key=value</code> pairs.</li>\n",
       "</ul>\n",
       "<h4>Optional parameters</h4>\n",
       "<ul>\n",
       "<li><code>jobName=&lt;string&gt;</code>: Friendly name to identify this job. If not specified,\n",
       "the Q# operation or function name will be used as the job name.</li>\n",
       "<li><code>shots=&lt;integer&gt;</code> (default=500): Number of times to repeat execution of the\n",
       "specified Q# operation or function.</li>\n",
       "<li><code>timeout=&lt;integer&gt;</code> (default=30): Time to wait (in seconds) for job completion\n",
       "before the magic command returns.</li>\n",
       "<li><code>poll=&lt;integer&gt;</code> (default=5): Interval (in seconds) to poll for\n",
       "job status while waiting for job execution to complete.</li>\n",
       "</ul>\n",
       "<h4>Possible errors</h4>\n",
       "<ul>\n",
       "<li><code>NotConnected</code>: Not connected to any Azure Quantum workspace.</li>\n",
       "<li><code>NoTarget</code>: No execution target has been configured for Azure Quantum job submission.</li>\n",
       "<li><code>NoOperationName</code>: No Q# operation name was specified for Azure Quantum job submission.</li>\n",
       "<li><code>InvalidTarget</code>: The specified execution target is not valid for Q# job submission in the current Azure Quantum workspace.</li>\n",
       "<li><code>UnrecognizedOperationName</code>: The specified Q# operation name was not recognized.</li>\n",
       "<li><code>InvalidEntryPoint</code>: The specified Q# operation cannot be used as an entry point for Azure Quantum job submission.</li>\n",
       "<li><code>JobSubmissionFailed</code>: Failed to submit the job to the Azure Quantum workspace.</li>\n",
       "<li><code>JobNotCompleted</code>: The specified Azure Quantum job has not yet completed.</li>\n",
       "<li><code>JobOutputDownloadFailed</code>: Failed to download results for the specified Azure Quantum job.</li>\n",
       "<li><code>JobFailedOrCancelled</code>: The specified Azure Quantum job failed or was cancelled.</li>\n",
       "</ul>\n",
       "<h5>Example</h5><p>Run a Q# operation defined as <code>operation MyOperation(a : Int, b : Int) : Result</code>\n",
       "on the active target in the current Azure Quantum workspace:</p>\n",
       "<pre><code>In []: %azure.execute MyOperation a=5 b=10\n",
       "Out[]: Submitting MyOperation to target provider.qpu...\n",
       "       Job successfully submitted for 500 shots.\n",
       "          Job name: MyOperation\n",
       "          Job ID: &lt;Azure Quantum job ID&gt;\n",
       "       Waiting up to 30 seconds for Azure Quantum job to complete...\n",
       "       [1:23:45 PM] Current job status: Waiting\n",
       "       [1:23:50 PM] Current job status: Executing\n",
       "       [1:23:55 PM] Current job status: Succeeded\n",
       "       &lt;detailed results of completed job&gt;\n",
       "</code></pre>\n",
       "<h5>Example</h5><p>Run a Q# operation defined as <code>operation MyOperation(a : Int, b : Int) : Result</code>\n",
       "on the active target in the current Azure Quantum workspace,\n",
       "specifying a custom job name, number of shots, timeout, and polling interval:</p>\n",
       "<pre><code>In []: %azure.submit MyOperation a=5 b=10 jobName=&quot;My job&quot; shots=100 timeout=60 poll=10\n",
       "Out[]: Submitting MyOperation to target provider.qpu...\n",
       "       Job successfully submitted for 100 shots.\n",
       "          Job name: My job\n",
       "          Job ID: &lt;Azure Quantum job ID&gt;\n",
       "       Waiting up to 60 seconds for Azure Quantum job to complete...\n",
       "       [1:23:45 PM] Current job status: Waiting\n",
       "       [1:23:55 PM] Current job status: Waiting\n",
       "       [1:24:05 PM] Current job status: Executing\n",
       "       [1:24:15 PM] Current job status: Succeeded\n",
       "       &lt;detailed results of completed job&gt;\n",
       "</code></pre>\n"
      ],
      "text/plain": [
       "%azure.execute:\n",
       "Submits a job to an Azure Quantum workspace and waits for completion."
      ]
     },
     "execution_count": 11,
     "metadata": {},
     "output_type": "execute_result"
    }
   ],
   "source": [
    "%azure.execute?"
   ]
  },
  {
   "cell_type": "code",
   "execution_count": null,
   "metadata": {},
   "outputs": [],
   "source": []
  }
 ],
 "metadata": {
  "kernelspec": {
   "display_name": "Q#",
   "language": "qsharp",
   "name": "iqsharp"
  },
  "language_info": {
   "file_extension": ".qs",
   "mimetype": "text/x-qsharp",
   "name": "qsharp",
   "version": "0.14"
  }
 },
 "nbformat": 4,
 "nbformat_minor": 4
}
