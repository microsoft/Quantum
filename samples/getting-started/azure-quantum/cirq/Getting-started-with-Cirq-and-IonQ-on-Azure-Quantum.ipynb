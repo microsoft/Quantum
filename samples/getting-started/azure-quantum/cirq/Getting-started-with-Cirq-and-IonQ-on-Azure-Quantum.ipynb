{
  "cells": [
    {
      "cell_type": "markdown",
      "source": [
        "# Getting started with Cirq and IonQ on Azure Quantum\n",
        "\n",
        "This notebook shows how to send a basic quantum circuit expressed using the [Cirq library](https://quantumai.google/cirq) to an IonQ target via the Azure Quantum service."
      ],
      "metadata": {},
      "id": "0522dae0-d30b-48e0-814e-31a997e772d6"
    },
    {
      "cell_type": "markdown",
      "source": [
        "## Connecting to the Azure Quantum service\n",
        "\n",
        "To connect to the Azure Quantum service, use the `AzureQuantumService` constructor to create a `service` that connects to your Azure Quantum workspace. This will use your workspace's resource ID and location. Optionally, specify a default target."
      ],
      "metadata": {},
      "id": "8ad6203c-99bc-4060-9945-b8cc44e65adc"
    },
    {
      "cell_type": "code",
      "source": [
        "from azure.quantum.cirq import AzureQuantumService\n",
        "service = AzureQuantumService(\n",
        "    resource_id=\"\",\n",
        "    location=\"\",\n",
        "    default_target=\"ionq.simulator\"\n",
        ")"
      ],
      "outputs": [],
      "execution_count": 2,
      "metadata": {},
      "id": "15ceddb0-82f8-458b-9093-b102816efcd9"
    },
    {
      "cell_type": "markdown",
      "source": [
        "### List all targets\n",
        "\n",
        "You can now list all the targets that you have access to, including the current queue time and availability. Running this method will trigger authentication to your Microsoft account, if you're not already logged in."
      ],
      "metadata": {},
      "id": "1d9da117-db16-47c8-9c28-f0520f11744c"
    },
    {
      "cell_type": "code",
      "source": [
        "service.targets()"
      ],
      "outputs": [
        {
          "output_type": "execute_result",
          "execution_count": 3,
          "data": {
            "text/plain": "[<Target name=\"ionq.qpu\", avg. queue time=19 s, Available>,\n <Target name=\"ionq.simulator\", avg. queue time=0 s, Available>,\n <Target name=\"honeywell.hqs-lt-s1\", avg. queue time=0 s, Unavailable>,\n <Target name=\"honeywell.hqs-lt-s1-apival\", avg. queue time=0 s, Available>,\n <Target name=\"honeywell.hqs-lt-s2\", avg. queue time=93509 s, Available>,\n <Target name=\"honeywell.hqs-lt-s2-apival\", avg. queue time=0 s, Available>,\n <Target name=\"honeywell.hqs-lt-s1-sim\", avg. queue time=26 s, Available>]"
          },
          "metadata": {}
        }
      ],
      "execution_count": 3,
      "metadata": {},
      "id": "5a571893-648d-4a2f-b74a-ea39fc78c3d6"
    },
    {
      "cell_type": "markdown",
      "source": [
        "## Run a simple circuit\n",
        "\n",
        "Let's create a simple Cirq circuit to run. This circuit uses the square root of X gate, native to the IonQ hardware system.\n",
        "\n",
        "This notebook assumes some familiarity with Cirq. To read more about Cirq, review the [Cirq documentation](https://quantumai.google/cirq)."
      ],
      "metadata": {},
      "id": "8a79cee6-fa1a-468e-a313-b442412dc105"
    },
    {
      "cell_type": "code",
      "source": [
        "import cirq\n",
        "\n",
        "q0, q1 = cirq.LineQubit.range(2)\n",
        "circuit = cirq.Circuit(\n",
        "    cirq.X(q0)**0.5,              # Square root of X\n",
        "    cirq.CX(q0, q1),              # CNOT\n",
        "    cirq.measure(q0, q1, key='b') # Measure both qubits\n",
        ")\n",
        "circuit"
      ],
      "outputs": [
        {
          "output_type": "execute_result",
          "execution_count": 4,
          "data": {
            "text/plain": "0: ───X^0.5───@───M('b')───\n              │   │\n1: ───────────X───M────────",
            "text/html": "<pre style=\"overflow: auto; white-space: pre;\">0: ───X^0.5───@───M(&#x27;b&#x27;)───\n              │   │\n1: ───────────X───M────────</pre>"
          },
          "metadata": {}
        }
      ],
      "execution_count": 4,
      "metadata": {},
      "id": "172024a2-b37f-4801-94b4-c05cf5a6ca00"
    },
    {
      "cell_type": "markdown",
      "source": [
        "You can now run the program via the Azure Quantum service and get the result. The following cell will submit a job that runs the circuit with 100 shots, wait until the job is completed and return the results."
      ],
      "metadata": {},
      "id": "32ae263b-18af-4f45-84ca-383dbc7f1143"
    },
    {
      "cell_type": "code",
      "source": [
        "result = service.run(program=circuit, repetitions=100)"
      ],
      "outputs": [],
      "execution_count": 5,
      "metadata": {},
      "id": "88e77307-b1cd-4486-8e4f-3a96ff806e7f"
    },
    {
      "cell_type": "markdown",
      "source": [
        "This returns a `cirq.Result` object."
      ],
      "metadata": {},
      "id": "345ec54a-3461-422f-a2f4-d8c090a196e1"
    },
    {
      "cell_type": "code",
      "source": [
        "print(result)"
      ],
      "outputs": [
        {
          "output_type": "stream",
          "name": "stdout",
          "text": "b=0001101010110000111010001110010111010001101010001111100011100001111100101011101101001000001000011000, 0001101010110000111010001110010111010001101010001111100011100001111100101011101101001000001000011000\n"
        }
      ],
      "execution_count": 6,
      "metadata": {},
      "id": "9df561fd-c0b2-44df-b914-3a9a285d3fa2"
    },
    {
      "cell_type": "markdown",
      "source": [
        "### Run on IonQ QPU\n",
        "\n",
        "#### Note: The time required to run a circuit on the QPU may vary depending on current queue times."
      ],
      "metadata": {},
      "id": "5d9a0a94-b754-4e29-94e7-48a1919f3351"
    },
    {
      "cell_type": "markdown",
      "source": [
        "The previous job ran on the default simulator we specified, `\"ionq.simulator\"`. To run on the QPU, provide `\"ionq.qpu\"` as the `target` argument:"
      ],
      "metadata": {},
      "id": "810a07a0-524e-4a37-85dc-c4b6918facf1"
    },
    {
      "cell_type": "code",
      "source": [
        "result = service.run(\n",
        "    program=circuit,\n",
        "    repetitions=100,\n",
        "    target=\"ionq.qpu\",\n",
        "    timeout_seconds=500 # Set timeout to 500 seconds to accomodate current queue time on QPU\n",
        ")"
      ],
      "outputs": [],
      "execution_count": 7,
      "metadata": {
        "scrolled": true
      },
      "id": "ff385d1b-ab6c-47e6-b758-1c37de656903"
    },
    {
      "cell_type": "markdown",
      "source": [
        "Again, this returns a `cirq.Result` object."
      ],
      "metadata": {},
      "id": "9480ff74-efb6-421e-aba8-211f28079e51"
    },
    {
      "cell_type": "code",
      "source": [
        "print(result)"
      ],
      "outputs": [
        {
          "output_type": "stream",
          "name": "stdout",
          "text": "b=0101011011011111100001011101101011011110100010000000011110111000100100110110101100110001001111101111, 0101011011011111100001011101101011011110100010000000011110111000100100110110101100110001001111101111\n\n"
        }
      ],
      "execution_count": 8,
      "metadata": {},
      "id": "589ab0d5-5469-4bbc-9266-3051e5cad0cb"
    },
    {
      "cell_type": "markdown",
      "source": [
        "## Asynchronous model using Jobs\n",
        "\n",
        "For long-running circuits, it can be useful to run them asynchronously. The `service.create_job` method returns a `Job`, which you can use to get the results after the job has run successfully."
      ],
      "metadata": {},
      "id": "bba4fa8d-f416-4ecd-a95b-2eb458e62509"
    },
    {
      "cell_type": "code",
      "source": [
        "job = service.create_job(\n",
        "    program=circuit,\n",
        "    repetitions=100,\n",
        "    target=\"ionq.simulator\"\n",
        ")"
      ],
      "outputs": [],
      "execution_count": 9,
      "metadata": {},
      "id": "8efab0e7-73a6-4b8f-bff8-37c1646e6eb5"
    },
    {
      "cell_type": "markdown",
      "source": [
        "To check on the job status, use `job.status()`:"
      ],
      "metadata": {},
      "id": "dbf02197-612c-4e2b-a441-9f5c172d3fe0"
    },
    {
      "cell_type": "code",
      "source": [
        "job.status()"
      ],
      "outputs": [
        {
          "output_type": "execute_result",
          "execution_count": 10,
          "data": {
            "text/plain": "'ready'"
          },
          "metadata": {}
        }
      ],
      "execution_count": 10,
      "metadata": {},
      "id": "ae20696d-459f-45a9-bbf2-7feb433f79ed"
    },
    {
      "cell_type": "markdown",
      "source": [
        "To wait for the job to be done and get the results, use the blocking call `job.results()`:"
      ],
      "metadata": {},
      "id": "b609c8c5-b6ca-4819-8582-02d34034063a"
    },
    {
      "cell_type": "code",
      "source": [
        "result = job.results()\n",
        "print(result)"
      ],
      "outputs": [
        {
          "output_type": "stream",
          "name": "stdout",
          "text": "00: 0.5\n11: 0.5\n"
        }
      ],
      "execution_count": 11,
      "metadata": {},
      "id": "2d210f13-cefd-4cdd-9bb3-8953eac78af1"
    },
    {
      "cell_type": "markdown",
      "source": [
        "Note that this does not return a `cirq.Result` object. Instead it returns a result object that is specific to the IonQ simulator and uses state probabilities instead of shot data."
      ],
      "metadata": {},
      "id": "f8c75921-cc8c-4c24-ad2d-467682e9c0d8"
    },
    {
      "cell_type": "code",
      "source": [
        "type(result)"
      ],
      "outputs": [
        {
          "output_type": "execute_result",
          "execution_count": 12,
          "data": {
            "text/plain": "cirq_ionq.results.SimulatorResult"
          },
          "metadata": {}
        }
      ],
      "execution_count": 12,
      "metadata": {},
      "id": "77e76bb5-b61b-417c-b037-e8a6171990df"
    },
    {
      "cell_type": "markdown",
      "source": [
        "To convert this to a `cirq.Result` object, use `result.to_cirq_result()`:"
      ],
      "metadata": {},
      "id": "dca70b36-7f8e-41ba-9660-aefdd82ba21e"
    },
    {
      "cell_type": "code",
      "source": [
        "result.to_cirq_result()"
      ],
      "outputs": [
        {
          "output_type": "execute_result",
          "execution_count": 13,
          "data": {
            "text/plain": "b=1101000111010101101001011100001111101110011000100111101000010100101000001100010010011010111010011101, 1101000111010101101001011100001111101110011000100111101000010100101000001100010010011010111010011101"
          },
          "metadata": {}
        }
      ],
      "execution_count": 13,
      "metadata": {},
      "id": "06a76289-d8c3-498c-afc3-5a4925a8c7c5"
    },
    {
      "cell_type": "code",
      "source": [
        "# Print package versions used in this notebook\n",
        "import cirq\n",
        "print('\\n'.join(f'{m.__name__}=={m.__version__}' for m in globals().values() if getattr(m, '__version__', None)))"
      ],
      "outputs": [
        {
          "output_type": "stream",
          "name": "stdout",
          "text": "cirq==0.12.0\n"
        }
      ],
      "execution_count": 14,
      "metadata": {},
      "id": "f51c069f-61d0-4177-8794-1fea47bb2840"
    },
    {
      "cell_type": "code",
      "source": [],
      "outputs": [],
      "execution_count": null,
      "metadata": {},
      "id": "7fb22203-03a9-4d3d-85f9-455957991329"
    }
  ],
  "metadata": {
    "kernelspec": {
      "name": "python3",
      "language": "python",
      "display_name": "Python 3 (ipykernel)"
    },
    "language_info": {
      "name": "python",
      "version": "3.7.12",
      "mimetype": "text/x-python",
      "codemirror_mode": {
        "name": "ipython",
        "version": 3
      },
      "pygments_lexer": "ipython3",
      "nbconvert_exporter": "python",
      "file_extension": ".py"
    },
    "kernel_info": {
      "name": "python3"
    },
    "nteract": {
      "version": "nteract-front-end@1.0.0"
    }
  },
  "nbformat": 4,
  "nbformat_minor": 5
}