{
  "cells": [
    {
      "cell_type": "markdown",
      "source": [
        "# Getting started with Cirq and Honeywell on Azure Quantum\n",
        "\n",
        "This notebook shows how to send a basic quantum circuit expressed using the [Cirq library](https://quantumai.google/cirq) to a Honeywell target via the Azure Quantum service."
      ],
      "metadata": {},
      "id": "c80994f6-1ec1-4ab1-a3eb-1d60fe1a7e78"
    },
    {
      "cell_type": "markdown",
      "source": [
        "## Connecting to the Azure Quantum service\n",
        "\n",
        "To connect to the Azure Quantum service, use the `AzureQuantumService` constructor to create a `service` that connects to your Azure Quantum workspace. This will use your workspace's resource ID and location. Optionally, specify a default target."
      ],
      "metadata": {},
      "id": "26e3e17f-6d84-4564-8f3f-a4f5f9c6f893"
    },
    {
      "cell_type": "code",
      "source": [
        "from azure.quantum.cirq import AzureQuantumService\n",
        "service = AzureQuantumService(\n",
        "    resource_id=\"\",\n",
        "    location=\"\",\n",
        "    default_target=\"honeywell.hqs-lt-s1-apival\"\n",
        ")"
      ],
      "outputs": [],
      "execution_count": 2,
      "metadata": {},
      "id": "d74b5f3f-3af7-4841-a3c6-1c0646336970"
    },
    {
      "cell_type": "markdown",
      "source": [
        "### List all targets\n",
        "\n",
        "You can now list all the targets that you have access to, including the current queue time and availability. Running this method will trigger authentication to your Microsoft account, if you're not already logged in."
      ],
      "metadata": {},
      "id": "e37b9527-a6d2-47b2-8ab4-53d9e0ae2bd9"
    },
    {
      "cell_type": "code",
      "source": [
        "service.targets()"
      ],
      "outputs": [
        {
          "output_type": "execute_result",
          "execution_count": 3,
          "data": {
            "text/plain": "[<Target name=\"ionq.qpu\", avg. queue time=250 s, Available>,\n <Target name=\"ionq.simulator\", avg. queue time=0 s, Available>,\n <Target name=\"honeywell.hqs-lt-s1\", avg. queue time=0 s, Unavailable>,\n <Target name=\"honeywell.hqs-lt-s1-apival\", avg. queue time=0 s, Available>,\n <Target name=\"honeywell.hqs-lt-s2\", avg. queue time=93509 s, Available>,\n <Target name=\"honeywell.hqs-lt-s2-apival\", avg. queue time=0 s, Available>,\n <Target name=\"honeywell.hqs-lt-s1-sim\", avg. queue time=26 s, Available>]"
          },
          "metadata": {}
        }
      ],
      "execution_count": 3,
      "metadata": {},
      "id": "3df5c40b-d625-4c6a-b094-04fb6502e503"
    },
    {
      "cell_type": "markdown",
      "source": [
        "## Run a simple circuit\n",
        "\n",
        "Now, let's create a simple Cirq circuit to run.\n",
        "\n",
        "This notebook assumes some familiarity with Cirq. To read more about Cirq, review the [Cirq documentation](https://quantumai.google/cirq)."
      ],
      "metadata": {},
      "id": "6eb39740-8882-4e33-8939-6a8f1b72b21d"
    },
    {
      "cell_type": "code",
      "source": [
        "import cirq\n",
        "\n",
        "q0, q1 = cirq.LineQubit.range(2)\n",
        "circuit = cirq.Circuit(\n",
        "    cirq.H(q0), # Hadamard\n",
        "    cirq.CNOT(q0, q1), # CNOT\n",
        "    cirq.measure(q0, q1, key='b') # Measure both qubits\n",
        ")\n",
        "circuit"
      ],
      "outputs": [
        {
          "output_type": "execute_result",
          "execution_count": 4,
          "data": {
            "text/plain": "0: ───H───@───M('b')───\n          │   │\n1: ───────X───M────────",
            "text/html": "<pre style=\"overflow: auto; white-space: pre;\">0: ───H───@───M(&#x27;b&#x27;)───\n          │   │\n1: ───────X───M────────</pre>"
          },
          "metadata": {}
        }
      ],
      "execution_count": 4,
      "metadata": {},
      "id": "489ebb3e-0f8d-434b-b783-7ec63c4b1ce9"
    },
    {
      "cell_type": "markdown",
      "source": [
        "You can now run the program via the Azure Quantum service and get the result. The following cell will submit a job that runs the circuit with 100 shots, wait until the job is completed and return the results."
      ],
      "metadata": {},
      "id": "c4dc8c40-4f24-4c4f-91a1-7b7e9c31cf24"
    },
    {
      "cell_type": "code",
      "source": [
        "result = service.run(program=circuit, repetitions=100)"
      ],
      "outputs": [
        {
          "output_type": "stream",
          "name": "stdout",
          "text": "......."
        }
      ],
      "execution_count": 5,
      "metadata": {},
      "id": "0a750471-29a0-4489-9131-351791fd818e"
    },
    {
      "cell_type": "markdown",
      "source": [
        "This returns a `cirq.Result` object. Note that we used the API validator provided by Honeywell, which only returns zeros."
      ],
      "metadata": {},
      "id": "973e0e59-66a1-481e-a6f3-0fb22da8ed85"
    },
    {
      "cell_type": "code",
      "source": [
        "print(result)"
      ],
      "outputs": [
        {
          "output_type": "stream",
          "name": "stdout",
          "text": "b=0000000000000000000000000000000000000000000000000000000000000000000000000000000000000000000000000000\n"
        }
      ],
      "execution_count": 6,
      "metadata": {},
      "id": "3b166883-ea0e-44a2-8533-391788c2402c"
    },
    {
      "cell_type": "markdown",
      "source": [
        "## Asynchronous workflow using Jobs\n",
        "\n",
        "For long-running circuits, it can be useful to run them asynchronously. The `service.create_job` method returns a `Job`, which you can use to get the results after the job has run successfully."
      ],
      "metadata": {},
      "id": "b6b09e09-6833-4214-a54d-3ab40d8349dc"
    },
    {
      "cell_type": "code",
      "source": [
        "job = service.create_job(\n",
        "    program=circuit,\n",
        "    repetitions=100\n",
        ")"
      ],
      "outputs": [],
      "execution_count": 7,
      "metadata": {},
      "id": "1d2aaf25-9301-40ff-ac72-0a667220d580"
    },
    {
      "cell_type": "markdown",
      "source": [
        "To check on the job status, use `job.status()`:"
      ],
      "metadata": {},
      "id": "22c195f2-0120-4b01-9a9d-eaa0395295c5"
    },
    {
      "cell_type": "code",
      "source": [
        "job.status()"
      ],
      "outputs": [
        {
          "output_type": "execute_result",
          "execution_count": 8,
          "data": {
            "text/plain": "'Waiting'"
          },
          "metadata": {}
        }
      ],
      "execution_count": 8,
      "metadata": {},
      "id": "04a52160-ebe0-46eb-9c5c-368f10fe3a08"
    },
    {
      "cell_type": "markdown",
      "source": [
        "To wait for the job to be done and get the results, use the blocking call `job.results()`:"
      ],
      "metadata": {},
      "id": "19ce7a4b-60a9-4fc0-9f3f-e8a4fb3eb514"
    },
    {
      "cell_type": "code",
      "source": [
        "result = job.results()\n",
        "print(result)"
      ],
      "outputs": [
        {
          "output_type": "stream",
          "name": "stdout",
          "text": ".......{'m_b': ['00', '00', '00', '00', '00', '00', '00', '00', '00', '00', '00', '00', '00', '00', '00', '00', '00', '00', '00', '00', '00', '00', '00', '00', '00', '00', '00', '00', '00', '00', '00', '00', '00', '00', '00', '00', '00', '00', '00', '00', '00', '00', '00', '00', '00', '00', '00', '00', '00', '00', '00', '00', '00', '00', '00', '00', '00', '00', '00', '00', '00', '00', '00', '00', '00', '00', '00', '00', '00', '00', '00', '00', '00', '00', '00', '00', '00', '00', '00', '00', '00', '00', '00', '00', '00', '00', '00', '00', '00', '00', '00', '00', '00', '00', '00', '00', '00', '00', '00', '00']}\n"
        }
      ],
      "execution_count": 9,
      "metadata": {},
      "id": "7bf94179-d8d5-4292-97c1-435ca285459d"
    },
    {
      "cell_type": "markdown",
      "source": [
        "Note that this does not return a `cirq.Result` object. Instead it returns a dictionary that is specific to the Honeywell simulator."
      ],
      "metadata": {},
      "id": "d832fd7c-403c-4f71-9dac-641f3673bad5"
    },
    {
      "cell_type": "code",
      "source": [
        "type(result)"
      ],
      "outputs": [
        {
          "output_type": "execute_result",
          "execution_count": 10,
          "data": {
            "text/plain": "dict"
          },
          "metadata": {}
        }
      ],
      "execution_count": 10,
      "metadata": {},
      "id": "287e14e8-1a49-4404-85e4-9b84b5bc08da"
    },
    {
      "cell_type": "code",
      "source": [
        "# Print package versions used in this notebook\n",
        "import cirq\n",
        "print('\\n'.join(f'{m.__name__}=={m.__version__}' for m in globals().values() if getattr(m, '__version__', None)))"
      ],
      "outputs": [
        {
          "output_type": "stream",
          "name": "stdout",
          "text": "cirq==0.12.0\n"
        }
      ],
      "execution_count": 11,
      "metadata": {},
      "id": "18a781d3-c376-4bf1-bae3-d4bd100a2af3"
    },
    {
      "cell_type": "code",
      "source": [],
      "outputs": [],
      "execution_count": null,
      "metadata": {},
      "id": "150efaa0-72e9-4839-a477-fbf47347a5f5"
    }
  ],
  "metadata": {
    "kernelspec": {
      "name": "python3",
      "language": "python",
      "display_name": "Python 3 (ipykernel)"
    },
    "language_info": {
      "name": "python",
      "version": "3.7.12",
      "mimetype": "text/x-python",
      "codemirror_mode": {
        "name": "ipython",
        "version": 3
      },
      "pygments_lexer": "ipython3",
      "nbconvert_exporter": "python",
      "file_extension": ".py"
    },
    "kernel_info": {
      "name": "python3"
    },
    "nteract": {
      "version": "nteract-front-end@1.0.0"
    }
  },
  "nbformat": 4,
  "nbformat_minor": 5
}