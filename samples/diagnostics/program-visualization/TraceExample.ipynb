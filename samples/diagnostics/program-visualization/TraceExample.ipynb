{
 "cells": [
  {
   "cell_type": "markdown",
   "metadata": {
    "slideshow": {
     "slide_type": "slide"
    }
   },
   "source": [
    "## Using the `%trace` magic command to visualize your Q# operations\n",
    "\n",
    "In quantum computing literature, it is common to visualize quantum algorithms as quantum circuits. For example, when learning about [Simon's algorithm](https://en.wikipedia.org/wiki/Simon%27s_problem#Simon's_quantum_circuit) or [Quantum Teleportation](https://techcommunity.microsoft.com/t5/educator-developer-blog/quantum-teleportation-in-q/ba-p/380602) for the first time, it is useful to visualize them as a quantum circuit. However, there are limitations to this approach which will be discussed [below](#Limitations-of-a-quantum-circuit).\n",
    "\n",
    "The `%trace` command allows developers to debug their Q# programs by visualizing an execution path that their program takes. It \"traces\" through the execution path and keeps track of the operations passed into the simulator for visualization.\n",
    "\n",
    "To see a description of what the `%trace` command does, we can run `%trace?`:"
   ]
  },
  {
   "cell_type": "code",
   "execution_count": 1,
   "metadata": {
    "slideshow": {
     "slide_type": "slide"
    }
   },
   "outputs": [
    {
     "data": {
      "application/json": "{\"SymbolResolver\":{},\"ConfigurationSource\":{\"Configuration\":{}},\"Name\":\"%trace\",\"Kind\":0,\"Documentation\":{\"Summary\":\"Visualizes the execution path of the given operation.\",\"Full\":null,\"Description\":\"\\nThis magic command renders an HTML-based visualization of a runtime execution path of the\\ngiven operation using the QuantumSimulator.\\n\\n#### Required parameters\\n\\n- Q# operation or function name. This must be the first parameter, and must be a valid Q# operation\\nor function name that has been defined either in the notebook or in a Q# file in the same folder.\\n- Arguments for the Q# operation or function must also be specified as `key=value` pairs.\\n\\n#### Optional parameters\\n\\n- `--depth=<integer>` (default=1): The depth at which to render operations along\\nthe execution path.\\n                \",\"Remarks\":null,\"Examples\":[\"\\nVisualize the execution path of a Q# operation defined as `operation MyOperation() : Result`:\\n```\\nIn []: %trace MyOperation\\nOut[]: <HTML visualization of the operation>\\n```\\n                    \",\"\\nVisualize the execution path of a Q# operation defined as `operation MyOperation(a : Int, b : Int) : Result`:\\n```\\nIn []: %trace MyOperation a=5 b=10\\nOut[]: <HTML visualization of the operation>\\n```\\n                    \",\"\\nVisualize operations at depth 2 on the execution path of a Q# operation defined\\nas `operation MyOperation() : Result`:\\n```\\nIn []: %trace MyOperation --depth=2\\nOut[]: <HTML visualization of the operation>\\n```\\n                    \"],\"SeeAlso\":null}}",
      "text/html": [
       "<h4><i class=\"fa fas fa-magic\"></i> %trace</h4><p>Visualizes the execution path of the given operation.</p><h5>Description</h5><p>This magic command renders an HTML-based visualization of a runtime execution path of the\n",
       "given operation using the QuantumSimulator.</p>\n",
       "<h4>Required parameters</h4>\n",
       "<ul>\n",
       "<li>Q# operation or function name. This must be the first parameter, and must be a valid Q# operation\n",
       "or function name that has been defined either in the notebook or in a Q# file in the same folder.</li>\n",
       "<li>Arguments for the Q# operation or function must also be specified as <code>key=value</code> pairs.</li>\n",
       "</ul>\n",
       "<h4>Optional parameters</h4>\n",
       "<ul>\n",
       "<li><code>--depth=&lt;integer&gt;</code> (default=1): The depth at which to render operations along\n",
       "the execution path.</li>\n",
       "</ul>\n",
       "<h5>Example</h5><p>Visualize the execution path of a Q# operation defined as <code>operation MyOperation() : Result</code>:</p>\n",
       "<pre><code>In []: %trace MyOperation\n",
       "Out[]: &lt;HTML visualization of the operation&gt;\n",
       "</code></pre>\n",
       "<h5>Example</h5><p>Visualize the execution path of a Q# operation defined as <code>operation MyOperation(a : Int, b : Int) : Result</code>:</p>\n",
       "<pre><code>In []: %trace MyOperation a=5 b=10\n",
       "Out[]: &lt;HTML visualization of the operation&gt;\n",
       "</code></pre>\n",
       "<h5>Example</h5><p>Visualize operations at depth 2 on the execution path of a Q# operation defined\n",
       "as <code>operation MyOperation() : Result</code>:</p>\n",
       "<pre><code>In []: %trace MyOperation --depth=2\n",
       "Out[]: &lt;HTML visualization of the operation&gt;\n",
       "</code></pre>\n"
      ],
      "text/plain": [
       "%trace:\n",
       "Visualizes the execution path of the given operation."
      ]
     },
     "execution_count": 1,
     "metadata": {},
     "output_type": "execute_result"
    }
   ],
   "source": [
    "%trace?"
   ]
  },
  {
   "cell_type": "markdown",
   "metadata": {
    "slideshow": {
     "slide_type": "slide"
    }
   },
   "source": [
    "### Basic operations\n",
    "To start off, let's see how we can debug basic operations with the `%trace` magic command. First, let's define an operation `RunBasicOp` that will perform an `H` on the first qubit and an `X` on the second."
   ]
  },
  {
   "cell_type": "code",
   "execution_count": 2,
   "metadata": {
    "slideshow": {
     "slide_type": "slide"
    }
   },
   "outputs": [
    {
     "data": {
      "application/json": "[\"RunBasicOp\"]",
      "text/html": [
       "<ul><li>RunBasicOp</li></ul>"
      ],
      "text/plain": [
       "RunBasicOp"
      ]
     },
     "execution_count": 2,
     "metadata": {},
     "output_type": "execute_result"
    }
   ],
   "source": [
    "operation RunBasicOp() : Unit {\n",
    "    using (qs = Qubit[2]) {\n",
    "        H(qs[0]);\n",
    "        X(qs[1]);\n",
    "        ResetAll(qs);\n",
    "    }\n",
    "}"
   ]
  },
  {
   "cell_type": "markdown",
   "metadata": {
    "slideshow": {
     "slide_type": "slide"
    }
   },
   "source": [
    "Now, we use the `%trace` magic command to render a visualization of `RunBasicOp` in the cell."
   ]
  },
  {
   "cell_type": "code",
   "execution_count": 3,
   "metadata": {
    "slideshow": {
     "slide_type": "slide"
    }
   },
   "outputs": [
    {
     "data": {
      "application/json": "{\"Html\":\"<div id='execution-path-container-bc59252f-4429-4e53-87e5-d06a66976ef9' />\"}",
      "text/html": [
       "<div id='execution-path-container-bc59252f-4429-4e53-87e5-d06a66976ef9' />"
      ],
      "text/plain": [
       "Microsoft.Quantum.IQSharp.Jupyter.DisplayableHtmlElement"
      ]
     },
     "metadata": {},
     "output_type": "display_data"
    }
   ],
   "source": [
    "%trace RunBasicOp"
   ]
  },
  {
   "cell_type": "markdown",
   "metadata": {
    "slideshow": {
     "slide_type": "slide"
    }
   },
   "source": [
    "We can extend this to visualize useful quantum algorithms, such as the Deutsch–Jozsa algorithm. The following operation can be found in our Q# samples [here](https://github.com/microsoft/Quantum/blob/master/samples/getting-started/simple-algorithms/SimpleAlgorithms.qs)."
   ]
  },
  {
   "cell_type": "code",
   "execution_count": 4,
   "metadata": {
    "slideshow": {
     "slide_type": "slide"
    }
   },
   "outputs": [
    {
     "data": {
      "application/json": "[\"ApplyOracle\",\"IsConstantBooleanFunction\",\"RunDeutschJozsa\"]",
      "text/html": [
       "<ul><li>ApplyOracle</li><li>IsConstantBooleanFunction</li><li>RunDeutschJozsa</li></ul>"
      ],
      "text/plain": [
       "ApplyOracle, IsConstantBooleanFunction, RunDeutschJozsa"
      ]
     },
     "execution_count": 4,
     "metadata": {},
     "output_type": "execute_result"
    }
   ],
   "source": [
    "open Microsoft.Quantum.Measurement;\n",
    "open Microsoft.Quantum.Arrays;\n",
    "\n",
    "operation ApplyOracle (query: Qubit[], target: Qubit) : Unit {\n",
    "    // ...\n",
    "}\n",
    "\n",
    "operation IsConstantBooleanFunction (Uf : ((Qubit[], Qubit) => Unit), n : Int) : Bool {\n",
    "    using ((queryRegister, target) = (Qubit[n], Qubit())) {\n",
    "        X(target);\n",
    "        H(target);\n",
    "\n",
    "        within {\n",
    "            ApplyToEachA(H, queryRegister);\n",
    "        } apply {\n",
    "            Uf(queryRegister, target);\n",
    "        }\n",
    "\n",
    "        let resultArray = ForEach(MResetZ, queryRegister);\n",
    "\n",
    "        Reset(target);\n",
    "\n",
    "        return All(IsResultZero, resultArray);\n",
    "    }\n",
    "}\n",
    "\n",
    "operation RunDeutschJozsa (n : Int) : Bool {\n",
    "        return IsConstantBooleanFunction(ApplyOracle, n);\n",
    "}"
   ]
  },
  {
   "cell_type": "code",
   "execution_count": 5,
   "metadata": {
    "slideshow": {
     "slide_type": "slide"
    }
   },
   "outputs": [
    {
     "data": {
      "application/json": "{\"Html\":\"<div id='execution-path-container-ed2fa436-b365-44e6-ae21-b8bf95df8bd2' />\"}",
      "text/html": [
       "<div id='execution-path-container-ed2fa436-b365-44e6-ae21-b8bf95df8bd2' />"
      ],
      "text/plain": [
       "Microsoft.Quantum.IQSharp.Jupyter.DisplayableHtmlElement"
      ]
     },
     "metadata": {},
     "output_type": "display_data"
    }
   ],
   "source": [
    "%trace RunDeutschJozsa n=3"
   ]
  },
  {
   "cell_type": "markdown",
   "metadata": {
    "slideshow": {
     "slide_type": "slide"
    }
   },
   "source": [
    "We passed in an extra argument `n=3` to the `%trace` command. Any argument that needs to be passed in to the given Q# operation is denoted by a key-value pair `<param>=<value>`. More details can be found in the documentation by running `%trace?`.\n",
    "\n",
    "Note that the visualization renders `IsConstantBooleanFunction` as a giant gate rather than its components. This is because, by default, the depth at which operations are traced out is at depth `1`. The default depth can be changed by running the magic command `%config trace.defaultDepth=n`, where `n` is the desired default depth.\n",
    "\n",
    "To see the internals of `IsConstantBooleanFunction`, we need to render operations up to 2 levels deep by passing in the `--depth=2` flag. Try changing the value of the depth and see how the visualization changes!"
   ]
  },
  {
   "cell_type": "code",
   "execution_count": 6,
   "metadata": {},
   "outputs": [
    {
     "data": {
      "application/json": "{\"Html\":\"<div id='execution-path-container-f2804d57-66d8-4ced-9cc5-658f1e2fe541' />\"}",
      "text/html": [
       "<div id='execution-path-container-f2804d57-66d8-4ced-9cc5-658f1e2fe541' />"
      ],
      "text/plain": [
       "Microsoft.Quantum.IQSharp.Jupyter.DisplayableHtmlElement"
      ]
     },
     "metadata": {},
     "output_type": "display_data"
    }
   ],
   "source": [
    "%trace RunDeutschJozsa n=3 --depth=2"
   ]
  },
  {
   "cell_type": "markdown",
   "metadata": {
    "slideshow": {
     "slide_type": "slide"
    }
   },
   "source": [
    "### Limitations of a quantum circuit\n",
    "Quantum circuits are a great way of thinking about quantum algorithms that are fairly simple, but it does not scale well to arbitrary quantum programs. As quantum computing and quantum programming matures, we will see classical computer science paradigms, such as if statements and while loops, appear in our quantum programs (check out how Q# accomplishes this [here](https://docs.microsoft.com/en-us/quantum/user-guide/using-qsharp/control-flow)).\n",
    "\n",
    "As more control branches are created, it quickly becomes infeasible to visualize a quantum program as simple quantum circuits. Instead, we modify the quantum circuit to incorporate these classical paradigms by tracing through and visualizing a given runtime execution path."
   ]
  },
  {
   "cell_type": "markdown",
   "metadata": {
    "slideshow": {
     "slide_type": "slide"
    }
   },
   "source": [
    "### Non-deterministic Q# programs\n",
    "\n",
    "Notice that, so far, the visualizations are exactly the quantum circuits that one would normally visualize them as. This is because the past examples are deterministic Q# programs. An example of a non-deterministic algorithm is this solution for one of the Q# coding contest questions hosted in [Summer 2020](https://codeforces.com/blog/entry/77614):\n",
    "\n",
    "You are given N qubits in the state $|0\\ldots0\\rangle$. Your task is to prepare an equal superposition of all basis states that have one or more 0 in them.\n",
    "\n",
    "For example, for $N=2$ the required state would be $\\frac{1}{\\sqrt{3}}(|00\\rangle+|01\\rangle+|10\\rangle)$."
   ]
  },
  {
   "cell_type": "code",
   "execution_count": 7,
   "metadata": {
    "slideshow": {
     "slide_type": "slide"
    }
   },
   "outputs": [
    {
     "data": {
      "application/json": "[\"SetEqualSuperposition\",\"RunSolution\"]",
      "text/html": [
       "<ul><li>SetEqualSuperposition</li><li>RunSolution</li></ul>"
      ],
      "text/plain": [
       "SetEqualSuperposition, RunSolution"
      ]
     },
     "execution_count": 7,
     "metadata": {},
     "output_type": "execute_result"
    }
   ],
   "source": [
    "// Sets all zero state to an equal superposition of all states except the |1..1> state\n",
    "operation SetEqualSuperposition (qs : Qubit[]) : Unit {\n",
    "    using (anc = Qubit()) { \n",
    "        repeat {\n",
    "            ApplyToEach(H, qs);\n",
    "            Controlled X(qs, anc);\n",
    "            let res = M(anc);\n",
    "            Reset(anc);\n",
    "        } \n",
    "        until (res == Zero)\n",
    "        fixup {\n",
    "            ResetAll(qs);\n",
    "        }\n",
    "    }\n",
    "}\n",
    "\n",
    "operation RunSolution () : Unit {\n",
    "    using (qs = Qubit[2]) {\n",
    "        SetEqualSuperposition(qs);\n",
    "        ResetAll(qs);\n",
    "    }\n",
    "}"
   ]
  },
  {
   "cell_type": "code",
   "execution_count": 8,
   "metadata": {
    "slideshow": {
     "slide_type": "slide"
    }
   },
   "outputs": [
    {
     "data": {
      "application/json": "{\"Html\":\"<div id='execution-path-container-bc8e63d3-ab91-4b77-8eb3-67572117ede9' />\"}",
      "text/html": [
       "<div id='execution-path-container-bc8e63d3-ab91-4b77-8eb3-67572117ede9' />"
      ],
      "text/plain": [
       "Microsoft.Quantum.IQSharp.Jupyter.DisplayableHtmlElement"
      ]
     },
     "metadata": {},
     "output_type": "display_data"
    }
   ],
   "source": [
    "%trace RunSolution --depth=2"
   ]
  },
  {
   "cell_type": "markdown",
   "metadata": {
    "slideshow": {
     "slide_type": "slide"
    }
   },
   "source": [
    "Try running the above cell multiple times. You'll see that the visualization isn't always the same! This is because we're visualizing an _execution path_ of a non-deterministic algorithm as opposed to a deterministic quantum circuit. The process of repeatedly performing operations until we get a desired measurement is non-deterministic and, thus, our `%trace` operation treats it as such."
   ]
  },
  {
   "cell_type": "markdown",
   "metadata": {},
   "source": [
    "### Classically-controlled operations\n",
    "Future improvements to this magic command includes the ability to visualize classically-controlled operations. A simple algorithm that includes operations conditioned on measurements is quantum teleportation. The following operation can be found in our Q# samples [here](https://github.com/microsoft/Quantum/blob/master/samples/getting-started/teleportation/TeleportationSample.qs)."
   ]
  },
  {
   "cell_type": "code",
   "execution_count": 9,
   "metadata": {},
   "outputs": [
    {
     "data": {
      "application/json": "[\"Teleport\",\"TeleportState\"]",
      "text/html": [
       "<ul><li>Teleport</li><li>TeleportState</li></ul>"
      ],
      "text/plain": [
       "Teleport, TeleportState"
      ]
     },
     "execution_count": 9,
     "metadata": {},
     "output_type": "execute_result"
    }
   ],
   "source": [
    "open Microsoft.Quantum.Measurement;\n",
    "\n",
    "operation Teleport (msg : Qubit, target : Qubit) : Unit {\n",
    "    using (register = Qubit()) {\n",
    "        // Create some entanglement that we can use to send our message.\n",
    "        H(register);\n",
    "        CNOT(register, target);\n",
    "\n",
    "        // Encode the message into the entangled pair.\n",
    "        CNOT(msg, register);\n",
    "        H(msg);\n",
    "\n",
    "        if (MResetZ(msg) == One) { Z(target); }\n",
    "        \n",
    "        if (IsResultOne(MResetZ(register))) { X(target); }\n",
    "    }\n",
    "}\n",
    "\n",
    "operation TeleportState () : Unit {\n",
    "    using ((msg, target) = (Qubit(), Qubit())) {\n",
    "        Ry(1.5, msg);\n",
    "        Teleport(msg, target);\n",
    "        Reset(msg);\n",
    "        Reset(target);\n",
    "    }\n",
    "}"
   ]
  },
  {
   "cell_type": "code",
   "execution_count": 10,
   "metadata": {},
   "outputs": [
    {
     "data": {
      "application/json": "{\"Html\":\"<div id='execution-path-container-0b94f018-8935-47ab-9625-2dd915377148' />\"}",
      "text/html": [
       "<div id='execution-path-container-0b94f018-8935-47ab-9625-2dd915377148' />"
      ],
      "text/plain": [
       "Microsoft.Quantum.IQSharp.Jupyter.DisplayableHtmlElement"
      ]
     },
     "metadata": {},
     "output_type": "display_data"
    }
   ],
   "source": [
    "%trace TeleportState --depth=2"
   ]
  },
  {
   "cell_type": "markdown",
   "metadata": {},
   "source": [
    "In this case, we have operations that are only executed based on a given measurement outcome. Currently, we render a fixed execution branch traced out by the simulator. Future work will allow toggling between each measurement result (unset, 1, 0) and renders the operations in the corresponding execution branch. This will allow users to visualize how their program evolves depending on the measurement result.\n",
    "\n",
    "Of course, quantum teleportation is a fairly simple example which can still be represented as a quantum circuit using the [Principle of Deferred Measurement](https://en.wikipedia.org/wiki/Deferred_Measurement_Principle) but we can appreciate how this would be useful as quantum programs become larger and more complex."
   ]
  },
  {
   "cell_type": "markdown",
   "metadata": {},
   "source": [
    "### Version information\n",
    "This notebook was last executed with:"
   ]
  },
  {
   "cell_type": "code",
   "execution_count": 11,
   "metadata": {},
   "outputs": [
    {
     "data": {
      "application/json": "{\"rows\":[{\"@type\":\"@tuple\",\"Item1\":\"iqsharp\",\"Item2\":\"0.12.2007.3110\"},{\"@type\":\"@tuple\",\"Item1\":\"Jupyter Core\",\"Item2\":\"1.4.0.0\"},{\"@type\":\"@tuple\",\"Item1\":\".NET Runtime\",\"Item2\":\".NETCoreApp,Version=v3.1\"}]}",
      "text/html": [
       "<table><thead><tr><th style=\"text-align: start;\">Component</th><th style=\"text-align: start;\">Version</th></tr></thead><tbody><tr><td style=\"text-align: start;\">iqsharp</td><td style=\"text-align: start;\">0.12.2007.3110</td></tr><tr><td style=\"text-align: start;\">Jupyter Core</td><td style=\"text-align: start;\">1.4.0.0</td></tr><tr><td style=\"text-align: start;\">.NET Runtime</td><td style=\"text-align: start;\">.NETCoreApp,Version=v3.1</td></tr></tbody></table>"
      ],
      "text/plain": [
       "Component    Version\r\n",
       "------------ ------------------------\r\n",
       "iqsharp      0.12.2007.3110\r\n",
       "Jupyter Core 1.4.0.0\r\n",
       ".NET Runtime .NETCoreApp,Version=v3.1\r\n"
      ]
     },
     "metadata": {},
     "output_type": "display_data"
    }
   ],
   "source": [
    "%version"
   ]
  },
  {
   "cell_type": "code",
   "execution_count": null,
   "metadata": {},
   "outputs": [],
   "source": []
  }
 ],
 "metadata": {
  "kernelspec": {
   "display_name": "Q#",
   "language": "qsharp",
   "name": "iqsharp"
  },
  "language_info": {
   "file_extension": ".qs",
   "mimetype": "text/x-qsharp",
   "name": "qsharp",
   "version": "0.12"
  }
 },
 "nbformat": 4,
 "nbformat_minor": 4
}
