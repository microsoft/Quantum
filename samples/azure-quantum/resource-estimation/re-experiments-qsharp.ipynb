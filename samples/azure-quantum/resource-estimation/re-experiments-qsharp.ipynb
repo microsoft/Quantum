{
 "cells": [
  {
   "cell_type": "markdown",
   "metadata": {},
   "source": [
    "# Advanced analysis of results\n",
    "\n",
    "👋 Hello, this sample will showcase different experiments that can be created on\n",
    "top of Azure Quantum Resource Estimator.  The sample will re-use some of the\n",
    "implementations from the _Estimates with Q#_ notebook.  Please refer to that\n",
    "notebook for more details on the setup and algorithm implementation.\n",
    "\n",
    "## Setup\n",
    "\n",
    "Let's connect to the Azure Quantum workspace and select the Azure Quantum\n",
    "Resource Estimator as target.  We are also importing the\n",
    "`Microsoft.Quantum.Numerics` package that we will require for our example\n",
    "algorithm."
   ]
  },
  {
   "cell_type": "code",
   "execution_count": null,
   "metadata": {},
   "outputs": [],
   "source": [
    "from ipywidgets import IntProgress, Layout # To show interactive progress while job submission\n",
    "from IPython.display import display, HTML  # To display HTML inside Jupyter notebooks\n",
    "import time                                # To sleep while polling for job completion\n",
    "import numpy as np                         # To store experimental data from job results\n",
    "from matplotlib import pyplot as plt       # To plot experimental results\n",
    "from matplotlib.colors import hsv_to_rgb   # To automatically find colors for plots\n",
    "\n",
    "import qsharp"
   ]
  },
  {
   "cell_type": "code",
   "execution_count": null,
   "metadata": {},
   "outputs": [],
   "source": [
    "\n",
    "import qsharp.azure\n",
    "targets = qsharp.azure.connect(\n",
    "    resourceId=\"\",\n",
    "    location=\"\")"
   ]
  },
  {
   "cell_type": "code",
   "execution_count": null,
   "metadata": {},
   "outputs": [],
   "source": [
    "qsharp.packages.add(\"Microsoft.Quantum.Numerics\")\n",
    "qsharp.azure.target(\"microsoft.estimator\")"
   ]
  },
  {
   "cell_type": "markdown",
   "metadata": {},
   "source": [
    "## Implementing the algorithm\n",
    "\n",
    "As running example algorithm we are creating a multiplier using the [MultiplyI](https://docs.microsoft.com/hu-hu/qsharp/api/qsharp/microsoft.quantum.arithmetic.multiplyi) operation.  We can configure the size of the multiplier with a bitwidth parameter. The operation will have two input registers with that bitwidth, and one output register with the size of twice the bitwidth."
   ]
  },
  {
   "cell_type": "code",
   "execution_count": null,
   "metadata": {},
   "outputs": [],
   "source": [
    "%%qsharp\n",
    "\n",
    "open Microsoft.Quantum.Arithmetic;\n",
    "\n",
    "operation EstimateMultiplication(bitwidth : Int) : Unit {\n",
    "    use factor1 = Qubit[bitwidth];\n",
    "    use factor2 = Qubit[bitwidth];\n",
    "    use product = Qubit[2 * bitwidth];\n",
    "\n",
    "    MultiplyI(LittleEndian(factor1), LittleEndian(factor2), LittleEndian(product));\n",
    "}"
   ]
  },
  {
   "cell_type": "markdown",
   "metadata": {},
   "source": [
    "## Setting up and running the experiments\n",
    "\n",
    "Next, we are setting up some experiments. Here, we are using three of the six\n",
    "pre-defined qubit parameter models.  For the Majorana-based model we are using\n",
    "the Floquet code as pre-defined QEC scheme.  In your own experiments, you can\n",
    "change the number of items, and also the parameters.  You may use other\n",
    "pre-defined models or define custom models. You can find more information about\n",
    "the input parameters in the _Getting Started with Azure Quantum Resource\n",
    "Estimation_ notebook.\n",
    "\n",
    "Further, we are choosing a list of input parameters to our algorithm, in this\n",
    "case bitwidths that are powers-of-2 ranging from 8 to 64."
   ]
  },
  {
   "cell_type": "code",
   "execution_count": null,
   "metadata": {},
   "outputs": [],
   "source": [
    "input_params = {\n",
    "    \"gate_ns\": {\"qubitParams\": {\"name\": \"qubit_gate_ns_e3\"}},\n",
    "    \"gate_us\": {\"qubitParams\": {\"name\": \"qubit_gate_us_e4\"}},\n",
    "    \"maj_ns\": {\"qubitParams\": {\"name\": \"qubit_maj_ns_e6\"}, \"qecScheme\": {\"name\": \"floquet_code\"}}\n",
    "}\n",
    "\n",
    "bitwidths = [8, 16, 32, 64]\n",
    "\n",
    "# We also store the names of the experiments; if you like to force some order\n",
    "# you can explicitly initialize the list with names from the `input_params`\n",
    "# dictionary.\n",
    "names = list(input_params.keys())"
   ]
  },
  {
   "cell_type": "markdown",
   "metadata": {},
   "source": [
    "We are now submitting resource estimation jobs for all combinations of job\n",
    "parameters and input arguments.\n",
    "\n",
    "Since the Resource Estimator does not support input parameters for operations,\n",
    "we are creating a wrapper operation on the fly by inserting the bitwidth\n",
    "directly into the source code and then compiling it using `qsharp.compile`.\n",
    "This is a generic method that you can use to generate operations for resource\n",
    "estimation from Python.\n",
    "\n",
    "We then submit this wrapper operation for each experiment configuration using\n",
    "`qsharp.azure.submit`.  This will return a job object from which we extract the\n",
    "Job ID. and store it in the `jobs` dictionary.  Note that loop will not wait for\n",
    "jobs to be finished."
   ]
  },
  {
   "cell_type": "code",
   "execution_count": null,
   "metadata": {},
   "outputs": [],
   "source": [
    "# This initializes a `jobs` dictionary with the same keys as `input_params` and\n",
    "# empty arrays as values\n",
    "jobs = {name: [] for name in names}\n",
    "\n",
    "progress_bar = IntProgress(min=0, max=len(input_params) * len(bitwidths) - 1, style={'description_width': 'initial'}, layout=Layout(width='75%'))\n",
    "display(progress_bar)\n",
    "\n",
    "for bitwidth in bitwidths:\n",
    "    callable = qsharp.compile(f\"\"\"operation EstimateMultiplication{bitwidth}() : Unit {{ EstimateMultiplication({bitwidth}); }}\"\"\");\n",
    "    print(callable)\n",
    "\n",
    "    for name, params in input_params.items():\n",
    "        progress_bar.description = f\"{bitwidth}: {name}\"\n",
    "\n",
    "        result = qsharp.azure.submit(callable, jobParams=params)\n",
    "        jobs[name].append(result.id)\n",
    "        progress_bar.value += 1"
   ]
  },
  {
   "cell_type": "markdown",
   "metadata": {},
   "source": [
    "The next code block is commented out.  But it shows some ways how to avoid\n",
    "re-submitting the same job.  For example,\n",
    "\n",
    "* after running the jobs above you can print out the jobs using the `print`\n",
    "  command in comments and then paste it into the cell.  Like this you can easily\n",
    "  access the job IDs in future sessions without needing to re-submit jobs.\n",
    "* after running jobs in some other notebook and collecting them here, you can\n",
    "  paste the job IDs that you can access from the _Job management_ page in your\n",
    "  _Azure Quantum Workspace_."
   ]
  },
  {
   "cell_type": "code",
   "execution_count": null,
   "metadata": {},
   "outputs": [],
   "source": [
    "# # Use the following line to print all job IDs and then update them in the bottom of the cell\n",
    "# print(f\"jobs = {jobs}\")\n",
    "\n",
    "# # Update and uncomment this line if you want to re-use pre-computed jobs in the future.\n",
    "# # These job ids are not complete and are just printed to provide an idea of what to expect from the output.\n",
    "# # See the line above on how to generate this line\n",
    "# jobs = {'gate_ns': ['fdd354d9-...', ...], 'gate_us': ['453f7039-...', ...], 'maj_ns': ['cf273c84-...', ...]}"
   ]
  },
  {
   "cell_type": "markdown",
   "metadata": {},
   "source": [
    "All jobs have been submitted now.  But they may have not been finished.  The\n",
    "next code cell is extracting the resource estimation results from each job.  To\n",
    "do that, it will first wait for a job to have succeeded, whenever it is still in\n",
    "a waiting or executing state.  All results are saved to a `results` dictionary,\n",
    "that has an array for each experiment name that has all corresponding results\n",
    "sorted by bitwidth."
   ]
  },
  {
   "cell_type": "code",
   "execution_count": null,
   "metadata": {},
   "outputs": [],
   "source": [
    "# This initializes a `results` dictionary with the same keys as `input_params`\n",
    "# and empty arrays as values\n",
    "results = {name: [] for name in names}\n",
    "\n",
    "progress_bar = IntProgress(min=0, style={'description_width': '150px'}, max=len(input_params) * len(bitwidths) - 1, style={'description_width': 'initial'}, layout=Layout(width='75%'))\n",
    "display(progress_bar)\n",
    "\n",
    "for name, job_ids in jobs.items():\n",
    "    for job_id in job_ids:\n",
    "        progress_bar.description = job_id\n",
    "\n",
    "        # Wait until a job has succeeded or failed\n",
    "        while True:\n",
    "            status = qsharp.azure.status(job_id)\n",
    "            if status.status in [\"Waiting\", \"Executing\"]:\n",
    "                time.sleep(1) # Waits one second\n",
    "            elif status.status == \"Succeeded\":\n",
    "                break\n",
    "            else:\n",
    "                raise Exception(f\"{status.status} job {job_id} in {name}\")\n",
    "\n",
    "        result = qsharp.azure.output(job_id)\n",
    "        results[name].append(result)\n",
    "        progress_bar.value += 1"
   ]
  },
  {
   "cell_type": "markdown",
   "metadata": {},
   "source": [
    "## Plotting the experimental results\n",
    "\n",
    "Now that we have all results, we extract some data from it.  We extract the\n",
    "number of physical qubits, the total runtime in nanoseconds, and the QEC code\n",
    "distance for the logical qubits.  In addition to the total number of physical\n",
    "qubits, we are also extracting their breakdown into number of physical qubits\n",
    "for executing the algorithm and the number of physical qubits required for the T\n",
    "factories that produce the required T states."
   ]
  },
  {
   "cell_type": "code",
   "execution_count": null,
   "metadata": {},
   "outputs": [],
   "source": [
    "names = list(input_params.keys())\n",
    "\n",
    "qubits = np.zeros((len(names), len(bitwidths), 3))\n",
    "runtime = np.zeros((len(names), len(bitwidths)))\n",
    "distances = np.zeros((len(names), len(bitwidths)))\n",
    "\n",
    "for bitwidth_index, bitwidth in enumerate(bitwidths):\n",
    "    for name_index, name in enumerate(names):\n",
    "        data = results[names[name_index]][bitwidth_index]\n",
    "\n",
    "        qubits[(name_index, bitwidth_index, 0)] = data['physicalCounts']['physicalQubits']\n",
    "        qubits[(name_index, bitwidth_index, 1)] = data['physicalCounts']['breakdown']['physicalQubitsForAlgorithm']\n",
    "        qubits[(name_index, bitwidth_index, 2)] = data['physicalCounts']['breakdown']['physicalQubitsForTfactories']\n",
    "\n",
    "        runtime[(name_index, bitwidth_index)] = data['physicalCounts']['runtime']\n",
    "\n",
    "        distances[(name_index, bitwidth_index)] = data['logicalQubit']['codeDistance']"
   ]
  },
  {
   "cell_type": "markdown",
   "metadata": {},
   "source": [
    "Finally, we are using [Matplotlib](https://matplotlib.org/) to plot the number\n",
    "of physical qubits and the runtime as bar plots, and the QEC code distances as a\n",
    "scatter plot.  For the physical qubits, we are showing the partition into qubits\n",
    "required for the algorithm and qubits required for the T factories."
   ]
  },
  {
   "cell_type": "code",
   "execution_count": null,
   "metadata": {},
   "outputs": [],
   "source": [
    "fig, axs = plt.subplots(1, 3, figsize=(22, 6))\n",
    "\n",
    "num_experiments = len(names)                         # Extract number of experiments form names (can be made smaller)\n",
    "xs = np.arange(0, len(bitwidths))                    # Map bitwidths to numeric indexes for plotting\n",
    "full_width = .8                                      # Total width of all bars (should be smaller than 1)\n",
    "width = full_width / num_experiments                 # Fractional width of a single bar\n",
    "xs_left = xs - (((num_experiments - 1) * width) / 2) # Starting x-coordinate for bars\n",
    "\n",
    "# Split axes into qubit and runtime plots\n",
    "ax_qubits, ax_runtime, ax_code_distance = axs\n",
    "\n",
    "# Plot physical qubits\n",
    "for i in range(num_experiments):\n",
    "    ax_qubits.bar(xs_left + i * width, qubits[i,:,1], width, label=f\"{names[i]} (Alg.)\", color=hsv_to_rgb((i / num_experiments, 1.0, .8)))\n",
    "    ax_qubits.bar(xs_left + i * width, qubits[i,:,2], width, bottom=qubits[i,:,1], label=f\"{names[i]} (T fac.)\", color=hsv_to_rgb((i / num_experiments, 0.3, .8)))\n",
    "ax_qubits.set_title(\"#Physical qubits\")\n",
    "ax_qubits.set_xlabel(\"Bitwidth\")\n",
    "ax_qubits.set_xticks(xs)\n",
    "ax_qubits.set_xticklabels(bitwidths)\n",
    "ax_qubits.legend()\n",
    "\n",
    "# Plot runtime\n",
    "for i in range(num_experiments):\n",
    "    ax_runtime.bar(xs_left + i * width, np.array(runtime[i,:]) / 1e6, width, label=names[i], color=hsv_to_rgb((i / num_experiments, 1.0, .8)))\n",
    "ax_runtime.set_title(\"Runtime (ms)\")\n",
    "ax_runtime.set_xlabel(\"Bitwidth\")\n",
    "ax_runtime.set_xticks(xs)\n",
    "ax_runtime.set_xticklabels(bitwidths)\n",
    "ax_runtime.set_yscale(\"log\")\n",
    "ax_runtime.legend()\n",
    "\n",
    "# Plot code distances\n",
    "for i in range(num_experiments):\n",
    "    ax_code_distance.scatter(xs, distances[i,:], label=names[i], marker=i, color=hsv_to_rgb((i / num_experiments, 1.0, 0.8)))\n",
    "ax_code_distance.set_title(\"QEC code distance\")\n",
    "ax_code_distance.set_xlabel(\"Bitwidth\")\n",
    "ax_code_distance.set_xticks(xs)\n",
    "ax_code_distance.set_xticklabels(bitwidths)\n",
    "ax_code_distance.legend()\n",
    "\n",
    "fig.suptitle(\"Resource estimates for multiplication\")\n",
    "plt.show()"
   ]
  },
  {
   "cell_type": "markdown",
   "metadata": {},
   "source": [
    "## Showing resource estimates in custom tables\n",
    "\n",
    "You have probably already seen the resource estimation table that you can get\n",
    "for a single result.  But did you know that all the data required to output the\n",
    "table is also part of the resource estimation results?  You can access all that\n",
    "data using the `'reportData'` key from the results dictionary.  You can use this\n",
    "data to create your own tables.  In the next code block we show how to create a\n",
    "side-to-side comparison table for the _T-factory parameters_ from the resource\n",
    "estimation results for all input parameters and a fixed bitwidth."
   ]
  },
  {
   "cell_type": "code",
   "execution_count": null,
   "metadata": {},
   "outputs": [],
   "source": [
    "bitwidth = 16 # Choose one of the bitwidths here\n",
    "bitwidth_index = bitwidths.index(bitwidth)\n",
    "\n",
    "# Get all results from all input parameters for given bitwidth\n",
    "data = [results[name][bitwidth_index] for name in names]\n",
    "\n",
    "# From each result get the group that contains data about \"T-factory parameters\"\n",
    "groups = [group for result in data for group in result['reportData']['groups'] if group['title'] == \"T factory parameters\"]\n",
    "\n",
    "html = \"<table><thead><tr><th></th>\"\n",
    "\n",
    "# Produce a table header using the experiment names\n",
    "for name in names:\n",
    "    html += f\"<td>{name}</th>\"\n",
    "\n",
    "html += \"</tr></thead><tbody>\"\n",
    "\n",
    "# Iterate through all entries (we extract the count from the first group, and then iterate through all of them)\n",
    "for entry_index in range(len(groups[0]['entries'])):\n",
    "    # Extract the entry label from the first group\n",
    "    html += f\"\"\"<tr><td style=\"text-align: left; font-weight: bold\">{groups[0]['entries'][entry_index]['label']}</td>\"\"\"\n",
    "\n",
    "    # Iterate through all experiments\n",
    "    for group_index in range(len(groups)):\n",
    "        # The 'path' variable in the entry is a '/'-separated path to access the\n",
    "        # result dictionary. So we start from the result dictionary of the\n",
    "        # current experiment and then access the field based on the path part.\n",
    "        # Eventually we obtain the final value.\n",
    "        value = data[group_index]\n",
    "        for key in groups[group_index]['entries'][entry_index]['path'].split(\"/\"):\n",
    "            value = value[key]\n",
    "        html += f\"<td>{value}</td>\"\n",
    "    html += \"</tr>\"\n",
    "\n",
    "html += \"</tbody></table>\"\n",
    "\n",
    "HTML(html)"
   ]
  },
  {
   "cell_type": "markdown",
   "metadata": {},
   "source": [
    "## Next steps\n",
    "\n",
    "We hope you got some ideas and inspirations for your own resource estimation\n",
    "experiments.  Feel free to use this notebook as a starting point for your own\n",
    "algorithm investigations.  To get more familiar with resource estimation\n",
    "experiments, here are some suggestions to try out in this notebook:\n",
    "\n",
    "* Add a fourth plot to show some statistics about a single T factory, e.g., its\n",
    "  number of qubits.\n",
    "* Add a new plot series to show logical resource estimates.\n",
    "* Change the algorithm to create an $n$-ary multiplier (with a variable number\n",
    "  of input arguments) for either a fixed or customizable bitwidth.\n",
    "* Create a side-by-side comparison table for the logical qubit parameters."
   ]
  }
 ],
 "metadata": {
  "language_info": {
   "name": "python"
  }
 },
 "nbformat": 4,
 "nbformat_minor": 1
}
