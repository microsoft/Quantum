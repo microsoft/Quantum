{
 "cells": [
  {
   "cell_type": "markdown",
   "metadata": {},
   "source": [
    "# Resource Estimation for Integer Factoring\n",
    "\n",
    "In this notebook we calculate resource estimates for a 2048-bit integer\n",
    "factoring application based on the implementation described in [[Quantum 5, 433\n",
    "(2021)](https://quantum-journal.org/papers/q-2021-04-15-433/)].  Our\n",
    "implementation incorporates all techniques described in the paper, except for\n",
    "carry runways.  As tolerated error budget, we choose $\\epsilon = 1/3$.\n",
    "\n",
    "For this application, we compute the physical resource estimates directly from\n",
    "precomputed logical resource estimates.  You can use this notebook as a blueprint to estimate the physical resources required of any application for which you already have computed logical estimates."
   ]
  },
  {
   "cell_type": "markdown",
   "metadata": {},
   "source": [
    "## Getting started\n",
    "\n",
    "We import several Python classes and functions from `azure.quantum` and `qiskit`.  Note that we are not using Qiskit to build quantum circuits, however, we are leveraging `AzureQuantumJob` and `job_monitor` which are built on top of the Qiskit ecosystem."
   ]
  },
  {
   "cell_type": "code",
   "execution_count": null,
   "metadata": {},
   "outputs": [],
   "source": [
    "from azure.quantum.qiskit import AzureQuantumProvider\n",
    "from azure.quantum.qiskit.job import AzureQuantumJob\n",
    "\n",
    "from qiskit.tools.monitor import job_monitor"
   ]
  },
  {
   "cell_type": "markdown",
   "metadata": {},
   "source": [
    "We connect to the Azure Quantum workspace."
   ]
  },
  {
   "cell_type": "code",
   "execution_count": null,
   "metadata": {},
   "outputs": [],
   "source": [
    "provider = AzureQuantumProvider (\n",
    "    resource_id = \"\",\n",
    "    location = \"\"\n",
    ")"
   ]
  },
  {
   "cell_type": "markdown",
   "metadata": {},
   "source": [
    "## Extracting resource estimates from logical resource counts\n",
    "\n",
    "Let's implement a generic function that takes as input the Azure Quantum\n",
    "provider and the QIR bitcode of the quantum program.  It returns as a result an\n",
    "Azure Quantum job.  Resource Estimation input parameters can be passed via\n",
    "keyword arguments to the function.  You can refer to the _Resource Estimation\n",
    "with QIR_ sample in the _Azure Quantum Notebook Gallery_ for more details on\n",
    "this function."
   ]
  },
  {
   "cell_type": "code",
   "execution_count": null,
   "metadata": {},
   "outputs": [],
   "source": [
    "from azure.quantum.qiskit import AzureQuantumProvider\n",
    "\n",
    "def resource_estimation_job_from_qir(provider: AzureQuantumProvider, bitcode: bytes, **kwargs):\n",
    "    \"\"\"A generic function to create a resource estimation job from QIR bitcode\"\"\"\n",
    "\n",
    "    # Find the Azure Quantum Resource Estimator target from the provider\n",
    "    backend = provider.get_backend('microsoft.estimator')\n",
    "\n",
    "    # You can provide a name for the job via keyword arguments; if not,\n",
    "    # we'll use QIR job as a default name\n",
    "    name = kwargs.pop(\"name\", \"QIR job\")\n",
    "\n",
    "    # We extract some job specific arguments from the backend's configuration\n",
    "    config = backend.configuration()\n",
    "    blob_name = config.azure[\"blob_name\"]\n",
    "    content_type = config.azure[\"content_type\"]\n",
    "    provider_id = config.azure[\"provider_id\"]\n",
    "    output_data_format = config.azure[\"output_data_format\"]\n",
    "\n",
    "    # Finally, we create the Azure Quantum JSON object and return it\n",
    "    return AzureQuantumJob(\n",
    "        backend=backend,\n",
    "        target=backend.name(),\n",
    "        name=name,\n",
    "        input_data=bitcode,\n",
    "        blob_name=blob_name,\n",
    "        content_type=content_type,\n",
    "        provider_id=provider_id,\n",
    "        input_data_format=\"qir.v1\",\n",
    "        output_data_format=output_data_format,\n",
    "        input_params=kwargs,\n",
    "        metadata={}\n",
    "    )\n",
    "\n"
   ]
  },
  {
   "cell_type": "markdown",
   "metadata": {},
   "source": [
    "Based on this function, we create another function that creates a resource estimation job directly from precomputed logical resource estimates.  This function internally creates a small QIR program that leverages the low-level QIR function `__quantum__qis__applyunimplemented__body` that allows to _inject_ logical resource counts to a list of qubits. "
   ]
  },
  {
   "cell_type": "code",
   "execution_count": null,
   "metadata": {},
   "outputs": [],
   "source": [
    "def resource_estimation_job_from_logical_counts(\n",
    "    provider: AzureQuantumProvider,\n",
    "    qubit_count: int = 0,\n",
    "    t_count: int = 0,\n",
    "    rotation_count: int = 0,\n",
    "    rotation_depth: int = 0,\n",
    "    ccz_count: int = 0,\n",
    "    measurement_count: int = 0,\n",
    "    **kwargs\n",
    "):\n",
    "    from pyqir.generator import ir_to_bitcode\n",
    "    import textwrap\n",
    "\n",
    "    ir = f\"\"\"\n",
    "        %Array = type opaque\n",
    "        %Qubit = type opaque\n",
    "        attributes #1 = {{ \"EntryPoint\" }}\n",
    "        declare %Array* @__quantum__rt__qubit_allocate_array(i64)\n",
    "        declare void @__quantum__rt__qubit_release_array(%Array*)\n",
    "        declare void @__quantum__qis__applyunimplemented__body(i64, i64, i64, i64, i64, %Array*)\n",
    "        define void @Project__Program() #1 {{\n",
    "        entry:\n",
    "            %target = call %Array* @__quantum__rt__qubit_allocate_array(i64 {qubit_count})\n",
    "            call void @__quantum__qis__applyunimplemented__body(i64 {t_count}, i64 {rotation_count}, i64 {rotation_depth}, i64 {ccz_count}, i64 {measurement_count}, %Array* %target)\n",
    "            call void @__quantum__rt__qubit_release_array(%Array* %target)\n",
    "            ret void\n",
    "        }}\n",
    "        \"\"\"\n",
    "\n",
    "    bitcode = ir_to_bitcode(textwrap.dedent(ir))\n",
    "    \n",
    "    return resource_estimation_job_from_qir(provider, bitcode, **kwargs)"
   ]
  },
  {
   "cell_type": "markdown",
   "metadata": {},
   "source": [
    "## Running experiments\n",
    "\n",
    "As configurations for the experiment we use all six pre-defined qubit\n",
    "parameters.  As pre-defined QEC scheme we are using `surface_code` with\n",
    "gate-based qubit parameters, and `floquet_code` with Majorana based qubit\n",
    "parameters.  For all experiments we assume an error budget of 1/3."
   ]
  },
  {
   "cell_type": "code",
   "execution_count": null,
   "metadata": {},
   "outputs": [],
   "source": [
    "experiments = [\n",
    "    (\"Gate-based µs, 10⁻³\", {\"qubitParams\": {\"name\": \"qubit_gate_us_e3\"}, \"errorBudget\": 0.333}),\n",
    "    (\"Gate-based µs, 10⁻⁴\", {\"qubitParams\": {\"name\": \"qubit_gate_us_e4\"}, \"errorBudget\": 0.333}),\n",
    "    (\"Gate-based ns, 10⁻³\", {\"qubitParams\": {\"name\": \"qubit_gate_ns_e3\"}, \"errorBudget\": 0.333}),\n",
    "    (\"Gate-based ns, 10⁻⁴\", {\"qubitParams\": {\"name\": \"qubit_gate_ns_e4\"}, \"errorBudget\": 0.333}),\n",
    "    (\"Majorana ns, 10⁻⁴\", {\"qecScheme\": {\"name\": \"floquet_code\"}, \"qubitParams\": {\"name\": \"qubit_maj_ns_e4\"}, \"errorBudget\": 0.333}),\n",
    "    (\"Majorana ns, 10⁻⁶\", {\"qecScheme\": {\"name\": \"floquet_code\"}, \"qubitParams\": {\"name\": \"qubit_maj_ns_e6\", \"tGateErrorRate\": 0.01}, \"errorBudget\": 0.333})\n",
    "]"
   ]
  },
  {
   "cell_type": "markdown",
   "metadata": {},
   "source": [
    "Next we are creating a resource estimation job based on logical resource counts that we have extracted for the pre-computed for the 2048-bit factoring instance.  We wait for each job to finish and push the extracted resource estimation results into the `experiment_results` list."
   ]
  },
  {
   "cell_type": "code",
   "execution_count": null,
   "metadata": {},
   "outputs": [],
   "source": [
    "from ipywidgets import IntProgress, Layout\n",
    "from IPython.display import display\n",
    "\n",
    "experiment_results = []\n",
    "\n",
    "progress_bar = IntProgress(value=1, min=1, max=len(experiments), style={'description_width': 'initial'}, layout=Layout(width='75%'))\n",
    "display(progress_bar)\n",
    "\n",
    "for idx, (name, params) in enumerate(experiments):\n",
    "    progress_bar.description = f\"{idx + 1}. {name}\"\n",
    "\n",
    "    job = resource_estimation_job_from_logical_counts(provider,\n",
    "        qubit_count=12581,\n",
    "        t_count=12,\n",
    "        rotation_count=12,\n",
    "        rotation_depth=12,\n",
    "        ccz_count=3731607428,\n",
    "        measurement_count=1078154040,\n",
    "        **params # use parameters from experiment configuration\n",
    "    )\n",
    "    job_monitor(job)\n",
    "    result = job.result()\n",
    "\n",
    "    experiment_results.append((name, result))\n",
    "\n",
    "    progress_bar.value += 1"
   ]
  },
  {
   "cell_type": "markdown",
   "metadata": {},
   "source": [
    "Finally, we are presenting the experimental results using built-in resource\n",
    "estimation tables as well as a custom summary table.  For this purpose we are\n",
    "creating a reusable `dashboard` function that is creating an HTML display from a\n",
    "pandas data frame and the resource estimation tables."
   ]
  },
  {
   "cell_type": "code",
   "execution_count": null,
   "metadata": {},
   "outputs": [],
   "source": [
    "def dashboard(experiment_results):\n",
    "    def get_row(result):\n",
    "        # Extract raw data from result dictionary\n",
    "        logical_qubits = result[\"physicalCounts\"][\"breakdown\"][\"algorithmicLogicalQubits\"]\n",
    "        logical_depth = result[\"physicalCounts\"][\"breakdown\"][\"logicalDepth\"]\n",
    "        num_tstates = result[\"physicalCounts\"][\"breakdown\"][\"numTstates\"]\n",
    "        code_distance = result[\"logicalQubit\"][\"codeDistance\"]\n",
    "        num_tfactories = result[\"physicalCounts\"][\"breakdown\"][\"numTfactories\"]\n",
    "        tfactory_fraction = (result[\"physicalCounts\"][\"breakdown\"][\"physicalQubitsForTfactories\"] / result[\"physicalCounts\"][\"physicalQubits\"]) * 100\n",
    "        physical_qubits = result[\"physicalCounts\"][\"physicalQubits\"]\n",
    "        runtime = result[\"physicalCounts\"][\"runtime\"]\n",
    "\n",
    "        # Format some entries\n",
    "        logical_depth_formatted = f\"{logical_depth:.1e}\"\n",
    "        num_tstates_formatted = f\"{num_tstates:.1e}\"\n",
    "        tfactory_fraction_formatted = f\"{tfactory_fraction:.1f}%\"\n",
    "        physical_qubits_formatted = f\"{physical_qubits / 1e6:.2f}M\"\n",
    "\n",
    "        # Make runtime human readable; we find the largest units for which the\n",
    "        # runtime has a value that is larger than 1.0.  For that unit we are\n",
    "        # rounding the value and append the unit suffix.\n",
    "        units = [(\"nanosecs\", 1), (\"microsecs\", 1000), (\"millisecs\", 1000), (\"secs\", 1000), (\"mins\", 60), (\"hours\", 60), (\"days\", 24), (\"years\", 365)]\n",
    "        runtime_formatted = runtime\n",
    "        for idx in range(1, len(units)):\n",
    "            if runtime_formatted / units[idx][1] < 1.0:\n",
    "                runtime_formatted = f\"{round(runtime_formatted) % units[idx][1]} {units[idx - 1][0]}\"\n",
    "                break\n",
    "            else:\n",
    "                runtime_formatted = runtime_formatted / units[idx][1]\n",
    "\n",
    "        # special case for years\n",
    "        if isinstance(runtime_formatted, float):\n",
    "            runtime_formatted = f\"{round(runtime_formatted)} {units[-1][0]}\"\n",
    "\n",
    "        # Append all extracted and formatted data to data array\n",
    "        return (logical_qubits, logical_depth_formatted, num_tstates_formatted, code_distance, num_tfactories, tfactory_fraction_formatted, physical_qubits_formatted, runtime_formatted)\n",
    "\n",
    "    index, data = zip(*[(name, get_row(result.data())) for (name, result) in experiment_results])\n",
    "\n",
    "    # Create data frame with explicit column names and configuration names extracted from array\n",
    "    import pandas as pd\n",
    "    df = pd.DataFrame(data, columns=[\"Logical qubits\", \"Logical depth\", \"T states\", \"Code distance\", \"T factories\", \"T factory fraction\", \"Physical qubits\", \"Physical runtime\"], index=index)\n",
    "\n",
    "    from IPython.display import HTML\n",
    "\n",
    "    detailed_html = [f\"\"\"\n",
    "    <div style=\"float: left; padding: 10px; margin: 5px; border: solid 1px; border-radius: 10px\">\n",
    "      <h3 style=\"border-bottom: solid 1px; display: inline-block\">{name}</h3>\n",
    "      <div style=\"margin-top: 8px\">{result.summary._repr_html_()}</div>\n",
    "    </div>\"\"\" for (name, result) in experiment_results]\n",
    "\n",
    "    html = f\"\"\"\n",
    "    <div style=\"padding: 10px; margin: 5px; border: solid 1px; border-radius: 10px\"><h3 style=\"border-bottom: solid 1px; display: inline-block\">Summary</h3>{df.to_html()}</div>\n",
    "    <div>\n",
    "      {\"\".join(detailed_html)}\n",
    "    </div>\n",
    "    \"\"\"\n",
    "    \n",
    "    return HTML(html)\n",
    "\n",
    "dashboard(experiment_results)"
   ]
  },
  {
   "cell_type": "markdown",
   "metadata": {},
   "source": [
    "The numbers in the table match the numbers in the paper [Assessing requirements\n",
    "for scaling quantum computers to real-world impact](https://aka.ms/AQ/RE/Paper).\n",
    "Feel free to use this table as a starting point for your own experiments.  For\n",
    "example, you can use other or customized qubit parameters."
   ]
  }
 ],
 "metadata": {
  "language_info": {
   "name": "python"
  }
 },
 "nbformat": 4,
 "nbformat_minor": 1
}
