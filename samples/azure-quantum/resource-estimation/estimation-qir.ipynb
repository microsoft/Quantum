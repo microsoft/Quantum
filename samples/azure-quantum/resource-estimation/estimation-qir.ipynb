{
 "cells": [
  {
   "cell_type": "markdown",
   "metadata": {},
   "source": [
    "# Resource Estimation with QIR\n",
    "\n",
    "Azure Quantum Resource Estimation is built upon [QIR](https://www.qir-alliance.org/), the forward-looking, fully interoperable specification for quantum programs.  In this notebook, we are showing how to use the `azure.quantum` Python package to directly submit QIR to the Resource Estimation target.  We are using [PyQIR](https://github.com/qir-alliance/pyqir) to generate QIR, however the example works with any other source of QIR as well. PyQIR can help you as a library to generate QIR from other quantum programming languages, and thereby enabling their execution on Azure Quantum Resource Estimator."
   ]
  },
  {
   "cell_type": "markdown",
   "metadata": {},
   "source": [
    "## Getting started\n",
    "\n",
    "We import several Python classes and functions from `azure.quantum`, `qiskit`, and `pyqir`.  Note that we are not using Qiskit to build quantum circuits, however, we are leveraging `AzureQuantumJob` and `job_monitor` which are built on top of the Qiskit ecosystem."
   ]
  },
  {
   "cell_type": "code",
   "execution_count": null,
   "metadata": {},
   "outputs": [],
   "source": [
    "from azure.quantum.qiskit import AzureQuantumProvider\n",
    "from azure.quantum.qiskit.job import AzureQuantumJob\n",
    "\n",
    "from qiskit.tools.monitor import job_monitor\n",
    "\n",
    "from pyqir.generator import BasicQisBuilder, SimpleModule"
   ]
  },
  {
   "cell_type": "markdown",
   "metadata": {},
   "source": [
    "We connect to the Azure Quantum workspace."
   ]
  },
  {
   "cell_type": "code",
   "execution_count": null,
   "metadata": {},
   "outputs": [],
   "source": [
    "provider = AzureQuantumProvider (\n",
    "    resource_id = \"\",\n",
    "    location = \"\"\n",
    ")"
   ]
  },
  {
   "cell_type": "markdown",
   "metadata": {},
   "source": [
    "Next, let's implement a generic function that takes as input the Azure Quantum provider and the QIR bitcode of the quantum program.  It returns as result an Azure Quantum job.  Resource Estimation input parameters can be passed via keyword arguments to the function."
   ]
  },
  {
   "cell_type": "code",
   "execution_count": null,
   "metadata": {},
   "outputs": [],
   "source": [
    "def resource_estimation_job_from_qir(provider: AzureQuantumProvider, bitcode: bytes, **kwargs):\n",
    "    \"\"\"A generic function to create a resource estimation job from QIR bitcode\"\"\"\n",
    "\n",
    "    # Find the Azure Quantum Resource Estimator target from the provider\n",
    "    backend = provider.get_backend('microsoft.estimator')\n",
    "\n",
    "    # You can provide a name for the job via keyword arguments; if not,\n",
    "    # we'll use QIR job as a default name\n",
    "    name = kwargs.pop(\"name\", \"QIR job\")\n",
    "\n",
    "    # We extract some job specific arguments from the backend's configuration\n",
    "    config = backend.configuration()\n",
    "    blob_name = config.azure[\"blob_name\"]\n",
    "    content_type = config.azure[\"content_type\"]\n",
    "    provider_id = config.azure[\"provider_id\"]\n",
    "    output_data_format = config.azure[\"output_data_format\"]\n",
    "\n",
    "    # Finally, we are creating the Azure Quantum JSON object and return it\n",
    "    return AzureQuantumJob(\n",
    "        backend=backend,\n",
    "        target=backend.name(),\n",
    "        name=name,\n",
    "        input_data=bitcode,\n",
    "        blob_name=blob_name,\n",
    "        content_type=content_type,\n",
    "        provider_id=provider_id,\n",
    "        input_data_format=\"qir.v1\",\n",
    "        output_data_format=output_data_format,\n",
    "        input_params = kwargs,\n",
    "        metadata={}\n",
    "    )"
   ]
  },
  {
   "cell_type": "markdown",
   "metadata": {},
   "source": [
    "## Running a sample quantum program\n",
    "\n",
    "Let's now create some QIR bitcode using PyQIR generator.  Here, we build a controlled S gate using 3 T gates and 2 CNOT gates."
   ]
  },
  {
   "cell_type": "code",
   "execution_count": null,
   "metadata": {},
   "outputs": [],
   "source": [
    "module = SimpleModule(\"Controlled S\", num_qubits=2, num_results=0)\n",
    "qis = BasicQisBuilder(module.builder)\n",
    "\n",
    "[a, b] = module.qubits[0:2]\n",
    "qis.t(a)\n",
    "qis.t(b)\n",
    "qis.cx(a, b)\n",
    "qis.t_adj(b)\n",
    "qis.cx(a, b)"
   ]
  },
  {
   "cell_type": "markdown",
   "metadata": {},
   "source": [
    "Before we submit the QIR to the resource estimator, let's take a look at the QIR\n",
    "output for this module.  We can use the `ir` function from PyQIR for that\n",
    "purpose, that generates human-readable instructions."
   ]
  },
  {
   "cell_type": "code",
   "execution_count": null,
   "metadata": {},
   "outputs": [],
   "source": [
    "print(module.ir())"
   ]
  },
  {
   "cell_type": "markdown",
   "metadata": {},
   "source": [
    "The QIR we submit to the function defined above must be passed in bitcode\n",
    "format.  We obtain this format by calling `bitcode` instead of `ir` on the\n",
    "module.  We can also pass resource estimation specific arguments, e.g., setting\n",
    "the error rate to 1%."
   ]
  },
  {
   "cell_type": "code",
   "execution_count": null,
   "metadata": {},
   "outputs": [],
   "source": [
    "job = resource_estimation_job_from_qir(provider, module.bitcode(), errorBudget=0.01)\n",
    "\n",
    "# Alternatively you can generate QIR bitcode using the ir_to_bitcode function from PyQIR, e.g.,\n",
    "#\n",
    "# from pyqir.generator import ir_to_bitcode\n",
    "# bitcode = ir_to_bitcode(module.ir())\n",
    "\n",
    "job_monitor(job)\n",
    "result = job.result()"
   ]
  },
  {
   "cell_type": "markdown",
   "metadata": {},
   "source": [
    "Finally, we print the resource estimation table."
   ]
  },
  {
   "cell_type": "code",
   "execution_count": null,
   "metadata": {},
   "outputs": [],
   "source": [
    "result"
   ]
  }
 ],
 "metadata": {
  "language_info": {
   "name": "python"
  }
 },
 "nbformat": 4,
 "nbformat_minor": 1
}
