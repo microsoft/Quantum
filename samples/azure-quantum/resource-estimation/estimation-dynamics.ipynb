{
 "cells": [
  {
   "cell_type": "markdown",
   "metadata": {},
   "source": [
    "# Quantum dynamics resource estimation\n",
    "\n",
    "In this Q# notebook we demonstrate resource estimation for quantum dynamics,\n",
    "specifically the simulation of an Ising model Hamiltonian on an $N \\times N$ 2D\n",
    "lattice using a *fourth-order Trotter Suzuki product formula* assuming a 2D\n",
    "qubit architecture with nearest-neighbor connectivity.\n",
    "\n",
    "First, we connect to the Azure quantum service and load the necessary packages."
   ]
  },
  {
   "cell_type": "code",
   "execution_count": null,
   "metadata": {},
   "outputs": [],
   "source": [
    "import qsharp"
   ]
  },
  {
   "cell_type": "code",
   "execution_count": null,
   "metadata": {},
   "outputs": [],
   "source": [
    "import qsharp.azure\n",
    "targets = qsharp.azure.connect(\n",
    "   resourceId=\"\",\n",
    "   location=\"\")"
   ]
  },
  {
   "cell_type": "code",
   "execution_count": null,
   "metadata": {},
   "outputs": [],
   "source": [
    "qsharp.packages.add(\"Microsoft.Quantum.Numerics\")\n",
    "qsharp.azure.target(\"microsoft.estimator\")\n",
    "\n",
    "# In this sample we want to use summary versions of the resource estimation tables\n",
    "qsharp.config[\"estimator.showSummary\"] = True"
   ]
  },
  {
   "cell_type": "markdown",
   "metadata": {},
   "source": [
    "## Background: 2D Ising model\n",
    "\n",
    "The Ising model is a mathematical model of ferromagnetism in a lattice (in our case a 2D square lattice) with two kinds of terms in the Hamiltonian: (i) an interaction term between adjacent sites and (ii) an external magnetic field acting at each site. For our purposes, we consider a simplified version of the model where the interaction terms have the same strength and the external field strength is the same at each site.\n",
    "Formally, the Ising model Hamiltonian on an $N \\times N$ lattice we consider is formulated as:\n",
    "\n",
    "$$\n",
    "H = \\underbrace{-J \\sum_{i, j} Z_i Z_j}_{B} + \\underbrace{g \\sum_j X_j}_{A}\n",
    "$$\n",
    "where $J$ is the interaction strength, $g$ is external field strength.\n",
    "\n",
    "The time evolution $e^{-iHt}$ for the Hamiltonian is simulated with the fourth-order product formula so that any errors in simulation are sufficiently small. Essentially, this is done by simulating the evolution for small slices of time $\\Delta$ and repeating this for `nSteps` $= t/\\Delta$ to obtain the full time evolution. The Trotter-Suzuki formula for higher orders can be recursively defined using a *fractal decomposition* as discussed in Section 3 of [[Hatanao and Suziki's survey](https://link.springer.com/chapter/10.1007/11526216_2)]. Then the fourth order formula $U_4(\\Delta)$ can be constructed using the second-order one $U_2(\\Delta)$ as follows.\n",
    "$$\n",
    "\\begin{aligned}\n",
    "U_2(\\Delta) & = e^{-iA\\Delta/2} e^{-iB\\Delta} e^{-iA\\Delta/2}; \\\\\n",
    "U_4(\\Delta) & = U_2(p\\Delta)U_2(p\\Delta)U_2((1 - 4p)\\Delta)U_2(p\\Delta)U_2(p\\Delta); \\\\\n",
    "p & = (4 - 4^{1/3})^{-1}.\n",
    "\\end{aligned}\n",
    "$$\n",
    "\n",
    "For the rest of the notebook, we will present the code that computes the time evolution in a step by step fashion.\n",
    "\n",
    "## Implementation\n",
    "\n",
    "### Helper functions\n",
    "\n",
    "We will allocate all qubits in the 2D lattice in a one-dimensional array.  The function `GetQubitIndex` converts a qubit identified on a 2D lattice by `(row, col)` to an index in that array. We assume a snake-like order on the 2D lattice i.e., the numbering goes left-to-right on even rows and right-to-left on odd rows."
   ]
  },
  {
   "cell_type": "code",
   "execution_count": null,
   "metadata": {},
   "outputs": [],
   "source": [
    "%%qsharp\n",
    "function GetQubitIndex(row : Int, col : Int, n : Int) : Int {\n",
    "    return row % 2 == 0             // if row is even,\n",
    "        ? col + n * row             // move from left to right,\n",
    "        | (n - 1 - col) + n * row;  // otherwise from right to left.\n",
    "}"
   ]
  },
  {
   "cell_type": "markdown",
   "metadata": {},
   "source": [
    "Note that expanding $U_4(\\Delta)$ to express it in terms of $A, B$ gives:\n",
    "$$\n",
    "U_4(\\Delta) = e^{-iAp\\Delta/2} e^{-iBp\\Delta} e^{-iAp\\Delta} e^{-iBp\\Delta} e^{-iA(1 - 3p)\\Delta/2} e^{-iB(1-4p)\\Delta} e^{-iA(1 - 3p)\\Delta/2} e^{-iBp\\Delta} e^{-iAp\\Delta} e^{-iBp\\Delta} e^{-iAp\\Delta/2}\n",
    "$$\n",
    "\n",
    "The above equation with $11$ exponential terms works for one time step. For `nSteps` $> 1$ time steps, some adjacent terms can be merged to give $10t+1$ exponential terms for $e^{-iHt}$.\n",
    "\n",
    "The function below creates two sequences `seqA` and `seqB` corresponding to the constant factors that will be applied with $A$ and $B$, respectively, in the exponential sequence of the above formula."
   ]
  },
  {
   "cell_type": "code",
   "execution_count": null,
   "metadata": {},
   "outputs": [],
   "source": [
    "%%qsharp\n",
    "function SetSequences(len : Int, p : Double, dt : Double, J : Double, g : Double) : (Double[], Double[]) {\n",
    "    // create two arrays of size `len`\n",
    "    mutable seqA = [0.0, size=len];\n",
    "    mutable seqB = [0.0, size=len];\n",
    "\n",
    "    // pre-compute values according to exponents\n",
    "    let values = [\n",
    "        -J * p * dt,\n",
    "        g * p * dt,\n",
    "        -J * p * dt,\n",
    "        g * p * dt,\n",
    "        -J * (1.0 - 3.0 * p) * dt / 2.0,\n",
    "        g * (1.0 - 4.0 * p) * dt,\n",
    "        -J * (1.0 - 3.0 * p) * dt / 2.0,\n",
    "        g * p * dt,\n",
    "        -J * p * dt,\n",
    "        g * p * dt\n",
    "    ];\n",
    "\n",
    "    // assign first and last value of `seqA`\n",
    "    set seqA w/= 0 <- -J * p * dt / 2.0;\n",
    "    set seqA w/= len - 1 <- -J * p * dt / 2.0;\n",
    "\n",
    "    // assign other values to `seqA` or `seqB`\n",
    "    // in an alternating way\n",
    "    for i in 1..len - 2 {\n",
    "        if i % 2 == 0 {\n",
    "            set seqA w/= i <- values[i % 10];\n",
    "        }\n",
    "        else {\n",
    "            set seqB w/= i <- values[i % 10];\n",
    "        }\n",
    "    }\n",
    "\n",
    "    return (seqA, seqB);\n",
    "}"
   ]
  },
  {
   "cell_type": "markdown",
   "metadata": {},
   "source": [
    "### Quantum operations\n",
    "\n",
    "There are two kinds of Pauli exponentials needed for simulating the time evolution of an Ising Model:\n",
    "- The transverse field $e^{-iX\\theta}$ applied to each qubit for an angle $\\theta$;\n",
    "- $e^{-i (Z \\otimes Z)\\theta}$ applied to neighboring pairs of qubits in the lattice.\n",
    "\n",
    "The operation below applies $e^{-iX\\theta}$ on all qubits in the 2D lattice."
   ]
  },
  {
   "cell_type": "code",
   "execution_count": null,
   "metadata": {},
   "outputs": [],
   "source": [
    "%%qsharp\n",
    "operation ApplyAllX(qs : Qubit[], theta : Double) : Unit {\n",
    "    // This applies `Rx` with an angle of `2.0 * theta` to all qubits in `qs`\n",
    "    // using partial application\n",
    "    ApplyToEach(Rx(2.0 * theta, _), qs);\n",
    "}"
   ]
  },
  {
   "cell_type": "markdown",
   "metadata": {},
   "source": [
    "The next operation below applies $e^{-i(Z \\otimes Z)\\theta}$ on overlapping pairs of neighboring qubits. We decompose this term into a single qubit $e^{-iZ\\theta}$ term (implemented as an `Rz` rotation) conjugated by `CNOT`s to entangle the neighboring qubits following Section 4.2 of [[Whitfield et al.](https://www.tandfonline.com/doi/abs/10.1080/00268976.2011.552441)].\n",
    "\n",
    "Observe that unlike the previous case, it is not possible to simultaneously apply all the rotations in one go. For example, while applying the rotation on qubits at $(0, 0)$ and $(0, 1)$, it is not possible to also apply the rotation on qubits $(0, 1)$ and $(0, 2)$. Instead, we try to apply as many rotations as possible. This is broken up as follows:\n",
    "- in the horizontal (resp. vertical) direction of the 2D lattice as chosen by `dir`,\n",
    "- consider pairs starting with an even (resp. odd) index as given by `grp`;\n",
    "- apply the exponential to all such pairs in the lattice."
   ]
  },
  {
   "cell_type": "code",
   "execution_count": null,
   "metadata": {},
   "outputs": [],
   "source": [
    "%%qsharp\n",
    "operation ApplyDoubleZ(n : Int, qs : Qubit[], theta : Double, dir : Bool, grp : Bool) : Unit {\n",
    "    let start = grp ? 0 | 1;    // Choose either odd or even indices based on group number\n",
    "\n",
    "    for i in 0..n - 1 {\n",
    "        for j in start..2..n - 2 {    // Iterate through even or odd `j`s based on `grp`\n",
    "            // rows and cols are interchanged depending on direction\n",
    "            let (row, col) = dir ? (i, j) | (j, i);\n",
    "\n",
    "            // Choose first qubit based on row and col\n",
    "            let ind1 = GetQubitIndex(row, col, n);\n",
    "            // Choose second qubit in column if direction is horizontal and next qubit in row if direction is vertical\n",
    "            let ind2 = dir ? GetQubitIndex(row, col + 1, n) | GetQubitIndex(row + 1, col, n);\n",
    "\n",
    "            within {\n",
    "                CNOT(qs[ind1], qs[ind2]);\n",
    "            } apply {\n",
    "                Rz(2.0 * theta, qs[ind2]);\n",
    "            }\n",
    "        }\n",
    "    }\n",
    "}"
   ]
  },
  {
   "cell_type": "markdown",
   "metadata": {},
   "source": [
    "The next operation puts everything together and calls the operations needed to\n",
    "simulate the Ising model Hamiltonian using a fourth order product formula.\n",
    "Observe that the `ApplyDoubleZ` operation is called four times for different\n",
    "choices of direction and starting index to ensure all possible pairs of qubits\n",
    "are appropriately considered.\n",
    "\n",
    "The various parameters taken in by the operation correspond to:\n",
    "\n",
    "- `J`, `g`: parameters by which the Hamiltonian terms are scaled.\n",
    "- `N`: size of the square lattice.\n",
    "- `totTime`: the number of Trotter steps.\n",
    "- `dt` : the step size for the simulation, sometimes denoted as $\\Delta$.\n",
    "- `eps`: the precision for arbitrary rotations.\n",
    "\n",
    "The last parameter `noops` is used in a way to implicitly slow down the\n",
    "algorithm.  When estimating physical resources, the Resource Estimator is\n",
    "computing the number of T factory invocations in a way that the total runtime of\n",
    "all T factories does not exceed the algorithm runtime.  In order to achieve the\n",
    "required number of T states, the T factories are copied sufficiently many times.\n",
    "In order to obtain fewer copies, we can extend the algorithm runtime.  One way\n",
    "to do this, without increasing the number of T states, is by adding single qubit\n",
    "measurements.  Therefore we model such no-operations (NoOps) in the program by\n",
    "measuring one qubit `noops` many times at the end of the program.\n",
    "\n",
    "ℹ️ In upcoming releases of the Resource Estimator we will improve the\n",
    "configuration of optimization objectives for T factories and the overall\n",
    "algorithm."
   ]
  },
  {
   "cell_type": "code",
   "execution_count": null,
   "metadata": {},
   "outputs": [],
   "source": [
    "%%qsharp\n",
    "open Microsoft.Quantum.Math;\n",
    "\n",
    "operation IsingModel2DSim(N : Int, J : Double, g : Double, totTime : Double, dt : Double, eps : Double, noops : Int) : Unit {\n",
    "    use qs = Qubit[N * N];\n",
    "    let len = Length(qs);\n",
    "\n",
    "    let p = 1.0 / (4.0 - PowD(4.0, 1.0 / 3.0));\n",
    "    let t = Ceiling(totTime / dt);\n",
    "\n",
    "    let seqLen = 10 * t + 1;\n",
    "\n",
    "    let (seqA, seqB) = SetSequences(seqLen, p, dt, J, g);\n",
    "\n",
    "    for i in 0..seqLen - 1 {\n",
    "        // for even indexes\n",
    "        if i % 2 == 0 {\n",
    "            ApplyAllX(qs, seqA[i]);\n",
    "        } else {\n",
    "            // iterate through all possible combinations for `dir` and `grp`.\n",
    "            for (dir, grp) in [(true, true), (true, false), (false, true), (false, false)] {\n",
    "                ApplyDoubleZ(N, qs, seqB[i], dir, grp);\n",
    "            }\n",
    "        }\n",
    "    }\n",
    "\n",
    "    // apply `noops` NoOps to extend algorithm runtime\n",
    "    for _ in 1..noops {\n",
    "        Ignore(M(qs[0]));\n",
    "    }\n",
    "}"
   ]
  },
  {
   "cell_type": "markdown",
   "metadata": {},
   "source": [
    "## Running the experiment\n",
    "\n",
    "Next, we are estimating the physical resource estimates to simulate the Ising model Hamiltonian for a $10 \\times 10$ lattice with $J = g = 1.0$, total time $20$, step size $0.25$, and `eps` ${}=0.001$.  To do this, we first create a Q# operation for this instance that takes as single input argument the number of NoOps, which will be job parameter dependent."
   ]
  },
  {
   "cell_type": "code",
   "execution_count": null,
   "metadata": {},
   "outputs": [],
   "source": [
    "%%qsharp\n",
    "operation Ising10(noops : Int) : Unit {\n",
    "    IsingModel2DSim(10, 1.0, 1.0, 20.0, 0.25, 0.001, noops);\n",
    "}"
   ]
  },
  {
   "cell_type": "markdown",
   "metadata": {},
   "source": [
    "As configurations for the experiment we use all six pre-defined qubit\n",
    "parameters.  As pre-defined QEC scheme we are using `surface_code` with\n",
    "gate-based qubit parameters, and `floquet_code` with Majorana based qubit\n",
    "parameters."
   ]
  },
  {
   "cell_type": "code",
   "execution_count": null,
   "metadata": {},
   "outputs": [],
   "source": [
    "configurations = [\n",
    "    (\"Gate-based µs, 10⁻³\", {\"qubitParams\": {\"name\": \"qubit_gate_us_e3\"}}),\n",
    "    (\"Gate-based µs, 10⁻⁴\", {\"qubitParams\": {\"name\": \"qubit_gate_us_e4\"}}),\n",
    "    (\"Gate-based ns, 10⁻³\", {\"qubitParams\": {\"name\": \"qubit_gate_ns_e3\"}}),\n",
    "    (\"Gate-based ns, 10⁻⁴\", {\"qubitParams\": {\"name\": \"qubit_gate_ns_e4\"}}),\n",
    "    (\"Majorana ns, 10⁻⁴\", {\"qubitParams\": {\"name\": \"qubit_maj_ns_e4\"}, \"qecScheme\": {\"name\": \"floquet_code\"}}),\n",
    "    (\"Majorana ns, 10⁻⁶\", {\"qubitParams\": {\"name\": \"qubit_maj_ns_e6\", \"tGateErrorRate\": 0.01}, \"qecScheme\": {\"name\": \"floquet_code\"}})\n",
    "]"
   ]
  },
  {
   "cell_type": "markdown",
   "metadata": {},
   "source": [
    "We are submitting a resource estimation job for each configuration and store the\n",
    "result together with the experiment name in the `result` array.  Since Resource\n",
    "Estimator only takes Q# operations without input parameters, we construct a\n",
    "wrapper operation using the `compile` function in the `qsharp` module."
   ]
  },
  {
   "cell_type": "code",
   "execution_count": null,
   "metadata": {},
   "outputs": [],
   "source": [
    "from ipywidgets import IntProgress, Layout\n",
    "progress = IntProgress(min=1, max=len(configurations), value=1, style={'description_width': 'initial'}, layout=Layout(width='75%'))\n",
    "display(progress)\n",
    "\n",
    "results = []\n",
    "operation = qsharp.compile(\"operation Ising10_0() : Unit { Ising10(0); }\")\n",
    "\n",
    "for name, configuration in configurations:\n",
    "    progress.description = name\n",
    "    result = qsharp.azure.execute(operation, jobParams=configuration)\n",
    "    results.append((name, result))\n",
    "    progress.value += 1"
   ]
  },
  {
   "cell_type": "markdown",
   "metadata": {},
   "source": [
    "Finally, we present the estimation results.  First, we explicitly extract some\n",
    "of the results in a summary table.  Some values are using a user-defined\n",
    "formatting.  Then, we display full details for all qubit parameters in tables\n",
    "that are constructed using the built-in resource estimation table feature.  You\n",
    "can re-use this `dashboard` function in other Q# + Python notebooks to display\n",
    "similar tables your experiments."
   ]
  },
  {
   "cell_type": "code",
   "execution_count": null,
   "metadata": {},
   "outputs": [],
   "source": [
    "def dashboard(experiment_results):\n",
    "    def get_row(result):\n",
    "        # Extract raw data from result dictionary\n",
    "        logical_qubits = result[\"physicalCounts\"][\"breakdown\"][\"algorithmicLogicalQubits\"]\n",
    "        logical_depth = result[\"physicalCounts\"][\"breakdown\"][\"logicalDepth\"]\n",
    "        num_tstates = result[\"physicalCounts\"][\"breakdown\"][\"numTstates\"]\n",
    "        code_distance = result[\"logicalQubit\"][\"codeDistance\"]\n",
    "        num_tfactories = result[\"physicalCounts\"][\"breakdown\"][\"numTfactories\"]\n",
    "        tfactory_fraction = (result[\"physicalCounts\"][\"breakdown\"][\"physicalQubitsForTfactories\"] / result[\"physicalCounts\"][\"physicalQubits\"]) * 100\n",
    "        physical_qubits = result[\"physicalCounts\"][\"physicalQubits\"]\n",
    "        runtime = result[\"physicalCounts\"][\"runtime\"]\n",
    "\n",
    "        # Format some entries\n",
    "        logical_depth_formatted = f\"{logical_depth:.1e}\"\n",
    "        num_tstates_formatted = f\"{num_tstates:.1e}\"\n",
    "        tfactory_fraction_formatted = f\"{tfactory_fraction:.1f}%\"\n",
    "        physical_qubits_formatted = f\"{physical_qubits / 1e6:.2f}M\"\n",
    "\n",
    "        # Make runtime human readable; we find the largest units for which the\n",
    "        # runtime has a value that is larger than 1.0.  For that unit we are\n",
    "        # rounding the value and append the unit suffix.\n",
    "        units = [(\"nanosecs\", 1), (\"microsecs\", 1000), (\"millisecs\", 1000), (\"secs\", 1000), (\"mins\", 60), (\"hours\", 60), (\"days\", 24), (\"years\", 365)]\n",
    "        runtime_formatted = runtime\n",
    "        for idx in range(1, len(units)):\n",
    "            if runtime_formatted / units[idx][1] < 1.0:\n",
    "                runtime_formatted = f\"{round(runtime_formatted) % units[idx][1]} {units[idx - 1][0]}\"\n",
    "                break\n",
    "            else:\n",
    "                runtime_formatted = runtime_formatted / units[idx][1]\n",
    "\n",
    "        # Append all extracted and formatted data to data array\n",
    "        return (logical_qubits, logical_depth_formatted, num_tstates_formatted, code_distance, num_tfactories, tfactory_fraction_formatted, physical_qubits_formatted, runtime_formatted)\n",
    "\n",
    "    index, data = zip(*[(name, get_row(dict(result))) for (name, result) in experiment_results])\n",
    "\n",
    "    # Create data frame with explicit column names and configuration names extracted from array\n",
    "    import pandas as pd\n",
    "    df = pd.DataFrame(data, columns=[\"Logical qubits\", \"Logical depth\", \"T states\", \"Code distance\", \"T factories\", \"T factory fraction\", \"Physical qubits\", \"Physical runtime\"], index=index)\n",
    "\n",
    "    from IPython.display import HTML\n",
    "\n",
    "    detailed_html = [f\"\"\"\n",
    "    <div style=\"float: left; padding: 10px; margin: 5px; border: solid 1px; border-radius: 10px\">\n",
    "      <h3 style=\"border-bottom: solid 1px; display: inline-block\">{name}</h3>\n",
    "      <div style=\"margin-top: 8px\">{result.mime_bundle['text/html']}</div>\n",
    "    </div>\"\"\" for (name, result) in experiment_results]\n",
    "\n",
    "    html = f\"\"\"\n",
    "    <div style=\"padding: 10px; margin: 5px; border: solid 1px; border-radius: 10px\"><h3 style=\"border-bottom: solid 1px; display: inline-block\">Summary</h3>{df.to_html()}</div>\n",
    "    <div>\n",
    "      {\"\".join(detailed_html)}\n",
    "    </div>\n",
    "    \"\"\"\n",
    "    \n",
    "    return HTML(html)\n",
    "\n",
    "dashboard(results)"
   ]
  },
  {
   "cell_type": "markdown",
   "metadata": {},
   "source": [
    "Next, we rerun the experiments for the balanced implementation, a scenario in\n",
    "which we slow down the algorithm runtime by a factor of 10.  We achieve this by\n",
    "inserting 9 times the logical depth of the current results as NoOps into the\n",
    "algorithm, as described above."
   ]
  },
  {
   "cell_type": "code",
   "execution_count": null,
   "metadata": {},
   "outputs": [],
   "source": [
    "logical_depth = results[0][1]['physicalCounts']['breakdown']['logicalDepth']\n",
    "\n",
    "from ipywidgets import IntProgress, Layout\n",
    "progress = IntProgress(min=1, max=len(configurations), value=1, style={'description_width': 'initial'}, layout=Layout(width='75%'))\n",
    "display(progress)\n",
    "\n",
    "results_balanced = []\n",
    "operation = qsharp.compile(f\"operation Ising10_1() : Unit {{ Ising10({9 * logical_depth}); }}\")\n",
    "\n",
    "for name, configuration in configurations:\n",
    "    progress.description = name\n",
    "    result = qsharp.azure.execute(operation, jobParams=configuration)\n",
    "    results_balanced.append((name, result))\n",
    "    progress.value += 1"
   ]
  },
  {
   "cell_type": "markdown",
   "metadata": {},
   "source": [
    "We print the results for the balanced implementation with the dashboard as\n",
    "before."
   ]
  },
  {
   "cell_type": "code",
   "execution_count": null,
   "metadata": {},
   "outputs": [],
   "source": [
    "dashboard(results_balanced)"
   ]
  },
  {
   "cell_type": "markdown",
   "metadata": {},
   "source": [
    "## Next steps\n",
    "\n",
    "The numbers in the table match the numbers in the paper [Assessing requirements\n",
    "for scaling quantum computers to real-world impact](https://aka.ms/AQ/RE/Paper).\n",
    "Feel free to use this table as a starting point for your own experiments.  For\n",
    "example, you can\n",
    "\n",
    "* explore how the results change by modifying the input parameters of the Ising\n",
    "  model instance\n",
    "* explore space- and time-trade-offs by changing the number of NoOps\n",
    "* use other or customized qubit parameters"
   ]
  }
 ],
 "metadata": {
  "language_info": {
   "name": "python"
  }
 },
 "nbformat": 4,
 "nbformat_minor": 2
}
