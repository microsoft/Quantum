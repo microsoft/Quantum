{
 "cells": [
  {
   "cell_type": "markdown",
   "metadata": {},
   "source": [
    "# Getting Started with Azure Quantum Resource Estimation using Q# and Python\n",
    "\n",
    "👋 Welcome to the Azure Quantum Resource Estimator. In this notebook we will\n",
    "guide you how to estimate and analyze the physical resource estimates of a\n",
    "quantum program targeted on a fault-tolerant quantum computer. As a running\n",
    "example we are using a multiplier.\n",
    "\n",
    "## Setup\n",
    "\n",
    "Let's connect to the Azure Quantum workspace and select the Azure Quantum Resource Estimator as target.  We are also importing the `Microsoft.Quantum.Numerics` package that we will require for our example algorithm."
   ]
  },
  {
   "cell_type": "code",
   "execution_count": null,
   "metadata": {},
   "outputs": [],
   "source": [
    "import qsharp"
   ]
  },
  {
   "cell_type": "code",
   "execution_count": null,
   "metadata": {},
   "outputs": [],
   "source": [
    "import qsharp.azure\n",
    "targets = qsharp.azure.connect(\n",
    "   resourceId=\"\",\n",
    "   location=\"\")"
   ]
  },
  {
   "cell_type": "code",
   "execution_count": null,
   "metadata": {},
   "outputs": [],
   "source": [
    "qsharp.packages.add(\"Microsoft.Quantum.Numerics\")\n",
    "qsharp.azure.target(\"microsoft.estimator\")"
   ]
  },
  {
   "cell_type": "markdown",
   "metadata": {},
   "source": [
    "## Implementing the algorithm"
   ]
  },
  {
   "cell_type": "markdown",
   "id": "d707a947",
   "metadata": {},
   "source": [
    "As running example algorithm we are creating a multiplier using the [MultiplyI](https://docs.microsoft.com/hu-hu/qsharp/api/qsharp/microsoft.quantum.arithmetic.multiplyi) operation.  We can configure the size of the multiplier with a bitwidth parameter. The operation will have two input registers with that bitwidth, and one output register with the size of twice the bitwidth."
   ]
  },
  {
   "cell_type": "code",
   "execution_count": null,
   "metadata": {},
   "outputs": [],
   "source": [
    "%%qsharp\n",
    "\n",
    "open Microsoft.Quantum.Arithmetic;\n",
    "\n",
    "operation EstimateMultiplication(bitwidth : Int) : Unit {\n",
    "    use factor1 = Qubit[bitwidth];\n",
    "    use factor2 = Qubit[bitwidth];\n",
    "    use product = Qubit[2 * bitwidth];\n",
    "    \n",
    "    MultiplyI(LittleEndian(factor1), LittleEndian(factor2), LittleEndian(product));\n",
    "}"
   ]
  },
  {
   "cell_type": "markdown",
   "metadata": {},
   "source": [
    "## Estimating the algorithm"
   ]
  },
  {
   "cell_type": "markdown",
   "metadata": {},
   "source": [
    "In order to estimate an operation using the Azure Quantum Resource Estimator target, it cannot take any input arguments and must have a `Unit` return value.  But we can simply create a new instance for a specific bitwidth, for example 8 in this case."
   ]
  },
  {
   "cell_type": "code",
   "execution_count": null,
   "metadata": {},
   "outputs": [],
   "source": [
    "EstimateMultiplication8: any = None # Make Python recognize the Q# function (optional)"
   ]
  },
  {
   "cell_type": "code",
   "execution_count": null,
   "metadata": {},
   "outputs": [],
   "source": [
    "%%qsharp\n",
    "\n",
    "operation EstimateMultiplication8() : Unit {\n",
    "    EstimateMultiplication(8);\n",
    "}"
   ]
  },
  {
   "cell_type": "markdown",
   "metadata": {},
   "source": [
    "Let's now estimate the physical resources for this operation using the default assumptions.  We can submit the operation to the resource estimation target using the `qsharp.azure.execute` function."
   ]
  },
  {
   "cell_type": "code",
   "execution_count": null,
   "metadata": {},
   "outputs": [],
   "source": [
    "result = qsharp.azure.execute(EstimateMultiplication8)"
   ]
  },
  {
   "cell_type": "markdown",
   "metadata": {},
   "source": [
    "The simplest way to inspect the results of the job is to output them to the notebook. This will output a table with the overall physical resource counts. You can further inspect more details about the resource estimates by collapsing various groups which have more information. For example, if you collapse the *Logical qubit parameters* group, you can see that the quantum error correction (QEC) code distance is 15. In the last group you can see the physical qubit properties that were assumed for this estimation. For example, we see that the time to perform a single-qubit measurement and a single-qubit gate are assumed to be 100 ns and 50 ns, respectively."
   ]
  },
  {
   "cell_type": "code",
   "execution_count": null,
   "metadata": {},
   "outputs": [],
   "source": [
    "result"
   ]
  },
  {
   "cell_type": "markdown",
   "metadata": {},
   "source": [
    "We can also programmatically access all the values that can be passed to the job execution and see which default values were assumed:"
   ]
  },
  {
   "cell_type": "code",
   "execution_count": null,
   "metadata": {},
   "outputs": [],
   "source": [
    "result['jobParams']"
   ]
  },
  {
   "cell_type": "markdown",
   "metadata": {},
   "source": [
    "We see that there are three input parameters that can be customized: `qubitParams`, `qecScheme`, and `errorBudget`.\n",
    "\n",
    "### Qubit parameters\n",
    "\n",
    "The first parameter `qubitParams` is used to specify qubit parameters.  When\n",
    "modeling the physical qubit abstractions, we distinguish between two different\n",
    "physical instruction sets that are used to operate the qubits.  The physical\n",
    "instruction set can be either *gate-based* or *Majorana*.  A gate-based\n",
    "instruction set provides single-qubit measurement, single-qubit gates (incl. T\n",
    " gates), and two-qubit gates.  A Majorana instruction set provides a physical T\n",
    " gate, single-qubit measurement and two-qubit joint measurement operations.\n",
    "\n",
    "Qubit parameters can be completely customized.  Before we show this, we show hot\n",
    "to choose from six pre-defined qubit parameters, four of which have gate-based\n",
    "instruction sets and two with a Majorana instruction set.  An overview of all\n",
    "pre-defined qubit parameters is provided by the following table:\n",
    "\n",
    "| Pre-defined qubit parameters | Instruction set | References                                                                                                 |\n",
    "|------------------------------|-----------------|------------------------------------------------------------------------------------------------------------|\n",
    "| `\"qubit_gate_ns_e3\"`         | gate-based      | [arXiv:2003.00024](https://arxiv.org/abs/2003.00024), [arXiv:2111.11937](https://arxiv.org/abs/2111.11937) |\n",
    "| `\"qubit_gate_ns_e4\"`         | gate-based      | [arXiv:2003.00024](https://arxiv.org/abs/2003.00024), [arXiv:2111.11937](https://arxiv.org/abs/2111.11937) |\n",
    "| `\"qubit_gate_us_e3\"`         | gate-based      | [arXiv:1701.04195](https://arxiv.org/abs/1701.04195)                                                       |\n",
    "| `\"qubit_gate_us_e4\"`         | gate-based      | [arXiv:1701.04195](https://arxiv.org/abs/1701.04195)                                                       |\n",
    "| `\"qubit_maj_ns_e4\"`          | Majorana        | [arXiv:1610.05289](https://arxiv.org/abs/1610.05289)                                                       |\n",
    "| `\"qubit_maj_ns_e6\"`          | Majorana        | [arXiv:1610.05289](https://arxiv.org/abs/1610.05289)                                                       |\n",
    "\n",
    "Pre-defined qubit parameters can be selected by specifying the `name` field in\n",
    "the `qubitParams`.  If no value is provided, `\"qubit_gate_ns_e3\"` is chosen as\n",
    "the default qubit parameters.\n",
    "\n",
    "Let's re-run resource estimation for our running example on the Majorana-based\n",
    "qubit parameters `\"qubit_maj_ns_e6\"`."
   ]
  },
  {
   "cell_type": "code",
   "execution_count": null,
   "metadata": {},
   "outputs": [],
   "source": [
    "result = qsharp.azure.execute(EstimateMultiplication8,\n",
    "            jobParams={\n",
    "                \"qubitParams\": {\n",
    "                    \"name\": \"qubit_maj_ns_e6\"\n",
    "                }})\n",
    "result"
   ]
  },
  {
   "cell_type": "markdown",
   "metadata": {},
   "source": [
    "Let's inspect the physical counts programmatically. For example, we can show all physical resource estimates and their breakdown using the `physicalCounts` field in the result data. This will show the logical qubit error and logical T-state error rates required to match the error budget. By default runtimes are shown in nanoseconds."
   ]
  },
  {
   "cell_type": "code",
   "execution_count": null,
   "metadata": {},
   "outputs": [],
   "source": [
    "result['physicalCounts']"
   ]
  },
  {
   "cell_type": "markdown",
   "metadata": {},
   "source": [
    "We can also explore details about the T factory that was created to execute this algorithm."
   ]
  },
  {
   "cell_type": "code",
   "execution_count": null,
   "metadata": {},
   "outputs": [],
   "source": [
    "result['tfactory']"
   ]
  },
  {
   "cell_type": "markdown",
   "metadata": {},
   "source": [
    "Next, we are using this data to produce some explanations of how the T factories produce the required T states."
   ]
  },
  {
   "cell_type": "code",
   "execution_count": null,
   "metadata": {},
   "outputs": [],
   "source": [
    "tfactory = result[\"tfactory\"]\n",
    "breakdown = result[\"physicalCounts\"][\"breakdown\"]\n",
    "producedTstates = breakdown[\"numTfactories\"] * breakdown[\"numTfactoryRuns\"] * tfactory[\"numTstates\"]\n",
    "\n",
    "print(f\"\"\"A single T factory produces {tfactory[\"numTstates\"]} T state(s) with an error rate of {tfactory[\"logicalErrorRate\"]:.2e} (required T state error rate is {breakdown[\"requiredLogicalTstateErrorRate\"]:.2e}).\"\"\")\n",
    "print(f\"\"\"{breakdown[\"numTfactories\"]} copie(s) of a T factory are executed {breakdown[\"numTfactoryRuns\"]} time(s) to produce {producedTstates} T states ({breakdown[\"numTstates\"]} are required by the algorithm).\"\"\")\n",
    "print(f\"\"\"A single T factory is composed of {tfactory[\"numRounds\"]} rounds of distillation:\"\"\")\n",
    "for round in range(tfactory[\"numRounds\"]):\n",
    "    print(f\"\"\"- {tfactory[\"numUnitsPerRound\"][round]} {tfactory[\"unitNamePerRound\"][round]} unit(s)\"\"\")"
   ]
  },
  {
   "cell_type": "markdown",
   "metadata": {},
   "source": [
    "Custom qubit parameters must completely specify all required parameters.  These are the values that are\n",
    "considered when the `instructionSet` is `\"GateBased\"`.\n",
    "\n",
    "| Field (*required)               | Description                                                          |\n",
    "|---------------------------------|----------------------------------------------------------------------|\n",
    "| `name`                          | Some descriptive name for the parameters                             |\n",
    "| `oneQubitMeasurementTime`*      | Operation time for single-qubit measurement ($t_{\\rm meas}$) in ns   |\n",
    "| `oneQubitGateTime`*             | Operation time for single-qubit Clifford gate ($t_{\\rm gate}$) in ns |\n",
    "| `twoQubitGateTime`              | Operation time for two-qubit Clifford gate in ns                     |\n",
    "| `tGateTime`                     | Operation time for single-qubit non-Clifford gate in ns              |\n",
    "| `oneQubitMeasurementErrorRate`* | Error rate for single-qubit measurement                              |\n",
    "| `oneQubitGateErrorRate`*        | Error rate for single-qubit Clifford gate ($p$)                      |\n",
    "| `twoQubitGateErrorRate`         | Error rate for two-qubit Clifford gate                               |\n",
    "| `tGateErrorRate`                | Error rate to prepare single-qubit non-Clifford state ($p_T$)        |\n",
    "\n",
    "The values for `twoQubitGateTime` and `tGateTime` default to `oneQubitGateTime`\n",
    "when not specified; the values for `twoQubitGateErrorRate` and `tGateErrorRate`\n",
    "default to `oneQubitGateErrorRate` when not specified.\n",
    "\n",
    "A minimum template for qubit parameters based on a gate-based instruction set\n",
    "with all required values is:\n",
    "\n",
    "```json\n",
    "{\n",
    "    \"qubitParams\": {\n",
    "        \"instructionSet\": \"GateBased\",\n",
    "        \"oneQubitMeasurementTime\": <time string>,\n",
    "        \"oneQubitGateTime\": <time string>,\n",
    "        \"oneQubitMeasurementErrorRate\": <double>,\n",
    "        \"oneQubitGateErrorRate\": <double>\n",
    "    }\n",
    "}\n",
    "```\n",
    "\n",
    "For time units, you need to specify time strings which are double-precision\n",
    "floating point numbers followed by a space and a unit prefix which is `ns`, `µs`\n",
    "(alternatively `us`), `ms`, or `s`.\n",
    "\n",
    "These are the values that are considered when the `instructionSet` is\n",
    "`\"Majorana\"`.\n",
    "\n",
    "| Field (*required)                   | Description                                                         |\n",
    "|-------------------------------------|---------------------------------------------------------------------|\n",
    "| `name`                              | Some descriptive name for the parameters                            |\n",
    "| `oneQubitMeasurementTime`*          | Operation time for single-qubit measurement ($t_{\\rm meas}$) in ns  |\n",
    "| `twoQubitJointMeasurementTime`      | Operation time for two-qubit joint measurement in ns                |\n",
    "| `tGateTime`                         | Operation time for single-qubit non-Clifford gate in ns             |\n",
    "| `oneQubitMeasurementErrorRate`*     | Error rate for single-qubit measurement                             |\n",
    "| `twoQubitJointMeasurementErrorRate` | Error rate for two-qubit joint measurement                          |\n",
    "| `tGateErrorRate`*                   | Error rate to prepare single-qubit non-Clifford state ($p_T$)       |\n",
    "\n",
    "The values for `twoQubitJointMeasurementTime` and `tGateTime` default to\n",
    "`oneQubitGateTime` when not specified; the value for\n",
    "`twoQubitJointMeasurementErrorRate` defaults to `oneQubitMeasurementErrorRate`\n",
    "when not specified.\n",
    "\n",
    "A minimum template for qubit parameters based on a Majorana instruction set with\n",
    "all required values is:\n",
    "\n",
    "```json\n",
    "{\n",
    "    \"qubitParams\": {\n",
    "        \"instructionSet\": \"Majorana\",\n",
    "        \"oneQubitMeasurementTime\": <time string>,\n",
    "        \"oneQubitMeasurementErrorRate\": <double>,\n",
    "        \"tGateErrorRate\": <double>\n",
    "    }\n",
    "}\n",
    "```"
   ]
  },
  {
   "cell_type": "markdown",
   "metadata": {},
   "source": [
    "### QEC schemes\n",
    "\n",
    "To execute practical-scale quantum applications, we require operations with very\n",
    "low error rates. These error rate targets are typically beyond the capabilities\n",
    "of raw physical qubits. To overcome this limitation, quantum error correction\n",
    "(QEC) and fault-tolerant computation are two crucial techniques that form the\n",
    "building blocks of large-scale quantum computers. First, QEC allows us to\n",
    "compose multiple error-prone physical qubits and build a more reliable logical\n",
    "qubit that preserves quantum information better than the underlying physical\n",
    "qubits. Several QEC schemes have been developed since the last three decades,\n",
    "including popular schemes such as the Shor-code, surface code, color codes and\n",
    "others, and recently Microsoft’s Hastings-Haah code. These schemes vary based on\n",
    "the number of physical qubits they require, the connectivity among qubits and\n",
    "other factors. Employing QEC techniques, we require fault-tolerant computation\n",
    "to be able to store and process information efficiently in the presence of\n",
    "noise. To store information reliably, we require that the QEC scheme is able to\n",
    "suppress errors when the physical qubits meet a certain threshold error rate. To\n",
    "process information, we require fault-tolerant operations that allow\n",
    "applications to perform general purpose quantum computations efficiently and\n",
    "limit the spread of errors that occur while computing with logical qubits.\n",
    "Schemes for fault-tolerant operations include techniques such as lattice surgery\n",
    "and transversal operations. Together, QEC and fault-tolerance techniques bridges\n",
    "the accuracy gap between quantum hardware and algorithms.\n",
    "\n",
    "The error correction code distance (or just code distance in short) is a\n",
    "parameter that controls the error rate of logical qubits and the number of\n",
    "physical qubits required to encode them.  The higher the code distance, the\n",
    "better the accuracy, but also the higher the amount of physical qubits.  The\n",
    "goal is to find the minimum code distance that can achieve the required error\n",
    "rate set for a particular application.\n",
    "\n",
    "We follow the standard way of modeling logical error rates using an exponential\n",
    "model parameterized by the code distance $d$, physical error rate $p$, QEC\n",
    "threshold $p^*$.  The physical error rate $p$ is extracted from the qubit\n",
    "parameters above as the worst-case error rate any physical Clifford operation in\n",
    "the device.  In particular, we set $p = {}$ `max(oneQubitMeasurementErrorRate,\n",
    "oneQubitGateErrorRate, twoQubitGateErrorRate)` for qubit parameters with a\n",
    "gate-based instruction set, and $p = {}$ `max(oneQubitMeasurementErrorRate,\n",
    "twoQubitJointMeasurementErrorRate)` for qubit parameters with a Majorana\n",
    "instruction set.  QEC schemes typically have a error rate threshold $p^*$ below\n",
    "which error correction suppresses errors.\n",
    "\n",
    "Our current implementation uses the formula\n",
    "\n",
    "$$\n",
    "P = a\\left(\\frac{p}{p^*}\\right)^{\\frac{d+1}{2}}\n",
    "$$\n",
    "\n",
    "as the generic model.  The exact parameters for each pre-defined QEC scheme\n",
    "(including  a crossing pre-factor $a$ which can be extracted numerically for\n",
    "simulations) are listed below.\n",
    "\n",
    "In Azure Quantum Resource Estimation we can abstract the quantum error\n",
    "correction scheme based on the above formula by providing values for the\n",
    "crossing pre-factor $a$ and the error correction threshold $p^*$.  Further, one\n",
    "needs to specify the logical cycle time, i.e., the time to execute a single\n",
    "logical operation, which depends on the code distance and the  physical\n",
    "operation time assumptions of the underlying physical qubits.  Finally, a second\n",
    "formula computes the number of physical qubits required to encode one logical\n",
    "qubit based on the code distance.\n",
    "\n",
    "As with the physical qubit parameters, one can choose from several pre-defined\n",
    "QEC schemes, can extend pre-defined ones, and can provide custom schemes by\n",
    "providing all parameters.  Note that QEC schemes are tightly connected to the\n",
    "physical instruction set of the physical qubit parameters, and therefore are\n",
    "defined specifically for one of the two instruction sets.\n",
    "\n",
    "We provide three pre-defined QEC schemes, two `\"surface_code\"` protocols for\n",
    "gate-based and Majorana physical instruction sets, and the `\"floquet_code\"`\n",
    "protocol that can only be used with a Majorana physical instruction set.\n",
    "\n",
    "| QEC scheme     | Instruction set | References                                                                                                 |\n",
    "|----------------|-----------------|------------------------------------------------------------------------------------------------------------|\n",
    "| `surface_code` | gate-based      | [arXiv:1208.0928](https://arxiv.org/abs/1208.0928), [arXiv:1009.3686](https://arxiv.org/abs/1009.3686)     |\n",
    "| `surface_code` | Majorana        | [arXiv:1909.03002](https://arxiv.org/abs/1909.03002), [arXiv:2007.00307](https://arxiv.org/abs/2007.00307) |\n",
    "| `floquet_code` | Majorana        | [arXiv:2202.11829](https://arxiv.org/abs/2202.11829)                                                       |\n",
    "\n",
    "In case of `\"surface_code\"` the corresponding scheme is selected based on the\n",
    "qubit type of the physical qubit parameters.  The gate-based surface code is\n",
    "based on [[arXiv:1208.0928](https://arxiv.org/abs/1208.0928)] and\n",
    "[[arXiv:1009.3686](https://arxiv.org/abs/1009.3686)]. The surface code for\n",
    "Majorana qubits is based on\n",
    "[[arXiv:1909.03002](https://arxiv.org/abs/1909.03002)] and\n",
    "[[arXiv:2007.00307](https://arxiv.org/abs/2007.00307)] (replacing 8 steps to\n",
    "measure a single stabilizer in the former reference by 20 steps to measure all\n",
    "stabilizers). The floquet code, which can only be selected for Majorana qubits,\n",
    "is based on [[arXiv:2202.11829](https://arxiv.org/abs/2202.11829)].\n",
    "\n",
    "Pre-defined qubit parameters can be selected by specifying the `name` field in\n",
    "the `qecScheme` parameter.  If no value is provided, `\"surface_code\"` is used as\n",
    "default value.\n",
    "\n",
    "Let's re-run resource estimation for our running example on the Majorana-based\n",
    "qubit parameters with a Floquet code."
   ]
  },
  {
   "cell_type": "code",
   "execution_count": null,
   "metadata": {},
   "outputs": [],
   "source": [
    "result_maj_floquet = qsharp.azure.execute(EstimateMultiplication8,\n",
    "            jobParams={\n",
    "                \"qubitParams\": {\n",
    "                    \"name\": \"qubit_maj_ns_e6\"\n",
    "                },\n",
    "                \"qecScheme\": {\n",
    "                    \"name\": \"floquet_code\"\n",
    "                }})\n",
    "result_maj_floquet"
   ]
  },
  {
   "cell_type": "markdown",
   "metadata": {},
   "source": [
    "To specify a QEC scheme the user has to specify 2 values, the\n",
    "`errorCorrectionThreshold` and the `crossingPrefactor`, as well as 2 formulas\n",
    "for the `logicalCycleTime`, and the `physicalQubitsPerLogicalQubit`.  A template\n",
    "for QEC schemes is as follows:\n",
    "\n",
    "```json\n",
    "{\n",
    "    \"qecScheme\": {\n",
    "        \"crossingPrefactor\": <double>,\n",
    "        \"errorCorrectionThreshold\": <double>,\n",
    "        \"logicalCycleTime\": <formula string>,\n",
    "        \"physicalQubitsPerLogicalQubit\": <formula string>\n",
    "    }\n",
    "}\n",
    "```\n",
    "\n",
    "Inside the formulas, the user can make use of the following variables\n",
    "\n",
    "* `oneQubitGateTime`\n",
    "* `twoQubitGateTime`\n",
    "* `oneQubitMeasurementTime`\n",
    "* `twoQubitJointMeasurementTime`\n",
    "\n",
    "whose value is taken from the corresponding field from the physical qubit\n",
    "parameters (note that some variables are not available based on the qubit\n",
    "parameters' instruction set), as well as the variable\n",
    "\n",
    "* `codeDistance`\n",
    "\n",
    "for the code distance computed for the logical qubit, based on the physical\n",
    "qubit properties, the error correction threshold, and the crossing prefactor.\n",
    "The time variables and `codeDistance` can be used to describe the\n",
    "`logicalCycleTime` formula.  For the formula `physicalQubitsPerLogicalQubit`\n",
    "only the `codeDistance` can be used."
   ]
  },
  {
   "cell_type": "markdown",
   "metadata": {},
   "source": [
    "### Error budget\n",
    "\n",
    "The third parameter `errorBudget` models the total error budget $\\epsilon$.  It\n",
    "sets the overall allowed error for the algorithm, i.e., the number of times it\n",
    "is allowed to fail.  Its value must be between 0 and 1 and the default value is\n",
    "0.001, which corresponds to 0.1%, and means that the algorithm is allowed to\n",
    "fail once in 1000 executions.  This parameter is highly application specific.\n",
    "For example, if one is running Shor's algorithm for factoring integers, a large\n",
    "value for the error budget may be tolerated as one can check that the output are\n",
    "indeed the prime factors of the input.  On the other hand, a much smaller error\n",
    "budget may be needed for an algorithm solving a problem with a solution which\n",
    "cannot be efficiently verified.  This budget\n",
    "\n",
    "$$\n",
    "  \\epsilon = \\epsilon_{\\log} + \\epsilon_{\\rm dis} + \\epsilon_{\\rm syn}\n",
    "$$\n",
    "\n",
    "is uniformly distributed and applies to errors $\\epsilon_{\\log}$ to implement\n",
    "logical qubits, an error budget $\\epsilon_{\\rm dis}$ to produce T states through\n",
    "distillation, and an error budget $\\epsilon_{\\rm syn}$ to synthesize rotation\n",
    "gates with arbitrary angles.  Note that for distillation and rotation synthesis,\n",
    "the respective error budgets $\\epsilon_{\\rm dis}$ and $\\epsilon_{\\rm syn}$ are\n",
    "uniformly distributed among all required T states and all required rotation\n",
    "gates, respectively. If there are no rotation gates in the input algorithm, the\n",
    "error budget is uniformly distributed to logical errors and T state errors.\n",
    "\n",
    "Next, we re-run the last experiment with a an error budget of 10%."
   ]
  },
  {
   "cell_type": "code",
   "execution_count": null,
   "metadata": {},
   "outputs": [],
   "source": [
    "result_maj_floquet_e1 = qsharp.azure.execute(EstimateMultiplication8,\n",
    "            jobParams={\n",
    "                \"qubitParams\": {\n",
    "                    \"name\": \"qubit_maj_ns_e6\"\n",
    "                },\n",
    "                \"qecScheme\": {\n",
    "                    \"name\": \"floquet_code\"\n",
    "                },\n",
    "                \"errorBudget\": 0.1})\n",
    "result_maj_floquet_e1"
   ]
  },
  {
   "cell_type": "markdown",
   "metadata": {},
   "source": [
    "## Next steps\n",
    "\n",
    "We hope you enjoyed this notebook and found it helpful in exploring the physical resource estimates for quantum programs. Here are some suggested next steps:\n",
    "\n",
    "* Try different Q# programs.\n",
    "* Explore how qubit parameters and QEC schemes affect the error correction code distance of the logical qubit.\n",
    "* Use the output data to derive logical qubit properties."
   ]
  }
 ],
 "metadata": {
  "language_info": {
   "name": "python"
  }
 },
 "nbformat": 4,
 "nbformat_minor": 1
}
