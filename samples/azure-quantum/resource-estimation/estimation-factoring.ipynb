{
 "cells": [
  {
   "cell_type": "markdown",
   "metadata": {},
   "source": [
    "# Resource Estimation for Integer Factoring\n",
    "\n",
    "In this notebook we calculate resource estimates for a 2048-bit integer\n",
    "factoring application based on the implementation described in [[Quantum 5, 433\n",
    "(2021)](https://quantum-journal.org/papers/q-2021-04-15-433/)].  Our\n",
    "implementation incorporates all techniques described in the paper, except for\n",
    "carry runways.  As tolerated error budget, we choose $\\epsilon = 1/3$.\n",
    "\n",
    "For this application, we compute the physical resource estimates directly from\n",
    "precomputed logical resource estimates.  You can use this notebook as a blueprint to estimate the physical resources required of any application for which you already have computed logical estimates."
   ]
  },
  {
   "cell_type": "markdown",
   "metadata": {},
   "source": [
    "## Getting started\n",
    "\n",
    "We import Python classes from `azure.quantum` to create a workspace and the resource estimator target."
   ]
  },
  {
   "cell_type": "code",
   "execution_count": null,
   "metadata": {},
   "outputs": [],
   "source": [
    "from azure.quantum import Workspace\n",
    "from azure.quantum.target.microsoft import MicrosoftEstimator, QubitParams, QECScheme\n",
    "import qsharp"
   ]
  },
  {
   "cell_type": "markdown",
   "metadata": {},
   "source": [
    "We connect to the Azure Quantum workspace."
   ]
  },
  {
   "cell_type": "code",
   "execution_count": null,
   "metadata": {},
   "outputs": [],
   "source": [
    "workspace = Workspace (\n",
    "    resource_id = \"\",\n",
    "    location = \"\"\n",
    ")"
   ]
  },
  {
   "cell_type": "markdown",
   "metadata": {},
   "source": [
    "## Extracting resource estimates from logical resource counts\n",
    "\n",
    "We create a Q# program that describes the algorithm in terms of precomputed logical resource estimates.  To this end, we are using the [AccountForEstimates](https://learn.microsoft.com/qsharp/api/qsharp/microsoft.quantum.resourceestimation.accountforestimates) operation."
   ]
  },
  {
   "cell_type": "code",
   "execution_count": null,
   "metadata": {},
   "outputs": [],
   "source": [
    "%%qsharp\n",
    "open Microsoft.Quantum.ResourceEstimation;\n",
    "\n",
    "operation FactoringFromLogicalCounts() : Unit {\n",
    "    use qubits = Qubit[12581];\n",
    "    \n",
    "    AccountForEstimates([TCount(12), RotationCount(12), RotationDepth(12), CczCount(3731607428), MeasurementCount(1078154040)], PSSPCLayout(), qubits);\n",
    "}"
   ]
  },
  {
   "cell_type": "markdown",
   "metadata": {},
   "source": [
    "## Running experiments\n",
    "\n",
    "As configurations for the experiment we use all six pre-defined qubit\n",
    "parameters.  As pre-defined QEC scheme we are using `surface_code` with\n",
    "gate-based qubit parameters, and `floquet_code` with Majorana based qubit\n",
    "parameters.  For all experiments we assume an error budget of 1/3. We\n",
    "leverage the `make_params` function on the `estimator` by setting `num_items` to\n",
    "6 to create a batching job.  The `error_budget` is set globally for all items,\n",
    "where as names for `qubit_params` and `qec_scheme` are set individually for each\n",
    "item."
   ]
  },
  {
   "cell_type": "code",
   "execution_count": null,
   "metadata": {},
   "outputs": [],
   "source": [
    "estimator = MicrosoftEstimator(workspace)\n",
    "\n",
    "labels = [\"Gate-based µs, 10⁻³\", \"Gate-based µs, 10⁻⁴\", \"Gate-based ns, 10⁻³\", \"Gate-based ns, 10⁻⁴\", \"Majorana ns, 10⁻⁴\", \"Majorana ns, 10⁻⁶\"]\n",
    "\n",
    "params = estimator.make_params(num_items=6)\n",
    "params.error_budget = 0.333\n",
    "params.items[0].qubit_params.name = QubitParams.GATE_US_E3\n",
    "params.items[1].qubit_params.name = QubitParams.GATE_US_E4\n",
    "params.items[2].qubit_params.name = QubitParams.GATE_NS_E3\n",
    "params.items[3].qubit_params.name = QubitParams.GATE_NS_E4\n",
    "params.items[4].qubit_params.name = QubitParams.MAJ_NS_E4\n",
    "params.items[4].qec_scheme.name = QECScheme.FLOQUET_CODE\n",
    "params.items[5].qubit_params.name = QubitParams.MAJ_NS_E6\n",
    "params.items[5].qec_scheme.name = QECScheme.FLOQUET_CODE"
   ]
  },
  {
   "cell_type": "markdown",
   "metadata": {},
   "source": [
    "Next we are submitting the resource estimation job based on the Q# operation above."
   ]
  },
  {
   "cell_type": "code",
   "execution_count": null,
   "metadata": {},
   "outputs": [],
   "source": [
    "job = estimator.submit(FactoringFromLogicalCounts, input_params=params)\n",
    "results = job.get_results()\n"
   ]
  },
  {
   "cell_type": "markdown",
   "metadata": {},
   "source": [
    "Finally, we are presenting the experimental results using built-in resource\n",
    "estimation tables as well as a custom summary table.  For this purpose we are\n",
    "creating a reusable `dashboard` function that is creating an HTML display from a\n",
    "pandas data frame and the resource estimation tables."
   ]
  },
  {
   "cell_type": "code",
   "execution_count": null,
   "metadata": {},
   "outputs": [],
   "source": [
    "def dashboard(results):\n",
    "    def get_row(result):\n",
    "        # Extract raw data from result dictionary\n",
    "        logical_qubits = result[\"physicalCounts\"][\"breakdown\"][\"algorithmicLogicalQubits\"]\n",
    "        logical_depth = result[\"physicalCounts\"][\"breakdown\"][\"logicalDepth\"]\n",
    "        num_tstates = result[\"physicalCounts\"][\"breakdown\"][\"numTstates\"]\n",
    "        code_distance = result[\"logicalQubit\"][\"codeDistance\"]\n",
    "        num_tfactories = result[\"physicalCounts\"][\"breakdown\"][\"numTfactories\"]\n",
    "        tfactory_fraction = (result[\"physicalCounts\"][\"breakdown\"][\"physicalQubitsForTfactories\"] / result[\"physicalCounts\"][\"physicalQubits\"]) * 100\n",
    "        physical_qubits = result[\"physicalCounts\"][\"physicalQubits\"]\n",
    "        runtime = result[\"physicalCounts\"][\"runtime\"]\n",
    "\n",
    "        # Format some entries\n",
    "        logical_depth_formatted = f\"{logical_depth:.1e}\"\n",
    "        num_tstates_formatted = f\"{num_tstates:.1e}\"\n",
    "        tfactory_fraction_formatted = f\"{tfactory_fraction:.1f}%\"\n",
    "        physical_qubits_formatted = f\"{physical_qubits / 1e6:.2f}M\"\n",
    "\n",
    "        # Make runtime human readable; we find the largest units for which the\n",
    "        # runtime has a value that is larger than 1.0.  For that unit we are\n",
    "        # rounding the value and append the unit suffix.\n",
    "        units = [(\"nanosecs\", 1), (\"microsecs\", 1000), (\"millisecs\", 1000), (\"secs\", 1000), (\"mins\", 60), (\"hours\", 60), (\"days\", 24), (\"years\", 365)]\n",
    "        runtime_formatted = runtime\n",
    "        for idx in range(1, len(units)):\n",
    "            if runtime_formatted / units[idx][1] < 1.0:\n",
    "                runtime_formatted = f\"{round(runtime_formatted) % units[idx][1]} {units[idx - 1][0]}\"\n",
    "                break\n",
    "            else:\n",
    "                runtime_formatted = runtime_formatted / units[idx][1]\n",
    "\n",
    "        # special case for years\n",
    "        if isinstance(runtime_formatted, float):\n",
    "            runtime_formatted = f\"{round(runtime_formatted)} {units[-1][0]}\"\n",
    "\n",
    "        # Append all extracted and formatted data to data array\n",
    "        return (logical_qubits, logical_depth_formatted, num_tstates_formatted, code_distance, num_tfactories, tfactory_fraction_formatted, physical_qubits_formatted, runtime_formatted)\n",
    "\n",
    "    data = [get_row(results.data(index)) for index in range(len(results))]\n",
    "\n",
    "    # Create data frame with explicit column names and configuration names extracted from array\n",
    "    import pandas as pd\n",
    "    df = pd.DataFrame(data, columns=[\"Logical qubits\", \"Logical depth\", \"T states\", \"Code distance\", \"T factories\", \"T factory fraction\", \"Physical qubits\", \"Physical runtime\"], index=labels)\n",
    "\n",
    "    from IPython.display import HTML\n",
    "\n",
    "    html = f\"\"\"\n",
    "    <div style=\"padding: 10px; margin: 5px; border: solid 1px; border-radius: 10px\"><h3 style=\"border-bottom: solid 1px; display: inline-block\">Summary</h3>{df.to_html()}</div>\n",
    "    <h3 style=\"border-bottom: solid 1px; display: inline-block\">Details</h3>{results[:]._repr_html_()}\n",
    "    \"\"\"\n",
    "\n",
    "    return HTML(html)\n",
    "\n",
    "dashboard(results)"
   ]
  },
  {
   "cell_type": "markdown",
   "metadata": {},
   "source": [
    "The numbers in the table match the numbers in the paper [Assessing requirements\n",
    "for scaling quantum computers to real-world impact](https://aka.ms/AQ/RE/Paper).\n",
    "Feel free to use this table as a starting point for your own experiments.  For\n",
    "example, you can use other or customized qubit parameters."
   ]
  }
 ],
 "metadata": {
  "language_info": {
   "name": "python"
  }
 },
 "nbformat": 4,
 "nbformat_minor": 1
}
