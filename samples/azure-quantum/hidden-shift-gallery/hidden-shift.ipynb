{
  "cells": [
    {
      "cell_type": "markdown",
      "metadata": {},
      "source": [
        "# Quantum algorithms for fast convolutions and hidden shifts\n",
        "\n",
        "Welcome, this notebook explores the execution of _hidden shift problems_ on a quantum computer. One way to think about this problem space \n",
        "is that we are using the quantum computer to help us compute the convolution of two functions. \n",
        "\n",
        "It turns out that a quantum computer can in principle compute convolutions in a super-fast way, which in turn is based on the quantum computer's ability to \n",
        "compute Fourier transforms in a super-fast way. The way convolutions are used is to find unknown shifts (\"offsets\") between two functions. We call this the \n",
        "\"hidden shift problem.\" Like Shor's algorithm for factoring, the hidden shift problem is a natural source of problems for which a quantum computer has an \n",
        "exponential advantage over the best known classical algorithms. \n",
        "This may eventually help in solving deconvolution problems and enable us to efficiently find patterns in complex data sets,\n",
        "for example finding the pattern on the right-hand side in the graph:\n",
        "\n",
        "<img src=\"hw-shift-figure.png\" />\n",
        "\n",
        "You can have a look into [arXiv:0812.0380](https://arxiv.org/abs/0812.0380) for general background on hidden shifts and related problems\n",
        "and into [arXiv:0811.3208](https://arxiv.org/abs/0811.3208) for the case of hidden shifts over Boolean functions.\n",
        "\n",
        "We will investigate the latter case, in which one is given two Boolean bent functions $f$ and $g$ with the promise that they satisfy the relation\n",
        "\n",
        "$$ g(x) = f(x \\oplus s) $$\n",
        "\n",
        "for all $x$, where $s$ is a hidden bitstring, called _shift_ that we would like to find.\n",
        "A Boolean function is _bent_ if it is as far from linear as possible. In\n",
        "particular, bent functions have flat Fourier spectra, such that each\n",
        "Fourier coefficient is equal in absolute value.\n",
        "\n",
        "In this case, the quantum algorithm described in [arXiv:0811.3208](https://arxiv.org/abs/0811.3208) uses\n",
        "black-box phase oracles $U_{f^\\star}$ and $U_g$ for $f^\\star$ and $g$, respectively, where $f^\\star$ is the dual bent function\n",
        "to $f$ (defined in more detail below), and computes the hidden shift $s$ between $f$ and $g$.\n",
        "\n",
        "The quantum circuit for this type of hidden shift problems is as follows:\n",
        "\n",
        "<img src=\"hidden-shift-hs1.png\" width=\"600px\" />\n",
        "\n",
        "Black-box phase oracles compute the value of a Boolean function $f(x)$ into the phase, i.e., $U_f = \\sum_x (-1)^{f(x)}|x\\rangle\\langle x|$.\n",
        "More information on phase oracles can be found in the [Quantum Katas](https://github.com/microsoft/QuantumKatas/tree/main/tutorials/Oracles).\n",
        "\n",
        "You can have a look into [arXiv:0812.0380](https://arxiv.org/abs/0812.0380) for general background on hidden shifts and related problems\n",
        "and into [arXiv:0811.3208](https://arxiv.org/abs/0811.3208) for the case of hidden shifts\n",
        "\n"
      ]
    },
    {
      "cell_type": "markdown",
      "metadata": {},
      "source": [
        "## 1. Connect to the Azure Quantum workspace\n",
        "\n",
        "Let's start by connecting to the Azure Quantum service.\n",
        "We construct an instance of the `AzureQuantumProvider`. Note that it's imported from `azure.quantum.qiskit`."
      ]
    },
    {
      "cell_type": "code",
      "execution_count": 1,
      "metadata": {
        "dotnet_interactive": {
          "language": "csharp"
        }
      },
      "outputs": [],
      "source": [
        "from azure.quantum.qiskit import AzureQuantumProvider\n",
        "provider = AzureQuantumProvider (\n",
        "    resource_id = \"\",\n",
        "    location = \"\"\n",
        ")"
      ]
    },
    {
      "cell_type": "markdown",
      "metadata": {},
      "source": [
        "Next we are going to import some packages to describe and visualize quantum circuits from the `qiskit` package.\n",
        "We'll also import packages from _NumPy_ and _matplotlib_ to create plots from the experimental data.\n",
        "Finally, we'll list the targets included in our workspace."
      ]
    },
    {
      "cell_type": "code",
      "execution_count": 2,
      "metadata": {
        "dotnet_interactive": {
          "language": "csharp"
        }
      },
      "outputs": [
        {
          "name": "stdout",
          "output_type": "stream",
          "text": [
            "This workspace's targets:\n",
            "- honeywell.hqs-lt-s1\n",
            "- honeywell.hqs-lt-s1-apival\n",
            "- honeywell.hqs-lt-s2\n",
            "- honeywell.hqs-lt-s2-apival\n",
            "- honeywell.hqs-lt-s1-sim\n",
            "- ionq.qpu\n",
            "- ionq.simulator\n"
          ]
        }
      ],
      "source": [
        "from qiskit import QuantumCircuit, QuantumRegister\n",
        "from qiskit.compiler import transpile\n",
        "from qiskit.tools.monitor import job_monitor\n",
        "from qiskit.visualization import plot_histogram\n",
        "\n",
        "import numpy as np\n",
        "from numpy.linalg import norm\n",
        "import matplotlib.pyplot as plt\n",
        "\n",
        "print(\"This workspace's targets:\")\n",
        "for backend in provider.backends():\n",
        "    print(\"- \" + backend.name())"
      ]
    },
    {
      "cell_type": "markdown",
      "metadata": {},
      "source": [
        "We will be using some of these targets in this notebook, but whenever you see such a target's name, note that you can easily exchange them by other targets in this list.\n",
        "You can learn more about the various targets in the 👋🌎 _Hello world_ samples."
      ]
    },
    {
      "cell_type": "markdown",
      "metadata": {},
      "source": [
        "## 2. Build a simple hidden shift problem\n",
        "\n",
        "Let's first create a function that creates hidden shift problems by passing to it phase oracle circuits for $U_g$ and $U_{f^\\star}$."
      ]
    },
    {
      "cell_type": "code",
      "execution_count": 3,
      "metadata": {
        "dotnet_interactive": {
          "language": "csharp"
        }
      },
      "outputs": [],
      "source": [
        "def hidden_shift(oracle_g, oracle_fstar):\n",
        "    \"\"\"Creates a hidden shift circuit based on phase oracle circuits for `oracle_g` and `oracle_fstar`.\"\"\"\n",
        "\n",
        "    # Obtain the number of qubits from oracle_g\n",
        "    num_qubits = oracle_g.num_qubits\n",
        "\n",
        "    # Check that number of qubits are the same for both oracles\n",
        "    assert num_qubits == oracle_fstar.num_qubits, \"Number of qubits for both oracles must be equal\"\n",
        "\n",
        "    # A quantum register for all qubits we are using in this circuit.\n",
        "    qs = QuantumRegister(num_qubits, name=\"q\")\n",
        "\n",
        "    # This constructs the quantum circuit\n",
        "    circ = QuantumCircuit(qs, name=\"Hidden shift\")\n",
        "    # A layer of H gates\n",
        "    circ.h(qs)\n",
        "    # Apply $U_g$ (rename it for visualization)\n",
        "    oracle_g.name = \"Ug\"\n",
        "    circ.append(oracle_g, qs)\n",
        "    # Another layer of H gates\n",
        "    circ.h(qs)\n",
        "    # Apply $U_{f^\\star}$\n",
        "    oracle_fstar.name = \"Uf*\"\n",
        "    circ.append(oracle_fstar, qs)\n",
        "    # And a final layer of H gates\n",
        "    circ.h(qs)\n",
        "    circ.measure_all()\n",
        "\n",
        "    return circ"
      ]
    },
    {
      "cell_type": "markdown",
      "metadata": {},
      "source": [
        "We have now a powerful routine to describe various hidden shift problems based on Boolean bent functions.\n",
        "The first bent function we are investigating is the inner product\n",
        "\n",
        "$$ f(x_1, \\dots, x_{2k}) = (x_1 \\land x_2) \\oplus (x_3 \\land x_4) \\oplus \\cdots \\oplus (x_{2k-1} \\land x_{2k}) $$\n",
        "\n",
        "An appealing property about this function is it's equal to its dual, i.e., $f^\\star = f$.\n",
        "The following helper circuit implements this function as a phase oracle $U_f$ by using CZ gates for each AND pair in the inner product.\n",
        "Its effect to the computational basis state $|x\\rangle$ is $(-1)^{f(x)}|x\\rangle$.\n",
        "In the following Phython code the argument `num_qubits` corresponds to $2k$."
      ]
    },
    {
      "cell_type": "code",
      "execution_count": 4,
      "metadata": {
        "dotnet_interactive": {
          "language": "csharp"
        }
      },
      "outputs": [],
      "source": [
        "def inner_product(num_qubits):\n",
        "    \"\"\"Creates the inner product of two qubit registers, which are the alternating qubits over `num_qubits` bits\"\"\"\n",
        "\n",
        "    # Number of qubits must be even\n",
        "    assert num_qubits % 2 == 0, \"Number of qubits must be even\"\n",
        "\n",
        "    # Create a quantum circuit\n",
        "    circ = QuantumCircuit(num_qubits, name='inner_product')\n",
        "    # Apply CZ gates to pairs of even and odd qubit indices\n",
        "    for c, t in zip(range(0, num_qubits, 2), range(1, num_qubits, 2)):\n",
        "        circ.cz(c, t)\n",
        "    return circ"
      ]
    },
    {
      "cell_type": "markdown",
      "metadata": {},
      "source": [
        "Next, we want to implement $g(x) = f(x \\oplus s)$ for some shift $s$.\n",
        "For this purpose, we first construct a building block that computes the XOR operation with $s$ (passed as argument `shift`) in-place into a quantum register of length `num_bits`.\n",
        "More precisely, the action of this building block on the computational basis state $|x\\rangle$ is $|x \\oplus s\\rangle$, where $\\oplus$ is the bit-wise XOR operation."
      ]
    },
    {
      "cell_type": "code",
      "execution_count": 5,
      "metadata": {
        "dotnet_interactive": {
          "language": "csharp"
        }
      },
      "outputs": [],
      "source": [
        "def xor(shift, num_bits):\n",
        "    \"\"\"Bitwise XOR of `num_bits`-bit value `shift`\"\"\"\n",
        "\n",
        "    # Shift must be smaller than 2^num_bits\n",
        "    assert shift >= 0 and shift < 2**num_bits, f\"Shift must be between 0 and {2**num_bits - 1}\"\n",
        "\n",
        "    # Create a quantum circuit with `num_bits` qubits\n",
        "    circ = QuantumCircuit(num_bits, name=f'xor({shift})')\n",
        "    # Returns all indexes which correspond to a `1` in the binary expansion of `shift`\n",
        "    ones = [idx for idx in range(num_bits) if (shift >> idx) & 1 == 1]\n",
        "    # Apply an X operation to all indexes in `ones` (this only works if `ones` is not empty)\n",
        "    if len(ones) != 0:\n",
        "        circ.x(ones)\n",
        "\n",
        "    return circ"
      ]
    },
    {
      "cell_type": "markdown",
      "metadata": {},
      "source": [
        "The next helper function takes as input a phase oracle $U_f$ and creates a phase oracle $U_g$ such that $g(x) = f(x \\oplus s)$ by conjugating the phase oracle with the XOR operation we just defined."
      ]
    },
    {
      "cell_type": "code",
      "execution_count": 6,
      "metadata": {
        "dotnet_interactive": {
          "language": "csharp"
        }
      },
      "outputs": [],
      "source": [
        "def shifted_phase_oracle(shift, phase_oracle):\n",
        "    \"\"\"Creates U_g from U_f (phase_oracle), where g(x) = f(x ⊕ s)\"\"\"\n",
        "    # Retrieve qubits from input phase oracle\n",
        "    qs = phase_oracle.qubits\n",
        "    # Create a quantum circuit using the qubits from the phase oracle\n",
        "    circ = QuantumCircuit(qs)\n",
        "    # Compute shift into the computational state using the XOR operation\n",
        "    circ.append(xor(shift, phase_oracle.num_qubits), qs)\n",
        "    # Apply the phase oracle onto the shifted state\n",
        "    circ.append(phase_oracle, qs)\n",
        "    # Uncompute the shift by applying the XOR operation another time\n",
        "    circ.append(xor(shift, phase_oracle.num_qubits), qs)\n",
        "\n",
        "    return circ"
      ]
    },
    {
      "cell_type": "markdown",
      "metadata": {},
      "source": [
        "We are now equipped to build a first simple hidden shift problem using the inner product as bent function.\n",
        "We configure the problem by its size `num_qubits`, which should be an even number, and represents the overall number of qubits $n$ in the circuit,\n",
        "and `shift` which is a non-negative number smaller than $2^n$."
      ]
    },
    {
      "cell_type": "code",
      "execution_count": 7,
      "metadata": {
        "dotnet_interactive": {
          "language": "csharp"
        }
      },
      "outputs": [
        {
          "data": {
            "text/html": [
              "<pre style=\"word-wrap: normal;white-space: pre;background: #fff0;line-height: 1.1;font-family: &quot;Courier New&quot;,Courier,monospace\">        ┌───┐┌─────┐┌───┐┌──────┐┌───┐ ░ ┌─┐         \n",
              "   q_0: ┤ H ├┤0    ├┤ H ├┤0     ├┤ H ├─░─┤M├─────────\n",
              "        ├───┤│     │├───┤│      │├───┤ ░ └╥┘┌─┐      \n",
              "   q_1: ┤ H ├┤1    ├┤ H ├┤1     ├┤ H ├─░──╫─┤M├──────\n",
              "        ├───┤│  Ug │├───┤│  Uf* │├───┤ ░  ║ └╥┘┌─┐   \n",
              "   q_2: ┤ H ├┤2    ├┤ H ├┤2     ├┤ H ├─░──╫──╫─┤M├───\n",
              "        ├───┤│     │├───┤│      │├───┤ ░  ║  ║ └╥┘┌─┐\n",
              "   q_3: ┤ H ├┤3    ├┤ H ├┤3     ├┤ H ├─░──╫──╫──╫─┤M├\n",
              "        └───┘└─────┘└───┘└──────┘└───┘ ░  ║  ║  ║ └╥┘\n",
              "meas: 4/══════════════════════════════════╩══╩══╩══╩═\n",
              "                                          0  1  2  3 </pre>"
            ],
            "text/plain": [
              "        ┌───┐┌─────┐┌───┐┌──────┐┌───┐ ░ ┌─┐         \n",
              "   q_0: ┤ H ├┤0    ├┤ H ├┤0     ├┤ H ├─░─┤M├─────────\n",
              "        ├───┤│     │├───┤│      │├───┤ ░ └╥┘┌─┐      \n",
              "   q_1: ┤ H ├┤1    ├┤ H ├┤1     ├┤ H ├─░──╫─┤M├──────\n",
              "        ├───┤│  Ug │├───┤│  Uf* │├───┤ ░  ║ └╥┘┌─┐   \n",
              "   q_2: ┤ H ├┤2    ├┤ H ├┤2     ├┤ H ├─░──╫──╫─┤M├───\n",
              "        ├───┤│     │├───┤│      │├───┤ ░  ║  ║ └╥┘┌─┐\n",
              "   q_3: ┤ H ├┤3    ├┤ H ├┤3     ├┤ H ├─░──╫──╫──╫─┤M├\n",
              "        └───┘└─────┘└───┘└──────┘└───┘ ░  ║  ║  ║ └╥┘\n",
              "meas: 4/══════════════════════════════════╩══╩══╩══╩═\n",
              "                                          0  1  2  3 "
            ]
          },
          "execution_count": 7,
          "metadata": {},
          "output_type": "execute_result"
        }
      ],
      "source": [
        "num_qubits = 4\n",
        "shift = 5\n",
        "\n",
        "# Create phase oracle circuit for $f^\\star$\n",
        "oracle_fstar = inner_product(num_qubits)\n",
        "\n",
        "# Create phase oracle circuit for $g$\n",
        "oracle_g = shifted_phase_oracle(shift, oracle_fstar)\n",
        "\n",
        "# Create hidden shift circuit\n",
        "circ = hidden_shift(oracle_g, oracle_fstar)\n",
        "\n",
        "# Print out the circuit (and ensure that the circuit is not paginated)\n",
        "circ.draw(fold=-1)"
      ]
    },
    {
      "cell_type": "markdown",
      "metadata": {},
      "source": [
        "## 3. Submit the quantum program to IonQ's and Quantinuum's simulators\n",
        "\n",
        "Next, we are executing this circuit on IonQ's full-state simulator `ionq.simulator` and on Quantinuum's simulator `honeywell.hqs-lt-s1-sim`.\n",
        "Afterwards, we will write a loop in which we run several experiments using various shifts.\n",
        "Before sending the circuit to a backend, we must expand all building blocks.\n",
        "The easiest way to do this is by transpiling the quantum circuit into the target gate set of the backend's quantum computer.\n",
        "To this end, we construct a backend, and call the `transpile` function to obtain\n",
        "an expanded and possibly optimized quantum circuit (note that the `X` gates were merged with the `H` gates)."
      ]
    },
    {
      "cell_type": "code",
      "execution_count": 8,
      "metadata": {
        "dotnet_interactive": {
          "language": "csharp"
        }
      },
      "outputs": [
        {
          "data": {
            "text/html": [
              "<pre style=\"word-wrap: normal;white-space: pre;background: #fff0;line-height: 1.1;font-family: &quot;Courier New&quot;,Courier,monospace\">        ┌─────────┐   ┌──────────┐   ┌───┐ ░ ┌─┐         \n",
              "   q_0: ┤ Ry(π/2) ├─■─┤ Ry(-π/2) ├─■─┤ H ├─░─┤M├─────────\n",
              "        └──┬───┬──┘ │ └──┬───┬───┘ │ ├───┤ ░ └╥┘┌─┐      \n",
              "   q_1: ───┤ H ├────■────┤ H ├─────■─┤ H ├─░──╫─┤M├──────\n",
              "        ┌──┴───┴──┐   ┌──┴───┴───┐   ├───┤ ░  ║ └╥┘┌─┐   \n",
              "   q_2: ┤ Ry(π/2) ├─■─┤ Ry(-π/2) ├─■─┤ H ├─░──╫──╫─┤M├───\n",
              "        └──┬───┬──┘ │ └──┬───┬───┘ │ ├───┤ ░  ║  ║ └╥┘┌─┐\n",
              "   q_3: ───┤ H ├────■────┤ H ├─────■─┤ H ├─░──╫──╫──╫─┤M├\n",
              "           └───┘         └───┘       └───┘ ░  ║  ║  ║ └╥┘\n",
              "meas: 4/══════════════════════════════════════╩══╩══╩══╩═\n",
              "                                              0  1  2  3 </pre>"
            ],
            "text/plain": [
              "        ┌─────────┐   ┌──────────┐   ┌───┐ ░ ┌─┐         \n",
              "   q_0: ┤ Ry(π/2) ├─■─┤ Ry(-π/2) ├─■─┤ H ├─░─┤M├─────────\n",
              "        └──┬───┬──┘ │ └──┬───┬───┘ │ ├───┤ ░ └╥┘┌─┐      \n",
              "   q_1: ───┤ H ├────■────┤ H ├─────■─┤ H ├─░──╫─┤M├──────\n",
              "        ┌──┴───┴──┐   ┌──┴───┴───┐   ├───┤ ░  ║ └╥┘┌─┐   \n",
              "   q_2: ┤ Ry(π/2) ├─■─┤ Ry(-π/2) ├─■─┤ H ├─░──╫──╫─┤M├───\n",
              "        └──┬───┬──┘ │ └──┬───┬───┘ │ ├───┤ ░  ║  ║ └╥┘┌─┐\n",
              "   q_3: ───┤ H ├────■────┤ H ├─────■─┤ H ├─░──╫──╫──╫─┤M├\n",
              "           └───┘         └───┘       └───┘ ░  ║  ║  ║ └╥┘\n",
              "meas: 4/══════════════════════════════════════╩══╩══╩══╩═\n",
              "                                              0  1  2  3 "
            ]
          },
          "execution_count": 8,
          "metadata": {},
          "output_type": "execute_result"
        }
      ],
      "source": [
        "# Create an object that represents IonQ's simulator target, \"ionq.simulator\".\n",
        "# Note that any target you have enabled in this workspace can\n",
        "# be used here. Azure Quantum makes it extremely easy to submit\n",
        "# the same quantum program to different providers. \n",
        "ionq_backend = provider.get_backend(\"ionq.simulator\")\n",
        "\n",
        "transpiled = transpile(circ, ionq_backend)\n",
        "transpiled.draw()"
      ]
    },
    {
      "cell_type": "markdown",
      "metadata": {},
      "source": [
        "Now we are submitting the transpiled circuit to the selected backend for 100 shots.\n",
        "We'll get back a `job` instance and print it's job ID."
      ]
    },
    {
      "cell_type": "code",
      "execution_count": 9,
      "metadata": {
        "dotnet_interactive": {
          "language": "csharp"
        }
      },
      "outputs": [
        {
          "name": "stdout",
          "output_type": "stream",
          "text": [
            "Job id: b207c958-9df2-11ec-802e-acde48001122\n"
          ]
        }
      ],
      "source": [
        "# Using the IonQ simulator target, call \"run\" to submit the job. We'll\n",
        "# use 100 shots (simulated runs).\n",
        "job = ionq_backend.run(transpiled, shots=100)\n",
        "print(\"Job id:\", job.id())"
      ]
    },
    {
      "cell_type": "markdown",
      "metadata": {},
      "source": [
        "The job ID can be used to retrieve the results later using the [get_details function](https://docs.microsoft.com/en-us/azure/quantum/optimization-job-reference#jobdetails) or by viewing it under the **Job management** section of the portal.\n",
        "\n",
        "You can monitor the job status with Qiskit's `job_monitor` function.\n",
        "\n",
        "This may take a minute or so ⏳. Your job will be packaged and sent to IonQ, where it will wait its turn to be run. You'll see your job go through these stages: \"job is queued\" -> \"job is actively running\" -> \"job has successfully run.\"\n",
        "Once the job has finished, we are retrieving the counts from the backend.\n",
        "With IonQ's full state simulator, we should see a 100% probability only for the selected shift."
      ]
    },
    {
      "cell_type": "code",
      "execution_count": 10,
      "metadata": {
        "dotnet_interactive": {
          "language": "csharp"
        }
      },
      "outputs": [
        {
          "name": "stdout",
          "output_type": "stream",
          "text": [
            "Job Status: job has successfully run\n"
          ]
        },
        {
          "data": {
            "image/png": "[encoded data removed]",
            "text/plain": [
              "<Figure size 504x360 with 1 Axes>"
            ]
          },
          "execution_count": 10,
          "metadata": {},
          "output_type": "execute_result"
        }
      ],
      "source": [
        "job_monitor(job)\n",
        "result = job.result()\n",
        "plot_histogram(result.get_counts(transpiled), title=\"Result\")"
      ]
    },
    {
      "cell_type": "markdown",
      "metadata": {},
      "source": [
        "Now we are creating a backend for Quantinuum's noisy simulator.  Before we running the circuit, we are going to estimate the cost of simulating the circuit (To learn more about job pricing, review [this documentation](https://docs.microsoft.com/azure/quantum/azure-quantum-job-costs).)."
      ]
    },
    {
      "cell_type": "code",
      "execution_count": 11,
      "metadata": {
        "dotnet_interactive": {
          "language": "csharp"
        }
      },
      "outputs": [
        {
          "name": "stdout",
          "output_type": "stream",
          "text": [
            "Estimated cost: 6.64 HQC\n"
          ]
        }
      ],
      "source": [
        "# This time we are creating a backend for Quantinuum's emulator, which also simulates noise\n",
        "quantinuum_backend = provider.get_backend(\"honeywell.hqs-lt-s1-sim\")\n",
        "\n",
        "# We transpile the circuit into the backend's instruction set\n",
        "transpiled = transpile(circ, quantinuum_backend)\n",
        "\n",
        "# And we estimate the cost of simulating the circuit 100 times\n",
        "cost = quantinuum_backend.estimate_cost(transpiled, count=100)\n",
        "print(f\"Estimated cost: {cost.estimated_total} {cost.currency_code}\")"
      ]
    },
    {
      "cell_type": "markdown",
      "metadata": {},
      "source": [
        "The next code section is commented to prevent accidental costs.  Uncomment the code to run the code on the Quantinuum noisy simulator."
      ]
    },
    {
      "cell_type": "code",
      "execution_count": 12,
      "metadata": {
        "dotnet_interactive": {
          "language": "csharp"
        }
      },
      "outputs": [],
      "source": [
        "# job = quantinuum_backend.run(transpiled, count=100)\n",
        "# print(\"Job id:\", job.id())\n",
        "# job_monitor(job)\n",
        "# result = job.result()\n",
        "# plot_histogram(result.get_counts(transpiled), title=\"Result\")"
      ]
    },
    {
      "cell_type": "markdown",
      "metadata": {},
      "source": [
        "## 4. Create a large experiment and a Manhattan histogram plot\n",
        "\n",
        "Based on what we have learned, we are now running a more involved.\n",
        "We want to explore the quantum circuit measurement results for multiple shifts, possibly all shifts.\n",
        "We are then plotting the histogram for each experiment in a 3D bar plot, also called Manhattan plot,\n",
        "where one axis shows all possible measurement outcomes, and the other axis lists all experiments for various shifts.\n",
        "We expect to see some skyscrapers reaching out whenever the shift corresponds to the measurement outcome."
      ]
    },
    {
      "cell_type": "code",
      "execution_count": 13,
      "metadata": {
        "dotnet_interactive": {
          "language": "csharp"
        }
      },
      "outputs": [
        {
          "name": "stdout",
          "output_type": "stream",
          "text": [
            "Job Status: job has successfully run\n",
            "Job Status: job has successfully run\n",
            "Job Status: job has successfully run\n",
            "Job Status: job has successfully run\n",
            "Job Status: job has successfully run\n",
            "Job Status: job has successfully run\n",
            "Job Status: job has successfully run\n",
            "Job Status: job has successfully run\n",
            "Job Status: job has successfully run\n",
            "Job Status: job has successfully run\n",
            "Job Status: job has successfully run\n",
            "Job Status: job has successfully run\n",
            "Job Status: job has successfully run\n",
            "Job Status: job has successfully run\n",
            "Job Status: job has successfully run\n",
            "Job Status: job has successfully run\n"
          ]
        }
      ],
      "source": [
        "# Number of qubits in the hidden shift experiment\n",
        "num_qubits = 4\n",
        "# List of shifts to perform (set to `range(1 << num_qubits)` to run all shifts)\n",
        "shifts = range(1 << num_qubits)\n",
        "# Store histogram data for all shifts in a matrix\n",
        "histogram = np.zeros((len(shifts), 1 << num_qubits))\n",
        "\n",
        "# Creates an experiment circuit based on shift\n",
        "def experiment_circuit(shift):\n",
        "    oracle_f = inner_product(num_qubits)\n",
        "    oracle_g = shifted_phase_oracle(shift, oracle_f)\n",
        "    circ = hidden_shift(oracle_g, oracle_fstar)\n",
        "    transpiled = transpile(circ, ionq_backend)\n",
        "    return transpiled\n",
        "\n",
        "# Submit jobs for each shift\n",
        "jobs = [ionq_backend.run(experiment_circuit(shift), shots=100) for shift in shifts]\n",
        "\n",
        "# After we submitted all the jobs, we wait for each of them.\n",
        "# It does not matter whether jobs finishes in a different order than they were executed, since we\n",
        "# traverse the jobs in the same order as they were executed.\n",
        "for row, job in enumerate(jobs):\n",
        "    # Wait for the job to finish\n",
        "    job_monitor(job)\n",
        "\n",
        "    # Retrieve all counts from the job\n",
        "    counts = job.result().get_counts()\n",
        "\n",
        "    # Retrieve the counts for all input assignments\n",
        "    histogram[row] = [counts.get(format(idx, f\"0{num_qubits}b\")) or 0 for idx in range(1 << num_qubits)]\n",
        "\n",
        "    # Compute probabilities from counts\n",
        "    histogram[row] /= norm(histogram[row], ord=1)"
      ]
    },
    {
      "cell_type": "code",
      "execution_count": 14,
      "metadata": {
        "dotnet_interactive": {
          "language": "csharp"
        }
      },
      "outputs": [
        {
          "data": {
            "image/png": "[encoded data removed]",
            "text/plain": [
              "<Figure size 1440x720 with 1 Axes>"
            ]
          },
          "metadata": {
            "needs_background": "light"
          },
          "output_type": "display_data"
        }
      ],
      "source": [
        "# setup the figure and axes to print the Manhattan plot\n",
        "fig = plt.figure(figsize=(20, 10))\n",
        "ax = fig.add_subplot(111, projection='3d')\n",
        "\n",
        "# Create x and y coordinates for the grid based on the dimensions of the matrix\n",
        "x_grid, y_grid = np.meshgrid(np.arange(1 << num_qubits), np.arange(len(shifts)))\n",
        "\n",
        "# Flatten matrices into lists\n",
        "x, y = x_grid.ravel(), y_grid.ravel()\n",
        "top = histogram.ravel()\n",
        "\n",
        "bottom = np.zeros_like(top)\n",
        "\n",
        "ax.bar3d(x, y, bottom, 1, 1, top, shade=True)\n",
        "ax.set_title(f'Manhatten plot for hidden shift on {num_qubits} qubits')\n",
        "\n",
        "plt.show()"
      ]
    },
    {
      "cell_type": "markdown",
      "metadata": {},
      "source": [
        "## 5. Investigating more complex bent functions\n",
        "\n",
        "The inner product bent function can be generalized to the family of Maiorana-McFarland bent functions\n",
        "$$ f(x, y) = x\\pi(y)^t \\oplus h(y) $$\n",
        "where $x = x_1, \\dots, x_k$, $y = y_1, \\dots, y_n$, and $\\pi \\in S_{2^k}$ is a permutation of all possible $2^k$ bitstrings of length $k$.\n",
        "The inner product $x\\pi(y)^t$ is as defined above, and $h$ can be any $k$-input function.\n",
        "The dual function of a Maiorana-McFarland function is\n",
        "$$ f^\\star(x, y) = \\pi^{-1}(x)y^t \\oplus h(\\pi^{-1}(x)) $$\n",
        "where $\\pi^{-1}$ is the inverse permutation to $\\pi$.\n",
        "\n",
        "The next function can create phase oracles for some of these Maiorana-McFarland functions $f$ and their dual $f^\\star$, in which $h = 0$ and $\\pi \\in S_{2^k}$ is defined via an index permutation $\\sigma \\in S_k$ such that\n",
        "$ \\pi((b_{k-1}\\dots b_0)_2) \\mapsto (b_{\\sigma(k-1)} \\dots b_{\\sigma(0)})_2 $.\n",
        "Such permutations can easily be implemented using SWAP gates on the input qubits and we are using the `Permutation` class to find these SWAP gates automatically."
      ]
    },
    {
      "cell_type": "code",
      "execution_count": 15,
      "metadata": {
        "dotnet_interactive": {
          "language": "csharp"
        }
      },
      "outputs": [],
      "source": [
        "from qiskit.circuit.library.generalized_gates.permutation import Permutation\n",
        "\n",
        "def maiorana_mcfarland_bent_function(num_qubits, index_permutation):\n",
        "    \"\"\"Creates Maiorana-McFarland bent function based on index permutation\"\"\"\n",
        "\n",
        "    assert num_qubits % 2 == 0, \"Number of qubits must be even\"\n",
        "\n",
        "    # Create permutation circuit based on index_permutation.\n",
        "    # Note that the permutation is only applied on half the qubits\n",
        "    perm = Permutation(num_qubits // 2, index_permutation)\n",
        "\n",
        "    # We are considering the even qubits in this circuits corresponding to x in the definition\n",
        "    # above, and the odd qubits corresponding to y in the definition above.\n",
        "\n",
        "    # Create phase oracle for f\n",
        "    circ_f = QuantumCircuit(num_qubits, name=\"maiorana_mcfarland\")\n",
        "    # Apply permutation to qubits corresponding to x\n",
        "    circ_f.append(perm, range(0, num_qubits, 2))\n",
        "    # Apply inner product to x and y\n",
        "    circ_f.append(inner_product(num_qubits), range(num_qubits))\n",
        "    # Invert permutation on x\n",
        "    circ_f.append(perm.reverse_ops(), range(0, num_qubits, 2))\n",
        "\n",
        "    # Create phase oracle for f_star\n",
        "    circ_fstar = QuantumCircuit(num_qubits, name=\"maiorana_mcfarland\")\n",
        "    # Apply inverse permutation to qubits corresponding to y\n",
        "    circ_fstar.append(perm.reverse_ops(), range(1, num_qubits, 2))\n",
        "    # Apply inner product to x and y\n",
        "    circ_fstar.append(inner_product(num_qubits), range(num_qubits))\n",
        "    # Invert permutation on y\n",
        "    circ_fstar.append(perm, range(1, num_qubits, 2))\n",
        "\n",
        "    # Return both circuits\n",
        "    return circ_f, circ_fstar"
      ]
    },
    {
      "cell_type": "markdown",
      "metadata": {},
      "source": [
        "Let's try an instance of this new family of bent functions.  We are creating a hidden shift problem with 6 qubits and apply the index permutation $(1, 2, 0)$.  Do you know which answer is hidden in the shift (👍), and also let's see if the quantum computer can discover it?"
      ]
    },
    {
      "cell_type": "code",
      "execution_count": 16,
      "metadata": {
        "dotnet_interactive": {
          "language": "csharp"
        }
      },
      "outputs": [
        {
          "name": "stdout",
          "output_type": "stream",
          "text": [
            "Job Status: job has successfully run\n",
            "{'101010': 100}\n"
          ]
        }
      ],
      "source": [
        "num_qubits = 6\n",
        "qubit_permutation = [1, 2, 0]\n",
        "shift = 0b101010               # The answer ;)\n",
        "\n",
        "# Create phase oracles for $f$ and $f^star$\n",
        "oracle_f, oracle_fstar = maiorana_mcfarland_bent_function(num_qubits, qubit_permutation)\n",
        "# Create phase oracle for $g = f(x ⊕ s)$\n",
        "oracle_g = shifted_phase_oracle(shift, oracle_f)\n",
        "\n",
        "# Create hidden shift problem based on oracles\n",
        "circ = hidden_shift(oracle_g, oracle_fstar)\n",
        "# Transpile hidden shift circuit for the backend\n",
        "transpiled = transpile(circ, ionq_backend)\n",
        "\n",
        "# Submit a job\n",
        "job = ionq_backend.run(transpiled, shots=100)\n",
        "\n",
        "# Await the job\n",
        "job_monitor(job)\n",
        "\n",
        "# Print the job's result\n",
        "print(job.result().get_counts())"
      ]
    },
    {
      "cell_type": "markdown",
      "metadata": {
        "nteract": {
          "transient": {
            "deleting": false
          }
        }
      },
      "source": [
        "## 6. Investigating the impact of noise on the quantum algorithm\n",
        "\n",
        "In this section we do a simple experiment that adds noise to the quantum simulation and see what happens when we crank up\n",
        "the number of quantum gates in the circuit, in particular, if we increase the number of entangling gates such as CZ or CNOT \n",
        "significantly. We expect to see a less clear peak at the correct shift and want to see this in the histogram data coming \n",
        "back from emulating the circuit. "
      ]
    },
    {
      "cell_type": "code",
      "execution_count": 17,
      "metadata": {},
      "outputs": [],
      "source": [
        "def toffoli_oracles(num_qubits):\n",
        "    \"\"\"Create two oracles for the hidden shift problem that use Toffoli gates for a state space permutation.\"\"\"\n",
        "    assert num_qubits >= 6, \"Number of bits must be at least 6\"\n",
        "\n",
        "    circ_f = QuantumCircuit(num_qubits, name='IP with Toffoli')\n",
        "    circ_f.ccx(4, 2, 0)\n",
        "    circ_f.ccx(0, 2, 4)\n",
        "    circ_f.append(inner_product(num_qubits), range(num_qubits))\n",
        "    circ_f.ccx(0, 2, 4)\n",
        "    circ_f.ccx(4, 2, 0)\n",
        "\n",
        "    circ_fstar = QuantumCircuit(num_qubits, name='IP with Toffoli')\n",
        "    circ_fstar.ccx(1, 3, 5)\n",
        "    circ_fstar.ccx(5, 3, 1)\n",
        "    circ_fstar.append(inner_product(num_qubits), range(num_qubits))\n",
        "    circ_fstar.ccx(5, 3, 1)\n",
        "    circ_fstar.ccx(1, 3, 5)\n",
        "\n",
        "    return circ_f, circ_fstar"
      ]
    },
    {
      "cell_type": "markdown",
      "metadata": {
        "nteract": {
          "transient": {
            "deleting": false
          }
        }
      },
      "source": [
        "Let us next create a concrete instance of the problem with 6 qubits and a shift of 17.  Then, let's draw the circuit."
      ]
    },
    {
      "cell_type": "code",
      "execution_count": 18,
      "metadata": {
        "jupyter": {
          "outputs_hidden": false,
          "source_hidden": false
        },
        "nteract": {
          "transient": {
            "deleting": false
          }
        }
      },
      "outputs": [
        {
          "data": {
            "text/html": [
              "<pre style=\"word-wrap: normal;white-space: pre;background: #fff0;line-height: 1.1;font-family: &quot;Courier New&quot;,Courier,monospace\">        ┌───┐┌─────┐┌───┐┌──────┐┌───┐ ░ ┌─┐               \n",
              "   q_0: ┤ H ├┤0    ├┤ H ├┤0     ├┤ H ├─░─┤M├───────────────\n",
              "        ├───┤│     │├───┤│      │├───┤ ░ └╥┘┌─┐            \n",
              "   q_1: ┤ H ├┤1    ├┤ H ├┤1     ├┤ H ├─░──╫─┤M├────────────\n",
              "        ├───┤│     │├───┤│      │├───┤ ░  ║ └╥┘┌─┐         \n",
              "   q_2: ┤ H ├┤2    ├┤ H ├┤2     ├┤ H ├─░──╫──╫─┤M├─────────\n",
              "        ├───┤│  Ug │├───┤│  Uf* │├───┤ ░  ║  ║ └╥┘┌─┐      \n",
              "   q_3: ┤ H ├┤3    ├┤ H ├┤3     ├┤ H ├─░──╫──╫──╫─┤M├──────\n",
              "        ├───┤│     │├───┤│      │├───┤ ░  ║  ║  ║ └╥┘┌─┐   \n",
              "   q_4: ┤ H ├┤4    ├┤ H ├┤4     ├┤ H ├─░──╫──╫──╫──╫─┤M├───\n",
              "        ├───┤│     │├───┤│      │├───┤ ░  ║  ║  ║  ║ └╥┘┌─┐\n",
              "   q_5: ┤ H ├┤5    ├┤ H ├┤5     ├┤ H ├─░──╫──╫──╫──╫──╫─┤M├\n",
              "        └───┘└─────┘└───┘└──────┘└───┘ ░  ║  ║  ║  ║  ║ └╥┘\n",
              "meas: 6/══════════════════════════════════╩══╩══╩══╩══╩══╩═\n",
              "                                          0  1  2  3  4  5 </pre>"
            ],
            "text/plain": [
              "        ┌───┐┌─────┐┌───┐┌──────┐┌───┐ ░ ┌─┐               \n",
              "   q_0: ┤ H ├┤0    ├┤ H ├┤0     ├┤ H ├─░─┤M├───────────────\n",
              "        ├───┤│     │├───┤│      │├───┤ ░ └╥┘┌─┐            \n",
              "   q_1: ┤ H ├┤1    ├┤ H ├┤1     ├┤ H ├─░──╫─┤M├────────────\n",
              "        ├───┤│     │├───┤│      │├───┤ ░  ║ └╥┘┌─┐         \n",
              "   q_2: ┤ H ├┤2    ├┤ H ├┤2     ├┤ H ├─░──╫──╫─┤M├─────────\n",
              "        ├───┤│  Ug │├───┤│  Uf* │├───┤ ░  ║  ║ └╥┘┌─┐      \n",
              "   q_3: ┤ H ├┤3    ├┤ H ├┤3     ├┤ H ├─░──╫──╫──╫─┤M├──────\n",
              "        ├───┤│     │├───┤│      │├───┤ ░  ║  ║  ║ └╥┘┌─┐   \n",
              "   q_4: ┤ H ├┤4    ├┤ H ├┤4     ├┤ H ├─░──╫──╫──╫──╫─┤M├───\n",
              "        ├───┤│     │├───┤│      │├───┤ ░  ║  ║  ║  ║ └╥┘┌─┐\n",
              "   q_5: ┤ H ├┤5    ├┤ H ├┤5     ├┤ H ├─░──╫──╫──╫──╫──╫─┤M├\n",
              "        └───┘└─────┘└───┘└──────┘└───┘ ░  ║  ║  ║  ║  ║ └╥┘\n",
              "meas: 6/══════════════════════════════════╩══╩══╩══╩══╩══╩═\n",
              "                                          0  1  2  3  4  5 "
            ]
          },
          "execution_count": 18,
          "metadata": {},
          "output_type": "execute_result"
        }
      ],
      "source": [
        "num_qubits = 6\n",
        "shift = 17\n",
        "\n",
        "# Create phase oracles for $f$ and $f^star$\n",
        "oracle_f, oracle_fstar = toffoli_oracles(num_qubits)\n",
        "# Create phase oracle for $g = f(x ⊕ s)$\n",
        "oracle_g = shifted_phase_oracle(shift, oracle_f)\n",
        "\n",
        "# Create hidden shift problem based on oracles\n",
        "circ = hidden_shift(oracle_g, oracle_fstar)\n",
        "\n",
        "# Print out the circuit (and ensure that the circuit is not paginated)\n",
        "circ.draw(fold=-1)"
      ]
    },
    {
      "cell_type": "markdown",
      "metadata": {
        "nteract": {
          "transient": {
            "deleting": false
          }
        }
      },
      "source": [
        "Next, we are sending this circuit to Quantinuums emulator `honeywell.hqs-lt-s1-sim`. We can use the `quantinuum_backend` instance that we created earlier, and call the `transpile` function to obtain an expanded and possibly optimized quantum circuit (note that the `X` gates were merged with the `H` gates).  Before submitting the circuit to the backend, we print the estimated cost for execution."
      ]
    },
    {
      "cell_type": "code",
      "execution_count": 19,
      "metadata": {
        "jupyter": {
          "outputs_hidden": false,
          "source_hidden": false
        },
        "nteract": {
          "transient": {
            "deleting": false
          }
        }
      },
      "outputs": [
        {
          "name": "stdout",
          "output_type": "stream",
          "text": [
            "Estimated cost: 8.96 HQC\n"
          ]
        }
      ],
      "source": [
        "transpiled = transpile(circ, quantinuum_backend)\n",
        "\n",
        "# And we estimate the cost of simulating the circuit 100 times\n",
        "cost = quantinuum_backend.estimate_cost(transpiled, count=100)\n",
        "print(f\"Estimated cost: {cost.estimated_total} {cost.currency_code}\")"
      ]
    },
    {
      "cell_type": "markdown",
      "metadata": {
        "nteract": {
          "transient": {
            "deleting": false
          }
        }
      },
      "source": [
        "Now we are submitting the transpiled circuit to the selected backend for 100 shots.\n",
        "\n",
        "The next code section is commented to prevent accidental costs.  Uncomment the code to run the code on the Quantinuum noisy simulator."
      ]
    },
    {
      "cell_type": "code",
      "execution_count": 20,
      "metadata": {
        "jupyter": {
          "outputs_hidden": false,
          "source_hidden": false
        },
        "nteract": {
          "transient": {
            "deleting": false
          }
        }
      },
      "outputs": [],
      "source": [
        "# # Using the simulator target, call \"run\" to submit the job.\n",
        "# job = quantinuum_backend.run(transpiled, count=100)\n",
        "\n",
        "# # Get the job results (this method also waits for the Job to complete):\n",
        "# result = job.result()\n",
        "# # The histogram returned by the results can be sparse, so here we add any of the missing bitstring labels.\n",
        "# counts = {format(n, \"03b\"): 0 for n in range(8)}\n",
        "# counts.update(result.get_counts(circuit))\n",
        "# plot_histogram(counts)"
      ]
    },
    {
      "cell_type": "markdown",
      "metadata": {
        "nteract": {
          "transient": {
            "deleting": false
          }
        }
      },
      "source": [
        "As expected, we see a peak at the correct solution for the shift, which is $17$ or as a binary pattern $10001$. There are other \n",
        "bitstrings that are being picked up which is due to the noise of the emulated quantum device. Note that by changing the provider \n",
        "using the function `provider.get_backend` above, it is possible to run the same code also against QPUs. "
      ]
    },
    {
      "cell_type": "markdown",
      "metadata": {},
      "source": [
        "## 7. Next steps\n",
        "\n",
        "I hope you enjoyed our tour through various hidden shift problems.  We encourage you to explore this notebook further, for example by\n",
        "\n",
        "* Configuring different hidden shift problems based on the provided helper circuits\n",
        "* Trying out different backends: How would the Manhattan plot look like when running on a real QPU? Just replace `ionq.simulator` by `ionq.qpu`.\n",
        "* Implementing new phase oracles for bent functions: What about Maiorana-McFarland bent functions in which $h \\neq 0$ or $\\pi$ is not an index permutation?\n",
        "\n",
        "To learn more about submitting Qiskit circuits to Azure Quantum, review [this documentation](https://docs.microsoft.com/azure/quantum/quickstart-microsoft-qiskit?pivots=platform-ionq).\n",
        "\n",
        "To learn more about job pricing, review [this documentation](https://docs.microsoft.com/azure/quantum/azure-quantum-job-costs)."
      ]
    }
  ],
  "metadata": {
    "interpreter": {
      "hash": "40a127b815e0f3d9ba005ae61d1209300c83351d477b6364f3bffc3e84aab6de"
    },
    "kernel_info": {
      "name": "python3"
    },
    "kernelspec": {
      "display_name": "Python 3 (ipykernel)",
      "language": "python",
      "name": "python3"
    },
    "language_info": {
      "codemirror_mode": {
        "name": "ipython",
        "version": 3
      },
      "file_extension": ".py",
      "mimetype": "text/x-python",
      "name": "python",
      "nbconvert_exporter": "python",
      "pygments_lexer": "ipython3",
      "version": "3.7.11"
    },
    "nteract": {
      "version": "nteract-front-end@1.0.0"
    },
    "orig_nbformat": 4
  },
  "nbformat": 4,
  "nbformat_minor": 2
}
