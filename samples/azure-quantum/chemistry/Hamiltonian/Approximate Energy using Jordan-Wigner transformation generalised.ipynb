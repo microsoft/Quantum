{
 "cells": [
  {
   "cell_type": "markdown",
   "id": "79c2f4e5",
   "metadata": {},
   "source": [
    "# Approximate any molecule's ground state energy.\n",
    "\n",
    "In this example notebook, we'll walk through calculating the energy of a molecule given an estimate for the ground state using Azure Quantum. We will do that using a simple algorithm where we prepare the quantum register in a state near the ground state of the molecule using the Jordan-Wigner encoding, and evaluate the energy of the molecule by applying the Hamiltonian operator to that state. To be able to run the algorithm on near-term hardware, we will estimate the energy per Hamiltonian term, and then calculate the total estimated energy by adding the values of these terms."
   ]
  },
  {
   "cell_type": "code",
   "execution_count": 1,
   "id": "55b70453",
   "metadata": {
    "scrolled": false
   },
   "outputs": [
    {
     "name": "stderr",
     "output_type": "stream",
     "text": [
      "/usr/local/lib/python3.9/site-packages/qutip/__init__.py:65: UserWarning: The new version of Cython, (>= 3.0.0) is not supported.\n",
      "  warnings.warn(\n"
     ]
    },
    {
     "name": "stdout",
     "output_type": "stream",
     "text": [
      "Preparing Q# environment...\n",
      "."
     ]
    },
    {
     "data": {
      "application/x-qsharp-data": "{\"LastUpdated\":\"2023-10-05T18:24:13.6788112+00:00\",\"IsCompleted\":false,\"Description\":\"Reloading workspace\",\"Subtask\":null}",
      "text/plain": [
       "Reloading workspace."
      ]
     },
     "metadata": {},
     "output_type": "display_data"
    }
   ],
   "source": [
    "# First, import qsharp and qsharp.azure to be able to compile and submit the quantum program.\n",
    "import qsharp\n",
    "import qsharp.azure\n",
    "qsharp.reload()\n",
    "from Microsoft.Quantum.Chemistry.Hamiltonian import GetHamiltonianTerm, ExpandedCoefficients_, JordanWignerMeasurementOperators\n"
   ]
  },
  {
   "cell_type": "markdown",
   "id": "9efb9be7",
   "metadata": {},
   "source": [
    "### 1. Load molecule data\n",
    "\n",
    "The pre-generated Broombridge file included in this sample contains the details on the molecule's Hamiltonian. A Hamiltonian is an operator that calculates the energy of a molecule by acting on a qubit register that represents the molecule's quantum state by Jordan-Wigner encoding. If we prepare the molecule in the ground state, then we know that applying the Hamiltonian will calculate the ground state energy.\n",
    "\n",
    "Below are the sample files you could use:\n",
    "1. ../data/broombridge/lithiumHydride.yaml\n",
    "2. ../data/broombridge/caffeine.yaml\n",
    "3. ../data/broombridge/hydrogen_0.2.yaml\n",
    "\n",
    "You could also source your molecule file from NW chem library: [NWChem](https://learn.microsoft.com/en-us/azure/quantum/user-guide/libraries/chemistry/samples/end-to-end)"
   ]
  },
  {
   "cell_type": "code",
   "execution_count": 55,
   "id": "601fb1cb",
   "metadata": {
    "scrolled": true
   },
   "outputs": [],
   "source": [
    "from qdk.chemistry.broombridge import load_and_encode"
   ]
  },
  {
   "cell_type": "code",
   "execution_count": 56,
   "id": "f11f81ab",
   "metadata": {},
   "outputs": [],
   "source": [
    "encoded_data = load_and_encode(\"../data/broombridge/caffeine.yaml\")"
   ]
  },
  {
   "cell_type": "markdown",
   "id": "2ff4fc44",
   "metadata": {},
   "source": [
    "This contains a tuple of the number of qubits, the fermionic Hamiltonian term coefficients and the energy offset.\n",
    "\n",
    "The index of each list in the second tuple is will be referred to as the \"term type\"."
   ]
  },
  {
   "cell_type": "code",
   "execution_count": 57,
   "id": "38c84985",
   "metadata": {},
   "outputs": [],
   "source": [
    "num_qubits, fermion_terms, _, energy_offset = encoded_data"
   ]
  },
  {
   "cell_type": "markdown",
   "id": "6d2f1826",
   "metadata": {},
   "source": [
    "### 3. Running on Azure Quantum\n",
    "\n",
    "Connect to Azure Quantum"
   ]
  },
  {
   "cell_type": "code",
   "execution_count": 5,
   "id": "2353946a",
   "metadata": {},
   "outputs": [],
   "source": [
    "rid = \"\" # Enter your workspace's resource ID here\n",
    "location = \"East US\" # Enter your workspace's location here, e.g. \"West US\""
   ]
  },
  {
   "cell_type": "code",
   "execution_count": 7,
   "id": "510a2069",
   "metadata": {
    "scrolled": true
   },
   "outputs": [
    {
     "data": {
      "application/x-qsharp-data": "\"Connecting to Azure Quantum...\"",
      "text/plain": [
       "Connecting to Azure Quantum..."
      ]
     },
     "metadata": {},
     "output_type": "display_data"
    },
    {
     "name": "stdout",
     "output_type": "stream",
     "text": [
      "To sign in, use a web browser to open the page https://microsoft.com/devicelogin and enter the code FMA5ZSKBK to authenticate.\n",
      "\n",
      "\n",
      "Connected to Azure Quantum workspace jkingdon-qw in location eastus.\n"
     ]
    },
    {
     "data": {
      "text/plain": [
       "[{'id': 'ionq.qpu', 'current_availability': {}, 'average_queue_time': 1157432},\n",
       " {'id': 'ionq.qpu.aria-1', 'current_availability': {}, 'average_queue_time': 105954},\n",
       " {'id': 'ionq.qpu.aria-2', 'current_availability': {}, 'average_queue_time': 0},\n",
       " {'id': 'ionq.simulator', 'current_availability': {}, 'average_queue_time': 139972},\n",
       " {'id': 'microsoft.estimator', 'current_availability': {}, 'average_queue_time': 0},\n",
       " {'id': 'quantinuum.qpu.h1-1', 'current_availability': {}, 'average_queue_time': 0},\n",
       " {'id': 'quantinuum.sim.h1-1sc', 'current_availability': {}, 'average_queue_time': 0},\n",
       " {'id': 'quantinuum.qpu.h1-2', 'current_availability': {}, 'average_queue_time': 0},\n",
       " {'id': 'quantinuum.sim.h1-2sc', 'current_availability': {}, 'average_queue_time': 0},\n",
       " {'id': 'quantinuum.sim.h1-1e', 'current_availability': {}, 'average_queue_time': 3},\n",
       " {'id': 'quantinuum.sim.h1-2e', 'current_availability': {}, 'average_queue_time': 88},\n",
       " {'id': 'rigetti.sim.qvm', 'current_availability': {}, 'average_queue_time': 5},\n",
       " {'id': 'rigetti.qpu.aspen-m-2', 'current_availability': {}, 'average_queue_time': 0},\n",
       " {'id': 'rigetti.qpu.aspen-m-3', 'current_availability': {}, 'average_queue_time': 5}]"
      ]
     },
     "execution_count": 7,
     "metadata": {},
     "output_type": "execute_result"
    }
   ],
   "source": [
    "qsharp.azure.connect(\n",
    "   resourceId=rid,\n",
    "   location=location,\n",
    "   credential=\"devicecode\"\n",
    ")"
   ]
  },
  {
   "cell_type": "code",
   "execution_count": 8,
   "id": "4343abac",
   "metadata": {},
   "outputs": [
    {
     "name": "stdout",
     "output_type": "stream",
     "text": [
      "Loading package Microsoft.Quantum.Providers.IonQ and dependencies...\n",
      "Active target is now ionq.simulator\n"
     ]
    },
    {
     "data": {
      "text/plain": [
       "{'id': 'ionq.simulator', 'current_availability': {}, 'average_queue_time': 139972}"
      ]
     },
     "execution_count": 8,
     "metadata": {},
     "output_type": "execute_result"
    }
   ],
   "source": [
    "qsharp.azure.target(\"ionq.simulator\")"
   ]
  },
  {
   "cell_type": "markdown",
   "id": "1ba1bfe5",
   "metadata": {},
   "source": [
    "### 4. Loop over all Hamiltonian terms"
   ]
  },
  {
   "cell_type": "markdown",
   "id": "3500a530",
   "metadata": {},
   "source": [
    "Each Hamiltonian term has a term type, measurement operator and coefficient. To simplify this sample, we will move the coefficients into a flat list. Each nonzero coefficient will render a separate job that we send to Azure Quantum. To calculate the energy for that term, we map result from the job onto a -1 to 1 axis and multiply the value by the corresponding coefficient.\n",
    "\n",
    "We also calculate the measurement operators that we would need to measure the "
   ]
  },
  {
   "cell_type": "code",
   "execution_count": 58,
   "id": "22a79e06",
   "metadata": {},
   "outputs": [
    {
     "name": "stdout",
     "output_type": "stream",
     "text": [
      "term_type 0\n",
      "qubits [0] coeff [0.17120128499999998]\n",
      "qubits [1] coeff [0.17120128499999998]\n",
      "qubits [2] coeff [-0.222796536]\n",
      "qubits [3] coeff [-0.222796536]\n",
      "term_type 1\n",
      "qubits [0, 1] coeff [0.1686232915]\n",
      "qubits [0, 2] coeff [0.12054614575]\n",
      "qubits [0, 3] coeff [0.16586802525]\n",
      "qubits [1, 2] coeff [0.16586802525]\n",
      "qubits [1, 3] coeff [0.12054614575]\n",
      "qubits [2, 3] coeff [0.1743495025]\n",
      "term_type 2\n",
      "term_type 3\n",
      "qubits [0, 1, 2, 3] coeff [0.0, -0.0453218795, 0.0, 0.0453218795]\n"
     ]
    }
   ],
   "source": [
    "coeffs = []\n",
    "measurementOps = []\n",
    "for term_type, terms in enumerate(fermion_terms):\n",
    "    print (\"term_type\", term_type)\n",
    "    for (qubits, coeff) in terms:\n",
    "        print(\"qubits\", qubits, \"coeff\", coeff)\n",
    "        coeffs += ExpandedCoefficients_(coeff=coeff, termType=term_type)\n",
    "        measurementOps += JordanWignerMeasurementOperators(nQubits=num_qubits, indices=qubits, termType=term_type)"
   ]
  },
  {
   "cell_type": "markdown",
   "id": "0062e6c8",
   "metadata": {},
   "source": [
    "You obtain the total number of coefficients corresponding to each combination of Hamiltonian term and Jordan-Wigner measurement operator using the function above. Now we start a job for each term that has a nonzero coefficient. We do this in batches and wait for the completion of that batch before moving onto the next batch as a qauntum simulator only has limited qubits to compute with."
   ]
  },
  {
   "cell_type": "code",
   "execution_count": 60,
   "id": "3cc6c5ae",
   "metadata": {},
   "outputs": [
    {
     "name": "stdout",
     "output_type": "stream",
     "text": [
      "Submitting Microsoft.Quantum.Chemistry.Hamiltonian.GetHamiltonianTerm to target ionq.simulator...\n",
      "Job successfully submitted.\n",
      "   Job name: Hamiltonian term 0\n",
      "   Job ID: 7ecd711e-82e9-4c46-9e31-f0b86d1251d4\n",
      "Submitting Microsoft.Quantum.Chemistry.Hamiltonian.GetHamiltonianTerm to target ionq.simulator...\n",
      "Job successfully submitted.\n",
      "   Job name: Hamiltonian term 1\n",
      "   Job ID: d274a3f9-71ae-4547-8f6d-574ae060bae0\n",
      "Submitting Microsoft.Quantum.Chemistry.Hamiltonian.GetHamiltonianTerm to target ionq.simulator...\n",
      "Job successfully submitted.\n",
      "   Job name: Hamiltonian term 2\n",
      "   Job ID: 3f7ec75d-ece9-41c1-96e8-b6414b46fbd6\n",
      "Submitting Microsoft.Quantum.Chemistry.Hamiltonian.GetHamiltonianTerm to target ionq.simulator...\n",
      "Job successfully submitted.\n",
      "   Job name: Hamiltonian term 3\n",
      "   Job ID: 7e23d061-1da3-48ca-8a37-1e7496d37686\n",
      "Submitting Microsoft.Quantum.Chemistry.Hamiltonian.GetHamiltonianTerm to target ionq.simulator...\n",
      "Job successfully submitted.\n",
      "   Job name: Hamiltonian term 4\n",
      "   Job ID: 0318b452-8129-4ac1-9648-0064a95cbe80\n",
      "Waiting for jobs to complete...\n",
      "Completed job batch!\n",
      "Submitting Microsoft.Quantum.Chemistry.Hamiltonian.GetHamiltonianTerm to target ionq.simulator...\n",
      "Job successfully submitted.\n",
      "   Job name: Hamiltonian term 5\n",
      "   Job ID: 774929bb-e5d8-47ec-a814-0c7f6f5318e2\n",
      "Submitting Microsoft.Quantum.Chemistry.Hamiltonian.GetHamiltonianTerm to target ionq.simulator...\n",
      "Job successfully submitted.\n",
      "   Job name: Hamiltonian term 6\n",
      "   Job ID: ba7a6b32-8552-43cc-b33e-6d77fce2c28c\n",
      "Submitting Microsoft.Quantum.Chemistry.Hamiltonian.GetHamiltonianTerm to target ionq.simulator...\n",
      "Job successfully submitted.\n",
      "   Job name: Hamiltonian term 7\n",
      "   Job ID: 1a287852-b35e-4047-a375-c0985ed3e00e\n",
      "Submitting Microsoft.Quantum.Chemistry.Hamiltonian.GetHamiltonianTerm to target ionq.simulator...\n",
      "Job successfully submitted.\n",
      "   Job name: Hamiltonian term 8\n",
      "   Job ID: ba0f36ad-7aef-4a10-b4c4-de678ce2e503\n",
      "Submitting Microsoft.Quantum.Chemistry.Hamiltonian.GetHamiltonianTerm to target ionq.simulator...\n",
      "Job successfully submitted.\n",
      "   Job name: Hamiltonian term 9\n",
      "   Job ID: 93efdc3a-24a8-474e-a4f5-a681bdb6b25c\n",
      "Waiting for jobs to complete...\n",
      "Completed job batch!\n",
      "Submitting Microsoft.Quantum.Chemistry.Hamiltonian.GetHamiltonianTerm to target ionq.simulator...\n",
      "Job successfully submitted.\n",
      "   Job name: Hamiltonian term 12\n",
      "   Job ID: 8be55e33-2f0a-445a-8a4a-fb441d9637c4\n",
      "Submitting Microsoft.Quantum.Chemistry.Hamiltonian.GetHamiltonianTerm to target ionq.simulator...\n",
      "Job successfully submitted.\n",
      "   Job name: Hamiltonian term 13\n",
      "   Job ID: 8091e137-1d34-40ef-a4cf-815628730d26\n",
      "Waiting for jobs to complete...\n",
      "Completed job batch!\n",
      "Submitting Microsoft.Quantum.Chemistry.Hamiltonian.GetHamiltonianTerm to target ionq.simulator...\n",
      "Job successfully submitted.\n",
      "   Job name: Hamiltonian term 16\n",
      "   Job ID: 6dc19372-a44b-4d29-8e26-4f314da79895\n",
      "Submitting Microsoft.Quantum.Chemistry.Hamiltonian.GetHamiltonianTerm to target ionq.simulator...\n",
      "Job successfully submitted.\n",
      "   Job name: Hamiltonian term 17\n",
      "   Job ID: d2fb270b-0bb6-4e10-9836-63aba9b14a86\n",
      "Waiting for jobs to complete...\n",
      "Completed job batch!\n"
     ]
    }
   ],
   "source": [
    "jobs = []\n",
    "batch_size = 5\n",
    "current_batch_jobs = []\n",
    "\n",
    "for n_op, coeff in enumerate(coeffs):\n",
    "    if coeff != 0.0:\n",
    "        current_batch_jobs.append(qsharp.azure.submit(GetHamiltonianTerm, measurementOps=measurementOps[n_op], nQubits=num_qubits, shots=1000, jobName=f\"Hamiltonian term {n_op}\"))\n",
    "    if ((n_op + 1) % batch_size == 0) or (n_op == (len(coeffs) - 1)):\n",
    "        # wait until all current jobs complete before submitting the next batch\n",
    "        print(\"Waiting for jobs to complete...\")\n",
    "        while True:\n",
    "            all_done = all([qsharp.azure.status(j.id).status == \"Succeeded\" for j in current_batch_jobs])\n",
    "            if all_done:\n",
    "                print(\"Completed job batch!\")\n",
    "                break\n",
    "        # clear current batch jobs for next batch            \n",
    "        current_batch_jobs = []"
   ]
  },
  {
   "cell_type": "code",
   "execution_count": 61,
   "id": "002adcf4",
   "metadata": {},
   "outputs": [
    {
     "data": {
      "text/plain": [
       "[]"
      ]
     },
     "execution_count": 61,
     "metadata": {},
     "output_type": "execute_result"
    }
   ],
   "source": [
    "results = [qsharp.azure.output(j.id) for j in jobs]\n",
    "results"
   ]
  },
  {
   "cell_type": "markdown",
   "id": "f90d71ed",
   "metadata": {},
   "source": [
    "### 5. Estimate energy"
   ]
  },
  {
   "cell_type": "code",
   "execution_count": 62,
   "id": "3742b6b5",
   "metadata": {},
   "outputs": [],
   "source": [
    "def calc_energy(coeffs, results):\n",
    "    return sum([(2. * res.get(\"0\", 0.0) - 1.) * coeff for coeff, res in zip(coeffs, results)]) + energy_offset"
   ]
  },
  {
   "cell_type": "code",
   "execution_count": 63,
   "id": "ee6339e5",
   "metadata": {},
   "outputs": [
    {
     "data": {
      "text/plain": [
       "-0.09883444600000002"
      ]
     },
     "execution_count": 63,
     "metadata": {},
     "output_type": "execute_result"
    }
   ],
   "source": [
    "calc_energy(coeffs, results)"
   ]
  },
  {
   "cell_type": "markdown",
   "id": "1fc3eb7c",
   "metadata": {},
   "source": [
    "Now we are ready to run on hardware! Switch to the QPU."
   ]
  },
  {
   "cell_type": "code",
   "execution_count": null,
   "id": "7c5ec02b",
   "metadata": {},
   "outputs": [],
   "source": [
    "qsharp.azure.target(\"ionq.qpu\")"
   ]
  },
  {
   "cell_type": "code",
   "execution_count": null,
   "id": "4e045032",
   "metadata": {
    "scrolled": true
   },
   "outputs": [],
   "source": [
    "jobs_hw = [\n",
    "    qsharp.azure.submit(GetHamiltonianTerm, nOp=n_op, measurementOps=measurementOps, shots=1000, jobName=f\"Hamiltonian term {n_op}\") \n",
    "    for n_op, coeff in enumerate(coeffs) if coeff != 0\n",
    "]"
   ]
  },
  {
   "cell_type": "markdown",
   "id": "f65fb519",
   "metadata": {},
   "source": [
    "Check if the jobs succeeded."
   ]
  },
  {
   "cell_type": "code",
   "execution_count": null,
   "id": "927be51a",
   "metadata": {},
   "outputs": [],
   "source": [
    "jobs_status = [qsharp.azure.status(j) for j in jobs_hw]\n",
    "[\n",
    "    j.status + \" | \" + j.name + \" | \" + j.target + \" | \" + j.creation_time + \" | \" + j.end_execution_time \n",
    "    for j in jobs_status\n",
    "]"
   ]
  },
  {
   "cell_type": "markdown",
   "id": "8f263a26",
   "metadata": {},
   "source": [
    "Get results and estimate energy"
   ]
  },
  {
   "cell_type": "code",
   "execution_count": null,
   "id": "cd5fd7ac",
   "metadata": {},
   "outputs": [],
   "source": [
    "results = [qsharp.azure.output(j.id) for j in jobs_hw]\n",
    "results"
   ]
  },
  {
   "cell_type": "code",
   "execution_count": null,
   "id": "5c1e5479",
   "metadata": {},
   "outputs": [],
   "source": [
    "calc_energy(coeffs, results)"
   ]
  }
 ],
 "metadata": {
  "kernelspec": {
   "display_name": "Python 3",
   "language": "python",
   "name": "python3"
  },
  "language_info": {
   "codemirror_mode": {
    "name": "ipython",
    "version": 3
   },
   "file_extension": ".py",
   "mimetype": "text/x-python",
   "name": "python",
   "nbconvert_exporter": "python",
   "pygments_lexer": "ipython3",
   "version": "3.9.17"
  }
 },
 "nbformat": 4,
 "nbformat_minor": 5
}
