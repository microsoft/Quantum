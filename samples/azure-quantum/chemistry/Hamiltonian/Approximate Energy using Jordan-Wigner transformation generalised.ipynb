{
 "cells": [
  {
   "cell_type": "markdown",
   "id": "79c2f4e5",
   "metadata": {},
   "source": [
    "# Approximate any molecule's ground state energy.\n",
    "\n",
    "In this example notebook, we'll walk through calculating the energy of a molecule given an estimate for the ground state using Azure Quantum. We will do that using a simple algorithm where we prepare the quantum register in a state near the ground state of the molecule using the Jordan-Wigner encoding, and evaluate the energy of the molecule by applying the Hamiltonian operator to that state. To be able to run the algorithm on near-term hardware, we will estimate the energy per Hamiltonian term, and then calculate the total estimated energy by adding the values of these terms."
   ]
  },
  {
   "cell_type": "code",
   "execution_count": 2,
   "id": "55b70453",
   "metadata": {
    "scrolled": false
   },
   "outputs": [
    {
     "name": "stderr",
     "output_type": "stream",
     "text": [
      "/usr/local/lib/python3.9/site-packages/qutip/__init__.py:65: UserWarning: The new version of Cython, (>= 3.0.0) is not supported.\n",
      "  warnings.warn(\n"
     ]
    },
    {
     "name": "stdout",
     "output_type": "stream",
     "text": [
      "Preparing Q# environment...\n",
      "."
     ]
    },
    {
     "data": {
      "application/x-qsharp-data": "{\"LastUpdated\":\"2023-09-13T22:35:13.4233446+00:00\",\"IsCompleted\":false,\"Description\":\"Reloading workspace\",\"Subtask\":null}",
      "text/plain": [
       "Reloading workspace."
      ]
     },
     "metadata": {},
     "output_type": "display_data"
    }
   ],
   "source": [
    "# First, import qsharp and qsharp.azure to be able to compile and submit the quantum program.\n",
    "import qsharp\n",
    "import qsharp.azure\n",
    "qsharp.reload()\n",
    "from Microsoft.Quantum.Chemistry.Hamiltonian import GetHamiltonianTerm, GetHamiltonianTermH2, ExpandedCoefficients_, JordanWignerMeasurementOperators\n"
   ]
  },
  {
   "cell_type": "markdown",
   "id": "9efb9be7",
   "metadata": {},
   "source": [
    "### 1. Load molecule data\n",
    "\n",
    "The pre-generated Broombridge file included in this sample contains the details on the molecule's Hamiltonian. A Hamiltonian is an operator that calculates the energy of a molecule by acting on a qubit register that represents the molecule's quantum state by Jordan-Wigner encoding. If we prepare the molecule in the ground state, then we know that applying the Hamiltonian will calculate the ground state energy.\n",
    "\n",
    "Below are the sample files you could use:\n",
    "1. ../data/broombridge/lithiumHydride.yaml\n",
    "2. ../data/broombridge/caffeine.yaml\n",
    "3. ../data/broombridge/hydrogen_0.2.yaml\n",
    "\n",
    "You could also source your molecule file from NW chem library: [NWChem](https://learn.microsoft.com/en-us/azure/quantum/user-guide/libraries/chemistry/samples/end-to-end)"
   ]
  },
  {
   "cell_type": "code",
   "execution_count": 3,
   "id": "601fb1cb",
   "metadata": {
    "scrolled": true
   },
   "outputs": [
    {
     "data": {
      "application/x-qsharp-data": "{\"LastUpdated\":\"2023-09-13T22:35:32.2064644+00:00\",\"IsCompleted\":false,\"Description\":\"Adding package microsoft.quantum.chemistry.jupyter\",\"Subtask\":null}",
      "text/plain": [
       "Adding package microsoft.quantum.chemistry.jupyter."
      ]
     },
     "metadata": {},
     "output_type": "display_data"
    }
   ],
   "source": [
    "from qdk.chemistry.broombridge import load_and_encode"
   ]
  },
  {
   "cell_type": "code",
   "execution_count": 6,
   "id": "f11f81ab",
   "metadata": {},
   "outputs": [],
   "source": [
    "encoded_data = load_and_encode(\"../data/broombridge/lithiumHydride.yaml\")"
   ]
  },
  {
   "cell_type": "markdown",
   "id": "2ff4fc44",
   "metadata": {},
   "source": [
    "This contains a tuple of the number of qubits, the fermionic Hamiltonian term coefficients and the energy offset.\n",
    "\n",
    "The index of each list in the second tuple is will be referred to as the \"term type\"."
   ]
  },
  {
   "cell_type": "code",
   "execution_count": 7,
   "id": "38c84985",
   "metadata": {},
   "outputs": [],
   "source": [
    "num_qubits, fermion_terms, _, energy_offset = encoded_data"
   ]
  },
  {
   "cell_type": "markdown",
   "id": "6d2f1826",
   "metadata": {},
   "source": [
    "### 3. Running on Azure Quantum\n",
    "\n",
    "Connect to Azure Quantum"
   ]
  },
  {
   "cell_type": "code",
   "execution_count": 8,
   "id": "2353946a",
   "metadata": {},
   "outputs": [],
   "source": [
    "rid = \"\" # Enter your workspace's resource ID here\n",
    "location = \"West US\" # Enter your workspace's location here, e.g. \"West US\""
   ]
  },
  {
   "cell_type": "code",
   "execution_count": 9,
   "id": "510a2069",
   "metadata": {
    "scrolled": true
   },
   "outputs": [
    {
     "data": {
      "application/x-qsharp-data": "\"Connecting to Azure Quantum...\"",
      "text/plain": [
       "Connecting to Azure Quantum..."
      ]
     },
     "metadata": {},
     "output_type": "display_data"
    },
    {
     "name": "stdout",
     "output_type": "stream",
     "text": [
      "To sign in, use a web browser to open the page https://microsoft.com/devicelogin and enter the code SC2Y8FMSU to authenticate.\n",
      "\n",
      "\n",
      "Connected to Azure Quantum workspace rheaparekh-azure-quantum in location westus2.\n"
     ]
    },
    {
     "data": {
      "text/plain": [
       "[{'id': 'ionq.qpu', 'current_availability': {}, 'average_queue_time': 15412},\n",
       " {'id': 'ionq.qpu.aria-1', 'current_availability': {}, 'average_queue_time': 829821},\n",
       " {'id': 'ionq.simulator', 'current_availability': {}, 'average_queue_time': 22945},\n",
       " {'id': 'microsoft.estimator', 'current_availability': {}, 'average_queue_time': 0},\n",
       " {'id': 'quantinuum.qpu.h1-1', 'current_availability': {}, 'average_queue_time': 0},\n",
       " {'id': 'quantinuum.sim.h1-1sc', 'current_availability': {}, 'average_queue_time': 4},\n",
       " {'id': 'quantinuum.qpu.h1-2', 'current_availability': {}, 'average_queue_time': 0},\n",
       " {'id': 'quantinuum.sim.h1-2sc', 'current_availability': {}, 'average_queue_time': 3105},\n",
       " {'id': 'quantinuum.sim.h1-1e', 'current_availability': {}, 'average_queue_time': 5},\n",
       " {'id': 'quantinuum.sim.h1-2e', 'current_availability': {}, 'average_queue_time': 3478},\n",
       " {'id': 'rigetti.sim.qvm', 'current_availability': {}, 'average_queue_time': 5},\n",
       " {'id': 'rigetti.qpu.aspen-m-2', 'current_availability': {}, 'average_queue_time': 0},\n",
       " {'id': 'rigetti.qpu.aspen-m-3', 'current_availability': {}, 'average_queue_time': 5}]"
      ]
     },
     "execution_count": 9,
     "metadata": {},
     "output_type": "execute_result"
    }
   ],
   "source": [
    "qsharp.azure.connect(\n",
    "   resourceId=rid,\n",
    "   location=location,\n",
    "   credential=\"devicecode\"\n",
    ")"
   ]
  },
  {
   "cell_type": "code",
   "execution_count": 10,
   "id": "4343abac",
   "metadata": {},
   "outputs": [
    {
     "name": "stdout",
     "output_type": "stream",
     "text": [
      "Loading package Microsoft.Quantum.Providers.IonQ and dependencies...\n",
      "Active target is now ionq.simulator\n"
     ]
    },
    {
     "data": {
      "text/plain": [
       "{'id': 'ionq.simulator', 'current_availability': {}, 'average_queue_time': 22945}"
      ]
     },
     "execution_count": 10,
     "metadata": {},
     "output_type": "execute_result"
    }
   ],
   "source": [
    "qsharp.azure.target(\"ionq.simulator\")"
   ]
  },
  {
   "cell_type": "markdown",
   "id": "9657ea3f",
   "metadata": {},
   "source": [
    "Run a single term on the IonQ simulator:"
   ]
  },
  {
   "cell_type": "code",
   "execution_count": 11,
   "id": "ec77e9e8",
   "metadata": {
    "scrolled": true
   },
   "outputs": [
    {
     "name": "stdout",
     "output_type": "stream",
     "text": [
      "Submitting Microsoft.Quantum.Chemistry.Hamiltonian.GetHamiltonianTermH2 to target ionq.simulator...\n",
      "Job successfully submitted.\n",
      "   Job name: Hamiltonian term 17\n",
      "   Job ID: 866c7845-63db-4d3c-8c9a-63abd4973839\n",
      "Waiting up to 300 seconds for Azure Quantum job to complete...\n",
      "[22:37:02] Current job status: Waiting\n",
      "[22:37:07] Current job status: Succeeded\n"
     ]
    }
   ],
   "source": [
    "n_op = 17\n",
    "result = qsharp.azure.execute(GetHamiltonianTermH2, nOp=n_op, shots=1000, jobName=f\"Hamiltonian term {n_op}\")"
   ]
  },
  {
   "cell_type": "code",
   "execution_count": 42,
   "id": "3988101c",
   "metadata": {},
   "outputs": [
    {
     "data": {
      "application/x-qsharp-data": "{\"0\":0.5,\"1\":0.5}",
      "text/html": [
       "\r\n",
       "                    <table style=\"table-layout: fixed; width: 100%\">\r\n",
       "                        <thead>\r\n",
       "                            <tr>\r\n",
       "                                <th style=\"text-align: left; width: 25ch\">Result</th>\r\n",
       "                                <th style=\"text-align: left; width: 25ch\">Frequency</th>\r\n",
       "                                <th style=\"text-align: left; width: calc(100% - 25ch - 25ch)\">Histogram</th>\r\n",
       "                            </tr>\r\n",
       "                        </thead>\r\n",
       "                        <tbody>\r\n",
       "                            \r\n",
       "                            <tr>\r\n",
       "                                <td style=\"text-align: left; width: 25ch\">0</td>\r\n",
       "                                <td style=\"text-align: left; width: 25ch\">0.5</td>\r\n",
       "                                <td style=\"text-align: left; width: calc(100% - 25ch - 25ch)\">\r\n",
       "                                    <progress\r\n",
       "                                        max=\"100\"\r\n",
       "                                        value=\"50\"\r\n",
       "                                        style=\"width: 100%;\"\r\n",
       "                                    >\r\n",
       "                                </td>\r\n",
       "                            </tr>\r\n",
       "                        \n",
       "\r\n",
       "                            <tr>\r\n",
       "                                <td style=\"text-align: left; width: 25ch\">1</td>\r\n",
       "                                <td style=\"text-align: left; width: 25ch\">0.5</td>\r\n",
       "                                <td style=\"text-align: left; width: calc(100% - 25ch - 25ch)\">\r\n",
       "                                    <progress\r\n",
       "                                        max=\"100\"\r\n",
       "                                        value=\"50\"\r\n",
       "                                        style=\"width: 100%;\"\r\n",
       "                                    >\r\n",
       "                                </td>\r\n",
       "                            </tr>\r\n",
       "                        \r\n",
       "                        </tbody>\r\n",
       "                    </table>\r\n",
       "                "
      ],
      "text/plain": [
       "{'0': 0.5, '1': 0.5}"
      ]
     },
     "execution_count": 42,
     "metadata": {},
     "output_type": "execute_result"
    }
   ],
   "source": [
    "result"
   ]
  },
  {
   "cell_type": "markdown",
   "id": "1ba1bfe5",
   "metadata": {},
   "source": [
    "### 4. Loop over all Hamiltonian terms"
   ]
  },
  {
   "cell_type": "markdown",
   "id": "3500a530",
   "metadata": {},
   "source": [
    "Each Hamiltonian term has a term type, measurement operator and coefficient. To simplify this sample, we will move the coefficients into a flat list. Each nonzero coefficient will render a separate job that we send to Azure Quantum. To calculate the energy for that term, we map result from the job onto a -1 to 1 axis and multiply the value by the corresponding coefficient.\n",
    "\n",
    "We also calculate the measurement operators that we would need to measure the "
   ]
  },
  {
   "cell_type": "code",
   "execution_count": 1,
   "id": "22a79e06",
   "metadata": {},
   "outputs": [
    {
     "ename": "NameError",
     "evalue": "name 'fermion_terms' is not defined",
     "output_type": "error",
     "traceback": [
      "\u001b[0;31m---------------------------------------------------------------------------\u001b[0m",
      "\u001b[0;31mNameError\u001b[0m                                 Traceback (most recent call last)",
      "\u001b[1;32m/workspaces/Quantum/samples/azure-quantum/chemistry/Hamiltonian/Approximate Energy using Jordan-Wigner transformation.ipynb Cell 20\u001b[0m line \u001b[0;36m3\n\u001b[1;32m      <a href='vscode-notebook-cell://codespaces%2Bfictional-space-capybara-gxrqwgrgr6vfw74p/workspaces/Quantum/samples/azure-quantum/chemistry/Hamiltonian/Approximate%20Energy%20using%20Jordan-Wigner%20transformation.ipynb#X25sdnNjb2RlLXJlbW90ZQ%3D%3D?line=0'>1</a>\u001b[0m coeffs \u001b[39m=\u001b[39m []\n\u001b[1;32m      <a href='vscode-notebook-cell://codespaces%2Bfictional-space-capybara-gxrqwgrgr6vfw74p/workspaces/Quantum/samples/azure-quantum/chemistry/Hamiltonian/Approximate%20Energy%20using%20Jordan-Wigner%20transformation.ipynb#X25sdnNjb2RlLXJlbW90ZQ%3D%3D?line=1'>2</a>\u001b[0m mesOps \u001b[39m=\u001b[39m []\n\u001b[0;32m----> <a href='vscode-notebook-cell://codespaces%2Bfictional-space-capybara-gxrqwgrgr6vfw74p/workspaces/Quantum/samples/azure-quantum/chemistry/Hamiltonian/Approximate%20Energy%20using%20Jordan-Wigner%20transformation.ipynb#X25sdnNjb2RlLXJlbW90ZQ%3D%3D?line=2'>3</a>\u001b[0m \u001b[39mfor\u001b[39;00m term_type, terms \u001b[39min\u001b[39;00m \u001b[39menumerate\u001b[39m(fermion_terms):\n\u001b[1;32m      <a href='vscode-notebook-cell://codespaces%2Bfictional-space-capybara-gxrqwgrgr6vfw74p/workspaces/Quantum/samples/azure-quantum/chemistry/Hamiltonian/Approximate%20Energy%20using%20Jordan-Wigner%20transformation.ipynb#X25sdnNjb2RlLXJlbW90ZQ%3D%3D?line=3'>4</a>\u001b[0m     \u001b[39mprint\u001b[39m (\u001b[39m\"\u001b[39m\u001b[39mterm_type\u001b[39m\u001b[39m\"\u001b[39m, term_type)\n\u001b[1;32m      <a href='vscode-notebook-cell://codespaces%2Bfictional-space-capybara-gxrqwgrgr6vfw74p/workspaces/Quantum/samples/azure-quantum/chemistry/Hamiltonian/Approximate%20Energy%20using%20Jordan-Wigner%20transformation.ipynb#X25sdnNjb2RlLXJlbW90ZQ%3D%3D?line=4'>5</a>\u001b[0m     \u001b[39mfor\u001b[39;00m (qubits, coeff) \u001b[39min\u001b[39;00m terms:\n",
      "\u001b[0;31mNameError\u001b[0m: name 'fermion_terms' is not defined"
     ]
    }
   ],
   "source": [
    "coeffs = []\n",
    "mesOps = []\n",
    "for term_type, terms in enumerate(fermion_terms):\n",
    "    print (\"term_type\", term_type)\n",
    "    for (qubits, coeff) in terms:\n",
    "        print(\"qubits\", qubits, \"coeff\", coeff)\n",
    "        coeffs += ExpandedCoefficients_(coeff=coeff, termType=term_type)\n",
    "        mesOps += JordanWignerMeasurementOperators(nQubits=num_qubits, indices=qubits, termType=term_type)"
   ]
  },
  {
   "cell_type": "markdown",
   "id": "0062e6c8",
   "metadata": {},
   "source": [
    "You obtain the total number of coefficients corresponding to each combination of Hamiltonian term and Jordan-Wigner measurement operator using the function above. Now we start a job for each term that has a nonzero coefficient. We do this in batches and wait for the completion of that batch before moving onto the next batch as a qauntum simulator only has limited qubits to compute with."
   ]
  },
  {
   "cell_type": "code",
   "execution_count": 25,
   "id": "3cc6c5ae",
   "metadata": {},
   "outputs": [
    {
     "name": "stdout",
     "output_type": "stream",
     "text": [
      "Submitting Microsoft.Quantum.Chemistry.Hamiltonian.GetHamiltonianTerm to target ionq.simulator...\n",
      "Job successfully submitted.\n",
      "   Job name: Hamiltonian term 0\n",
      "   Job ID: 28f2c963-92ea-45ee-a2d1-c88b0fbd83ca\n",
      "Completed job batch!\n",
      "Submitting Microsoft.Quantum.Chemistry.Hamiltonian.GetHamiltonianTerm to target ionq.simulator...\n",
      "Job successfully submitted.\n",
      "   Job name: Hamiltonian term 1\n",
      "   Job ID: 3e40b019-12b6-4ca9-9184-cb79fb33d1be\n",
      "Submitting Microsoft.Quantum.Chemistry.Hamiltonian.GetHamiltonianTerm to target ionq.simulator...\n",
      "Job successfully submitted.\n",
      "   Job name: Hamiltonian term 2\n",
      "   Job ID: 05126ad8-2314-485b-989c-f5b4c046c912\n",
      "Submitting Microsoft.Quantum.Chemistry.Hamiltonian.GetHamiltonianTerm to target ionq.simulator...\n",
      "Job successfully submitted.\n",
      "   Job name: Hamiltonian term 3\n",
      "   Job ID: c0fbd03d-2f30-4abe-a654-7d79a735f1da\n",
      "Submitting Microsoft.Quantum.Chemistry.Hamiltonian.GetHamiltonianTerm to target ionq.simulator...\n",
      "Job successfully submitted.\n",
      "   Job name: Hamiltonian term 4\n",
      "   Job ID: 3dcfd8da-174f-4395-861d-5133fae733f8\n",
      "Submitting Microsoft.Quantum.Chemistry.Hamiltonian.GetHamiltonianTerm to target ionq.simulator...\n",
      "Job successfully submitted.\n",
      "   Job name: Hamiltonian term 5\n",
      "   Job ID: 9489e7d3-fd88-4fe5-b220-2ecfbc798c5b\n",
      "Submitting Microsoft.Quantum.Chemistry.Hamiltonian.GetHamiltonianTerm to target ionq.simulator...\n",
      "Job successfully submitted.\n",
      "   Job name: Hamiltonian term 6\n",
      "   Job ID: b74af574-51fa-4a5b-82ec-6c9ac6856266\n",
      "Submitting Microsoft.Quantum.Chemistry.Hamiltonian.GetHamiltonianTerm to target ionq.simulator...\n",
      "Job successfully submitted.\n",
      "   Job name: Hamiltonian term 7\n",
      "   Job ID: 3667a8b5-1475-45d6-b343-633cd6048e93\n",
      "Submitting Microsoft.Quantum.Chemistry.Hamiltonian.GetHamiltonianTerm to target ionq.simulator...\n",
      "Job successfully submitted.\n",
      "   Job name: Hamiltonian term 8\n",
      "   Job ID: 73ba0be8-3948-4e56-8721-d32132ea6384\n",
      "Submitting Microsoft.Quantum.Chemistry.Hamiltonian.GetHamiltonianTerm to target ionq.simulator...\n",
      "Job successfully submitted.\n",
      "   Job name: Hamiltonian term 9\n",
      "   Job ID: 0084fc1b-fa9e-4719-b481-6de286dd839d\n",
      "Submitting Microsoft.Quantum.Chemistry.Hamiltonian.GetHamiltonianTerm to target ionq.simulator...\n",
      "Job successfully submitted.\n",
      "   Job name: Hamiltonian term 10\n",
      "   Job ID: a950de22-f8c3-4f52-9d82-10d711f75efb\n",
      "Submitting Microsoft.Quantum.Chemistry.Hamiltonian.GetHamiltonianTerm to target ionq.simulator...\n",
      "Job successfully submitted.\n",
      "   Job name: Hamiltonian term 11\n",
      "   Job ID: 384683c3-8203-4fd9-9334-cbb32c98fe24\n",
      "Submitting Microsoft.Quantum.Chemistry.Hamiltonian.GetHamiltonianTerm to target ionq.simulator...\n",
      "Job successfully submitted.\n",
      "   Job name: Hamiltonian term 12\n",
      "   Job ID: 11778f47-23a7-46e2-8f87-0e98df1b6824\n",
      "Submitting Microsoft.Quantum.Chemistry.Hamiltonian.GetHamiltonianTerm to target ionq.simulator...\n",
      "Job successfully submitted.\n",
      "   Job name: Hamiltonian term 13\n",
      "   Job ID: 0886fce1-bc2d-4199-a33a-476effc36b9b\n",
      "Submitting Microsoft.Quantum.Chemistry.Hamiltonian.GetHamiltonianTerm to target ionq.simulator...\n",
      "Job successfully submitted.\n",
      "   Job name: Hamiltonian term 14\n",
      "   Job ID: 02460bb3-e541-454c-9922-058c1e935c77\n",
      "Submitting Microsoft.Quantum.Chemistry.Hamiltonian.GetHamiltonianTerm to target ionq.simulator...\n",
      "Job successfully submitted.\n",
      "   Job name: Hamiltonian term 15\n",
      "   Job ID: 12a3bb0d-bba7-4c0a-9239-1c5393331464\n",
      "Submitting Microsoft.Quantum.Chemistry.Hamiltonian.GetHamiltonianTerm to target ionq.simulator...\n",
      "Job successfully submitted.\n",
      "   Job name: Hamiltonian term 16\n",
      "   Job ID: 9518c563-d3b0-4e82-ae02-37cc10012a09\n",
      "Submitting Microsoft.Quantum.Chemistry.Hamiltonian.GetHamiltonianTerm to target ionq.simulator...\n",
      "Job successfully submitted.\n",
      "   Job name: Hamiltonian term 17\n",
      "   Job ID: 8522b44b-8c78-424d-b191-5fcf95e28697\n",
      "Submitting Microsoft.Quantum.Chemistry.Hamiltonian.GetHamiltonianTerm to target ionq.simulator...\n",
      "Job successfully submitted.\n",
      "   Job name: Hamiltonian term 18\n",
      "   Job ID: d5a10878-6073-412b-9971-3688f5dd11a9\n",
      "Submitting Microsoft.Quantum.Chemistry.Hamiltonian.GetHamiltonianTerm to target ionq.simulator...\n",
      "Job successfully submitted.\n",
      "   Job name: Hamiltonian term 19\n",
      "   Job ID: 8b628c14-49c2-4993-8fc0-b9016abbd5b1\n",
      "Submitting Microsoft.Quantum.Chemistry.Hamiltonian.GetHamiltonianTerm to target ionq.simulator...\n",
      "Job successfully submitted.\n",
      "   Job name: Hamiltonian term 20\n",
      "   Job ID: dc282932-4386-4bef-bd8d-e4827f6572b1\n",
      "Submitting Microsoft.Quantum.Chemistry.Hamiltonian.GetHamiltonianTerm to target ionq.simulator...\n",
      "Job successfully submitted.\n",
      "   Job name: Hamiltonian term 21\n",
      "   Job ID: 885ed5c1-7c2b-4db1-9210-514f9ca0fa23\n",
      "Submitting Microsoft.Quantum.Chemistry.Hamiltonian.GetHamiltonianTerm to target ionq.simulator...\n",
      "Job successfully submitted.\n",
      "   Job name: Hamiltonian term 22\n",
      "   Job ID: e61d5fb8-ab88-4f7b-b237-b4f1e5244bb1\n",
      "Submitting Microsoft.Quantum.Chemistry.Hamiltonian.GetHamiltonianTerm to target ionq.simulator...\n",
      "Job successfully submitted.\n",
      "   Job name: Hamiltonian term 23\n",
      "   Job ID: 197a8e76-8a85-4edc-9311-fb0858d7f3d8\n",
      "Submitting Microsoft.Quantum.Chemistry.Hamiltonian.GetHamiltonianTerm to target ionq.simulator...\n",
      "Job successfully submitted.\n",
      "   Job name: Hamiltonian term 24\n",
      "   Job ID: 8028fd36-b61d-42fc-a018-e8dce52e296a\n",
      "Submitting Microsoft.Quantum.Chemistry.Hamiltonian.GetHamiltonianTerm to target ionq.simulator...\n",
      "Job successfully submitted.\n",
      "   Job name: Hamiltonian term 25\n",
      "   Job ID: c5b08d6e-1a8b-4b78-aa8e-6f0a468afc55\n",
      "Completed job batch!\n",
      "Submitting Microsoft.Quantum.Chemistry.Hamiltonian.GetHamiltonianTerm to target ionq.simulator...\n",
      "Job successfully submitted.\n",
      "   Job name: Hamiltonian term 26\n",
      "   Job ID: fbe6b418-28c1-46bc-bc2b-e2ce9bf57716\n",
      "Submitting Microsoft.Quantum.Chemistry.Hamiltonian.GetHamiltonianTerm to target ionq.simulator...\n",
      "Job successfully submitted.\n",
      "   Job name: Hamiltonian term 27\n",
      "   Job ID: adea82e6-1c74-4d3b-807c-dd9fa677e6db\n",
      "Submitting Microsoft.Quantum.Chemistry.Hamiltonian.GetHamiltonianTerm to target ionq.simulator...\n",
      "Job successfully submitted.\n",
      "   Job name: Hamiltonian term 28\n",
      "   Job ID: ea899e84-620a-4a23-8a50-b933ed7c3a22\n",
      "Submitting Microsoft.Quantum.Chemistry.Hamiltonian.GetHamiltonianTerm to target ionq.simulator...\n",
      "Job successfully submitted.\n",
      "   Job name: Hamiltonian term 29\n",
      "   Job ID: 058f87c4-6686-4e8d-9c15-7d65c1f92f1b\n",
      "Submitting Microsoft.Quantum.Chemistry.Hamiltonian.GetHamiltonianTerm to target ionq.simulator...\n",
      "Job successfully submitted.\n",
      "   Job name: Hamiltonian term 30\n",
      "   Job ID: 16ffb32c-0478-4d21-bc54-9f35b7137e03\n",
      "Submitting Microsoft.Quantum.Chemistry.Hamiltonian.GetHamiltonianTerm to target ionq.simulator...\n",
      "Job successfully submitted.\n",
      "   Job name: Hamiltonian term 31\n",
      "   Job ID: 272ec28f-f91a-46da-ac6a-36ec36ec8a56\n",
      "Submitting Microsoft.Quantum.Chemistry.Hamiltonian.GetHamiltonianTerm to target ionq.simulator...\n",
      "Job successfully submitted.\n",
      "   Job name: Hamiltonian term 32\n",
      "   Job ID: d45e6ef6-d48c-45e7-ad25-092fe0f6260b\n",
      "Submitting Microsoft.Quantum.Chemistry.Hamiltonian.GetHamiltonianTerm to target ionq.simulator...\n",
      "Job successfully submitted.\n",
      "   Job name: Hamiltonian term 33\n",
      "   Job ID: cba7782b-72a8-411f-bd1b-c49925431d20\n",
      "Submitting Microsoft.Quantum.Chemistry.Hamiltonian.GetHamiltonianTerm to target ionq.simulator...\n",
      "Job successfully submitted.\n",
      "   Job name: Hamiltonian term 34\n",
      "   Job ID: ecd322f3-fa62-476b-b9c8-7a5c4bfeb498\n",
      "Submitting Microsoft.Quantum.Chemistry.Hamiltonian.GetHamiltonianTerm to target ionq.simulator...\n",
      "Job successfully submitted.\n",
      "   Job name: Hamiltonian term 35\n",
      "   Job ID: 80da60ea-6b6e-482e-bc6c-a58570823e63\n",
      "Submitting Microsoft.Quantum.Chemistry.Hamiltonian.GetHamiltonianTerm to target ionq.simulator...\n",
      "Job successfully submitted.\n",
      "   Job name: Hamiltonian term 36\n",
      "   Job ID: 937c232a-231b-455c-bcb3-4000e88f2c1b\n",
      "Submitting Microsoft.Quantum.Chemistry.Hamiltonian.GetHamiltonianTerm to target ionq.simulator...\n",
      "Job successfully submitted.\n",
      "   Job name: Hamiltonian term 37\n",
      "   Job ID: 3aad4b00-4ca9-4d2c-b1b7-251fc8b7da1d\n",
      "Submitting Microsoft.Quantum.Chemistry.Hamiltonian.GetHamiltonianTerm to target ionq.simulator...\n",
      "Job successfully submitted.\n",
      "   Job name: Hamiltonian term 38\n",
      "   Job ID: 1fed3166-7e50-4193-8495-06a073fc36dc\n",
      "Submitting Microsoft.Quantum.Chemistry.Hamiltonian.GetHamiltonianTerm to target ionq.simulator...\n",
      "Job successfully submitted.\n",
      "   Job name: Hamiltonian term 39\n",
      "   Job ID: b172a39f-1d4f-49bc-bdc9-059da9e2f87b\n",
      "Submitting Microsoft.Quantum.Chemistry.Hamiltonian.GetHamiltonianTerm to target ionq.simulator...\n",
      "Job successfully submitted.\n",
      "   Job name: Hamiltonian term 40\n",
      "   Job ID: c8c4bfd5-c586-4649-a9bc-0bee8d8e8d09\n",
      "Submitting Microsoft.Quantum.Chemistry.Hamiltonian.GetHamiltonianTerm to target ionq.simulator...\n",
      "Job successfully submitted.\n",
      "   Job name: Hamiltonian term 41\n",
      "   Job ID: e3ee0431-850d-4962-9835-cd03fae7a309\n",
      "Submitting Microsoft.Quantum.Chemistry.Hamiltonian.GetHamiltonianTerm to target ionq.simulator...\n",
      "Job successfully submitted.\n",
      "   Job name: Hamiltonian term 42\n",
      "   Job ID: 3121a59c-b2e6-4334-bda0-57e36b5a0cc4\n",
      "Submitting Microsoft.Quantum.Chemistry.Hamiltonian.GetHamiltonianTerm to target ionq.simulator...\n",
      "Job successfully submitted.\n",
      "   Job name: Hamiltonian term 43\n",
      "   Job ID: d0ce1046-0709-416a-a319-2896394b4552\n",
      "Submitting Microsoft.Quantum.Chemistry.Hamiltonian.GetHamiltonianTerm to target ionq.simulator...\n",
      "Job successfully submitted.\n",
      "   Job name: Hamiltonian term 44\n",
      "   Job ID: a30922c7-5154-4a9c-b65c-b530e9651c45\n",
      "Submitting Microsoft.Quantum.Chemistry.Hamiltonian.GetHamiltonianTerm to target ionq.simulator...\n",
      "Job successfully submitted.\n",
      "   Job name: Hamiltonian term 45\n",
      "   Job ID: 52e79991-dfbc-4cc2-8566-789b8534cfd5\n",
      "Submitting Microsoft.Quantum.Chemistry.Hamiltonian.GetHamiltonianTerm to target ionq.simulator...\n",
      "Job successfully submitted.\n",
      "   Job name: Hamiltonian term 46\n",
      "   Job ID: 48697969-9746-428c-b0bc-77ef703ae6d7\n",
      "Submitting Microsoft.Quantum.Chemistry.Hamiltonian.GetHamiltonianTerm to target ionq.simulator...\n",
      "Job successfully submitted.\n",
      "   Job name: Hamiltonian term 47\n",
      "   Job ID: 38725ee2-5ee6-4c20-a98c-f53e1e98727e\n",
      "Submitting Microsoft.Quantum.Chemistry.Hamiltonian.GetHamiltonianTerm to target ionq.simulator...\n",
      "Job successfully submitted.\n",
      "   Job name: Hamiltonian term 48\n",
      "   Job ID: 46d2b610-7bcd-4b40-a59a-4f49e9d262b1\n",
      "Submitting Microsoft.Quantum.Chemistry.Hamiltonian.GetHamiltonianTerm to target ionq.simulator...\n",
      "Job successfully submitted.\n",
      "   Job name: Hamiltonian term 49\n",
      "   Job ID: 81c75f0e-b5de-4ccb-91a0-b37a99f68d50\n",
      "Submitting Microsoft.Quantum.Chemistry.Hamiltonian.GetHamiltonianTerm to target ionq.simulator...\n",
      "Job successfully submitted.\n",
      "   Job name: Hamiltonian term 50\n",
      "   Job ID: a4c75eaa-edef-42e4-96ef-5ad0296c8a16\n",
      "Completed job batch!\n",
      "Submitting Microsoft.Quantum.Chemistry.Hamiltonian.GetHamiltonianTerm to target ionq.simulator...\n",
      "Job successfully submitted.\n",
      "   Job name: Hamiltonian term 51\n",
      "   Job ID: cb00a5ce-ba1f-4ded-adeb-f4fc0157e35b\n",
      "Submitting Microsoft.Quantum.Chemistry.Hamiltonian.GetHamiltonianTerm to target ionq.simulator...\n",
      "Job successfully submitted.\n",
      "   Job name: Hamiltonian term 52\n",
      "   Job ID: 074fdc53-2c71-4b74-889b-edbe7843f827\n",
      "Submitting Microsoft.Quantum.Chemistry.Hamiltonian.GetHamiltonianTerm to target ionq.simulator...\n",
      "Job successfully submitted.\n",
      "   Job name: Hamiltonian term 53\n",
      "   Job ID: 7885cc1f-04a3-403b-a3cc-c79ad5ef5ab2\n",
      "Submitting Microsoft.Quantum.Chemistry.Hamiltonian.GetHamiltonianTerm to target ionq.simulator...\n",
      "Job successfully submitted.\n",
      "   Job name: Hamiltonian term 54\n",
      "   Job ID: 79fbe498-ae17-4f54-b192-f5e29327c9ce\n",
      "Submitting Microsoft.Quantum.Chemistry.Hamiltonian.GetHamiltonianTerm to target ionq.simulator...\n",
      "Job successfully submitted.\n",
      "   Job name: Hamiltonian term 55\n",
      "   Job ID: c6b4c3c6-4dd6-4956-b9ee-514988f7f5b2\n",
      "Submitting Microsoft.Quantum.Chemistry.Hamiltonian.GetHamiltonianTerm to target ionq.simulator...\n",
      "Job successfully submitted.\n",
      "   Job name: Hamiltonian term 56\n",
      "   Job ID: a488d030-e4b1-4048-9851-2d303d16bd5f\n",
      "Submitting Microsoft.Quantum.Chemistry.Hamiltonian.GetHamiltonianTerm to target ionq.simulator...\n",
      "Job successfully submitted.\n",
      "   Job name: Hamiltonian term 57\n",
      "   Job ID: 8daa3d6f-5092-4c04-b77b-ddf164c74831\n",
      "Submitting Microsoft.Quantum.Chemistry.Hamiltonian.GetHamiltonianTerm to target ionq.simulator...\n",
      "Job successfully submitted.\n",
      "   Job name: Hamiltonian term 58\n",
      "   Job ID: 3738b49b-855c-41db-8448-860057214e52\n",
      "Submitting Microsoft.Quantum.Chemistry.Hamiltonian.GetHamiltonianTerm to target ionq.simulator...\n",
      "Job successfully submitted.\n",
      "   Job name: Hamiltonian term 59\n",
      "   Job ID: 6a9831cf-11ea-42fd-a7db-c0d4855e4c71\n",
      "Submitting Microsoft.Quantum.Chemistry.Hamiltonian.GetHamiltonianTerm to target ionq.simulator...\n",
      "Job successfully submitted.\n",
      "   Job name: Hamiltonian term 60\n",
      "   Job ID: a3aae5c1-7434-4ed0-82fd-c4e22154b2b3\n",
      "Submitting Microsoft.Quantum.Chemistry.Hamiltonian.GetHamiltonianTerm to target ionq.simulator...\n",
      "Job successfully submitted.\n",
      "   Job name: Hamiltonian term 61\n",
      "   Job ID: 99b102b8-7b67-4087-8c58-3f02703e053c\n",
      "Submitting Microsoft.Quantum.Chemistry.Hamiltonian.GetHamiltonianTerm to target ionq.simulator...\n",
      "Job successfully submitted.\n",
      "   Job name: Hamiltonian term 62\n",
      "   Job ID: dc974354-94df-4908-b05f-ace9a4da6857\n",
      "Submitting Microsoft.Quantum.Chemistry.Hamiltonian.GetHamiltonianTerm to target ionq.simulator...\n",
      "Job successfully submitted.\n",
      "   Job name: Hamiltonian term 63\n",
      "   Job ID: 8c18b7fa-4aba-48de-ac5a-b90d99332fe9\n",
      "Submitting Microsoft.Quantum.Chemistry.Hamiltonian.GetHamiltonianTerm to target ionq.simulator...\n",
      "Job successfully submitted.\n",
      "   Job name: Hamiltonian term 64\n",
      "   Job ID: e0425fe2-6285-4021-b161-3e6f3c680c14\n",
      "Submitting Microsoft.Quantum.Chemistry.Hamiltonian.GetHamiltonianTerm to target ionq.simulator...\n",
      "Job successfully submitted.\n",
      "   Job name: Hamiltonian term 65\n",
      "   Job ID: c3733eb3-8831-4631-a86f-3a51083e1a2e\n",
      "Submitting Microsoft.Quantum.Chemistry.Hamiltonian.GetHamiltonianTerm to target ionq.simulator...\n",
      "Job successfully submitted.\n",
      "   Job name: Hamiltonian term 66\n",
      "   Job ID: d70d5402-f407-44d7-9355-23bdf6f3a8cd\n",
      "Submitting Microsoft.Quantum.Chemistry.Hamiltonian.GetHamiltonianTerm to target ionq.simulator...\n",
      "Job successfully submitted.\n",
      "   Job name: Hamiltonian term 67\n",
      "   Job ID: 06dcb8ca-4629-40d9-a274-4249be1bb5fe\n",
      "Submitting Microsoft.Quantum.Chemistry.Hamiltonian.GetHamiltonianTerm to target ionq.simulator...\n",
      "Job successfully submitted.\n",
      "   Job name: Hamiltonian term 68\n",
      "   Job ID: 7e004272-5765-4afc-ad3a-f47c39ca90a4\n",
      "Submitting Microsoft.Quantum.Chemistry.Hamiltonian.GetHamiltonianTerm to target ionq.simulator...\n",
      "Job successfully submitted.\n",
      "   Job name: Hamiltonian term 69\n",
      "   Job ID: 7245a92d-1b0f-4a90-93f8-73c1eeeed303\n",
      "Submitting Microsoft.Quantum.Chemistry.Hamiltonian.GetHamiltonianTerm to target ionq.simulator...\n",
      "Job successfully submitted.\n",
      "   Job name: Hamiltonian term 70\n",
      "   Job ID: bb0fff35-4fae-40a8-85a2-368e27461b60\n",
      "Submitting Microsoft.Quantum.Chemistry.Hamiltonian.GetHamiltonianTerm to target ionq.simulator...\n",
      "Job successfully submitted.\n",
      "   Job name: Hamiltonian term 71\n",
      "   Job ID: 2bf7fe2a-ac64-4b3c-ab24-107f736dc56e\n",
      "Submitting Microsoft.Quantum.Chemistry.Hamiltonian.GetHamiltonianTerm to target ionq.simulator...\n",
      "Job successfully submitted.\n",
      "   Job name: Hamiltonian term 72\n",
      "   Job ID: b6aa46c7-3e48-464c-94ce-9b7f783d2b09\n"
     ]
    },
    {
     "ename": "KeyboardInterrupt",
     "evalue": "",
     "output_type": "error",
     "traceback": [
      "\u001b[0;31m---------------------------------------------------------------------------\u001b[0m",
      "\u001b[0;31mKeyboardInterrupt\u001b[0m                         Traceback (most recent call last)",
      "\u001b[1;32m/workspaces/Quantum/samples/azure-quantum/chemistry/Hamiltonian/Approximate Energy using Jordan-Wigner transformation.ipynb Cell 23\u001b[0m line \u001b[0;36m1\n\u001b[1;32m      <a href='vscode-notebook-cell://codespaces%2Bfictional-space-capybara-gxrqwgrgr6vfw74p/workspaces/Quantum/samples/azure-quantum/chemistry/Hamiltonian/Approximate%20Energy%20using%20Jordan-Wigner%20transformation.ipynb#X31sdnNjb2RlLXJlbW90ZQ%3D%3D?line=7'>8</a>\u001b[0m \u001b[39mfor\u001b[39;00m n_op, coeff \u001b[39min\u001b[39;00m \u001b[39menumerate\u001b[39m(coeffs):\n\u001b[1;32m      <a href='vscode-notebook-cell://codespaces%2Bfictional-space-capybara-gxrqwgrgr6vfw74p/workspaces/Quantum/samples/azure-quantum/chemistry/Hamiltonian/Approximate%20Energy%20using%20Jordan-Wigner%20transformation.ipynb#X31sdnNjb2RlLXJlbW90ZQ%3D%3D?line=8'>9</a>\u001b[0m     \u001b[39mif\u001b[39;00m coeff \u001b[39m!=\u001b[39m \u001b[39m0.0\u001b[39m:\n\u001b[0;32m---> <a href='vscode-notebook-cell://codespaces%2Bfictional-space-capybara-gxrqwgrgr6vfw74p/workspaces/Quantum/samples/azure-quantum/chemistry/Hamiltonian/Approximate%20Energy%20using%20Jordan-Wigner%20transformation.ipynb#X31sdnNjb2RlLXJlbW90ZQ%3D%3D?line=9'>10</a>\u001b[0m         jobs\u001b[39m.\u001b[39mextend([qsharp\u001b[39m.\u001b[39;49mazure\u001b[39m.\u001b[39;49msubmit(GetHamiltonianTerm, nOp\u001b[39m=\u001b[39;49mn_op, mesOps \u001b[39m=\u001b[39;49m mesOps[n_op], nQubits \u001b[39m=\u001b[39;49m num_qubits, shots\u001b[39m=\u001b[39;49m\u001b[39m100\u001b[39;49m, jobName\u001b[39m=\u001b[39;49m\u001b[39mf\u001b[39;49m\u001b[39m\"\u001b[39;49m\u001b[39mHamiltonian term \u001b[39;49m\u001b[39m{\u001b[39;49;00mn_op\u001b[39m}\u001b[39;49;00m\u001b[39m\"\u001b[39;49m)]) \n\u001b[1;32m     <a href='vscode-notebook-cell://codespaces%2Bfictional-space-capybara-gxrqwgrgr6vfw74p/workspaces/Quantum/samples/azure-quantum/chemistry/Hamiltonian/Approximate%20Energy%20using%20Jordan-Wigner%20transformation.ipynb#X31sdnNjb2RlLXJlbW90ZQ%3D%3D?line=10'>11</a>\u001b[0m     \u001b[39mif\u001b[39;00m n_op \u001b[39m%\u001b[39m batch_size \u001b[39m==\u001b[39m \u001b[39m0\u001b[39m:\n\u001b[1;32m     <a href='vscode-notebook-cell://codespaces%2Bfictional-space-capybara-gxrqwgrgr6vfw74p/workspaces/Quantum/samples/azure-quantum/chemistry/Hamiltonian/Approximate%20Energy%20using%20Jordan-Wigner%20transformation.ipynb#X31sdnNjb2RlLXJlbW90ZQ%3D%3D?line=11'>12</a>\u001b[0m         \u001b[39m# wait until all current jobs complete before submitting the next batch\u001b[39;00m\n\u001b[1;32m     <a href='vscode-notebook-cell://codespaces%2Bfictional-space-capybara-gxrqwgrgr6vfw74p/workspaces/Quantum/samples/azure-quantum/chemistry/Hamiltonian/Approximate%20Energy%20using%20Jordan-Wigner%20transformation.ipynb#X31sdnNjb2RlLXJlbW90ZQ%3D%3D?line=12'>13</a>\u001b[0m         \u001b[39mwhile\u001b[39;00m \u001b[39mTrue\u001b[39;00m:\n",
      "File \u001b[0;32m/usr/local/lib/python3.9/site-packages/qsharp/azure.py:150\u001b[0m, in \u001b[0;36msubmit\u001b[0;34m(op, **params)\u001b[0m\n\u001b[1;32m    145\u001b[0m \u001b[39mdef\u001b[39;00m \u001b[39msubmit\u001b[39m(op : qsharp\u001b[39m.\u001b[39mQSharpCallable, \u001b[39m*\u001b[39m\u001b[39m*\u001b[39mparams) \u001b[39m-\u001b[39m\u001b[39m>\u001b[39m AzureJob:\n\u001b[1;32m    146\u001b[0m \u001b[39m    \u001b[39m\u001b[39m\"\"\"\u001b[39;00m\n\u001b[1;32m    147\u001b[0m \u001b[39m    Submits a job to an Azure Quantum workspace.\u001b[39;00m\n\u001b[1;32m    148\u001b[0m \u001b[39m    See https://docs.microsoft.com/qsharp/api/iqsharp-magic/azure.submit for more details.\u001b[39;00m\n\u001b[1;32m    149\u001b[0m \u001b[39m    \"\"\"\u001b[39;00m\n\u001b[0;32m--> 150\u001b[0m     result \u001b[39m=\u001b[39m qsharp\u001b[39m.\u001b[39;49mclient\u001b[39m.\u001b[39;49m_execute_callable_magic(\u001b[39m\"\u001b[39;49m\u001b[39mazure.submit\u001b[39;49m\u001b[39m\"\u001b[39;49m, op, raise_on_stderr\u001b[39m=\u001b[39;49m\u001b[39mFalse\u001b[39;49;00m, \u001b[39m*\u001b[39;49m\u001b[39m*\u001b[39;49mparams)\n\u001b[1;32m    151\u001b[0m     \u001b[39mif\u001b[39;00m \u001b[39m\"\u001b[39m\u001b[39merror_code\u001b[39m\u001b[39m\"\u001b[39m \u001b[39min\u001b[39;00m result: \u001b[39mraise\u001b[39;00m AzureError(result)\n\u001b[1;32m    152\u001b[0m     \u001b[39mreturn\u001b[39;00m AzureJob(result)\n",
      "File \u001b[0;32m/usr/local/lib/python3.9/site-packages/qsharp/clients/iqsharp.py:278\u001b[0m, in \u001b[0;36mIQSharpClient._execute_callable_magic\u001b[0;34m(self, magic, op, raise_on_stderr, _quiet_, **kwargs)\u001b[0m\n\u001b[1;32m    273\u001b[0m \u001b[39mdef\u001b[39;00m \u001b[39m_execute_callable_magic\u001b[39m(\u001b[39mself\u001b[39m, magic : \u001b[39mstr\u001b[39m, op,\n\u001b[1;32m    274\u001b[0m         raise_on_stderr : \u001b[39mbool\u001b[39m \u001b[39m=\u001b[39m \u001b[39mFalse\u001b[39;00m,\n\u001b[1;32m    275\u001b[0m         _quiet_ : \u001b[39mbool\u001b[39m \u001b[39m=\u001b[39m \u001b[39mFalse\u001b[39;00m,\n\u001b[1;32m    276\u001b[0m         \u001b[39m*\u001b[39m\u001b[39m*\u001b[39mkwargs\n\u001b[1;32m    277\u001b[0m ) \u001b[39m-\u001b[39m\u001b[39m>\u001b[39m Any:\n\u001b[0;32m--> 278\u001b[0m     \u001b[39mreturn\u001b[39;00m \u001b[39mself\u001b[39;49m\u001b[39m.\u001b[39;49m_execute_magic(\n\u001b[1;32m    279\u001b[0m         \u001b[39mf\u001b[39;49m\u001b[39m\"\u001b[39;49m\u001b[39m{\u001b[39;49;00mmagic\u001b[39m}\u001b[39;49;00m\u001b[39m \u001b[39;49m\u001b[39m{\u001b[39;49;00mop\u001b[39m.\u001b[39;49m_name\u001b[39m}\u001b[39;49;00m\u001b[39m\"\u001b[39;49m,\n\u001b[1;32m    280\u001b[0m         raise_on_stderr\u001b[39m=\u001b[39;49mraise_on_stderr,\n\u001b[1;32m    281\u001b[0m         _quiet_\u001b[39m=\u001b[39;49m_quiet_,\n\u001b[1;32m    282\u001b[0m         \u001b[39m*\u001b[39;49m\u001b[39m*\u001b[39;49mkwargs\n\u001b[1;32m    283\u001b[0m     )\n",
      "File \u001b[0;32m/usr/local/lib/python3.9/site-packages/qsharp/clients/iqsharp.py:268\u001b[0m, in \u001b[0;36mIQSharpClient._execute_magic\u001b[0;34m(self, magic, raise_on_stderr, _quiet_, return_full_result, **kwargs)\u001b[0m\n\u001b[1;32m    266\u001b[0m \u001b[39mdef\u001b[39;00m \u001b[39m_execute_magic\u001b[39m(\u001b[39mself\u001b[39m, magic : \u001b[39mstr\u001b[39m, raise_on_stderr : \u001b[39mbool\u001b[39m \u001b[39m=\u001b[39m \u001b[39mFalse\u001b[39;00m, _quiet_ : \u001b[39mbool\u001b[39m \u001b[39m=\u001b[39m \u001b[39mFalse\u001b[39;00m, return_full_result\u001b[39m=\u001b[39m\u001b[39mFalse\u001b[39;00m, \u001b[39m*\u001b[39m\u001b[39m*\u001b[39mkwargs) \u001b[39m-\u001b[39m\u001b[39m>\u001b[39m Any:\n\u001b[1;32m    267\u001b[0m     _timeout_ \u001b[39m=\u001b[39m kwargs\u001b[39m.\u001b[39mpop(\u001b[39m'\u001b[39m\u001b[39m_timeout_\u001b[39m\u001b[39m'\u001b[39m, DEFAULT_TIMEOUT)\n\u001b[0;32m--> 268\u001b[0m     \u001b[39mreturn\u001b[39;00m \u001b[39mself\u001b[39;49m\u001b[39m.\u001b[39;49m_execute(\n\u001b[1;32m    269\u001b[0m         \u001b[39mf\u001b[39;49m\u001b[39m'\u001b[39;49m\u001b[39m%\u001b[39;49m\u001b[39m{\u001b[39;49;00mmagic\u001b[39m}\u001b[39;49;00m\u001b[39m \u001b[39;49m\u001b[39m{\u001b[39;49;00mjson\u001b[39m.\u001b[39;49mdumps(map_tuples(kwargs))\u001b[39m}\u001b[39;49;00m\u001b[39m'\u001b[39;49m,\n\u001b[1;32m    270\u001b[0m         raise_on_stderr\u001b[39m=\u001b[39;49mraise_on_stderr, _quiet_\u001b[39m=\u001b[39;49m_quiet_, _timeout_\u001b[39m=\u001b[39;49m_timeout_, return_full_result\u001b[39m=\u001b[39;49mreturn_full_result\n\u001b[1;32m    271\u001b[0m     )\n",
      "File \u001b[0;32m/usr/local/lib/python3.9/site-packages/qsharp/clients/iqsharp.py:358\u001b[0m, in \u001b[0;36mIQSharpClient._execute\u001b[0;34m(self, input, return_full_result, raise_on_stderr, output_hook, display_data_handler, _timeout_, _quiet_, **kwargs)\u001b[0m\n\u001b[1;32m    356\u001b[0m         \u001b[39mraise\u001b[39;00m AlreadyExecutingError(\u001b[39m\"\u001b[39m\u001b[39mCannot execute through the IQ# client while another execution is completing.\u001b[39m\u001b[39m\"\u001b[39m)\n\u001b[1;32m    357\u001b[0m     \u001b[39mself\u001b[39m\u001b[39m.\u001b[39m_busy \u001b[39m=\u001b[39m \u001b[39mTrue\u001b[39;00m\n\u001b[0;32m--> 358\u001b[0m     reply \u001b[39m=\u001b[39m \u001b[39mself\u001b[39;49m\u001b[39m.\u001b[39;49mkernel_client\u001b[39m.\u001b[39;49mexecute_interactive(\u001b[39minput\u001b[39;49m, timeout\u001b[39m=\u001b[39;49m_timeout_, output_hook\u001b[39m=\u001b[39;49m_output_hook, \u001b[39m*\u001b[39;49m\u001b[39m*\u001b[39;49mkwargs)\n\u001b[1;32m    359\u001b[0m \u001b[39mfinally\u001b[39;00m:\n\u001b[1;32m    360\u001b[0m     \u001b[39mself\u001b[39m\u001b[39m.\u001b[39m_busy \u001b[39m=\u001b[39m \u001b[39mFalse\u001b[39;00m\n",
      "File \u001b[0;32m/usr/local/lib/python3.9/site-packages/jupyter_core/utils/__init__.py:158\u001b[0m, in \u001b[0;36mrun_sync.<locals>.wrapped\u001b[0;34m(*args, **kwargs)\u001b[0m\n\u001b[1;32m    156\u001b[0m     \u001b[39mif\u001b[39;00m name \u001b[39mnot\u001b[39;00m \u001b[39min\u001b[39;00m _runner_map:\n\u001b[1;32m    157\u001b[0m         _runner_map[name] \u001b[39m=\u001b[39m _TaskRunner()\n\u001b[0;32m--> 158\u001b[0m     \u001b[39mreturn\u001b[39;00m _runner_map[name]\u001b[39m.\u001b[39;49mrun(inner)\n\u001b[1;32m    159\u001b[0m \u001b[39mexcept\u001b[39;00m \u001b[39mRuntimeError\u001b[39;00m:\n\u001b[1;32m    160\u001b[0m     \u001b[39mpass\u001b[39;00m\n",
      "File \u001b[0;32m/usr/local/lib/python3.9/site-packages/jupyter_core/utils/__init__.py:125\u001b[0m, in \u001b[0;36m_TaskRunner.run\u001b[0;34m(self, coro)\u001b[0m\n\u001b[1;32m    123\u001b[0m         \u001b[39mself\u001b[39m\u001b[39m.\u001b[39m__runner_thread\u001b[39m.\u001b[39mstart()\n\u001b[1;32m    124\u001b[0m fut \u001b[39m=\u001b[39m asyncio\u001b[39m.\u001b[39mrun_coroutine_threadsafe(coro, \u001b[39mself\u001b[39m\u001b[39m.\u001b[39m__io_loop)\n\u001b[0;32m--> 125\u001b[0m \u001b[39mreturn\u001b[39;00m fut\u001b[39m.\u001b[39;49mresult(\u001b[39mNone\u001b[39;49;00m)\n",
      "File \u001b[0;32m/usr/local/lib/python3.9/concurrent/futures/_base.py:441\u001b[0m, in \u001b[0;36mFuture.result\u001b[0;34m(self, timeout)\u001b[0m\n\u001b[1;32m    438\u001b[0m \u001b[39melif\u001b[39;00m \u001b[39mself\u001b[39m\u001b[39m.\u001b[39m_state \u001b[39m==\u001b[39m FINISHED:\n\u001b[1;32m    439\u001b[0m     \u001b[39mreturn\u001b[39;00m \u001b[39mself\u001b[39m\u001b[39m.\u001b[39m__get_result()\n\u001b[0;32m--> 441\u001b[0m \u001b[39mself\u001b[39;49m\u001b[39m.\u001b[39;49m_condition\u001b[39m.\u001b[39;49mwait(timeout)\n\u001b[1;32m    443\u001b[0m \u001b[39mif\u001b[39;00m \u001b[39mself\u001b[39m\u001b[39m.\u001b[39m_state \u001b[39min\u001b[39;00m [CANCELLED, CANCELLED_AND_NOTIFIED]:\n\u001b[1;32m    444\u001b[0m     \u001b[39mraise\u001b[39;00m CancelledError()\n",
      "File \u001b[0;32m/usr/local/lib/python3.9/threading.py:312\u001b[0m, in \u001b[0;36mCondition.wait\u001b[0;34m(self, timeout)\u001b[0m\n\u001b[1;32m    310\u001b[0m \u001b[39mtry\u001b[39;00m:    \u001b[39m# restore state no matter what (e.g., KeyboardInterrupt)\u001b[39;00m\n\u001b[1;32m    311\u001b[0m     \u001b[39mif\u001b[39;00m timeout \u001b[39mis\u001b[39;00m \u001b[39mNone\u001b[39;00m:\n\u001b[0;32m--> 312\u001b[0m         waiter\u001b[39m.\u001b[39;49macquire()\n\u001b[1;32m    313\u001b[0m         gotit \u001b[39m=\u001b[39m \u001b[39mTrue\u001b[39;00m\n\u001b[1;32m    314\u001b[0m     \u001b[39melse\u001b[39;00m:\n",
      "\u001b[0;31mKeyboardInterrupt\u001b[0m: "
     ]
    },
    {
     "name": "stdout",
     "output_type": "stream",
     "text": [
      "Submitting Microsoft.Quantum.Chemistry.Hamiltonian.GetHamiltonianTerm to target ionq.simulator...\n",
      "Job successfully submitted.\n",
      "   Job name: Hamiltonian term 73\n",
      "   Job ID: 599d26ca-c22c-4c1b-b5b3-51a1b3fa900d\n"
     ]
    }
   ],
   "source": [
    "jobs = []\n",
    "batch_size = 5\n",
    "current_batch_jobs = []\n",
    "\n",
    "for n_op, coeff in enumerate(coeffs):\n",
    "    if coeff != 0.0:\n",
    "        current_batch_jobs.append(qsharp.azure.submit(GetHamiltonianTermH2, nOp=n_op, shots=1000, jobName=f\"Hamiltonian term {n_op}\"))\n",
    "    if n_op % batch_size == 0:\n",
    "        # wait until all current jobs complete before submitting the next batch\n",
    "        print(\"Waiting for jobs to complete...\")\n",
    "        while True:\n",
    "            all_done = all([qsharp.azure.status(j.id).status == \"Succeeded\" for j in current_batch_jobs])\n",
    "            if all_done:\n",
    "                print(\"Completed job batch!\")\n",
    "                break\n",
    "        # clear current batch jobs for next batch            \n",
    "        current_batch_jobs = []"
   ]
  },
  {
   "cell_type": "code",
   "execution_count": 36,
   "id": "002adcf4",
   "metadata": {},
   "outputs": [
    {
     "ename": "NameError",
     "evalue": "name 'jobs' is not defined",
     "output_type": "error",
     "traceback": [
      "\u001b[0;31m---------------------------------------------------------------------------\u001b[0m",
      "\u001b[0;31mNameError\u001b[0m                                 Traceback (most recent call last)",
      "\u001b[1;32m/workspaces/Quantum/samples/azure-quantum/chemistry/Hamiltonian/Approximate Energy using Jordan-Wigner transformation.ipynb Cell 23\u001b[0m line \u001b[0;36m1\n\u001b[0;32m----> <a href='vscode-notebook-cell://codespaces%2Bfictional-space-capybara-gxrqwgrgr6vfw74p/workspaces/Quantum/samples/azure-quantum/chemistry/Hamiltonian/Approximate%20Energy%20using%20Jordan-Wigner%20transformation.ipynb#X31sdnNjb2RlLXJlbW90ZQ%3D%3D?line=0'>1</a>\u001b[0m results \u001b[39m=\u001b[39m [qsharp\u001b[39m.\u001b[39mazure\u001b[39m.\u001b[39moutput(j\u001b[39m.\u001b[39mid) \u001b[39mfor\u001b[39;00m j \u001b[39min\u001b[39;00m jobs]\n\u001b[1;32m      <a href='vscode-notebook-cell://codespaces%2Bfictional-space-capybara-gxrqwgrgr6vfw74p/workspaces/Quantum/samples/azure-quantum/chemistry/Hamiltonian/Approximate%20Energy%20using%20Jordan-Wigner%20transformation.ipynb#X31sdnNjb2RlLXJlbW90ZQ%3D%3D?line=1'>2</a>\u001b[0m results\n",
      "\u001b[0;31mNameError\u001b[0m: name 'jobs' is not defined"
     ]
    }
   ],
   "source": [
    "results = [qsharp.azure.output(j.id) for j in jobs]\n",
    "results"
   ]
  },
  {
   "cell_type": "markdown",
   "id": "f90d71ed",
   "metadata": {},
   "source": [
    "### 5. Estimate energy"
   ]
  },
  {
   "cell_type": "code",
   "execution_count": null,
   "id": "3742b6b5",
   "metadata": {},
   "outputs": [],
   "source": [
    "def calc_energy(coeffs, results):\n",
    "    return sum([(2. * res.get(\"0\", 0.0) - 1.) * coeff for coeff, res in zip(coeffs, results)]) + energy_offset"
   ]
  },
  {
   "cell_type": "code",
   "execution_count": null,
   "id": "ee6339e5",
   "metadata": {},
   "outputs": [],
   "source": [
    "calc_energy(coeffs, results)"
   ]
  },
  {
   "cell_type": "markdown",
   "id": "1fc3eb7c",
   "metadata": {},
   "source": [
    "Now we are ready to run on hardware! Switch to the QPU."
   ]
  },
  {
   "cell_type": "code",
   "execution_count": null,
   "id": "7c5ec02b",
   "metadata": {},
   "outputs": [],
   "source": [
    "qsharp.azure.target(\"ionq.qpu\")"
   ]
  },
  {
   "cell_type": "code",
   "execution_count": null,
   "id": "4e045032",
   "metadata": {
    "scrolled": true
   },
   "outputs": [],
   "source": [
    "jobs_hw = [\n",
    "    qsharp.azure.submit(GetHamiltonianTermH2, nOp=n_op, shots=1000, jobName=f\"Hamiltonian term {n_op}\") \n",
    "    for n_op, coeff in enumerate(coeffs) if coeff != 0\n",
    "]"
   ]
  },
  {
   "cell_type": "markdown",
   "id": "f65fb519",
   "metadata": {},
   "source": [
    "Check if the jobs succeeded."
   ]
  },
  {
   "cell_type": "code",
   "execution_count": null,
   "id": "927be51a",
   "metadata": {},
   "outputs": [],
   "source": [
    "jobs_status = [qsharp.azure.status(j) for j in jobs_hw]\n",
    "[\n",
    "    j.status + \" | \" + j.name + \" | \" + j.target + \" | \" + j.creation_time + \" | \" + j.end_execution_time \n",
    "    for j in jobs_status\n",
    "]"
   ]
  },
  {
   "cell_type": "markdown",
   "id": "8f263a26",
   "metadata": {},
   "source": [
    "Get results and estimate energy"
   ]
  },
  {
   "cell_type": "code",
   "execution_count": null,
   "id": "cd5fd7ac",
   "metadata": {},
   "outputs": [],
   "source": [
    "results = [qsharp.azure.output(j.id) for j in jobs_hw]\n",
    "results"
   ]
  },
  {
   "cell_type": "code",
   "execution_count": null,
   "id": "5c1e5479",
   "metadata": {},
   "outputs": [],
   "source": [
    "calc_energy(coeffs, results)"
   ]
  }
 ],
 "metadata": {
  "kernelspec": {
   "display_name": "Python 3",
   "language": "python",
   "name": "python3"
  },
  "language_info": {
   "codemirror_mode": {
    "name": "ipython",
    "version": 3
   },
   "file_extension": ".py",
   "mimetype": "text/x-python",
   "name": "python",
   "nbconvert_exporter": "python",
   "pygments_lexer": "ipython3",
   "version": "3.9.17"
  }
 },
 "nbformat": 4,
 "nbformat_minor": 5
}
