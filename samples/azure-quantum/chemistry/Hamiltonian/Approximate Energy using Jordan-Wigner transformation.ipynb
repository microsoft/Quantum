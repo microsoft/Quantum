{
 "cells": [
  {
   "cell_type": "markdown",
   "id": "79c2f4e5",
   "metadata": {},
   "source": [
    "# Approximate H2 molecule energy near ground state\n",
    "\n",
    "In this example notebook, we'll walk through calculating the energy of a molecule given an estimate for the ground state using Azure Quantum. We will do that using a simple algorithm where we prepare the quantum register in a state near the ground state of the molecule using the Jordan-Wigner encoding, and evaluate the energy of the molecule by applying the Hamiltonian operator to that state. To be able to run the algorithm on near-term hardware, we will estimate the energy per Hamiltonian term, and then calculate the total estimated energy by adding the values of these terms."
   ]
  },
  {
   "cell_type": "code",
   "execution_count": 51,
   "id": "55b70453",
   "metadata": {
    "scrolled": false
   },
   "outputs": [
    {
     "data": {
      "application/x-qsharp-data": "{\"LastUpdated\":\"2023-09-13T18:11:40.7093424+00:00\",\"IsCompleted\":false,\"Description\":\"Reloading workspace\",\"Subtask\":null}",
      "text/plain": [
       "Reloading workspace."
      ]
     },
     "metadata": {},
     "output_type": "display_data"
    }
   ],
   "source": [
    "# First, import qsharp and qsharp.azure to be able to compile and submit the quantum program.\n",
    "import qsharp\n",
    "import qsharp.azure\n",
    "qsharp.reload()\n",
    "from Microsoft.Quantum.Chemistry.Hamiltonian import GetHamiltonianTerm, GetHamiltonianTermH2, ExpandedCoefficients_, JordanWignerMeasurementOperators\n"
   ]
  },
  {
   "cell_type": "markdown",
   "id": "9efb9be7",
   "metadata": {},
   "source": [
    "### 1. Load H2 molecule data\n",
    "\n",
    "The pre-generated Broombridge file included in this sample contains the details on the molecule's Hamiltonian. A Hamiltonian is an operator that calculates the energy of a molecule by acting on a qubit register that represents the molecule's quantum state by Jordan-Wigner encoding. If we prepare the molecule in the ground state, then we know that applying the Hamiltonian will calculate the ground state energy."
   ]
  },
  {
   "cell_type": "code",
   "execution_count": 43,
   "id": "601fb1cb",
   "metadata": {
    "scrolled": true
   },
   "outputs": [],
   "source": [
    "from qdk.chemistry.broombridge import load_and_encode"
   ]
  },
  {
   "cell_type": "code",
   "execution_count": 44,
   "id": "f11f81ab",
   "metadata": {},
   "outputs": [],
   "source": [
    "encoded_data_h2 = load_and_encode(\"../data/broombridge/hydrogen_0.2.yaml\")"
   ]
  },
  {
   "cell_type": "markdown",
   "id": "2ff4fc44",
   "metadata": {},
   "source": [
    "This contains a tuple of the number of qubits, the fermionic Hamiltonian term coefficients and the energy offset.\n",
    "\n",
    "The index of each list in the second tuple is will be referred to as the \"term type\"."
   ]
  },
  {
   "cell_type": "code",
   "execution_count": 45,
   "id": "38c84985",
   "metadata": {},
   "outputs": [
    {
     "name": "stdout",
     "output_type": "stream",
     "text": [
      "4 ([([0], [0.17120128499999998]), ([1], [0.17120128499999998]), ([2], [-0.222796536]), ([3], [-0.222796536])], [([0, 1], [0.1686232915]), ([0, 2], [0.12054614575]), ([0, 3], [0.16586802525]), ([1, 2], [0.16586802525]), ([1, 3], [0.12054614575]), ([2, 3], [0.1743495025])], [], [([0, 1, 2, 3], [0.0, -0.0453218795, 0.0, 0.0453218795])]) (2, [((1.0, 0.0), [0, 1])]) -0.09883444600000002\n"
     ]
    }
   ],
   "source": [
    "num_qubits, fermion_terms, _, energy_offset = encoded_data_h2"
   ]
  },
  {
   "cell_type": "markdown",
   "id": "13735540",
   "metadata": {},
   "source": [
    "### 2. Resource estimation\n",
    "Before running on hardware, let's first estimate the quantum resources needed for measuring two-electron terms (\"term type\" = 3)"
   ]
  },
  {
   "cell_type": "code",
   "execution_count": 32,
   "id": "50f802c0",
   "metadata": {},
   "outputs": [
    {
     "ename": "AttributeError",
     "evalue": "'GetHamiltonianTermH2' object has no attribute 'estimate_resources'",
     "output_type": "error",
     "traceback": [
      "\u001b[0;31m---------------------------------------------------------------------------\u001b[0m",
      "\u001b[0;31mAttributeError\u001b[0m                            Traceback (most recent call last)",
      "\u001b[1;32m/workspaces/Quantum/samples/azure-quantum/chemistry/Hamiltonian/Approximate Energy using Jordan-Wigner transformation.ipynb Cell 9\u001b[0m line \u001b[0;36m1\n\u001b[0;32m----> <a href='vscode-notebook-cell://codespaces%2Bfictional-space-capybara-gxrqwgrgr6vfw74p/workspaces/Quantum/samples/azure-quantum/chemistry/Hamiltonian/Approximate%20Energy%20using%20Jordan-Wigner%20transformation.ipynb#X11sdnNjb2RlLXJlbW90ZQ%3D%3D?line=0'>1</a>\u001b[0m GetHamiltonianTermH2\u001b[39m.\u001b[39;49mestimate_resources(\n\u001b[1;32m      <a href='vscode-notebook-cell://codespaces%2Bfictional-space-capybara-gxrqwgrgr6vfw74p/workspaces/Quantum/samples/azure-quantum/chemistry/Hamiltonian/Approximate%20Energy%20using%20Jordan-Wigner%20transformation.ipynb#X11sdnNjb2RlLXJlbW90ZQ%3D%3D?line=1'>2</a>\u001b[0m     nOp\u001b[39m=\u001b[39m\u001b[39m12\u001b[39m\n\u001b[1;32m      <a href='vscode-notebook-cell://codespaces%2Bfictional-space-capybara-gxrqwgrgr6vfw74p/workspaces/Quantum/samples/azure-quantum/chemistry/Hamiltonian/Approximate%20Energy%20using%20Jordan-Wigner%20transformation.ipynb#X11sdnNjb2RlLXJlbW90ZQ%3D%3D?line=2'>3</a>\u001b[0m )\n",
      "\u001b[0;31mAttributeError\u001b[0m: 'GetHamiltonianTermH2' object has no attribute 'estimate_resources'"
     ]
    }
   ],
   "source": [
    "GetHamiltonianTermH2.estimate_resources(\n",
    "    nOp=12\n",
    ")"
   ]
  },
  {
   "cell_type": "markdown",
   "id": "e0129eef",
   "metadata": {},
   "source": [
    "We have 11 qubits on the IonQ system so this is feasible to run!"
   ]
  },
  {
   "cell_type": "markdown",
   "id": "6d2f1826",
   "metadata": {},
   "source": [
    "### 3. Running on Azure Quantum\n",
    "\n",
    "Connect to Azure Quantum"
   ]
  },
  {
   "cell_type": "code",
   "execution_count": 46,
   "id": "2353946a",
   "metadata": {},
   "outputs": [],
   "source": [
    "rid = \"/subscriptions/9282e238-0ef1-4ebb-be4c-9399b8b2816f/resourceGroups/AzureQuantum/providers/Microsoft.Quantum/Workspaces/rheaparekh-azure-quantum\" # Enter your workspace's resource ID here\n",
    "location = \"West US 2\" # Enter your workspace's location here, e.g. \"West US\""
   ]
  },
  {
   "cell_type": "code",
   "execution_count": 47,
   "id": "510a2069",
   "metadata": {
    "scrolled": true
   },
   "outputs": [
    {
     "data": {
      "application/x-qsharp-data": "\"Connecting to Azure Quantum...\"",
      "text/plain": [
       "Connecting to Azure Quantum..."
      ]
     },
     "metadata": {},
     "output_type": "display_data"
    },
    {
     "name": "stdout",
     "output_type": "stream",
     "text": [
      "To sign in, use a web browser to open the page https://microsoft.com/devicelogin and enter the code SURHKFM2P to authenticate.\n",
      "\n",
      "\n",
      "Connected to Azure Quantum workspace rheaparekh-azure-quantum in location westus2.\n"
     ]
    },
    {
     "data": {
      "text/plain": [
       "[{'id': 'ionq.qpu', 'current_availability': {}, 'average_queue_time': 5392},\n",
       " {'id': 'ionq.qpu.aria-1', 'current_availability': {}, 'average_queue_time': 814384},\n",
       " {'id': 'ionq.simulator', 'current_availability': {}, 'average_queue_time': 60182},\n",
       " {'id': 'microsoft.estimator', 'current_availability': {}, 'average_queue_time': 0},\n",
       " {'id': 'quantinuum.qpu.h1-1', 'current_availability': {}, 'average_queue_time': 906458},\n",
       " {'id': 'quantinuum.sim.h1-1sc', 'current_availability': {}, 'average_queue_time': 9106},\n",
       " {'id': 'quantinuum.qpu.h1-2', 'current_availability': {}, 'average_queue_time': 0},\n",
       " {'id': 'quantinuum.sim.h1-2sc', 'current_availability': {}, 'average_queue_time': 382},\n",
       " {'id': 'quantinuum.sim.h1-1e', 'current_availability': {}, 'average_queue_time': 81379},\n",
       " {'id': 'quantinuum.sim.h1-2e', 'current_availability': {}, 'average_queue_time': 19621},\n",
       " {'id': 'rigetti.sim.qvm', 'current_availability': {}, 'average_queue_time': 5},\n",
       " {'id': 'rigetti.qpu.aspen-m-2', 'current_availability': {}, 'average_queue_time': 0},\n",
       " {'id': 'rigetti.qpu.aspen-m-3', 'current_availability': {}, 'average_queue_time': 5}]"
      ]
     },
     "execution_count": 47,
     "metadata": {},
     "output_type": "execute_result"
    }
   ],
   "source": [
    "qsharp.azure.connect(\n",
    "   resourceId=rid,\n",
    "   location=location,\n",
    "   credential=\"devicecode\"\n",
    ")"
   ]
  },
  {
   "cell_type": "code",
   "execution_count": 48,
   "id": "4343abac",
   "metadata": {},
   "outputs": [
    {
     "name": "stdout",
     "output_type": "stream",
     "text": [
      "Loading package Microsoft.Quantum.Providers.IonQ and dependencies...\n",
      "Active target is now ionq.simulator\n"
     ]
    },
    {
     "data": {
      "text/plain": [
       "{'id': 'ionq.simulator', 'current_availability': {}, 'average_queue_time': 60182}"
      ]
     },
     "execution_count": 48,
     "metadata": {},
     "output_type": "execute_result"
    }
   ],
   "source": [
    "qsharp.azure.target(\"ionq.simulator\")"
   ]
  },
  {
   "cell_type": "markdown",
   "id": "9657ea3f",
   "metadata": {},
   "source": [
    "Run a single term on the IonQ simulator:"
   ]
  },
  {
   "cell_type": "code",
   "execution_count": 47,
   "id": "ec77e9e8",
   "metadata": {
    "scrolled": true
   },
   "outputs": [
    {
     "name": "stdout",
     "output_type": "stream",
     "text": [
      "Submitting Microsoft.Quantum.Chemistry.Hamiltonian.GetHamiltonianTermH2 to target ionq.simulator...\n",
      "Job successfully submitted.\n",
      "   Job name: Hamiltonian term 17\n",
      "   Job ID: cca2e176-5c2b-4157-9c4c-df8c35ed7294\n",
      "Waiting up to 300 seconds for Azure Quantum job to complete...\n",
      "[21:52:03] Current job status: Waiting\n",
      "[21:52:08] Current job status: Succeeded\n"
     ]
    }
   ],
   "source": [
    "n_op = 17\n",
    "result = qsharp.azure.execute(GetHamiltonianTermH2, nOp=n_op, shots=1000, jobName=f\"Hamiltonian term {n_op}\")"
   ]
  },
  {
   "cell_type": "code",
   "execution_count": 42,
   "id": "3988101c",
   "metadata": {},
   "outputs": [
    {
     "data": {
      "application/x-qsharp-data": "{\"0\":0.5,\"1\":0.5}",
      "text/html": [
       "\r\n",
       "                    <table style=\"table-layout: fixed; width: 100%\">\r\n",
       "                        <thead>\r\n",
       "                            <tr>\r\n",
       "                                <th style=\"text-align: left; width: 25ch\">Result</th>\r\n",
       "                                <th style=\"text-align: left; width: 25ch\">Frequency</th>\r\n",
       "                                <th style=\"text-align: left; width: calc(100% - 25ch - 25ch)\">Histogram</th>\r\n",
       "                            </tr>\r\n",
       "                        </thead>\r\n",
       "                        <tbody>\r\n",
       "                            \r\n",
       "                            <tr>\r\n",
       "                                <td style=\"text-align: left; width: 25ch\">0</td>\r\n",
       "                                <td style=\"text-align: left; width: 25ch\">0.5</td>\r\n",
       "                                <td style=\"text-align: left; width: calc(100% - 25ch - 25ch)\">\r\n",
       "                                    <progress\r\n",
       "                                        max=\"100\"\r\n",
       "                                        value=\"50\"\r\n",
       "                                        style=\"width: 100%;\"\r\n",
       "                                    >\r\n",
       "                                </td>\r\n",
       "                            </tr>\r\n",
       "                        \n",
       "\r\n",
       "                            <tr>\r\n",
       "                                <td style=\"text-align: left; width: 25ch\">1</td>\r\n",
       "                                <td style=\"text-align: left; width: 25ch\">0.5</td>\r\n",
       "                                <td style=\"text-align: left; width: calc(100% - 25ch - 25ch)\">\r\n",
       "                                    <progress\r\n",
       "                                        max=\"100\"\r\n",
       "                                        value=\"50\"\r\n",
       "                                        style=\"width: 100%;\"\r\n",
       "                                    >\r\n",
       "                                </td>\r\n",
       "                            </tr>\r\n",
       "                        \r\n",
       "                        </tbody>\r\n",
       "                    </table>\r\n",
       "                "
      ],
      "text/plain": [
       "{'0': 0.5, '1': 0.5}"
      ]
     },
     "execution_count": 42,
     "metadata": {},
     "output_type": "execute_result"
    }
   ],
   "source": [
    "result"
   ]
  },
  {
   "cell_type": "markdown",
   "id": "1ba1bfe5",
   "metadata": {},
   "source": [
    "### 4. Loop over all Hamiltonian terms"
   ]
  },
  {
   "cell_type": "markdown",
   "id": "3500a530",
   "metadata": {},
   "source": [
    "Each Hamiltonian term has a term type, measurement operator and coefficient. To simplify this sample, we will move the coefficients into a flat list. Each nonzero coefficient will render a separate job that we send to Azure Quantum. To calculate the energy for that term, we map result from the job onto a -1 to 1 axis and multiply the value by the corresponding coefficient."
   ]
  },
  {
   "cell_type": "code",
   "execution_count": 49,
   "id": "22a79e06",
   "metadata": {},
   "outputs": [
    {
     "name": "stdout",
     "output_type": "stream",
     "text": [
      "term_type 0\n",
      "qubits [0] coeff [0.17120128499999998]\n",
      "qubits [1] coeff [0.17120128499999998]\n",
      "qubits [2] coeff [-0.222796536]\n",
      "qubits [3] coeff [-0.222796536]\n",
      "term_type 1\n",
      "qubits [0, 1] coeff [0.1686232915]\n",
      "qubits [0, 2] coeff [0.12054614575]\n",
      "qubits [0, 3] coeff [0.16586802525]\n",
      "qubits [1, 2] coeff [0.16586802525]\n",
      "qubits [1, 3] coeff [0.12054614575]\n",
      "qubits [2, 3] coeff [0.1743495025]\n",
      "term_type 2\n",
      "term_type 3\n",
      "qubits [0, 1, 2, 3] coeff [0.0, -0.0453218795, 0.0, 0.0453218795]\n",
      "[[2, 0, 0, 0], [0, 2, 0, 0], [0, 0, 2, 0], [0, 0, 0, 2], [2, 2, 0, 0], [2, 0, 2, 0], [2, 0, 0, 2], [0, 2, 2, 0], [0, 2, 0, 2], [0, 0, 2, 2], [1, 1, 1, 1], [3, 3, 3, 3], [1, 1, 3, 3], [3, 3, 1, 1], [1, 3, 1, 3], [3, 1, 3, 1], [3, 1, 1, 3], [1, 3, 3, 1]]\n"
     ]
    }
   ],
   "source": [
    "coeffs = []\n",
    "mesOps = []\n",
    "for term_type, terms in enumerate(fermion_terms):\n",
    "    print (\"term_type\", term_type)\n",
    "    for (qubits, coeff) in terms:\n",
    "        print(\"qubits\", qubits, \"coeff\", coeff)\n",
    "        coeffs += ExpandedCoefficients_(coeff=coeff, termType=term_type)\n",
    "        mesOps += JordanWignerMeasurementOperators(nQubits=num_qubits, indices=qubits, termType=term_type)\n",
    "# coeffs\n",
    "\n",
    "# for n_op, coeff in enumerate(coeffs):\n",
    "#  if coeff != 0.0:\n",
    "#     print (n_op, coeff)\n",
    "\n",
    "print(mesOps)"
   ]
  },
  {
   "cell_type": "code",
   "execution_count": 38,
   "id": "6f47aa57",
   "metadata": {},
   "outputs": [
    {
     "name": "stdout",
     "output_type": "stream",
     "text": [
      "[[1, 1, 1, 1], [3, 3, 3, 3], [1, 1, 3, 3], [3, 3, 1, 1], [1, 3, 1, 3], [3, 1, 3, 1], [3, 1, 1, 3], [1, 3, 3, 1]]\n"
     ]
    }
   ],
   "source": [
    "result = JordanWignerMeasurementOperators(nQubits=4, indices=[0, 1,2, 3], termType=3)\n",
    "print(result)"
   ]
  },
  {
   "cell_type": "markdown",
   "id": "0062e6c8",
   "metadata": {},
   "source": [
    "There are in total 18 coefficients corresponding to each combination of Hamiltonian term and Jordan-Wigner measurement operator. Start a job for each term that has a nonzero coefficient:"
   ]
  },
  {
   "cell_type": "code",
   "execution_count": 52,
   "id": "3cc6c5ae",
   "metadata": {},
   "outputs": [
    {
     "name": "stdout",
     "output_type": "stream",
     "text": [
      "Submitting Microsoft.Quantum.Chemistry.Hamiltonian.GetHamiltonianTerm to target ionq.simulator...\n",
      "Job successfully submitted.\n",
      "   Job name: Hamiltonian term 0\n",
      "   Job ID: a7886f62-12a4-4759-a815-bfeee8abbe42\n",
      "Submitting Microsoft.Quantum.Chemistry.Hamiltonian.GetHamiltonianTerm to target ionq.simulator...\n",
      "Job successfully submitted.\n",
      "   Job name: Hamiltonian term 1\n",
      "   Job ID: 222c4d60-e0fa-46ff-84da-b4d3de587b6a\n",
      "Submitting Microsoft.Quantum.Chemistry.Hamiltonian.GetHamiltonianTerm to target ionq.simulator...\n",
      "Job successfully submitted.\n",
      "   Job name: Hamiltonian term 2\n",
      "   Job ID: efb6deb0-c854-431e-be47-0be32fd9c884\n"
     ]
    }
   ],
   "source": [
    "jobs = [\n",
    "    qsharp.azure.submit(GetHamiltonianTerm, nOp=n_op, mesOps = mesOps[n_op], shots=1000, jobName=f\"Hamiltonian term {n_op}\") \n",
    "    for n_op, coeff in enumerate(coeffs) if coeff != 0.0\n",
    "]"
   ]
  },
  {
   "cell_type": "code",
   "execution_count": 36,
   "id": "002adcf4",
   "metadata": {},
   "outputs": [
    {
     "ename": "NameError",
     "evalue": "name 'jobs' is not defined",
     "output_type": "error",
     "traceback": [
      "\u001b[0;31m---------------------------------------------------------------------------\u001b[0m",
      "\u001b[0;31mNameError\u001b[0m                                 Traceback (most recent call last)",
      "\u001b[1;32m/workspaces/Quantum/samples/azure-quantum/chemistry/Hamiltonian/Approximate Energy using Jordan-Wigner transformation.ipynb Cell 23\u001b[0m line \u001b[0;36m1\n\u001b[0;32m----> <a href='vscode-notebook-cell://codespaces%2Bfictional-space-capybara-gxrqwgrgr6vfw74p/workspaces/Quantum/samples/azure-quantum/chemistry/Hamiltonian/Approximate%20Energy%20using%20Jordan-Wigner%20transformation.ipynb#X31sdnNjb2RlLXJlbW90ZQ%3D%3D?line=0'>1</a>\u001b[0m results \u001b[39m=\u001b[39m [qsharp\u001b[39m.\u001b[39mazure\u001b[39m.\u001b[39moutput(j\u001b[39m.\u001b[39mid) \u001b[39mfor\u001b[39;00m j \u001b[39min\u001b[39;00m jobs]\n\u001b[1;32m      <a href='vscode-notebook-cell://codespaces%2Bfictional-space-capybara-gxrqwgrgr6vfw74p/workspaces/Quantum/samples/azure-quantum/chemistry/Hamiltonian/Approximate%20Energy%20using%20Jordan-Wigner%20transformation.ipynb#X31sdnNjb2RlLXJlbW90ZQ%3D%3D?line=1'>2</a>\u001b[0m results\n",
      "\u001b[0;31mNameError\u001b[0m: name 'jobs' is not defined"
     ]
    }
   ],
   "source": [
    "results = [qsharp.azure.output(j.id) for j in jobs]\n",
    "results"
   ]
  },
  {
   "cell_type": "markdown",
   "id": "f90d71ed",
   "metadata": {},
   "source": [
    "### 5. Estimate energy"
   ]
  },
  {
   "cell_type": "code",
   "execution_count": null,
   "id": "3742b6b5",
   "metadata": {},
   "outputs": [],
   "source": [
    "def calc_energy(coeffs, results):\n",
    "    return sum([(2. * res.get(\"0\", 0.0) - 1.) * coeff for coeff, res in zip(coeffs, results)]) + energy_offset"
   ]
  },
  {
   "cell_type": "code",
   "execution_count": null,
   "id": "ee6339e5",
   "metadata": {},
   "outputs": [],
   "source": [
    "calc_energy(coeffs, results)"
   ]
  },
  {
   "cell_type": "markdown",
   "id": "1fc3eb7c",
   "metadata": {},
   "source": [
    "Now we are ready to run on hardware! Switch to the QPU."
   ]
  },
  {
   "cell_type": "code",
   "execution_count": null,
   "id": "7c5ec02b",
   "metadata": {},
   "outputs": [],
   "source": [
    "qsharp.azure.target(\"ionq.qpu\")"
   ]
  },
  {
   "cell_type": "code",
   "execution_count": null,
   "id": "4e045032",
   "metadata": {
    "scrolled": true
   },
   "outputs": [],
   "source": [
    "jobs_hw = [\n",
    "    qsharp.azure.submit(GetHamiltonianTermH2, nOp=n_op, shots=1000, jobName=f\"Hamiltonian term {n_op}\") \n",
    "    for n_op, coeff in enumerate(coeffs) if coeff != 0\n",
    "]"
   ]
  },
  {
   "cell_type": "markdown",
   "id": "f65fb519",
   "metadata": {},
   "source": [
    "Check if the jobs succeeded."
   ]
  },
  {
   "cell_type": "code",
   "execution_count": null,
   "id": "927be51a",
   "metadata": {},
   "outputs": [],
   "source": [
    "jobs_status = [qsharp.azure.status(j) for j in jobs_hw]\n",
    "[\n",
    "    j.status + \" | \" + j.name + \" | \" + j.target + \" | \" + j.creation_time + \" | \" + j.end_execution_time \n",
    "    for j in jobs_status\n",
    "]"
   ]
  },
  {
   "cell_type": "markdown",
   "id": "8f263a26",
   "metadata": {},
   "source": [
    "Get results and estimate energy"
   ]
  },
  {
   "cell_type": "code",
   "execution_count": null,
   "id": "cd5fd7ac",
   "metadata": {},
   "outputs": [],
   "source": [
    "results = [qsharp.azure.output(j.id) for j in jobs_hw]\n",
    "results"
   ]
  },
  {
   "cell_type": "code",
   "execution_count": null,
   "id": "5c1e5479",
   "metadata": {},
   "outputs": [],
   "source": [
    "calc_energy(coeffs, results)"
   ]
  }
 ],
 "metadata": {
  "kernelspec": {
   "display_name": "Python 3",
   "language": "python",
   "name": "python3"
  },
  "language_info": {
   "codemirror_mode": {
    "name": "ipython",
    "version": 3
   },
   "file_extension": ".py",
   "mimetype": "text/x-python",
   "name": "python",
   "nbconvert_exporter": "python",
   "pygments_lexer": "ipython3",
   "version": "3.9.17"
  }
 },
 "nbformat": 4,
 "nbformat_minor": 5
}
