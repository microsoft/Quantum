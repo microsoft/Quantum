{
 "cells": [
  {
   "cell_type": "markdown",
   "id": "79c2f4e5",
   "metadata": {},
   "source": [
    "# Approximate H2 molecule energy near ground state\n",
    "\n",
    "In this example notebook, we'll walk through calculating the energy of a molecule given an estimate for the ground state using Azure Quantum. We will do that using a simple algorithm where we prepare the quantum register in a state near the ground state of the molecule using the Jordan-Wigner encoding, and evaluate the energy of the molecule by applying the Hamiltonian operator to that state. To be able to run the algorithm on near-term hardware, we will estimate the energy per Hamiltonian term, and then calculate the total estimated energy by adding the values of these terms."
   ]
  },
  {
   "cell_type": "markdown",
   "id": "2dd45a5e",
   "metadata": {},
   "source": []
  },
  {
   "cell_type": "code",
   "execution_count": null,
   "id": "55b70453",
   "metadata": {
    "scrolled": false
   },
   "outputs": [],
   "source": [
    "# First, import qsharp and qsharp.azure to be able to compile and submit the quantum program.\n",
    "import qsharp\n",
    "import qsharp.azure\n",
    "qsharp.reload()\n",
    "from Microsoft.Quantum.Chemistry.Hamiltonian import GetHamiltonianTermH2, ExpandedCoefficients_"
   ]
  },
  {
   "cell_type": "markdown",
   "id": "9efb9be7",
   "metadata": {},
   "source": [
    "### 1. Load H2 molecule data\n",
    "\n",
    "The pre-generated Broombridge file included in this sample contains the details on the molecule's Hamiltonian. A Hamiltonian is an operator that calculates the energy of a molecule by acting on a qubit register that represents the molecule's quantum state by Jordan-Wigner encoding. If we prepare the molecule in the ground state, then we know that applying the Hamiltonian will calculate the ground state energy."
   ]
  },
  {
   "cell_type": "code",
   "execution_count": null,
   "id": "601fb1cb",
   "metadata": {
    "scrolled": true
   },
   "outputs": [],
   "source": [
    "from qdk.chemistry.broombridge import load_and_encode"
   ]
  },
  {
   "cell_type": "code",
   "execution_count": null,
   "id": "f11f81ab",
   "metadata": {},
   "outputs": [],
   "source": [
    "encoded_data_h2 = load_and_encode(\"../data/broombridge/hydrogen_0.2.yaml\")"
   ]
  },
  {
   "cell_type": "markdown",
   "id": "2ff4fc44",
   "metadata": {},
   "source": [
    "This contains a tuple of the number of qubits, the fermionic Hamiltonian term coefficients and the energy offset.\n",
    "\n",
    "The index of each list in the second tuple is will be referred to as the \"term type\"."
   ]
  },
  {
   "cell_type": "code",
   "execution_count": null,
   "id": "38c84985",
   "metadata": {},
   "outputs": [],
   "source": [
    "num_qubits, fermion_terms, _, energy_offset = encoded_data_h2"
   ]
  },
  {
   "cell_type": "markdown",
   "id": "13735540",
   "metadata": {},
   "source": [
    "### 2. Resource estimation\n",
    "Before running on hardware, let's first estimate the quantum resources needed for measuring two-electron terms (\"term type\" = 3)"
   ]
  },
  {
   "cell_type": "code",
   "execution_count": null,
   "id": "50f802c0",
   "metadata": {},
   "outputs": [],
   "source": [
    "GetHamiltonianTermH2.estimate_resources(\n",
    "    nOp=12\n",
    ")"
   ]
  },
  {
   "cell_type": "markdown",
   "id": "e0129eef",
   "metadata": {},
   "source": [
    "We have 11 qubits on the IonQ system so this is feasible to run!"
   ]
  },
  {
   "cell_type": "markdown",
   "id": "6d2f1826",
   "metadata": {},
   "source": [
    "### 3. Running on Azure Quantum\n",
    "\n",
    "Connect to Azure Quantum"
   ]
  },
  {
   "cell_type": "code",
   "execution_count": null,
   "id": "2353946a",
   "metadata": {},
   "outputs": [],
   "source": [
    "rid = \"/subscriptions/dcdedb1f-5556-4212-89bf-9621f96fd0f2/resourceGroups/AzureQuantum/providers/Microsoft.Quantum/Workspaces/jkingdon-qw\" # Enter your workspace's resource ID here\n",
    "location = \"East US\" # Enter your workspace's location here, e.g. \"West US\""
   ]
  },
  {
   "cell_type": "code",
   "execution_count": null,
   "id": "510a2069",
   "metadata": {
    "scrolled": true
   },
   "outputs": [],
   "source": [
    "qsharp.azure.connect(\n",
    "   resourceId=rid,\n",
    "   location=location,\n",
    "   credential=\"devicecode\"\n",
    ")"
   ]
  },
  {
   "cell_type": "code",
   "execution_count": null,
   "id": "4343abac",
   "metadata": {},
   "outputs": [],
   "source": [
    "qsharp.azure.target(\"ionq.simulator\")"
   ]
  },
  {
   "cell_type": "markdown",
   "id": "9657ea3f",
   "metadata": {},
   "source": [
    "Run a single term on the IonQ simulator:"
   ]
  },
  {
   "cell_type": "code",
   "execution_count": null,
   "id": "ec77e9e8",
   "metadata": {
    "scrolled": true
   },
   "outputs": [],
   "source": [
    "n_op = 17\n",
    "result = qsharp.azure.execute(GetHamiltonianTermH2, nOp=n_op, shots=1000, jobName=f\"Hamiltonian term {n_op}\")"
   ]
  },
  {
   "cell_type": "code",
   "execution_count": null,
   "id": "3988101c",
   "metadata": {},
   "outputs": [],
   "source": [
    "result"
   ]
  },
  {
   "cell_type": "markdown",
   "id": "1ba1bfe5",
   "metadata": {},
   "source": [
    "### 4. Loop over all Hamiltonian terms"
   ]
  },
  {
   "cell_type": "markdown",
   "id": "3500a530",
   "metadata": {},
   "source": [
    "Each Hamiltonian term has a term type, measurement operator and coefficient. To simplify this sample, we will move the coefficients into a flat list. Each nonzero coefficient will render a separate job that we send to Azure Quantum. To calculate the energy for that term, we map result from the job onto a -1 to 1 axis and multiply the value by the corresponding coefficient."
   ]
  },
  {
   "cell_type": "code",
   "execution_count": null,
   "id": "22a79e06",
   "metadata": {},
   "outputs": [],
   "source": [
    "coeffs = []\n",
    "for term_type, terms in enumerate(fermion_terms):\n",
    "    for (qubits, coeff) in terms:\n",
    "        coeffs += ExpandedCoefficients_(coeff=coeff, termType=term_type)\n",
    "coeffs"
   ]
  },
  {
   "cell_type": "markdown",
   "id": "0062e6c8",
   "metadata": {},
   "source": [
    "There are in total 18 coefficients corresponding to each combination of Hamiltonian term and Jordan-Wigner measurement operator. Start a job for each term that has a nonzero coefficient:"
   ]
  },
  {
   "cell_type": "code",
   "execution_count": null,
   "id": "3cc6c5ae",
   "metadata": {},
   "outputs": [],
   "source": [
    "jobs = [\n",
    "    qsharp.azure.submit(GetHamiltonianTermH2, nOp=n_op, shots=1000, jobName=f\"Hamiltonian term {n_op}\") \n",
    "    for n_op, coeff in enumerate(coeffs) if coeff != 0.0\n",
    "]"
   ]
  },
  {
   "cell_type": "code",
   "execution_count": null,
   "id": "002adcf4",
   "metadata": {},
   "outputs": [],
   "source": [
    "results = [qsharp.azure.output(j.id) for j in jobs]\n",
    "results"
   ]
  },
  {
   "cell_type": "markdown",
   "id": "f90d71ed",
   "metadata": {},
   "source": [
    "### 5. Estimate energy"
   ]
  },
  {
   "cell_type": "code",
   "execution_count": null,
   "id": "3742b6b5",
   "metadata": {},
   "outputs": [],
   "source": [
    "def calc_energy(coeffs, results):\n",
    "    return sum([(2. * res.get(\"0\", 0.0) - 1.) * coeff for coeff, res in zip(coeffs, results)]) + energy_offset"
   ]
  },
  {
   "cell_type": "code",
   "execution_count": null,
   "id": "ee6339e5",
   "metadata": {},
   "outputs": [],
   "source": [
    "calc_energy(coeffs, results)"
   ]
  },
  {
   "cell_type": "markdown",
   "id": "1fc3eb7c",
   "metadata": {},
   "source": [
    "Now we are ready to run on hardware! Switch to the QPU."
   ]
  },
  {
   "cell_type": "code",
   "execution_count": null,
   "id": "7c5ec02b",
   "metadata": {},
   "outputs": [],
   "source": [
    "qsharp.azure.target(\"ionq.qpu\")"
   ]
  },
  {
   "cell_type": "code",
   "execution_count": null,
   "id": "4e045032",
   "metadata": {
    "scrolled": true
   },
   "outputs": [],
   "source": [
    "jobs_hw = [\n",
    "    qsharp.azure.submit(GetHamiltonianTermH2, nOp=n_op, shots=1000, jobName=f\"Hamiltonian term {n_op}\") \n",
    "    for n_op, coeff in enumerate(coeffs) if coeff != 0\n",
    "]"
   ]
  },
  {
   "cell_type": "markdown",
   "id": "f65fb519",
   "metadata": {},
   "source": [
    "Check if the jobs succeeded."
   ]
  },
  {
   "cell_type": "code",
   "execution_count": null,
   "id": "927be51a",
   "metadata": {},
   "outputs": [],
   "source": [
    "jobs_status = [qsharp.azure.status(j) for j in jobs_hw]\n",
    "[\n",
    "    j.status + \" | \" + j.name + \" | \" + j.target + \" | \" + j.creation_time + \" | \" + j.end_execution_time \n",
    "    for j in jobs_status\n",
    "]"
   ]
  },
  {
   "cell_type": "markdown",
   "id": "8f263a26",
   "metadata": {},
   "source": [
    "Get results and estimate energy"
   ]
  },
  {
   "cell_type": "code",
   "execution_count": null,
   "id": "cd5fd7ac",
   "metadata": {},
   "outputs": [],
   "source": [
    "results = [qsharp.azure.output(j.id) for j in jobs_hw]\n",
    "results"
   ]
  },
  {
   "cell_type": "code",
   "execution_count": null,
   "id": "5c1e5479",
   "metadata": {},
   "outputs": [],
   "source": [
    "calc_energy(coeffs, results)"
   ]
  }
 ],
 "metadata": {
  "kernelspec": {
   "display_name": "Python 3",
   "language": "python",
   "name": "python3"
  },
  "language_info": {
   "codemirror_mode": {
    "name": "ipython",
    "version": 3
   },
   "file_extension": ".py",
   "mimetype": "text/x-python",
   "name": "python",
   "nbconvert_exporter": "python",
   "pygments_lexer": "ipython3",
   "version": "3.9.17"
  }
 },
 "nbformat": 4,
 "nbformat_minor": 5
}
