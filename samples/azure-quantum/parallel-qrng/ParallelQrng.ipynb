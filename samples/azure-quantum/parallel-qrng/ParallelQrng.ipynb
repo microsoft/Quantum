{
 "cells": [
  {
   "cell_type": "markdown",
   "metadata": {},
   "source": [
    "# Quantum Computing on Azure Quantum with Q# and Jupyter Notebook: <br> Parallel QRNG"
   ]
  },
  {
   "cell_type": "markdown",
   "metadata": {},
   "source": [
    "This notebook demonstrates how to execute a Q# program on Azure Quantum."
   ]
  },
  {
   "cell_type": "markdown",
   "metadata": {},
   "source": [
    "## Define Q# operations"
   ]
  },
  {
   "cell_type": "markdown",
   "metadata": {},
   "source": [
    "The quickest way to define a Q# operation in a Q# Jupyter Notebook is to simply write the Q# code directly into a notebook cell and execute it. Note that for convenience, the `Microsoft.Quantum.Canon` and `Microsoft.Quantum.Intrinsic` namespaces are automatically opened in every cell."
   ]
  },
  {
   "cell_type": "code",
   "execution_count": 1,
   "metadata": {},
   "outputs": [
    {
     "data": {
      "application/json": "[\"SampleRandomNumber\"]",
      "text/html": [
       "<ul><li>SampleRandomNumber</li></ul>"
      ],
      "text/plain": [
       "SampleRandomNumber"
      ]
     },
     "execution_count": 1,
     "metadata": {},
     "output_type": "execute_result"
    }
   ],
   "source": [
    "open Microsoft.Quantum.Arrays;\n",
    "open Microsoft.Quantum.Measurement;\n",
    "    \n",
    "operation SampleRandomNumber(nQubits : Int) : Result[] {\n",
    "    // We prepare a register of qubits in a uniform\n",
    "    // superposition state, such that when we measure,\n",
    "    // all bitstrings occur with equal probability.\n",
    "    using (register = Qubit[nQubits]) {\n",
    "        // Set qubits in superposition.\n",
    "        ApplyToEachA(H, register);\n",
    "\n",
    "        // Measure all qubits and return.\n",
    "        return ForEach(MResetZ, register);\n",
    "    }\n",
    "}"
   ]
  },
  {
   "cell_type": "markdown",
   "metadata": {},
   "source": [
    "You can also write your Q# code in .qs files which are in the same folder as the .ipynb notebook. Running `%workspace reload` will recompile all such .qs files and report the list of available Q# operations and functions. In this case, it finds an operation called `SampleRandomNumber` in a namespace called `Microsoft.Quantum.AzureSamples`."
   ]
  },
  {
   "cell_type": "code",
   "execution_count": 2,
   "metadata": {},
   "outputs": [
    {
     "data": {
      "application/json": "{\"LastUpdated\":\"2021-01-25T17:36:50.9375242-08:00\",\"IsCompleted\":true,\"Description\":\"Reloading workspace\",\"Subtask\":\"done\"}",
      "text/plain": [
       "Reloading workspace: done!"
      ]
     },
     "metadata": {},
     "output_type": "display_data"
    },
    {
     "data": {
      "application/json": "[\"Microsoft.Quantum.Samples.SampleRandomNumber\"]",
      "text/html": [
       "<ul><li>Microsoft.Quantum.Samples.SampleRandomNumber</li></ul>"
      ],
      "text/plain": [
       "Microsoft.Quantum.Samples.SampleRandomNumber"
      ]
     },
     "execution_count": 2,
     "metadata": {},
     "output_type": "execute_result"
    }
   ],
   "source": [
    "%workspace reload"
   ]
  },
  {
   "cell_type": "markdown",
   "metadata": {},
   "source": [
    "Using `%simulate`, you can invoke the built-in Q# functionality to simulate a quantum operation locally and return the result. You can specify any operation that has been defined in the notebook or that has been imported from a .qs file."
   ]
  },
  {
   "cell_type": "code",
   "execution_count": 3,
   "metadata": {},
   "outputs": [
    {
     "data": {
      "application/json": "[1,0,1]",
      "text/html": [
       "<ul><li>One</li><li>Zero</li><li>One</li></ul>"
      ],
      "text/plain": [
       "One, Zero, One"
      ]
     },
     "execution_count": 3,
     "metadata": {},
     "output_type": "execute_result"
    }
   ],
   "source": [
    "%simulate Microsoft.Quantum.Samples.SampleRandomNumber nQubits=3"
   ]
  },
  {
   "cell_type": "markdown",
   "metadata": {},
   "source": [
    "## Executing Q# operations in Azure Quantum"
   ]
  },
  {
   "cell_type": "markdown",
   "metadata": {},
   "source": [
    "First, find the resource ID of your Azure Quantum workspace. You can copy/paste this from the top-right corner of your Quantum Workspace page in Azure Portal.\n",
    "\n",
    "Next, you can run `%azure.connect` to connect to the workspace and display the list of provisioned targets that support execution of Q# programs. If you are prompted to login, be sure to use the same account you used to create your Azure Quantum workspace."
   ]
  },
  {
   "cell_type": "code",
   "execution_count": 4,
   "metadata": {},
   "outputs": [
    {
     "name": "stdout",
     "output_type": "stream",
     "text": [
      "Connected to Azure Quantum workspace selfhost in location westus.\r\n"
     ]
    },
    {
     "data": {
      "application/json": "[{\"id\":\"ionq.qpu\",\"current_availability\":\"Available\",\"average_queue_time\":1013},{\"id\":\"ionq.simulator\",\"current_availability\":\"Available\",\"average_queue_time\":0}]",
      "text/html": [
       "<table><thead><tr><th style=\"text-align: start;\">Target ID</th><th style=\"text-align: start;\">Current Availability</th><th style=\"text-align: start;\">Average Queue Time (Seconds)</th></tr></thead><tbody><tr><td style=\"text-align: start;\">ionq.qpu</td><td style=\"text-align: start;\">Available</td><td style=\"text-align: start;\">1013</td></tr><tr><td style=\"text-align: start;\">ionq.simulator</td><td style=\"text-align: start;\">Available</td><td style=\"text-align: start;\">0</td></tr></tbody></table>"
      ],
      "text/plain": [
       "Target ID      Current Availability Average Queue Time (Seconds)\r\n",
       "-------------- --------- ----\r\n",
       "ionq.qpu       Available 1013\r\n",
       "ionq.simulator Available 0\r\n"
      ]
     },
     "execution_count": 4,
     "metadata": {},
     "output_type": "execute_result"
    }
   ],
   "source": [
    "%azure.connect \"/subscriptions/subscriptionId/resourceGroups/resourceGroupName/providers/Microsoft.Quantum/Workspaces/workspaceName\""
   ]
  },
  {
   "cell_type": "markdown",
   "metadata": {},
   "source": [
    "Now, use `%azure.target` to specify the target you'd like to use for job submission."
   ]
  },
  {
   "cell_type": "code",
   "execution_count": 5,
   "metadata": {},
   "outputs": [
    {
     "name": "stdout",
     "output_type": "stream",
     "text": [
      "Loading package Microsoft.Quantum.Providers.IonQ and dependencies...\n",
      "Active target is now ionq.simulator\n"
     ]
    },
    {
     "data": {
      "application/json": "{\"id\":\"ionq.simulator\",\"current_availability\":\"Available\",\"average_queue_time\":0}",
      "text/html": [
       "<table><thead><tr><th style=\"text-align: start;\">Target ID</th><th style=\"text-align: start;\">Current Availability</th><th style=\"text-align: start;\">Average Queue Time (Seconds)</th></tr></thead><tbody><tr><td style=\"text-align: start;\">ionq.simulator</td><td style=\"text-align: start;\">Available</td><td style=\"text-align: start;\">0</td></tr></tbody></table>"
      ],
      "text/plain": [
       "Target ID      Current Availability Average Queue Time (Seconds)\r\n",
       "-------------- --------- -\r\n",
       "ionq.simulator Available 0\r\n"
      ]
     },
     "execution_count": 5,
     "metadata": {},
     "output_type": "execute_result"
    }
   ],
   "source": [
    "%azure.target ionq.simulator"
   ]
  },
  {
   "cell_type": "markdown",
   "metadata": {},
   "source": [
    "To submit a job, use `%azure.submit` along with the Q# operation name and any parameters required by that operation. The `%azure.submit` command will return immediately after the job is created. Alternatively, you can use `%azure.execute`, which will submit the job and wait for it to complete."
   ]
  },
  {
   "cell_type": "code",
   "execution_count": null,
   "metadata": {},
   "outputs": [],
   "source": [
    "%azure.submit Microsoft.Quantum.Samples.SampleRandomNumber nQubits=3 "
   ]
  },
  {
   "cell_type": "markdown",
   "metadata": {},
   "source": [
    "Running `%azure.status` will display the status of the most recently submitted job in this session. If you want to check the status of a different job, provide the job ID to `%azure.status`."
   ]
  },
  {
   "cell_type": "code",
   "execution_count": null,
   "metadata": {},
   "outputs": [],
   "source": [
    "%azure.status"
   ]
  },
  {
   "cell_type": "markdown",
   "metadata": {},
   "source": [
    "Once the job has completed, use `%azure.output` to display the result. Again, you can provide a job ID to `%azure.output` if you want to display the status of a specific job."
   ]
  },
  {
   "cell_type": "code",
   "execution_count": 9,
   "metadata": {},
   "outputs": [
    {
     "data": {
      "application/json": "{\"[0,0,0]\":0.1249999999999999,\"[1,0,0]\":0.1249999999999999,\"[0,1,0]\":0.1249999999999999,\"[1,1,0]\":0.1249999999999999,\"[0,0,1]\":0.1249999999999999,\"[1,0,1]\":0.1249999999999999,\"[0,1,1]\":0.1249999999999999,\"[1,1,1]\":0.1249999999999999}",
      "text/html": [
       "\r\n",
       "                    <table style=\"table-layout: fixed; width: 100%\">\r\n",
       "                        <thead>\r\n",
       "                            <tr>\r\n",
       "                                <th style=\"text-align: left; width: 25ch\">Result</th>\r\n",
       "                                <th style=\"text-align: left; width: 25ch\">Frequency</th>\r\n",
       "                                <th style=\"text-align: left; width: calc(100% - 25ch - 25ch)\">Histogram</th>\r\n",
       "                            </tr>\r\n",
       "                        </thead>\r\n",
       "                        <tbody>\r\n",
       "                            \r\n",
       "                            <tr>\r\n",
       "                                <td style=\"text-align: left; width: 25ch\">[0,0,0]</td>\r\n",
       "                                <td style=\"text-align: left; width: 25ch\">0.1249999999999999</td>\r\n",
       "                                <td style=\"text-align: left; width: calc(100% - 25ch - 25ch)\">\r\n",
       "                                    <progress\r\n",
       "                                        max=\"100\"\r\n",
       "                                        value=\"12.499999999999991\"\r\n",
       "                                        style=\"width: 100%;\"\r\n",
       "                                    >\r\n",
       "                                </td>\r\n",
       "                            </tr>\r\n",
       "                        \n",
       "\r\n",
       "                            <tr>\r\n",
       "                                <td style=\"text-align: left; width: 25ch\">[1,0,0]</td>\r\n",
       "                                <td style=\"text-align: left; width: 25ch\">0.1249999999999999</td>\r\n",
       "                                <td style=\"text-align: left; width: calc(100% - 25ch - 25ch)\">\r\n",
       "                                    <progress\r\n",
       "                                        max=\"100\"\r\n",
       "                                        value=\"12.499999999999991\"\r\n",
       "                                        style=\"width: 100%;\"\r\n",
       "                                    >\r\n",
       "                                </td>\r\n",
       "                            </tr>\r\n",
       "                        \n",
       "\r\n",
       "                            <tr>\r\n",
       "                                <td style=\"text-align: left; width: 25ch\">[0,1,0]</td>\r\n",
       "                                <td style=\"text-align: left; width: 25ch\">0.1249999999999999</td>\r\n",
       "                                <td style=\"text-align: left; width: calc(100% - 25ch - 25ch)\">\r\n",
       "                                    <progress\r\n",
       "                                        max=\"100\"\r\n",
       "                                        value=\"12.499999999999991\"\r\n",
       "                                        style=\"width: 100%;\"\r\n",
       "                                    >\r\n",
       "                                </td>\r\n",
       "                            </tr>\r\n",
       "                        \n",
       "\r\n",
       "                            <tr>\r\n",
       "                                <td style=\"text-align: left; width: 25ch\">[1,1,0]</td>\r\n",
       "                                <td style=\"text-align: left; width: 25ch\">0.1249999999999999</td>\r\n",
       "                                <td style=\"text-align: left; width: calc(100% - 25ch - 25ch)\">\r\n",
       "                                    <progress\r\n",
       "                                        max=\"100\"\r\n",
       "                                        value=\"12.499999999999991\"\r\n",
       "                                        style=\"width: 100%;\"\r\n",
       "                                    >\r\n",
       "                                </td>\r\n",
       "                            </tr>\r\n",
       "                        \n",
       "\r\n",
       "                            <tr>\r\n",
       "                                <td style=\"text-align: left; width: 25ch\">[0,0,1]</td>\r\n",
       "                                <td style=\"text-align: left; width: 25ch\">0.1249999999999999</td>\r\n",
       "                                <td style=\"text-align: left; width: calc(100% - 25ch - 25ch)\">\r\n",
       "                                    <progress\r\n",
       "                                        max=\"100\"\r\n",
       "                                        value=\"12.499999999999991\"\r\n",
       "                                        style=\"width: 100%;\"\r\n",
       "                                    >\r\n",
       "                                </td>\r\n",
       "                            </tr>\r\n",
       "                        \n",
       "\r\n",
       "                            <tr>\r\n",
       "                                <td style=\"text-align: left; width: 25ch\">[1,0,1]</td>\r\n",
       "                                <td style=\"text-align: left; width: 25ch\">0.1249999999999999</td>\r\n",
       "                                <td style=\"text-align: left; width: calc(100% - 25ch - 25ch)\">\r\n",
       "                                    <progress\r\n",
       "                                        max=\"100\"\r\n",
       "                                        value=\"12.499999999999991\"\r\n",
       "                                        style=\"width: 100%;\"\r\n",
       "                                    >\r\n",
       "                                </td>\r\n",
       "                            </tr>\r\n",
       "                        \n",
       "\r\n",
       "                            <tr>\r\n",
       "                                <td style=\"text-align: left; width: 25ch\">[0,1,1]</td>\r\n",
       "                                <td style=\"text-align: left; width: 25ch\">0.1249999999999999</td>\r\n",
       "                                <td style=\"text-align: left; width: calc(100% - 25ch - 25ch)\">\r\n",
       "                                    <progress\r\n",
       "                                        max=\"100\"\r\n",
       "                                        value=\"12.499999999999991\"\r\n",
       "                                        style=\"width: 100%;\"\r\n",
       "                                    >\r\n",
       "                                </td>\r\n",
       "                            </tr>\r\n",
       "                        \n",
       "\r\n",
       "                            <tr>\r\n",
       "                                <td style=\"text-align: left; width: 25ch\">[1,1,1]</td>\r\n",
       "                                <td style=\"text-align: left; width: 25ch\">0.1249999999999999</td>\r\n",
       "                                <td style=\"text-align: left; width: calc(100% - 25ch - 25ch)\">\r\n",
       "                                    <progress\r\n",
       "                                        max=\"100\"\r\n",
       "                                        value=\"12.499999999999991\"\r\n",
       "                                        style=\"width: 100%;\"\r\n",
       "                                    >\r\n",
       "                                </td>\r\n",
       "                            </tr>\r\n",
       "                        \r\n",
       "                        </tbody>\r\n",
       "                    </table>\r\n",
       "                "
      ],
      "text/plain": [
       "Result  Frequency\r\n",
       "------- ------------------\r\n",
       "[0,0,0] 0.1249999999999999\r\n",
       "[1,0,0] 0.1249999999999999\r\n",
       "[0,1,0] 0.1249999999999999\r\n",
       "[1,1,0] 0.1249999999999999\r\n",
       "[0,0,1] 0.1249999999999999\r\n",
       "[1,0,1] 0.1249999999999999\r\n",
       "[0,1,1] 0.1249999999999999\r\n",
       "[1,1,1] 0.1249999999999999\r\n"
      ]
     },
     "execution_count": 9,
     "metadata": {},
     "output_type": "execute_result"
    }
   ],
   "source": [
    "%azure.output"
   ]
  },
  {
   "cell_type": "markdown",
   "metadata": {},
   "source": [
    "You can also view the status of all jobs by using `%azure.jobs`. Providing a parameter to this command will filter to just the jobs containing that string. For example, you can query for the status of all jobs named `Microsoft.Quantum.AzureSamples.SampleRandomNumber`."
   ]
  },
  {
   "cell_type": "code",
   "execution_count": null,
   "metadata": {},
   "outputs": [],
   "source": [
    "%azure.jobs Microsoft.Quantum.Samples.SampleRandomNumber"
   ]
  },
  {
   "cell_type": "markdown",
   "metadata": {},
   "source": [
    "## Usage information"
   ]
  },
  {
   "cell_type": "markdown",
   "metadata": {},
   "source": [
    "To list all of the available magic commands, run `%lsmagic`."
   ]
  },
  {
   "cell_type": "code",
   "execution_count": 12,
   "metadata": {},
   "outputs": [
    {
     "data": {
      "application/json": "[{\"Name\":\"%azure.connect\",\"Documentation\":{\"Summary\":\"Connects to an Azure Quantum workspace or displays current connection status.\",\"Full\":null,\"Description\":\"\\r\\nThis magic command allows for connecting to an Azure Quantum workspace\\r\\nas specified by the resource ID of the workspace or by a combination of\\r\\nsubscription ID, resource group name, and workspace name.\\r\\n\\r\\nIf the connection is successful, a list of the available Q# execution targets\\r\\nin the Azure Quantum workspace will be displayed.\\r\\n\\r\\n#### Required parameters\\r\\n\\r\\nThe Azure Quantum workspace can be identified by resource ID:\\r\\n\\r\\n- `resourceId=<string>`: The resource ID of the Azure Quantum workspace.\\r\\nThis can be obtained from the workspace page in the Azure portal. The `resourceId=` prefix\\r\\nis optional for this parameter, as long as the resource ID is valid.\\r\\n\\r\\nAlternatively, it can be identified by subscription ID, resource group name, and workspace name:\\r\\n\\r\\n- `subscription=<string>`: The Azure subscription ID for the Azure Quantum workspace.\\r\\n- `resourceGroup=<string>`: The Azure resource group name for the Azure Quantum workspace.\\r\\n- `workspace=<string>`: The name of the Azure Quantum workspace.\\r\\n\\r\\n#### Optional parameters\\r\\n\\r\\n- `refresh`: Bypasses any saved or cached credentials when connecting to Azure.\\r\\n- `storage=<string>`: The connection string to the Azure storage\\r\\naccount. Required if the specified Azure Quantum workspace was not linked to a storage\\r\\naccount at workspace creation time.\\r\\n- `location=<string>`: The Azure region where the Azure Quantum workspace is provisioned.\\r\\nThis may be specified as a region name such as `\\\"East US\\\"` or a location name such as `\\\"eastus\\\"`.\\r\\nIf no valid value is specified, defaults to `\\\"westus\\\"`.\\r\\n\\r\\n#### Possible errors\\r\\n\\r\\n- `WorkspaceNotFound`: No Azure Quantum workspace was found that matches the specified criteria.\\r\\n- `AuthenticationFailed`: Failed to authenticate to the specified Azure Quantum workspace.\\r\\n                    \",\"Remarks\":null,\"Examples\":[\"\\r\\nConnect to an Azure Quantum workspace using its resource ID:\\r\\n```\\r\\nIn []: %azure.connect \\\"/subscriptions/.../Microsoft.Quantum/Workspaces/WORKSPACE_NAME\\\"\\r\\nOut[]: Connected to Azure Quantum workspace WORKSPACE_NAME in location westus.\\r\\n        <list of Q# execution targets available in the Azure Quantum workspace>\\r\\n```\\r\\n                        \",\"\\r\\nConnect to an Azure Quantum workspace using its resource ID, a storage account connection string, and a location:\\r\\n```\\r\\nIn []: %azure.connect resourceId=\\\"/subscriptions/.../Microsoft.Quantum/Workspaces/WORKSPACE_NAME\\\"\\r\\n                      storage=\\\"STORAGE_ACCOUNT_CONNECTION_STRING\\\"\\r\\n                      location=\\\"East US\\\"\\r\\nOut[]: Connected to Azure Quantum workspace WORKSPACE_NAME in location eastus.\\r\\n        <list of Q# execution targets available in the Azure Quantum workspace>\\r\\n```\\r\\n                        \",\"\\r\\nConnect to an Azure Quantum workspace using individual subscription ID, resource group name, and workspace name parameters:\\r\\n```\\r\\nIn []: %azure.connect subscription=\\\"SUBSCRIPTION_ID\\\"\\r\\n                      resourceGroup=\\\"RESOURCE_GROUP_NAME\\\"\\r\\n                      workspace=\\\"WORKSPACE_NAME\\\"\\r\\n                      storage=\\\"STORAGE_ACCOUNT_CONNECTION_STRING\\\"\\r\\nOut[]: Connected to Azure Quantum workspace WORKSPACE_NAME in location westus.\\r\\n        <list of Q# execution targets available in the Azure Quantum workspace>\\r\\n```\\r\\n                        \",\"\\r\\nConnect to an Azure Quantum workspace and force a credential prompt using\\r\\nthe `refresh` option:\\r\\n```\\r\\nIn []: %azure.connect refresh \\\"/subscriptions/.../Microsoft.Quantum/Workspaces/WORKSPACE_NAME\\\"\\r\\nOut[]: To sign in, use a web browser to open the page https://microsoft.com/devicelogin\\r\\n        and enter the code [login code] to authenticate.\\r\\n        Connected to Azure Quantum workspace WORKSPACE_NAME in location westus.\\r\\n        <list of Q# execution targets available in the Azure Quantum workspace>\\r\\n```\\r\\n                        \",\"\\r\\nPrint information about the currently-connected Azure Quantum workspace:\\r\\n```\\r\\nIn []: %azure.connect\\r\\nOut[]: Connected to Azure Quantum workspace WORKSPACE_NAME in location westus.\\r\\n        <list of Q# execution targets available in the Azure Quantum workspace>\\r\\n```\\r\\n                        \"],\"SeeAlso\":null},\"AssemblyName\":\"Microsoft.Quantum.IQSharp.AzureClient\"},{\"Name\":\"%azure.execute\",\"Documentation\":{\"Summary\":\"Submits a job to an Azure Quantum workspace and waits for completion.\",\"Full\":null,\"Description\":\"\\r\\nThis magic command allows for submitting a Q# operation or function\\r\\nto be run on the specified target in the current Azure Quantum workspace.\\r\\nThe command waits a specified amount of time for the job to complete before returning.\\r\\n\\r\\nThe Azure Quantum workspace must have been previously initialized\\r\\nusing the [`%azure.connect` magic command](https://docs.microsoft.com/qsharp/api/iqsharp-magic/azure.connect),\\r\\nand an execution target for the job must have been specified using the\\r\\n[`%azure.target` magic command](https://docs.microsoft.com/qsharp/api/iqsharp-magic/azure.target).\\r\\n\\r\\n#### Required parameters\\r\\n\\r\\n- Q# operation or function name. This must be the first parameter, and must be a valid Q# operation\\r\\nor function name that has been defined either in the notebook or in a Q# file in the same folder.\\r\\n- Arguments for the Q# operation or function must also be specified as `key=value` pairs.\\r\\n\\r\\n#### Optional parameters\\r\\n\\r\\n- `jobName=<string>`: Friendly name to identify this job. If not specified,\\r\\nthe Q# operation or function name will be used as the job name.\\r\\n- `shots=<integer>` (default=500): Number of times to repeat execution of the\\r\\nspecified Q# operation or function.\\r\\n- `timeout=<integer>` (default=30): Time to wait (in seconds) for job completion\\r\\nbefore the magic command returns.\\r\\n- `poll=<integer>` (default=5): Interval (in seconds) to poll for\\r\\njob status while waiting for job execution to complete.\\r\\n\\r\\n#### Possible errors\\r\\n\\r\\n- `NotConnected`: Not connected to any Azure Quantum workspace.\\r\\n- `NoTarget`: No execution target has been configured for Azure Quantum job submission.\\r\\n- `NoOperationName`: No Q# operation name was specified for Azure Quantum job submission.\\r\\n- `InvalidTarget`: The specified execution target is not valid for Q# job submission in the current Azure Quantum workspace.\\r\\n- `UnrecognizedOperationName`: The specified Q# operation name was not recognized.\\r\\n- `InvalidEntryPoint`: The specified Q# operation cannot be used as an entry point for Azure Quantum job submission.\\r\\n- `JobSubmissionFailed`: Failed to submit the job to the Azure Quantum workspace.\\r\\n- `JobNotCompleted`: The specified Azure Quantum job has not yet completed.\\r\\n- `JobOutputDownloadFailed`: Failed to download results for the specified Azure Quantum job.\\r\\n                    \",\"Remarks\":null,\"Examples\":[\"\\r\\nRun a Q# operation defined as `operation MyOperation(a : Int, b : Int) : Result`\\r\\non the active target in the current Azure Quantum workspace:\\r\\n```\\r\\nIn []: %azure.execute MyOperation a=5 b=10\\r\\nOut[]: Submitting MyOperation to target provider.qpu...\\r\\n       Job successfully submitted for 500 shots.\\r\\n          Job name: MyOperation\\r\\n          Job ID: <Azure Quantum job ID>\\r\\n       Waiting up to 30 seconds for Azure Quantum job to complete...\\r\\n       [1:23:45 PM] Current job status: Waiting\\r\\n       [1:23:50 PM] Current job status: Executing\\r\\n       [1:23:55 PM] Current job status: Succeeded\\r\\n       <detailed results of completed job>\\r\\n```\\r\\n                        \",\"\\r\\nRun a Q# operation defined as `operation MyOperation(a : Int, b : Int) : Result`\\r\\non the active target in the current Azure Quantum workspace,\\r\\nspecifying a custom job name, number of shots, timeout, and polling interval:\\r\\n```\\r\\nIn []: %azure.submit MyOperation a=5 b=10 jobName=\\\"My job\\\" shots=100 timeout=60 poll=10\\r\\nOut[]: Submitting MyOperation to target provider.qpu...\\r\\n       Job successfully submitted for 100 shots.\\r\\n          Job name: My job\\r\\n          Job ID: <Azure Quantum job ID>\\r\\n       Waiting up to 60 seconds for Azure Quantum job to complete...\\r\\n       [1:23:45 PM] Current job status: Waiting\\r\\n       [1:23:55 PM] Current job status: Waiting\\r\\n       [1:24:05 PM] Current job status: Executing\\r\\n       [1:24:15 PM] Current job status: Succeeded\\r\\n       <detailed results of completed job>\\r\\n```\\r\\n                        \"],\"SeeAlso\":null},\"AssemblyName\":\"Microsoft.Quantum.IQSharp.AzureClient\"},{\"Name\":\"%azure.jobs\",\"Documentation\":{\"Summary\":\"Displays a list of jobs in the current Azure Quantum workspace.\",\"Full\":null,\"Description\":\"\\r\\nThis magic command allows for displaying the list of jobs in the current \\r\\nAzure Quantum workspace, optionally filtering the list to jobs which\\r\\nhave an ID, name, or target containing the provided filter parameter.\\r\\n\\r\\nThe Azure Quantum workspace must have been previously initialized\\r\\nusing the [`%azure.connect` magic command](https://docs.microsoft.com/qsharp/api/iqsharp-magic/azure.connect).\\r\\n\\r\\n#### Optional parameters\\r\\n\\r\\n- A string to filter the list of jobs. Jobs which have an ID, name, or target\\r\\ncontaining the provided filter parameter will be displayed. If not specified,\\r\\nall recent jobs are displayed.\\r\\n\\r\\n#### Possible errors\\r\\n\\r\\n- `NotConnected`: Not connected to any Azure Quantum workspace.\\r\\n                    \",\"Remarks\":null,\"Examples\":[\"\\r\\nGet the list of jobs:\\r\\n```\\r\\nIn []: %azure.jobs\\r\\nOut[]: <detailed status of all recent jobs in the workspace>\\r\\n```\\r\\n                        \",\"\\r\\nGet the list of jobs whose ID, name, or target contains \\\"My job\\\":\\r\\n```\\r\\nIn []: %azure.jobs \\\"My job\\\"\\r\\nOut[]: <detailed status of matching jobs in the workspace>\\r\\n```\\r\\n                        \"],\"SeeAlso\":null},\"AssemblyName\":\"Microsoft.Quantum.IQSharp.AzureClient\"},{\"Name\":\"%azure.output\",\"Documentation\":{\"Summary\":\"Displays results for a job in the current Azure Quantum workspace.\",\"Full\":null,\"Description\":\"\\r\\nThis magic command allows for displaying results for a job in the current \\r\\nAzure Quantum workspace.\\r\\nThe job execution must already be completed in order to display\\r\\nresults.\\r\\n\\r\\nThe Azure Quantum workspace must have been previously initialized\\r\\nusing the [`%azure.connect` magic command](https://docs.microsoft.com/qsharp/api/iqsharp-magic/azure.connect).\\r\\n\\r\\n#### Optional parameters\\r\\n\\r\\n- The job ID for which to display results. If not specified, the job ID from\\r\\nthe most recent call to [`%azure.submit`](https://docs.microsoft.com/qsharp/api/iqsharp-magic/azure.submit)\\r\\nor [`%azure.execute`](https://docs.microsoft.com/qsharp/api/iqsharp-magic/azure.execute) will be used.\\r\\n\\r\\n#### Possible errors\\r\\n\\r\\n- `NotConnected`: Not connected to any Azure Quantum workspace.\\r\\n- `JobNotFound`: No job with the given ID was found in the current Azure Quantum workspace.\\r\\n- `JobNotCompleted`: The specified Azure Quantum job has not yet completed.\\r\\n- `JobOutputDownloadFailed`: Failed to download results for the specified Azure Quantum job.\\r\\n                    \",\"Remarks\":null,\"Examples\":[\"\\r\\nGet results of a specific job:\\r\\n```\\r\\nIn []: %azure.output JOB_ID\\r\\nOut[]: <detailed results of specified job>\\r\\n```\\r\\n                        \",\"\\r\\nGet results of the most recently submitted job:\\r\\n```\\r\\nIn []: %azure.output\\r\\nOut[]: <detailed results of most recently submitted job>\\r\\n```\\r\\n                        \"],\"SeeAlso\":null},\"AssemblyName\":\"Microsoft.Quantum.IQSharp.AzureClient\"},{\"Name\":\"%azure.status\",\"Documentation\":{\"Summary\":\"Displays status for a job in the current Azure Quantum workspace.\",\"Full\":null,\"Description\":\"\\r\\nThis magic command allows for displaying status for a job in the current \\r\\nAzure Quantum workspace.\\r\\n\\r\\nThe Azure Quantum workspace must have been previously initialized\\r\\nusing the [`%azure.connect` magic command](https://docs.microsoft.com/qsharp/api/iqsharp-magic/azure.connect).\\r\\n\\r\\n#### Optional parameters\\r\\n\\r\\n- The job ID for which to display status. If not specified, the job ID from\\r\\nthe most recent call to [`%azure.submit`](https://docs.microsoft.com/qsharp/api/iqsharp-magic/azure.submit)\\r\\nor [`%azure.execute`](https://docs.microsoft.com/qsharp/api/iqsharp-magic/azure.execute) will be used.\\r\\n\\r\\n#### Possible errors\\r\\n\\r\\n- `NotConnected`: Not connected to any Azure Quantum workspace.\\r\\n- `JobNotFound`: No job with the given ID was found in the current Azure Quantum workspace.\\r\\n                    \",\"Remarks\":null,\"Examples\":[\"\\r\\nGet the status of a specific job:\\r\\n```\\r\\nIn []: %azure.status JOB_ID\\r\\nOut[]: <detailed status of specified job>\\r\\n```\\r\\n                        \",\"\\r\\nGet the status of the most recently submitted job:\\r\\n```\\r\\nIn []: %azure.status\\r\\nOut[]: <detailed status of most recently submitted job>\\r\\n```\\r\\n                        \"],\"SeeAlso\":null},\"AssemblyName\":\"Microsoft.Quantum.IQSharp.AzureClient\"},{\"Name\":\"%azure.submit\",\"Documentation\":{\"Summary\":\"Submits a job to an Azure Quantum workspace.\",\"Full\":null,\"Description\":\"\\r\\nThis magic command allows for submitting a Q# operation or function\\r\\nto be run on the specified target in the current Azure Quantum workspace.\\r\\nThe command returns immediately after the job is submitted.\\r\\n\\r\\nThe Azure Quantum workspace must have been previously initialized\\r\\nusing the [`%azure.connect` magic command](https://docs.microsoft.com/qsharp/api/iqsharp-magic/azure.connect),\\r\\nand an execution target for the job must have been specified using the\\r\\n[`%azure.target` magic command](https://docs.microsoft.com/qsharp/api/iqsharp-magic/azure.target).\\r\\n\\r\\n#### Required parameters\\r\\n\\r\\n- Q# operation or function name. This must be the first parameter, and must be a valid Q# operation\\r\\nor function name that has been defined either in the notebook or in a Q# file in the same folder.\\r\\n- Arguments for the Q# operation or function must also be specified as `key=value` pairs.\\r\\n\\r\\n#### Optional parameters\\r\\n\\r\\n- `jobName=<string>`: Friendly name to identify this job. If not specified,\\r\\nthe Q# operation or function name will be used as the job name.\\r\\n- `shots=<integer>` (default=500): Number of times to repeat execution of the\\r\\nspecified Q# operation or function.\\r\\n\\r\\n#### Possible errors\\r\\n\\r\\n- `NotConnected`: Not connected to any Azure Quantum workspace.\\r\\n- `NoTarget`: No execution target has been configured for Azure Quantum job submission.\\r\\n- `NoOperationName`: No Q# operation name was specified for Azure Quantum job submission.\\r\\n- `InvalidTarget`: The specified execution target is not valid for Q# job submission in the current Azure Quantum workspace.\\r\\n- `UnrecognizedOperationName`: The specified Q# operation name was not recognized.\\r\\n- `InvalidEntryPoint`: The specified Q# operation cannot be used as an entry point for Azure Quantum job submission.\\r\\n- `JobSubmissionFailed`: Failed to submit the job to the Azure Quantum workspace.\\r\\n                    \",\"Remarks\":null,\"Examples\":[\"\\r\\nSubmit a Q# operation defined as `operation MyOperation(a : Int, b : Int) : Result`\\r\\nfor execution on the active target in the current Azure Quantum workspace:\\r\\n```\\r\\nIn []: %azure.submit MyOperation a=5 b=10\\r\\nOut[]: Submitting MyOperation to target provider.qpu...\\r\\n       Job successfully submitted for 500 shots.\\r\\n          Job name: MyOperation\\r\\n          Job ID: <Azure Quantum job ID>\\r\\n       <detailed properties of submitted job>\\r\\n```\\r\\n                        \",\"\\r\\nSubmit a Q# operation defined as `operation MyOperation(a : Int, b : Int) : Result`\\r\\nfor execution on the active target in the current Azure Quantum workspace,\\r\\nspecifying a custom job name, number of shots, timeout, and polling interval:\\r\\n```\\r\\nIn []: %azure.submit MyOperation a=5 b=10 jobName=\\\"My job\\\" shots=100\\r\\nOut[]: Submitting MyOperation to target provider.qpu...\\r\\n       Job successfully submitted for 100 shots.\\r\\n          Job name: My job\\r\\n          Job ID: <Azure Quantum job ID>\\r\\n       <detailed properties of submitted job>\\r\\n```\\r\\n                        \"],\"SeeAlso\":null},\"AssemblyName\":\"Microsoft.Quantum.IQSharp.AzureClient\"},{\"Name\":\"%azure.target\",\"Documentation\":{\"Summary\":\"Sets or displays the active execution target for Q# job submission in an Azure Quantum workspace.\",\"Full\":null,\"Description\":\"\\r\\nThis magic command allows for specifying or displaying the execution target for Q# job submission\\r\\nin an Azure Quantum workspace.\\r\\n\\r\\nThe Azure Quantum workspace must have been previously initialized\\r\\nusing the [`%azure.connect` magic command](https://docs.microsoft.com/qsharp/api/iqsharp-magic/azure.connect)\\r\\nmagic command. The specified execution target must be available in the workspace and support execution of Q# programs.\\r\\n\\r\\n#### Optional parameters\\r\\n\\r\\n- The target ID to set as the active execution target for Q# job submission. If not specified,\\r\\nthe currently active execution target is displayed.\\r\\n\\r\\n#### Possible errors\\r\\n\\r\\n- `NotConnected`: Not connected to any Azure Quantum workspace.\\r\\n- `InvalidTarget`: The specified execution target is not valid for Q# job submission in the current Azure Quantum workspace.\\r\\n- `NoTarget`: No execution target has been configured for Azure Quantum job submission.\\r\\n                    \",\"Remarks\":null,\"Examples\":[\"\\r\\nSet the current target for Q# job submission to `provider.qpu`:\\r\\n```\\r\\nIn []: %azure.target provider.qpu\\r\\nOut[]: Loading package Microsoft.Quantum.Providers.Provider and dependencies...\\r\\n       Active target is now provider.qpu\\r\\n       <detailed properties of active execution target>\\r\\n```\\r\\n                        \",\"\\r\\nDisplay the current target and all available targets in the current Azure Quantum workspace:\\r\\n```\\r\\nIn []: %azure.target\\r\\nOut[]: Current execution target: provider.qpu\\r\\n       Available execution targets: provider.qpu, provider.simulator\\r\\n       <detailed properties of active execution target>\\r\\n```\\r\\n                        \"],\"SeeAlso\":null},\"AssemblyName\":\"Microsoft.Quantum.IQSharp.AzureClient\"},{\"Name\":\"%config\",\"Documentation\":{\"Summary\":\"Allows setting or querying configuration options.\",\"Full\":null,\"Description\":\"\\r\\nThis magic command allows for setting or querying\\r\\nconfiguration options used to control the behavior of the\\r\\nIQ# kernel (such as state visualization options). It also\\r\\nallows for saving those options to a JSON file in the current\\r\\nworking directory (using the `--save` option).\\r\\n\\r\\n#### Configuration settings\\r\\n\\r\\n**`dump.basisStateLabelingConvention`**\\r\\n\\r\\n**Value:** `\\\"LittleEndian\\\"` (default), `\\\"BigEndian\\\"`, or `\\\"Bitstring\\\"`\\r\\n\\r\\nThe convention to be used when labeling computational\\r\\nbasis states in output from callables such as `DumpMachine` or `DumpRegister`.\\r\\n\\r\\n**`dump.truncateSmallAmplitudes`**\\r\\n\\r\\n**Value:** `true` or `false` (default)\\r\\n\\r\\nHides basis states of a state vector whose measurement probabilities\\r\\n(i.e., squared amplitudes) are smaller than a particular threshold, as determined by\\r\\nthe `dump.truncationThreshold` setting.\\r\\n\\r\\n**`dump.truncationThreshold`**\\r\\n\\r\\n**Value:** floating point number such as `0.001` or `1E-8` (default `1E-10`)\\r\\n\\r\\nIf `dump.truncateSmallAmplitudes` is set to `true`, determines the\\r\\nthreshold for measurement probabilities (i.e., squared amplitudes) below which to hide the display\\r\\nof basis states of a state vector.\\r\\n\\r\\n**`dump.phaseDisplayStyle`**\\r\\n\\r\\n**Value:** `\\\"ArrowOnly\\\"` (default), `\\\"NumberOnly\\\"`, `\\\"ArrowAndNumber\\\"`, or `\\\"None\\\"`\\r\\n\\r\\nConfigures the phase visualization style in output from callables such as\\r\\n`DumpMachine` or `DumpRegister`. Supports displaying phase as arrows, numbers (in radians), both, or neither.\\r\\n\\r\\n**`dump.measurementDisplayStyle`**\\r\\n\\r\\n**Value:** `\\\"NumberOnly\\\"`, `\\\"BarOnly\\\"`, `\\\"BarAndNumber\\\"` (default), or `\\\"None\\\"`\\r\\n\\r\\nConfigures the measurement probability visualization style in output of callables such as \\r\\n`DumpMachine` or `DumpRegister`. Supports displaying measurement probability as progress bars, numbers, both,\\r\\nor neither. \\r\\n\\r\\n**`dump.measurementDisplayPrecision`**\\r\\n\\r\\n**Value:** non-negative integer (default `4`)\\r\\n\\r\\nSets the precision of the measurement probability displayed as a percentage when\\r\\n`dump.measurementDisplayStyle` is set to `\\\"NumberOnly\\\"` or `\\\"BarAndNumber\\\"`.\\r\\n\\r\\n**`dump.measurementDisplayHistogram`**\\r\\n\\r\\n**Value:** `true` or `false` (default)\\r\\n\\r\\nIf `dump.measurementDisplayHistogram` is set to `true`, displays an interactive\\r\\nhistogram representation of the state of the simulator underneath the static state visualization.\\r\\n\\r\\n**`dump.plainTextOnly`**\\r\\n\\r\\n**Value:** `true` or `false` (default)\\r\\n\\r\\nForces plain-text output from callables such as `DumpMachine` and `DumpRegister`, even\\r\\nwhen using an HTML-enabled client such as Jupyter Notebook.\\r\\n\\r\\n**`trace.defaultDepth`**\\r\\n\\r\\n**Value:** positive integer (default `1`)\\r\\n\\r\\nConfigures the default depth used in the `%trace` command for visualizing Q# operations.\\r\\n\\r\\n**`trace.style`**\\r\\n\\r\\n**Value:** `\\\"Default\\\"` (default), `\\\"BlackAndWhite\\\"`, or `\\\"Inverted\\\"`\\r\\n\\r\\nConfigures the default style used in generating the visualization of Q# operations with the `%trace` command.\\r\\n                \",\"Remarks\":null,\"Examples\":[\"\\r\\nPrint a list of all currently set configuration options:\\r\\n```\\r\\nIn []: %config\\r\\nOut[]: Configuration key                 Value\\r\\n       --------------------------------- -----------\\r\\n       dump.basisStateLabelingConvention \\\"BigEndian\\\"\\r\\n       dump.truncateSmallAmplitudes      true\\r\\n```\\r\\n                    \",\"\\r\\nConfigure the `DumpMachine` and `DumpRegister` callables\\r\\nto use big-endian convention:\\r\\n```\\r\\nIn []: %config dump.basisStateLabelingConvention=\\\"BigEndian\\\"\\r\\nOut[]: \\\"BigEndian\\\"\\r\\n```\\r\\n                    \",\"\\r\\nSave current configuration options to `.iqsharp-config.json`\\r\\nin the current working directory:\\r\\n```\\r\\nIn []: %config --save\\r\\nOut[]: \\r\\n```\\r\\nNote that options saved this way will be applied automatically\\r\\nthe next time a notebook in the current working\\r\\ndirectory is loaded.\\r\\n                    \"],\"SeeAlso\":null},\"AssemblyName\":\"Microsoft.Quantum.IQSharp.Kernel\"},{\"Name\":\"%debug\",\"Documentation\":{\"Summary\":\"Steps through the execution of a given Q# operation or function.\",\"Full\":null,\"Description\":\"\\r\\nThis magic command allows for stepping through the execution of a given Q# operation\\r\\nor function using the QuantumSimulator.\\r\\n\\r\\n#### Required parameters\\r\\n\\r\\n- Q# operation or function name. This must be the first parameter, and must be a valid Q# operation\\r\\nor function name that has been defined either in the notebook or in a Q# file in the same folder.\\r\\n- Arguments for the Q# operation or function must also be specified as `key=value` pairs.\\r\\n                \",\"Remarks\":null,\"Examples\":[\"\\r\\nStep through the execution of a Q# operation defined as `operation MyOperation() : Result`:\\r\\n```\\r\\nIn []: %debug MyOperation\\r\\nOut[]: <interactive HTML for stepping through the operation>\\r\\n```\\r\\n                    \",\"\\r\\nStep through the execution of a Q# operation defined as `operation MyOperation(a : Int, b : Int) : Result`:\\r\\n```\\r\\nIn []: %debug MyOperation a=5 b=10\\r\\nOut[]: <interactive HTML for stepping through the operation>\\r\\n```\\r\\n                    \"],\"SeeAlso\":null},\"AssemblyName\":\"Microsoft.Quantum.IQSharp.Kernel\"},{\"Name\":\"%estimate\",\"Documentation\":{\"Summary\":\"Runs a given function or operation on the ResourcesEstimator target machine.\",\"Full\":null,\"Description\":\"\\r\\nThe ResourcesEstimator estimates statistics about how many resources the given\\r\\noperation needs for execution. The resources it calculates include:\\r\\n\\r\\n- Counts for each primitive operation\\r\\n- Depth (lower bound for the T-gate depth of the quantum circuit)\\r\\n- Width (lower bound for the maximum number of qubits used for the computation)\\r\\n\\r\\nSee the [ResourcesEstimator user guide](https://docs.microsoft.com/quantum/user-guide/machines/resources-estimator) to learn more.\\r\\n\\r\\n#### Required parameters\\r\\n\\r\\n- Q# operation or function name. This must be the first parameter, and must be a valid Q# operation\\r\\nor function name that has been defined either in the notebook or in a Q# file in the same folder.\\r\\n- Arguments for the Q# operation or function must also be specified as `key=value` pairs.\\r\\n                \",\"Remarks\":null,\"Examples\":[\"\\r\\nEstimate resources for a Q# operation defined as `operation MyOperation() : Result`:\\r\\n```\\r\\nIn []: %estimate MyOperation\\r\\nOut[]: Metric           Sum     \\r\\n       ---------------- ----\\r\\n       CNOT             0\\r\\n       QubitClifford    4\\r\\n       R                0\\r\\n       Measure          8\\r\\n       T                0\\r\\n       Depth            0\\r\\n       Width            4\\r\\n       BorrowedWidth    0\\r\\n```\\r\\n                    \",\"\\r\\nEstimate resources for a Q# operation defined as `operation MyOperation(a : Int, b : Int) : Result`:\\r\\n```\\r\\nIn []: %estimate MyOperation a=5 b=10\\r\\nOut[]: Metric           Sum     \\r\\n       ---------------- ----\\r\\n       CNOT             0\\r\\n       QubitClifford    4\\r\\n       R                0\\r\\n       Measure          8\\r\\n       T                0\\r\\n       Depth            0\\r\\n       Width            4\\r\\n       BorrowedWidth    0\\r\\n```\\r\\n                    \"],\"SeeAlso\":null},\"AssemblyName\":\"Microsoft.Quantum.IQSharp.Kernel\"},{\"Name\":\"%lsmagic\",\"Documentation\":{\"Summary\":\"Returns a list of all currently available magic commands.\",\"Full\":null,\"Description\":\"\\r\\nThis magic command lists all of the magic commands available in the IQ# kernel,\\r\\nas well as those defined in any packages that have been loaded in the current\\r\\nsession via the [`%package` magic command](https://docs.microsoft.com/qsharp/api/iqsharp-magic/package).\\r\\n                \",\"Remarks\":null,\"Examples\":[\"\\r\\nDisplay the list of available magic commands:\\r\\n```\\r\\nIn []: %lsmagic\\r\\nOut[]: <detailed list of all available magic commands>\\r\\n```\\r\\n                    \"],\"SeeAlso\":null},\"AssemblyName\":\"Microsoft.Quantum.IQSharp.Kernel\"},{\"Name\":\"%lsopen\",\"Documentation\":{\"Summary\":\"Lists currently opened namespaces and their aliases.\",\"Full\":null,\"Description\":\"\\r\\nThis magic command lists any namespaces that have been made\\r\\navailable using `open` statements, along with any aliases\\r\\nthat may have been assigned to those namespaces.\\r\\n                \",\"Remarks\":null,\"Examples\":[\"\\r\\nPrint a list of all currently opened namespaces:\\r\\n```\\r\\nIn []: %lsopen\\r\\nOut[]: Namespace                     Alias\\r\\n       ----------------------------- ----\\r\\n       Microsoft.Quantum.Canon\\r\\n       Microsoft.Quantum.Diagnostics Diag\\r\\n       Microsoft.Quantum.Intrinsic\\r\\n```\\r\\n                    \"],\"SeeAlso\":null},\"AssemblyName\":\"Microsoft.Quantum.IQSharp.Kernel\"},{\"Name\":\"%package\",\"Documentation\":{\"Summary\":\"Provides the ability to load a NuGet package.\",\"Full\":null,\"Description\":\"\\r\\nThis magic command allows for loading a NuGet package into the current IQ# kernel process.\\r\\nThe package must be available on the system's list of NuGet sources, which typically includes nuget.org.\\r\\nQ# operations, functions, and user-defined types defined in the loaded package,\\r\\nalong with functionality such as magic commands and result encoders,\\r\\nwill automatically become available for use in the current session.\\r\\n\\r\\nThe package can be specified by name only, or by name and version (using `name::version` syntax).\\r\\n\\r\\nIf no version is specified:\\r\\n\\r\\n- For packages that are part of the Microsoft Quantum Development Kit, IQ# will attempt to\\r\\nobtain the version of the package that matches the current IQ# version.\\r\\n- For other packages, IQ# will attempt to obtain the most recent version of the package.\\r\\n                \",\"Remarks\":null,\"Examples\":[\"\\r\\nLoad the `Microsoft.Quantum.MachineLearning` package into the current IQ# session:\\r\\n```\\r\\nIn []: %package Microsoft.Quantum.MachineLearning\\r\\nOut[]: Adding package Microsoft.Quantum.MachineLearning: done!\\r\\n       <list of all loaded packages and versions>\\r\\n```\\r\\n                    \",\"\\r\\nLoad a specific version of the `Microsoft.Quantum.Katas` package into the current IQ# session:\\r\\n```\\r\\nIn []: %package Microsoft.Quantum.Katas::0.11.2006.403\\r\\nOut[]: Adding package Microsoft.Quantum.Katas::0.11.2006.403: done!\\r\\n       <list of all loaded packages and versions>\\r\\n```\\r\\n                    \",\"\\r\\nView the list of all packages that have been loaded into the current IQ# session:\\r\\n```\\r\\nIn []: %package\\r\\nOut[]: <list of all loaded packages and versions>\\r\\n```\\r\\n                    \"],\"SeeAlso\":null},\"AssemblyName\":\"Microsoft.Quantum.IQSharp.Kernel\"},{\"Name\":\"%performance\",\"Documentation\":{\"Summary\":\"Reports current performance metrics for this kernel.\",\"Full\":null,\"Description\":\"\\r\\nReports various performance metrics for the current IQ# kernel process, including:\\r\\n\\r\\n- Managed RAM usage\\r\\n- Total RAM usage\\r\\n- Virtual memory size\\r\\n- User time\\r\\n- Total time\\r\\n                \",\"Remarks\":null,\"Examples\":[\"\\r\\nDisplay performance metrics for the current IQ# kernel process:\\r\\n```\\r\\nIn []: %performance\\r\\nOut[]: Metric                        Value\\r\\n       ----------------------------  -------------\\r\\n       Managed RAM usage (bytes)     4.985 MiB\\r\\n       Total RAM usage (bytes)       54.543 MiB\\r\\n       Virtual memory size (bytes)   2.005 TiB\\r\\n       User time                     00:00:01.109\\r\\n       Total time                    00:00:01.437\\r\\n```\\r\\n                    \"],\"SeeAlso\":null},\"AssemblyName\":\"Microsoft.Quantum.IQSharp.Kernel\"},{\"Name\":\"%project\",\"Documentation\":{\"Summary\":\"Provides the ability to view or add Q# project references.\",\"Full\":null,\"Description\":\"\\r\\nThis magic command allows for adding references to Q# projects to be compiled and loaded\\r\\ninto the current IQ# session.\\r\\n\\r\\nThe command accepts a single argument, which is the path to a .csproj file to be loaded.\\r\\nThe .csproj file must reference the Microsoft.Quantum.Sdk. The provided path may be either\\r\\nan absolute path or a path relative to the current workspace root folder (usually the\\r\\nfolder containing the current .ipynb file). The project file will be added to the session\\r\\nand then the workspace will be reloaded, which will automatically load any downstream\\r\\npackages or projects referenced by the specified .csproj file and will recompile all\\r\\nassociated .qs source files.\\r\\n\\r\\nIf no argument is provided, the command simply returns the list of projects loaded in\\r\\nthe current IQ# session.\\r\\n                \",\"Remarks\":null,\"Examples\":[\"\\r\\nAdd a reference to the `C:\\\\Projects\\\\MyProject.csproj` Q# project into the current IQ# session:\\r\\n```\\r\\nIn []: %project C:\\\\Projects\\\\MyProject.csproj\\r\\nOut[]: Loading project C:\\\\Projects\\\\MyProject.csproj and dependencies...\\r\\n       <list of all loaded Q# project references>\\r\\n```\\r\\n                    \",\"\\r\\nView the list of all Q# project references that have been loaded into the current IQ# session:\\r\\n```\\r\\nIn []: %project\\r\\nOut[]: <list of all loaded Q# project references>\\r\\n```\\r\\n                    \"],\"SeeAlso\":null},\"AssemblyName\":\"Microsoft.Quantum.IQSharp.Kernel\"},{\"Name\":\"%simulate\",\"Documentation\":{\"Summary\":\"Runs a given function or operation on the QuantumSimulator target machine.\",\"Full\":null,\"Description\":\"\\r\\nThis magic command allows executing a given function or operation on the QuantumSimulator, \\r\\nwhich performs a full-state simulation of the given function or operation\\r\\nand prints the resulting return value.\\r\\n\\r\\nSee the [QuantumSimulator user guide](https://docs.microsoft.com/quantum/user-guide/machines/full-state-simulator) to learn more.\\r\\n\\r\\n#### Required parameters\\r\\n\\r\\n- Q# operation or function name. This must be the first parameter, and must be a valid Q# operation\\r\\nor function name that has been defined either in the notebook or in a Q# file in the same folder.\\r\\n- Arguments for the Q# operation or function must also be specified as `key=value` pairs.\\r\\n                \",\"Remarks\":null,\"Examples\":[\"\\r\\nSimulate a Q# operation defined as `operation MyOperation() : Result`:\\r\\n```\\r\\nIn []: %simulate MyOperation\\r\\nOut[]: <return value of the operation>\\r\\n```\\r\\n                    \",\"\\r\\nSimulate a Q# operation defined as `operation MyOperation(a : Int, b : Int) : Result`:\\r\\n```\\r\\nIn []: %simulate MyOperation a=5 b=10\\r\\nOut[]: <return value of the operation>\\r\\n```\\r\\n                    \"],\"SeeAlso\":null},\"AssemblyName\":\"Microsoft.Quantum.IQSharp.Kernel\"},{\"Name\":\"%toffoli\",\"Documentation\":{\"Summary\":\"Runs a given function or operation on the ToffoliSimulator target machine.\",\"Full\":null,\"Description\":\"\\r\\nThis magic command allows executing a given function or operation on the ToffoliSimulator, \\r\\nwhich performs a simulation of the given function or operation in which the state is always\\r\\na simple product state in the computational basis, and prints the resulting return value.\\r\\n\\r\\nSee the [ToffoliSimulator user guide](https://docs.microsoft.com/quantum/user-guide/machines/toffoli-simulator) to learn more.\\r\\n\\r\\n#### Required parameters\\r\\n\\r\\n- Q# operation or function name. This must be the first parameter, and must be a valid Q# operation\\r\\nor function name that has been defined either in the notebook or in a Q# file in the same folder.\\r\\n- Arguments for the Q# operation or function must also be specified as `key=value` pairs.\\r\\n                \",\"Remarks\":null,\"Examples\":[\"\\r\\nUse the ToffoliSimulator to simulate a Q# operation\\r\\ndefined as `operation MyOperation() : Result`:\\r\\n```\\r\\nIn []: %toffoli MyOperation\\r\\nOut[]: <return value of the operation>\\r\\n```\\r\\n                    \",\"\\r\\nUse the ToffoliSimulator to simulate a Q# operation\\r\\ndefined as `operation MyOperation(a : Int, b : Int) : Result`:\\r\\n```\\r\\nIn []: %toffoli MyOperation a=5 b=10\\r\\nOut[]: <return value of the operation>\\r\\n```\\r\\n                    \"],\"SeeAlso\":null},\"AssemblyName\":\"Microsoft.Quantum.IQSharp.Kernel\"},{\"Name\":\"%trace\",\"Documentation\":{\"Summary\":\"Visualizes the execution path of the given operation.\",\"Full\":null,\"Description\":\"\\r\\nThis magic command renders an HTML-based visualization of a runtime execution path of the\\r\\ngiven operation using the QuantumSimulator.\\r\\n\\r\\n#### Required parameters\\r\\n\\r\\n- Q# operation or function name. This must be the first parameter, and must be a valid Q# operation\\r\\nor function name that has been defined either in the notebook or in a Q# file in the same folder.\\r\\n- Arguments for the Q# operation or function must also be specified as `key=value` pairs.\\r\\n\\r\\n#### Optional parameters\\r\\n\\r\\n- `--depth=<integer>` (default=1): The depth at which to render operations along\\r\\nthe execution path.\\r\\n                \",\"Remarks\":null,\"Examples\":[\"\\r\\nVisualize the execution path of a Q# operation defined as `operation MyOperation() : Result`:\\r\\n```\\r\\nIn []: %trace MyOperation\\r\\nOut[]: <HTML visualization of the operation>\\r\\n```\\r\\n                    \",\"\\r\\nVisualize the execution path of a Q# operation defined as `operation MyOperation(a : Int, b : Int) : Result`:\\r\\n```\\r\\nIn []: %trace MyOperation a=5 b=10\\r\\nOut[]: <HTML visualization of the operation>\\r\\n```\\r\\n                    \",\"\\r\\nVisualize operations at depth 2 on the execution path of a Q# operation defined\\r\\nas `operation MyOperation() : Result`:\\r\\n```\\r\\nIn []: %trace MyOperation --depth=2\\r\\nOut[]: <HTML visualization of the operation>\\r\\n```\\r\\n                    \"],\"SeeAlso\":null},\"AssemblyName\":\"Microsoft.Quantum.IQSharp.Kernel\"},{\"Name\":\"%who\",\"Documentation\":{\"Summary\":\"Lists the Q# operations available in the current session.\",\"Full\":null,\"Description\":\"\\r\\nThis magic command returns a list of Q# operations and functions that are available\\r\\nin the current IQ# session for use with magic commands such as `%simulate`\\r\\nand `%estimate`.\\r\\n\\r\\nThe list will include Q# operations and functions which have been defined interactively\\r\\nwithin cells in the current notebook (after the cells have been executed),\\r\\nas well as any Q# operations and functions defined within .qs files in the current folder.\\r\\n                \",\"Remarks\":null,\"Examples\":[\"\\r\\nDisplay the list of Q# operations and functions available in the current session:\\r\\n```\\r\\nIn []: %who\\r\\nOut[]: <list of Q# operation and function names>\\r\\n```\\r\\n                    \"],\"SeeAlso\":null},\"AssemblyName\":\"Microsoft.Quantum.IQSharp.Kernel\"},{\"Name\":\"%workspace\",\"Documentation\":{\"Summary\":\"Provides actions related to the current workspace.\",\"Full\":null,\"Description\":\"\\r\\nThis magic command allows for displaying and reloading the Q# operations and functions\\r\\ndefined within .qs files in the current folder.\\r\\n\\r\\nIf no parameters are provided, the command displays a list of Q# operations or functions\\r\\nwithin .qs files in the current folder which are available\\r\\nin the current IQ# session for use with magic commands such as `%simulate`\\r\\nand `%estimate`.\\r\\n\\r\\nThe command will also output any errors encountered while compiling the .qs files\\r\\nin the current folder.\\r\\n\\r\\n#### Optional parameters\\r\\n\\r\\n- `reload`: Causes the IQ# kernel to recompile all .qs files in the current folder.\\r\\n                \",\"Remarks\":null,\"Examples\":[\"\\r\\nDisplay the list of Q# operations and functions available in the current folder:\\r\\n```\\r\\nIn []: %workspace\\r\\nOut[]: <list of Q# operation and function names>\\r\\n```\\r\\n                    \",\"\\r\\nRecompile the .qs files in the current folder:\\r\\n```\\r\\nIn []: %workspace reload\\r\\nOut[]: <list of Q# operation and function names>\\r\\n```\\r\\n                    \"],\"SeeAlso\":null},\"AssemblyName\":\"Microsoft.Quantum.IQSharp.Kernel\"}]",
      "text/html": [
       "<table><thead><tr><th style=\"text-align: start;\">Name</th><th style=\"text-align: start;\">Summary</th><th style=\"text-align: start;\">Assembly</th></tr></thead><tbody><tr><td style=\"text-align: start;\">%azure.connect</td><td style=\"text-align: start;\">Connects to an Azure Quantum workspace or displays current connection status.</td><td style=\"text-align: start;\">Microsoft.Quantum.IQSharp.AzureClient</td></tr><tr><td style=\"text-align: start;\">%azure.execute</td><td style=\"text-align: start;\">Submits a job to an Azure Quantum workspace and waits for completion.</td><td style=\"text-align: start;\">Microsoft.Quantum.IQSharp.AzureClient</td></tr><tr><td style=\"text-align: start;\">%azure.jobs</td><td style=\"text-align: start;\">Displays a list of jobs in the current Azure Quantum workspace.</td><td style=\"text-align: start;\">Microsoft.Quantum.IQSharp.AzureClient</td></tr><tr><td style=\"text-align: start;\">%azure.output</td><td style=\"text-align: start;\">Displays results for a job in the current Azure Quantum workspace.</td><td style=\"text-align: start;\">Microsoft.Quantum.IQSharp.AzureClient</td></tr><tr><td style=\"text-align: start;\">%azure.status</td><td style=\"text-align: start;\">Displays status for a job in the current Azure Quantum workspace.</td><td style=\"text-align: start;\">Microsoft.Quantum.IQSharp.AzureClient</td></tr><tr><td style=\"text-align: start;\">%azure.submit</td><td style=\"text-align: start;\">Submits a job to an Azure Quantum workspace.</td><td style=\"text-align: start;\">Microsoft.Quantum.IQSharp.AzureClient</td></tr><tr><td style=\"text-align: start;\">%azure.target</td><td style=\"text-align: start;\">Sets or displays the active execution target for Q# job submission in an Azure Quantum workspace.</td><td style=\"text-align: start;\">Microsoft.Quantum.IQSharp.AzureClient</td></tr><tr><td style=\"text-align: start;\">%config</td><td style=\"text-align: start;\">Allows setting or querying configuration options.</td><td style=\"text-align: start;\">Microsoft.Quantum.IQSharp.Kernel</td></tr><tr><td style=\"text-align: start;\">%debug</td><td style=\"text-align: start;\">Steps through the execution of a given Q# operation or function.</td><td style=\"text-align: start;\">Microsoft.Quantum.IQSharp.Kernel</td></tr><tr><td style=\"text-align: start;\">%estimate</td><td style=\"text-align: start;\">Runs a given function or operation on the ResourcesEstimator target machine.</td><td style=\"text-align: start;\">Microsoft.Quantum.IQSharp.Kernel</td></tr><tr><td style=\"text-align: start;\">%lsmagic</td><td style=\"text-align: start;\">Returns a list of all currently available magic commands.</td><td style=\"text-align: start;\">Microsoft.Quantum.IQSharp.Kernel</td></tr><tr><td style=\"text-align: start;\">%lsopen</td><td style=\"text-align: start;\">Lists currently opened namespaces and their aliases.</td><td style=\"text-align: start;\">Microsoft.Quantum.IQSharp.Kernel</td></tr><tr><td style=\"text-align: start;\">%package</td><td style=\"text-align: start;\">Provides the ability to load a NuGet package.</td><td style=\"text-align: start;\">Microsoft.Quantum.IQSharp.Kernel</td></tr><tr><td style=\"text-align: start;\">%performance</td><td style=\"text-align: start;\">Reports current performance metrics for this kernel.</td><td style=\"text-align: start;\">Microsoft.Quantum.IQSharp.Kernel</td></tr><tr><td style=\"text-align: start;\">%project</td><td style=\"text-align: start;\">Provides the ability to view or add Q# project references.</td><td style=\"text-align: start;\">Microsoft.Quantum.IQSharp.Kernel</td></tr><tr><td style=\"text-align: start;\">%simulate</td><td style=\"text-align: start;\">Runs a given function or operation on the QuantumSimulator target machine.</td><td style=\"text-align: start;\">Microsoft.Quantum.IQSharp.Kernel</td></tr><tr><td style=\"text-align: start;\">%toffoli</td><td style=\"text-align: start;\">Runs a given function or operation on the ToffoliSimulator target machine.</td><td style=\"text-align: start;\">Microsoft.Quantum.IQSharp.Kernel</td></tr><tr><td style=\"text-align: start;\">%trace</td><td style=\"text-align: start;\">Visualizes the execution path of the given operation.</td><td style=\"text-align: start;\">Microsoft.Quantum.IQSharp.Kernel</td></tr><tr><td style=\"text-align: start;\">%who</td><td style=\"text-align: start;\">Lists the Q# operations available in the current session.</td><td style=\"text-align: start;\">Microsoft.Quantum.IQSharp.Kernel</td></tr><tr><td style=\"text-align: start;\">%workspace</td><td style=\"text-align: start;\">Provides actions related to the current workspace.</td><td style=\"text-align: start;\">Microsoft.Quantum.IQSharp.Kernel</td></tr></tbody></table>"
      ],
      "text/plain": [
       "Name           Summary                                                                                           Assembly\r\n",
       "-------------- ------------------------------------------------------------------------------------------------- -------------------------------------\r\n",
       "%azure.connect Connects to an Azure Quantum workspace or displays current connection status.                     Microsoft.Quantum.IQSharp.AzureClient\r\n",
       "%azure.execute Submits a job to an Azure Quantum workspace and waits for completion.                             Microsoft.Quantum.IQSharp.AzureClient\r\n",
       "%azure.jobs    Displays a list of jobs in the current Azure Quantum workspace.                                   Microsoft.Quantum.IQSharp.AzureClient\r\n",
       "%azure.output  Displays results for a job in the current Azure Quantum workspace.                                Microsoft.Quantum.IQSharp.AzureClient\r\n",
       "%azure.status  Displays status for a job in the current Azure Quantum workspace.                                 Microsoft.Quantum.IQSharp.AzureClient\r\n",
       "%azure.submit  Submits a job to an Azure Quantum workspace.                                                      Microsoft.Quantum.IQSharp.AzureClient\r\n",
       "%azure.target  Sets or displays the active execution target for Q# job submission in an Azure Quantum workspace. Microsoft.Quantum.IQSharp.AzureClient\r\n",
       "%config        Allows setting or querying configuration options.                                                 Microsoft.Quantum.IQSharp.Kernel\r\n",
       "%debug         Steps through the execution of a given Q# operation or function.                                  Microsoft.Quantum.IQSharp.Kernel\r\n",
       "%estimate      Runs a given function or operation on the ResourcesEstimator target machine.                      Microsoft.Quantum.IQSharp.Kernel\r\n",
       "%lsmagic       Returns a list of all currently available magic commands.                                         Microsoft.Quantum.IQSharp.Kernel\r\n",
       "%lsopen        Lists currently opened namespaces and their aliases.                                              Microsoft.Quantum.IQSharp.Kernel\r\n",
       "%package       Provides the ability to load a NuGet package.                                                     Microsoft.Quantum.IQSharp.Kernel\r\n",
       "%performance   Reports current performance metrics for this kernel.                                              Microsoft.Quantum.IQSharp.Kernel\r\n",
       "%project       Provides the ability to view or add Q# project references.                                        Microsoft.Quantum.IQSharp.Kernel\r\n",
       "%simulate      Runs a given function or operation on the QuantumSimulator target machine.                        Microsoft.Quantum.IQSharp.Kernel\r\n",
       "%toffoli       Runs a given function or operation on the ToffoliSimulator target machine.                        Microsoft.Quantum.IQSharp.Kernel\r\n",
       "%trace         Visualizes the execution path of the given operation.                                             Microsoft.Quantum.IQSharp.Kernel\r\n",
       "%who           Lists the Q# operations available in the current session.                                         Microsoft.Quantum.IQSharp.Kernel\r\n",
       "%workspace     Provides actions related to the current workspace.                                                Microsoft.Quantum.IQSharp.Kernel\r\n"
      ]
     },
     "execution_count": 12,
     "metadata": {},
     "output_type": "execute_result"
    }
   ],
   "source": [
    "%lsmagic"
   ]
  },
  {
   "cell_type": "markdown",
   "metadata": {},
   "source": [
    "And to get detailed usage information on any of these magic commands, simply append `?` to its name."
   ]
  },
  {
   "cell_type": "code",
   "execution_count": 13,
   "metadata": {},
   "outputs": [
    {
     "data": {
      "application/json": "{\"AzureClient\":{},\"Name\":\"%azure.execute\",\"Kind\":0,\"Documentation\":{\"Summary\":\"Submits a job to an Azure Quantum workspace and waits for completion.\",\"Full\":null,\"Description\":\"\\r\\nThis magic command allows for submitting a Q# operation or function\\r\\nto be run on the specified target in the current Azure Quantum workspace.\\r\\nThe command waits a specified amount of time for the job to complete before returning.\\r\\n\\r\\nThe Azure Quantum workspace must have been previously initialized\\r\\nusing the [`%azure.connect` magic command](https://docs.microsoft.com/qsharp/api/iqsharp-magic/azure.connect),\\r\\nand an execution target for the job must have been specified using the\\r\\n[`%azure.target` magic command](https://docs.microsoft.com/qsharp/api/iqsharp-magic/azure.target).\\r\\n\\r\\n#### Required parameters\\r\\n\\r\\n- Q# operation or function name. This must be the first parameter, and must be a valid Q# operation\\r\\nor function name that has been defined either in the notebook or in a Q# file in the same folder.\\r\\n- Arguments for the Q# operation or function must also be specified as `key=value` pairs.\\r\\n\\r\\n#### Optional parameters\\r\\n\\r\\n- `jobName=<string>`: Friendly name to identify this job. If not specified,\\r\\nthe Q# operation or function name will be used as the job name.\\r\\n- `shots=<integer>` (default=500): Number of times to repeat execution of the\\r\\nspecified Q# operation or function.\\r\\n- `timeout=<integer>` (default=30): Time to wait (in seconds) for job completion\\r\\nbefore the magic command returns.\\r\\n- `poll=<integer>` (default=5): Interval (in seconds) to poll for\\r\\njob status while waiting for job execution to complete.\\r\\n\\r\\n#### Possible errors\\r\\n\\r\\n- `NotConnected`: Not connected to any Azure Quantum workspace.\\r\\n- `NoTarget`: No execution target has been configured for Azure Quantum job submission.\\r\\n- `NoOperationName`: No Q# operation name was specified for Azure Quantum job submission.\\r\\n- `InvalidTarget`: The specified execution target is not valid for Q# job submission in the current Azure Quantum workspace.\\r\\n- `UnrecognizedOperationName`: The specified Q# operation name was not recognized.\\r\\n- `InvalidEntryPoint`: The specified Q# operation cannot be used as an entry point for Azure Quantum job submission.\\r\\n- `JobSubmissionFailed`: Failed to submit the job to the Azure Quantum workspace.\\r\\n- `JobNotCompleted`: The specified Azure Quantum job has not yet completed.\\r\\n- `JobOutputDownloadFailed`: Failed to download results for the specified Azure Quantum job.\\r\\n                    \",\"Remarks\":null,\"Examples\":[\"\\r\\nRun a Q# operation defined as `operation MyOperation(a : Int, b : Int) : Result`\\r\\non the active target in the current Azure Quantum workspace:\\r\\n```\\r\\nIn []: %azure.execute MyOperation a=5 b=10\\r\\nOut[]: Submitting MyOperation to target provider.qpu...\\r\\n       Job successfully submitted for 500 shots.\\r\\n          Job name: MyOperation\\r\\n          Job ID: <Azure Quantum job ID>\\r\\n       Waiting up to 30 seconds for Azure Quantum job to complete...\\r\\n       [1:23:45 PM] Current job status: Waiting\\r\\n       [1:23:50 PM] Current job status: Executing\\r\\n       [1:23:55 PM] Current job status: Succeeded\\r\\n       <detailed results of completed job>\\r\\n```\\r\\n                        \",\"\\r\\nRun a Q# operation defined as `operation MyOperation(a : Int, b : Int) : Result`\\r\\non the active target in the current Azure Quantum workspace,\\r\\nspecifying a custom job name, number of shots, timeout, and polling interval:\\r\\n```\\r\\nIn []: %azure.submit MyOperation a=5 b=10 jobName=\\\"My job\\\" shots=100 timeout=60 poll=10\\r\\nOut[]: Submitting MyOperation to target provider.qpu...\\r\\n       Job successfully submitted for 100 shots.\\r\\n          Job name: My job\\r\\n          Job ID: <Azure Quantum job ID>\\r\\n       Waiting up to 60 seconds for Azure Quantum job to complete...\\r\\n       [1:23:45 PM] Current job status: Waiting\\r\\n       [1:23:55 PM] Current job status: Waiting\\r\\n       [1:24:05 PM] Current job status: Executing\\r\\n       [1:24:15 PM] Current job status: Succeeded\\r\\n       <detailed results of completed job>\\r\\n```\\r\\n                        \"],\"SeeAlso\":null}}",
      "text/html": [
       "<h4><i class=\"fa fas fa-magic\"></i> %azure.execute</h4><p>Submits a job to an Azure Quantum workspace and waits for completion.</p><h5>Description</h5><p>This magic command allows for submitting a Q# operation or function\n",
       "to be run on the specified target in the current Azure Quantum workspace.\n",
       "The command waits a specified amount of time for the job to complete before returning.</p>\n",
       "<p>The Azure Quantum workspace must have been previously initialized\n",
       "using the <a href=\"https://docs.microsoft.com/qsharp/api/iqsharp-magic/azure.connect\"><code>%azure.connect</code> magic command</a>,\n",
       "and an execution target for the job must have been specified using the\n",
       "<a href=\"https://docs.microsoft.com/qsharp/api/iqsharp-magic/azure.target\"><code>%azure.target</code> magic command</a>.</p>\n",
       "<h4>Required parameters</h4>\n",
       "<ul>\n",
       "<li>Q# operation or function name. This must be the first parameter, and must be a valid Q# operation\n",
       "or function name that has been defined either in the notebook or in a Q# file in the same folder.</li>\n",
       "<li>Arguments for the Q# operation or function must also be specified as <code>key=value</code> pairs.</li>\n",
       "</ul>\n",
       "<h4>Optional parameters</h4>\n",
       "<ul>\n",
       "<li><code>jobName=&lt;string&gt;</code>: Friendly name to identify this job. If not specified,\n",
       "the Q# operation or function name will be used as the job name.</li>\n",
       "<li><code>shots=&lt;integer&gt;</code> (default=500): Number of times to repeat execution of the\n",
       "specified Q# operation or function.</li>\n",
       "<li><code>timeout=&lt;integer&gt;</code> (default=30): Time to wait (in seconds) for job completion\n",
       "before the magic command returns.</li>\n",
       "<li><code>poll=&lt;integer&gt;</code> (default=5): Interval (in seconds) to poll for\n",
       "job status while waiting for job execution to complete.</li>\n",
       "</ul>\n",
       "<h4>Possible errors</h4>\n",
       "<ul>\n",
       "<li><code>NotConnected</code>: Not connected to any Azure Quantum workspace.</li>\n",
       "<li><code>NoTarget</code>: No execution target has been configured for Azure Quantum job submission.</li>\n",
       "<li><code>NoOperationName</code>: No Q# operation name was specified for Azure Quantum job submission.</li>\n",
       "<li><code>InvalidTarget</code>: The specified execution target is not valid for Q# job submission in the current Azure Quantum workspace.</li>\n",
       "<li><code>UnrecognizedOperationName</code>: The specified Q# operation name was not recognized.</li>\n",
       "<li><code>InvalidEntryPoint</code>: The specified Q# operation cannot be used as an entry point for Azure Quantum job submission.</li>\n",
       "<li><code>JobSubmissionFailed</code>: Failed to submit the job to the Azure Quantum workspace.</li>\n",
       "<li><code>JobNotCompleted</code>: The specified Azure Quantum job has not yet completed.</li>\n",
       "<li><code>JobOutputDownloadFailed</code>: Failed to download results for the specified Azure Quantum job.</li>\n",
       "</ul>\n",
       "<h5>Example</h5><p>Run a Q# operation defined as <code>operation MyOperation(a : Int, b : Int) : Result</code>\n",
       "on the active target in the current Azure Quantum workspace:</p>\n",
       "<pre><code>In []: %azure.execute MyOperation a=5 b=10\n",
       "Out[]: Submitting MyOperation to target provider.qpu...\n",
       "       Job successfully submitted for 500 shots.\n",
       "          Job name: MyOperation\n",
       "          Job ID: &lt;Azure Quantum job ID&gt;\n",
       "       Waiting up to 30 seconds for Azure Quantum job to complete...\n",
       "       [1:23:45 PM] Current job status: Waiting\n",
       "       [1:23:50 PM] Current job status: Executing\n",
       "       [1:23:55 PM] Current job status: Succeeded\n",
       "       &lt;detailed results of completed job&gt;\n",
       "</code></pre>\n",
       "<h5>Example</h5><p>Run a Q# operation defined as <code>operation MyOperation(a : Int, b : Int) : Result</code>\n",
       "on the active target in the current Azure Quantum workspace,\n",
       "specifying a custom job name, number of shots, timeout, and polling interval:</p>\n",
       "<pre><code>In []: %azure.submit MyOperation a=5 b=10 jobName=&quot;My job&quot; shots=100 timeout=60 poll=10\n",
       "Out[]: Submitting MyOperation to target provider.qpu...\n",
       "       Job successfully submitted for 100 shots.\n",
       "          Job name: My job\n",
       "          Job ID: &lt;Azure Quantum job ID&gt;\n",
       "       Waiting up to 60 seconds for Azure Quantum job to complete...\n",
       "       [1:23:45 PM] Current job status: Waiting\n",
       "       [1:23:55 PM] Current job status: Waiting\n",
       "       [1:24:05 PM] Current job status: Executing\n",
       "       [1:24:15 PM] Current job status: Succeeded\n",
       "       &lt;detailed results of completed job&gt;\n",
       "</code></pre>\n"
      ],
      "text/plain": [
       "%azure.execute:\n",
       "Submits a job to an Azure Quantum workspace and waits for completion."
      ]
     },
     "execution_count": 13,
     "metadata": {},
     "output_type": "execute_result"
    }
   ],
   "source": [
    "%azure.execute?"
   ]
  },
  {
   "cell_type": "code",
   "execution_count": null,
   "metadata": {},
   "outputs": [],
   "source": []
  }
 ],
 "metadata": {
  "kernelspec": {
   "display_name": "Q#",
   "language": "qsharp",
   "name": "iqsharp"
  },
  "language_info": {
   "file_extension": ".qs",
   "mimetype": "text/x-qsharp",
   "name": "qsharp",
   "version": "0.14"
  }
 },
 "nbformat": 4,
 "nbformat_minor": 4
}
