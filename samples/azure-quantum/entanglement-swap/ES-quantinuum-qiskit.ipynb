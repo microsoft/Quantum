{
 "cells": [
  {
   "cell_type": "markdown",
   "metadata": {},
   "source": [
    "# Quantum Teleportation"
   ]
  },
  {
   "cell_type": "code",
   "execution_count": 1,
   "metadata": {},
   "outputs": [],
   "source": [
    "from qiskit import QuantumCircuit, QuantumRegister, ClassicalRegister, Aer, execute, transpile"
   ]
  },
  {
   "cell_type": "markdown",
   "metadata": {},
   "source": [
    "$\\providecommand{\\ket}[1]{\\left|#1\\right\\rangle}$\n",
    "$\\providecommand{\\bra}[1]{\\left\\langle#1\\right|}$\n",
    "\n",
    "In this sample, we will be looking at using quantum teleportation on the Azure Quantum service.\n",
    "\n",
    "To refresh our mind let us review how quantum teleportation works.\n",
    "\n",
    "We have two parties, Alice and Bob, they would like to share information, and they have an entangled state (usually the Bell state $\\frac{1}{\\sqrt{2}} (\\ket{00} + \\ket{11})$). \n",
    "If Alice now wishes to transfer quantum information, she will entangle some payload with her qubit and measure her qubit and payload.She will transmit the results of the measurement to Bob, who can use them to reconstruct Alice's payload on his entangled qubit.\n",
    "\n",
    "In the following code we will implement this operation."
   ]
  },
  {
   "cell_type": "code",
   "execution_count": 2,
   "metadata": {},
   "outputs": [],
   "source": [
    "def create_bell_state():\n",
    "    (alice, bob) = (QuantumRegister(1), QuantumRegister(1))\n",
    "    qc = QuantumCircuit(alice, bob)\n",
    "    qc.name = 'create_bell_state'\n",
    "    qc.h(alice)\n",
    "    qc.cx(alice, bob)\n",
    "    return qc.to_instruction()\n",
    "\n",
    "\n",
    "def send():\n",
    "    (alice, payload) = (QuantumRegister(1), QuantumRegister(1))\n",
    "    (cr_x, cr_z) = (ClassicalRegister(1), ClassicalRegister(1))\n",
    "    qc = QuantumCircuit(alice, payload, cr_x, cr_z)\n",
    "    qc.name = 'send'\n",
    "    qc.cx(payload, alice)\n",
    "    qc.h(payload)\n",
    "    qc.measure(alice, cr_x)\n",
    "    qc.measure(payload, cr_z)\n",
    "    return qc.to_instruction()\n",
    "\n",
    "\n",
    "def recv(qc: QuantumCircuit, bob: QuantumRegister, cr_x: ClassicalRegister, cr_z: ClassicalRegister):\n",
    "    qc.x(bob).c_if(cr_x, 1);\n",
    "    qc.z(bob).c_if(cr_z, 1);"
   ]
  },
  {
   "cell_type": "markdown",
   "metadata": {},
   "source": [
    "We will now use Qiskit's visualization tools to look show the unitary responsible from creating the Bell State.\n",
    "Printing unitary transformations implemented by operations is a great way to check whether your implementation is mathematically correct (for small operations)."
   ]
  },
  {
   "cell_type": "code",
   "execution_count": 3,
   "metadata": {},
   "outputs": [],
   "source": [
    "def create_teleport_circuit_base():\n",
    "    (alice, bob, payload) = (QuantumRegister(1, 'alice'), QuantumRegister(1,'bob'), QuantumRegister(1,'payload'))\n",
    "    (cr_x, cr_z, res) = (ClassicalRegister(1, 'cr_x'), ClassicalRegister(1, 'cr_z'), ClassicalRegister(1, 'res'))\n",
    "    return (QuantumCircuit(alice, bob, payload, cr_x, cr_z, res), alice, bob, payload, cr_x, cr_z, res)"
   ]
  },
  {
   "cell_type": "code",
   "execution_count": 4,
   "metadata": {},
   "outputs": [
    {
     "name": "stdout",
     "output_type": "stream",
     "text": [
      "[[ 0.707+0.j  0.707-0.j  0.   +0.j  0.   +0.j]\n",
      " [ 0.   +0.j  0.   +0.j  0.707+0.j -0.707+0.j]\n",
      " [ 0.   +0.j  0.   +0.j  0.707+0.j  0.707-0.j]\n",
      " [ 0.707+0.j -0.707+0.j  0.   +0.j  0.   +0.j]]\n"
     ]
    }
   ],
   "source": [
    "alice = QuantumRegister(1, 'alice')\n",
    "bob = QuantumRegister(1, 'bob')\n",
    "qc = QuantumCircuit(alice, bob)\n",
    "qc.append(create_bell_state(), [alice, bob])\n",
    "\n",
    "backend = Aer.get_backend('unitary_simulator')\n",
    "\n",
    "job = execute(qc, backend)\n",
    "result = job.result()\n",
    "\n",
    "print(result.get_unitary(qc, decimals=3).data)"
   ]
  },
  {
   "cell_type": "markdown",
   "metadata": {},
   "source": [
    "Below we will now verify that our teleportation does indeed work correctly.\n",
    "\n",
    "We will be visualizing our circuit using Qiskit's tools to manually introspect it for correctness."
   ]
  },
  {
   "cell_type": "code",
   "execution_count": 5,
   "metadata": {},
   "outputs": [
    {
     "data": {
      "text/html": [
       "<pre style=\"word-wrap: normal;white-space: pre;background: #fff0;line-height: 1.1;font-family: &quot;Courier New&quot;,Courier,monospace\">         ┌────────────────────┐ ░ ┌───────┐          \n",
       "  alice: ┤0                   ├─░─┤0      ├──────────\n",
       "         │  create_bell_state │ ░ │       │┌───┐┌───┐\n",
       "    bob: ┤1                   ├─░─┤       ├┤ X ├┤ Z ├\n",
       "         └────────────────────┘ ░ │       │└─╥─┘└─╥─┘\n",
       "payload: ───────────────────────░─┤1 send ├──╫────╫──\n",
       "                                ░ │       │  ║    ║  \n",
       "   cr_x: ═════════════════════════╡0      ╞══■════╬══\n",
       "                                  │       │ 0x1   ║  \n",
       "   cr_z: ═════════════════════════╡1      ╞═══════■══\n",
       "                                  └───────┘      0x1 \n",
       "    res: ════════════════════════════════════════════\n",
       "                                                     </pre>"
      ],
      "text/plain": [
       "         ┌────────────────────┐ ░ ┌───────┐          \n",
       "  alice: ┤0                   ├─░─┤0      ├──────────\n",
       "         │  create_bell_state │ ░ │       │┌───┐┌───┐\n",
       "    bob: ┤1                   ├─░─┤       ├┤ X ├┤ Z ├\n",
       "         └────────────────────┘ ░ │       │└─╥─┘└─╥─┘\n",
       "payload: ───────────────────────░─┤1 send ├──╫────╫──\n",
       "                                ░ │       │  ║    ║  \n",
       "   cr_x: ═════════════════════════╡0      ╞══■════╬══\n",
       "                                  │       │ 0x1   ║  \n",
       "   cr_z: ═════════════════════════╡1      ╞═══════■══\n",
       "                                  └───────┘      0x1 \n",
       "    res: ════════════════════════════════════════════\n",
       "                                                     "
      ]
     },
     "execution_count": 5,
     "metadata": {},
     "output_type": "execute_result"
    }
   ],
   "source": [
    "def perform_teleportation_on_bell_state(qc: QuantumCircuit, \n",
    "                                        alice: QuantumRegister, bob: QuantumRegister, payload: QuantumRegister, \n",
    "                                        cr_x: ClassicalRegister, cr_z: ClassicalRegister):\n",
    "    qc.append(send(), [alice, payload], [cr_x, cr_z])\n",
    "    recv(qc, bob, cr_x, cr_z)\n",
    "    return qc\n",
    "\n",
    "def create_full_teleport_circuit():\n",
    "    (qc, alice, bob, payload, cr_x, cr_z, _) = create_teleport_circuit_base()\n",
    "\n",
    "    qc.append(create_bell_state(), [alice, bob])\n",
    "    qc.barrier()\n",
    "    perform_teleportation_on_bell_state(qc, alice, bob, payload, cr_x, cr_z)\n",
    "    return qc\n",
    "\n",
    "\n",
    "create_full_teleport_circuit().draw(fold=-1, cregbundle=False)"
   ]
  },
  {
   "cell_type": "markdown",
   "metadata": {},
   "source": [
    "We will now simulate our code and see that we manage to teleport our payload correctly.\n",
    "For this Alice rotates the payload at an unusual angle and make sure that the adjoint rotation resets Bob's qubit to $\\ket{0}$ making the overall state of the system $\\ket{000}$."
   ]
  },
  {
   "cell_type": "code",
   "execution_count": 6,
   "metadata": {},
   "outputs": [
    {
     "data": {
      "image/png": "[encoded data removed]",
      "text/plain": [
       "<Figure size 504x360 with 1 Axes>"
      ]
     },
     "execution_count": 6,
     "metadata": {},
     "output_type": "execute_result"
    }
   ],
   "source": [
    "from qiskit.tools.visualization import plot_histogram\n",
    "\n",
    "(qc_prep, alice, bob, payload, cr_x, cr_z, res) = create_teleport_circuit_base()\n",
    "qc_prep.ry(0.2791, payload)\n",
    "\n",
    "(qc_meas, alice, bob, payload, cr_x, cr_z, res) = create_teleport_circuit_base()\n",
    "qc_meas.ry(-0.2791, bob)\n",
    "qc_meas.measure(bob, res)\n",
    "# Reset cr_x cr_z qubits to clean up output\n",
    "qc_meas.reset(payload)\n",
    "qc_meas.measure(payload, cr_x)\n",
    "qc_meas.measure(payload, cr_z)\n",
    "\n",
    "qc = qc_prep.compose(create_full_teleport_circuit()).compose(qc_meas)\n",
    "\n",
    "simulator = Aer.get_backend('aer_simulator')\n",
    "\n",
    "qc_t = transpile(qc, simulator)\n",
    "result = simulator.run(qc_t, shots=500).result()\n",
    "counts = result.get_counts(qc_t)\n",
    "plot_histogram(counts, title=\"Bob's qubit state\")"
   ]
  },
  {
   "cell_type": "markdown",
   "metadata": {},
   "source": [
    "Seeing empirically that our teleportation works, we can proceed to run it on hardware and see how often we successfully create bell states between Alice and Bob.\n",
    "\n",
    "\n",
    "As a first step we need to set up our Azure Quantum provider and see the backends it offers."
   ]
  },
  {
   "cell_type": "code",
   "execution_count": 7,
   "metadata": {},
   "outputs": [],
   "source": [
    "from qiskit.tools.monitor import job_monitor\n",
    "from azure.quantum.qiskit import AzureQuantumProvider"
   ]
  },
  {
   "cell_type": "code",
   "execution_count": 8,
   "metadata": {},
   "outputs": [],
   "source": [
    "provider = AzureQuantumProvider(\n",
    "  resource_id=\"/subscriptions/2cc419b3-3ace-4156-b256-44663dd90190/resourceGroups/AzureQuantum/providers/Microsoft.Quantum/Workspaces/AdriansProjectWorkspace\",\n",
    "  location=\"westus\"\n",
    ")"
   ]
  },
  {
   "cell_type": "code",
   "execution_count": 9,
   "metadata": {},
   "outputs": [
    {
     "name": "stdout",
     "output_type": "stream",
     "text": [
      "['ionq.qpu', 'ionq.simulator', 'quantinuum.hqs-lt-s1', 'quantinuum.hqs-lt-s1-apival', 'quantinuum.hqs-lt-s2', 'quantinuum.hqs-lt-s2-apival', 'quantinuum.hqs-lt-s1-sim', 'quantinuum.hqs-lt-s2-sim']\n"
     ]
    }
   ],
   "source": [
    "print([backend.name() for backend in provider.backends()])"
   ]
  },
  {
   "cell_type": "markdown",
   "metadata": {},
   "source": [
    "When running jobs on Azure Quantum, before going to real hardware it is recommended to run your code through a validator to make sure you don't waste precious resources on faulty code. The validator is made available as the `quantinuum.hqs-lt-s2-apival` target.\n",
    "\n",
    "\n",
    "We now transpile our code for the target and run it for validation. For this we create a job, submit it, then monitor it using `job_monitor` (a function provided by Qiskit that blocks execution until execution of the job is complete) and proceed to introspect the results"
   ]
  },
  {
   "cell_type": "code",
   "execution_count": 10,
   "metadata": {},
   "outputs": [
    {
     "name": "stdout",
     "output_type": "stream",
     "text": [
      "Job id cf5a81eb-3054-11ed-a3d6-dc215ca5fadb\n"
     ]
    }
   ],
   "source": [
    "validator_backend = provider.get_backend(\"quantinuum.hqs-lt-s2-apival\")\n",
    "qc_t = transpile(qc, validator_backend)\n",
    "job = validator_backend.run(qc_t, job_name=\"Validate Entanglement Swapping\")\n",
    "job_id = job.id()\n",
    "print(\"Job id\", job_id)"
   ]
  },
  {
   "cell_type": "code",
   "execution_count": 11,
   "metadata": {},
   "outputs": [
    {
     "name": "stdout",
     "output_type": "stream",
     "text": [
      "Job Status: job has successfully run\n"
     ]
    }
   ],
   "source": [
    "job_monitor(job)"
   ]
  },
  {
   "cell_type": "code",
   "execution_count": 12,
   "metadata": {},
   "outputs": [
    {
     "name": "stdout",
     "output_type": "stream",
     "text": [
      "API validation succeeded!\n"
     ]
    }
   ],
   "source": [
    "result = job.result()\n",
    "if not result.success:\n",
    "    raise Exception(\"API validation Failed\")\n",
    "print(\"API validation succeeded!\")"
   ]
  },
  {
   "cell_type": "markdown",
   "metadata": {},
   "source": [
    "Now with the confidence that our job will work we can submit it to the simulator.  The Quantinuum emulator provided by Azure Quantum differs from the simulator running locally, in that it accurately models noise and behavior of the Quantinuum quantum computer."
   ]
  },
  {
   "cell_type": "code",
   "execution_count": 13,
   "metadata": {},
   "outputs": [
    {
     "name": "stdout",
     "output_type": "stream",
     "text": [
      "Job id d6b91b3e-3054-11ed-ab67-dc215ca5fadb\n"
     ]
    }
   ],
   "source": [
    "sim_backend = provider.get_backend(\"quantinuum.hqs-lt-s2-sim\")\n",
    "qc_t = transpile(qc, validator_backend)\n",
    "job = sim_backend.run(qc_t, job_name=\"Simulate Entanglement Swapping\")\n",
    "job_id = job.id()\n",
    "print(\"Job id\", job_id)"
   ]
  },
  {
   "cell_type": "code",
   "execution_count": 14,
   "metadata": {},
   "outputs": [
    {
     "name": "stdout",
     "output_type": "stream",
     "text": [
      "Job Status: job has successfully run\n"
     ]
    }
   ],
   "source": [
    "job_monitor(job)"
   ]
  },
  {
   "cell_type": "code",
   "execution_count": 15,
   "metadata": {},
   "outputs": [
    {
     "name": "stdout",
     "output_type": "stream",
     "text": [
      "Result(backend_name='quantinuum.hqs-lt-s2-sim', backend_version='1', qobj_id='Simulate Entanglement Swapping', job_id='d6b91b3e-3054-11ed-ab67-dc215ca5fadb', success=True, results=[ExperimentResult(shots=500, success=True, meas_level=2, data=ExperimentResultData(counts={'110': 4, '010': 1, '000': 487, '001': 8}, probabilities={'110': 0.008, '010': 0.002, '000': 0.974, '001': 0.016}), header=QobjExperimentHeader(qiskit='True', name='circuit-102', num_qubits='3', metadata=None))])\n"
     ]
    }
   ],
   "source": [
    "result = job.result()\n",
    "print(result)"
   ]
  },
  {
   "cell_type": "code",
   "execution_count": 16,
   "metadata": {},
   "outputs": [
    {
     "name": "stdout",
     "output_type": "stream",
     "text": [
      "{'000': 487, '001': 8, '010': 1, '011': 0, '100': 0, '101': 0, '110': 4, '111': 0}\n"
     ]
    },
    {
     "data": {
      "image/png": "[encoded data removed]",
      "text/plain": [
       "<Figure size 504x360 with 1 Axes>"
      ]
     },
     "execution_count": 16,
     "metadata": {},
     "output_type": "execute_result"
    }
   ],
   "source": [
    "counts = {format(n, \"03b\"): 0 for n in range(8)} # Creates binary values for all possible circuit outcomes\n",
    "counts.update(result.get_counts(qc_t))\n",
    "print(counts)\n",
    "plot_histogram(counts)"
   ]
  },
  {
   "cell_type": "markdown",
   "metadata": {},
   "source": [
    "We see that while quite good, we do get some noise from running our code on the emulator.\n",
    "Please note, that while this is an emulator, it accurately models the noise of real hardware.\n",
    "\n",
    "Let us now enhance our code by building entanglement swapping. The idea of entanglement swapping is that if Alice and Bob do not have a direct connection but connections to third parties such that a path exists, then each pair of adjacent parties can create Bell states and teleport Alice's second qubit along this path until it reaches Bob.\n",
    "\n",
    "First we build the base case of entanglement swapping `entanglement_swap_3`, then we proceed to build the general case `entanglement_swap_n`"
   ]
  },
  {
   "cell_type": "code",
   "execution_count": 17,
   "metadata": {},
   "outputs": [
    {
     "data": {
      "text/html": [
       "<pre style=\"word-wrap: normal;white-space: pre;background: #fff0;line-height: 1.1;font-family: &quot;Courier New&quot;,Courier,monospace\">      ┌────────────────────┐ ░                     ░ ┌─┐   \n",
       "qc_0: ┤0                   ├─░─────────────────────░─┤M├───\n",
       "      │  create_bell_state │ ░ ┌───────┐           ░ └╥┘   \n",
       "qc_1: ┤1                   ├─░─┤1      ├───────────░──╫────\n",
       "      ├────────────────────┤ ░ │       │           ░  ║    \n",
       "qc_2: ┤0                   ├─░─┤0      ├───────────░──╫────\n",
       "      │  create_bell_state │ ░ │       │┌───┐┌───┐ ░  ║ ┌─┐\n",
       "qc_3: ┤1                   ├─░─┤  send ├┤ X ├┤ Z ├─░──╫─┤M├\n",
       "      └────────────────────┘ ░ │       │└─╥─┘└─╥─┘ ░  ║ └╥┘\n",
       "c4_0: ═════════════════════════╡0      ╞══■════╬══════╩══╬═\n",
       "                               │       │       ║         ║ \n",
       "c4_1: ═════════════════════════╡1      ╞═══════■═════════╩═\n",
       "                               └───────┘                   </pre>"
      ],
      "text/plain": [
       "      ┌────────────────────┐ ░                     ░ ┌─┐   \n",
       "qc_0: ┤0                   ├─░─────────────────────░─┤M├───\n",
       "      │  create_bell_state │ ░ ┌───────┐           ░ └╥┘   \n",
       "qc_1: ┤1                   ├─░─┤1      ├───────────░──╫────\n",
       "      ├────────────────────┤ ░ │       │           ░  ║    \n",
       "qc_2: ┤0                   ├─░─┤0      ├───────────░──╫────\n",
       "      │  create_bell_state │ ░ │       │┌───┐┌───┐ ░  ║ ┌─┐\n",
       "qc_3: ┤1                   ├─░─┤  send ├┤ X ├┤ Z ├─░──╫─┤M├\n",
       "      └────────────────────┘ ░ │       │└─╥─┘└─╥─┘ ░  ║ └╥┘\n",
       "c4_0: ═════════════════════════╡0      ╞══■════╬══════╩══╬═\n",
       "                               │       │       ║         ║ \n",
       "c4_1: ═════════════════════════╡1      ╞═══════■═════════╩═\n",
       "                               └───────┘                   "
      ]
     },
     "execution_count": 17,
     "metadata": {},
     "output_type": "execute_result"
    }
   ],
   "source": [
    "def entanglement_swap_3(): \n",
    "    qc = QuantumCircuit(QuantumRegister(4, 'qc'), ClassicalRegister(2))\n",
    "    qc.append(create_bell_state(), [0, 1])\n",
    "    qc.append(create_bell_state(), [2, 3])\n",
    "    qc.barrier()\n",
    "    perform_teleportation_on_bell_state(qc, 2, 3, 1, 0, 1)\n",
    "    qc.barrier()\n",
    "    # Measure bell state in classical registers\n",
    "    qc.measure(0, 0)\n",
    "    qc.measure(3, 1)\n",
    "    return qc\n",
    "\n",
    "\n",
    "entanglement_swap_3().draw(fold=-1, cregbundle=False)"
   ]
  },
  {
   "cell_type": "markdown",
   "metadata": {},
   "source": [
    "We will now simulate our entanglement swapping and see that our output is evenly (up to statistical error due to limited shots) split between $\\ket{00}$ and $\\ket{11}$, showing us that in the end Alice and Bob have a bell state shared between them."
   ]
  },
  {
   "cell_type": "code",
   "execution_count": 18,
   "metadata": {},
   "outputs": [
    {
     "data": {
      "image/png": "[encoded data removed]",
      "text/plain": [
       "<Figure size 504x360 with 1 Axes>"
      ]
     },
     "execution_count": 18,
     "metadata": {},
     "output_type": "execute_result"
    }
   ],
   "source": [
    "qc = entanglement_swap_3()\n",
    "\n",
    "simulator = Aer.get_backend('aer_simulator')\n",
    "\n",
    "qc = transpile(qc, simulator)\n",
    "result = simulator.run(qc, shots=500).result()\n",
    "counts = result.get_counts(qc)\n",
    "plot_histogram(counts, title='Alice <-> Bob Bell State')"
   ]
  },
  {
   "cell_type": "markdown",
   "metadata": {},
   "source": [
    "Let us now generalize this and build an entanglement swapping circuit for any number for qubits."
   ]
  },
  {
   "cell_type": "code",
   "execution_count": 19,
   "metadata": {},
   "outputs": [
    {
     "data": {
      "text/html": [
       "<pre style=\"word-wrap: normal;white-space: pre;background: #fff0;line-height: 1.1;font-family: &quot;Courier New&quot;,Courier,monospace\">      ┌────────────────────┐ ░                     ░                     ░                     ░ ┌─┐   \n",
       "qc_0: ┤0                   ├─░─────────────────────░─────────────────────░─────────────────────░─┤M├───\n",
       "      │  create_bell_state │ ░ ┌───────┐           ░                     ░                     ░ └╥┘   \n",
       "qc_1: ┤1                   ├─░─┤1      ├───────────░─────────────────────░─────────────────────░──╫────\n",
       "      ├────────────────────┤ ░ │       │           ░                     ░                     ░  ║    \n",
       "qc_2: ┤0                   ├─░─┤0      ├───────────░─────────────────────░─────────────────────░──╫────\n",
       "      │  create_bell_state │ ░ │       │┌───┐┌───┐ ░ ┌───────┐           ░                     ░  ║    \n",
       "qc_3: ┤1                   ├─░─┤       ├┤ X ├┤ Z ├─░─┤1      ├───────────░─────────────────────░──╫────\n",
       "      ├────────────────────┤ ░ │       │└─╥─┘└─╥─┘ ░ │       │           ░                     ░  ║    \n",
       "qc_4: ┤0                   ├─░─┤       ├──╫────╫───░─┤0      ├───────────░─────────────────────░──╫────\n",
       "      │  create_bell_state │ ░ │       │  ║    ║   ░ │       │┌───┐┌───┐ ░ ┌───────┐           ░  ║    \n",
       "qc_5: ┤1                   ├─░─┤  send ├──╫────╫───░─┤       ├┤ X ├┤ Z ├─░─┤1      ├───────────░──╫────\n",
       "      ├────────────────────┤ ░ │       │  ║    ║   ░ │       │└─╥─┘└─╥─┘ ░ │       │           ░  ║    \n",
       "qc_6: ┤0                   ├─░─┤       ├──╫────╫───░─┤  send ├──╫────╫───░─┤0      ├───────────░──╫────\n",
       "      │  create_bell_state │ ░ │       │  ║    ║   ░ │       │  ║    ║   ░ │       │┌───┐┌───┐ ░  ║ ┌─┐\n",
       "qc_7: ┤1                   ├─░─┤       ├──╫────╫───░─┤       ├──╫────╫───░─┤  send ├┤ X ├┤ Z ├─░──╫─┤M├\n",
       "      └────────────────────┘ ░ │       │  ║    ║   ░ │       │  ║    ║   ░ │       │└─╥─┘└─╥─┘ ░  ║ └╥┘\n",
       " cr1: ═════════════════════════╡0      ╞══■════╬═════╡0      ╞══■════╬═════╡0      ╞══■════╬══════╩══╬═\n",
       "                               │       │ 0x1   ║     │       │ 0x1   ║     │       │ 0x1   ║         ║ \n",
       " cr2: ═════════════════════════╡1      ╞═══════■═════╡1      ╞═══════■═════╡1      ╞═══════■═════════╩═\n",
       "                               └───────┘      0x1    └───────┘      0x1    └───────┘      0x1          </pre>"
      ],
      "text/plain": [
       "      ┌────────────────────┐ ░                     ░                     ░                     ░ ┌─┐   \n",
       "qc_0: ┤0                   ├─░─────────────────────░─────────────────────░─────────────────────░─┤M├───\n",
       "      │  create_bell_state │ ░ ┌───────┐           ░                     ░                     ░ └╥┘   \n",
       "qc_1: ┤1                   ├─░─┤1      ├───────────░─────────────────────░─────────────────────░──╫────\n",
       "      ├────────────────────┤ ░ │       │           ░                     ░                     ░  ║    \n",
       "qc_2: ┤0                   ├─░─┤0      ├───────────░─────────────────────░─────────────────────░──╫────\n",
       "      │  create_bell_state │ ░ │       │┌───┐┌───┐ ░ ┌───────┐           ░                     ░  ║    \n",
       "qc_3: ┤1                   ├─░─┤       ├┤ X ├┤ Z ├─░─┤1      ├───────────░─────────────────────░──╫────\n",
       "      ├────────────────────┤ ░ │       │└─╥─┘└─╥─┘ ░ │       │           ░                     ░  ║    \n",
       "qc_4: ┤0                   ├─░─┤       ├──╫────╫───░─┤0      ├───────────░─────────────────────░──╫────\n",
       "      │  create_bell_state │ ░ │       │  ║    ║   ░ │       │┌───┐┌───┐ ░ ┌───────┐           ░  ║    \n",
       "qc_5: ┤1                   ├─░─┤  send ├──╫────╫───░─┤       ├┤ X ├┤ Z ├─░─┤1      ├───────────░──╫────\n",
       "      ├────────────────────┤ ░ │       │  ║    ║   ░ │       │└─╥─┘└─╥─┘ ░ │       │           ░  ║    \n",
       "qc_6: ┤0                   ├─░─┤       ├──╫────╫───░─┤  send ├──╫────╫───░─┤0      ├───────────░──╫────\n",
       "      │  create_bell_state │ ░ │       │  ║    ║   ░ │       │  ║    ║   ░ │       │┌───┐┌───┐ ░  ║ ┌─┐\n",
       "qc_7: ┤1                   ├─░─┤       ├──╫────╫───░─┤       ├──╫────╫───░─┤  send ├┤ X ├┤ Z ├─░──╫─┤M├\n",
       "      └────────────────────┘ ░ │       │  ║    ║   ░ │       │  ║    ║   ░ │       │└─╥─┘└─╥─┘ ░  ║ └╥┘\n",
       " cr1: ═════════════════════════╡0      ╞══■════╬═════╡0      ╞══■════╬═════╡0      ╞══■════╬══════╩══╬═\n",
       "                               │       │ 0x1   ║     │       │ 0x1   ║     │       │ 0x1   ║         ║ \n",
       " cr2: ═════════════════════════╡1      ╞═══════■═════╡1      ╞═══════■═════╡1      ╞═══════■═════════╩═\n",
       "                               └───────┘      0x1    └───────┘      0x1    └───────┘      0x1          "
      ]
     },
     "execution_count": 19,
     "metadata": {},
     "output_type": "execute_result"
    }
   ],
   "source": [
    "def entanglement_swap_n(n_parties: int): \n",
    "    cr_x = ClassicalRegister(1, 'cr1')\n",
    "    cr_z = ClassicalRegister(1, 'cr2')\n",
    "    qc = QuantumCircuit(QuantumRegister(2 * n_parties, 'qc'), cr_x, cr_z)\n",
    "    for idx_party in range(n_parties):\n",
    "        qc.append(create_bell_state(), [2 * idx_party, 2 * idx_party + 1])\n",
    "    qc.barrier()\n",
    "    for idx_party in range(1, n_parties):\n",
    "        perform_teleportation_on_bell_state(qc, 2 * idx_party, 2 * idx_party + 1, 2 * idx_party - 1, cr_x, cr_z)\n",
    "        qc.barrier()\n",
    "    # Measure bell state in classical registers\n",
    "    qc.measure(0, cr_x)\n",
    "    qc.measure(2 * n_parties - 1, cr_z)\n",
    "    return qc\n",
    "\n",
    "entanglement_swap_n(4).draw(fold=-1, cregbundle=False)"
   ]
  },
  {
   "cell_type": "markdown",
   "metadata": {},
   "source": [
    "We shall now test to see how our circuit performs with different numbers of qubits. As our circuit includes mid-circuit measurements we will be running on Quantinuum hardware (/simulators) as they are the only current provider allowing such operations.\n",
    "\n",
    "We will first ensure correctness by running on a simulator and seeing the correct being 100%\n",
    "\n",
    "Then we will use Azure Quantum to run on Quantinuum targets"
   ]
  },
  {
   "cell_type": "code",
   "execution_count": 20,
   "metadata": {},
   "outputs": [],
   "source": [
    "import matplotlib.pyplot as plt"
   ]
  },
  {
   "cell_type": "code",
   "execution_count": 21,
   "metadata": {},
   "outputs": [
    {
     "data": {
      "image/png": "[encoded data removed]",
      "text/plain": [
       "<Figure size 432x288 with 1 Axes>"
      ]
     },
     "metadata": {
      "needs_background": "light"
     },
     "output_type": "display_data"
    }
   ],
   "source": [
    "all_results = dict()\n",
    "\n",
    "def get_result(counts):\n",
    "    total = sum(counts.values())\n",
    "    return (counts['1 1'] + counts ['0 0']) / total * 100\n",
    "\n",
    "for i in range(4, 18):\n",
    "    qc = entanglement_swap_n(i) \n",
    "\n",
    "    simulator = Aer.get_backend('aer_simulator')\n",
    "\n",
    "    qc_t = transpile(qc, simulator)\n",
    "    result = simulator.run(qc_t, shots=500).result()\n",
    "    counts = result.get_counts(qc_t)\n",
    "    all_results[i] = get_result(counts)\n",
    "\n",
    "plt.bar(all_results.keys(), all_results.values())\n",
    "plt.title(\"Alice <-> Bob chance of bell state with n qubits, locally simulated\")\n",
    "plt.xlabel('n')\n",
    "plt.ylabel('Chance of bell state in %')\n",
    "plt.ylim([90, 100])\n",
    "plt.show()"
   ]
  },
  {
   "cell_type": "markdown",
   "metadata": {},
   "source": [
    "Let us now validate our circuits again:"
   ]
  },
  {
   "cell_type": "code",
   "execution_count": 22,
   "metadata": {},
   "outputs": [
    {
     "name": "stdout",
     "output_type": "stream",
     "text": [
      "2-party entanglement swapping uses 4 qubits\n",
      "3-party entanglement swapping uses 6 qubits\n",
      "4-party entanglement swapping uses 8 qubits\n",
      "5-party entanglement swapping uses 10 qubits\n",
      "6-party entanglement swapping uses 12 qubits\n",
      "7-party entanglement swapping uses 14 qubits\n"
     ]
    }
   ],
   "source": [
    "for n_parties in range(2, 8):\n",
    "    print(f\"{n_parties}-party entanglement swapping uses {entanglement_swap_n(n_parties).num_qubits} qubits\")"
   ]
  },
  {
   "cell_type": "markdown",
   "metadata": {},
   "source": [
    "Since the Quantinuum H1-2 target has 12 qubits, we will limit our number of parties to $\\leq 6$"
   ]
  },
  {
   "cell_type": "code",
   "execution_count": 23,
   "metadata": {},
   "outputs": [
    {
     "name": "stdout",
     "output_type": "stream",
     "text": [
      "Validating entanglement swap with 2 parties\n",
      "Job Status: job has successfully run\n",
      "API validation succeeded for 2 parties!\n",
      "Validating entanglement swap with 3 parties\n",
      "Job Status: job has successfully run\n",
      "API validation succeeded for 3 parties!\n",
      "Validating entanglement swap with 4 parties\n",
      "Job Status: job has successfully run\n",
      "API validation succeeded for 4 parties!\n",
      "Validating entanglement swap with 5 parties\n",
      "Job Status: job has successfully run\n",
      "API validation succeeded for 5 parties!\n",
      "Validating entanglement swap with 6 parties\n",
      "Job Status: job has successfully run\n",
      "API validation succeeded for 6 parties!\n"
     ]
    }
   ],
   "source": [
    "for n_parties in range(2, 7):\n",
    "    job_name = f\"Validating entanglement swap with {n_parties} parties\"\n",
    "    print(job_name)\n",
    "    qc = entanglement_swap_n(n_parties) \n",
    "    validator_backend = provider.get_backend(\"quantinuum.hqs-lt-s2-apival\")\n",
    "    qc_t = transpile(qc, validator_backend)\n",
    "    job = validator_backend.run(qc_t, job_name=job_name)\n",
    "    job_id = job.id()\n",
    "    job_monitor(job)\n",
    "    result = job.result()\n",
    "    if not result.success:\n",
    "        raise RuntimeError(f\"API validation failed for {n_parties} parties\")\n",
    "    print(f\"API validation succeeded for {n_parties} parties!\")"
   ]
  },
  {
   "cell_type": "markdown",
   "metadata": {},
   "source": [
    "Now that we see all our circuits can be run correctly, let us now run them on simulators. We will name our circuits so that when submitted as jobs we will be able to identify them in the Azure Quantum job management to have insight into costs. **Please note that this sample makes use of paid services on Azure Quantum. The cost of running this sample with the provided parameters on Quantinuum in a free trial subscription is approximately 111EHQC. This quantity is only an approximate estimate and should not be used as a binding reference. The cost of the service might vary depending on your region, demand and other factors.** We have a write up of our results below if you want to save on the credits."
   ]
  },
  {
   "cell_type": "code",
   "execution_count": null,
   "metadata": {},
   "outputs": [],
   "source": [
    "all_results = dict()\n",
    "\n",
    "def get_result(counts):\n",
    "    total = sum(counts.values())\n",
    "    return (counts['11'] + counts ['00']) / total * 100\n",
    "\n",
    "for n_parties in range(2, 7): # Due to the H1-2 target's 12 qubits, we run up to 6 party entanglement swapping (see previous discussion)\n",
    "    job_name=f\"Running entanglement swap with {n_parties} parties\"\n",
    "    print(job_name)\n",
    "    qc = entanglement_swap_n(n_parties) \n",
    "    emulator_backend = provider.get_backend(\"quantinuum.hqs-lt-s2-sim\")\n",
    "    qc_t = transpile(qc, emulator_backend)\n",
    "    qc_t.name = f\"Entanglement swap with {n_parties} parties\"\n",
    "    job = emulator_backend.run(qc_t, job_name=job_name)\n",
    "    job_id = job.id()\n",
    "    job_monitor(job)\n",
    "    result = job.result()\n",
    "    counts = result.get_counts(qc_t)\n",
    "    all_results[i] = get_result(counts)\n",
    "\n",
    "plt.bar(all_results.keys(), all_results.values())\n",
    "plt.title(\"Alice <-> Bob Bell State chance of bell state on Quantinuum H1-2 emulator\")\n",
    "plt.xlabel('n')\n",
    "plt.ylabel('Chance of bell state in %')\n",
    "plt.ylim([90, 100])\n",
    "plt.show()\n"
   ]
  },
  {
   "cell_type": "markdown",
   "metadata": {},
   "source": [
    "Let us look at the results we got. We included our resulting plot below:"
   ]
  },
  {
   "cell_type": "markdown",
   "metadata": {},
   "source": [
    "<img alt=\"\" src=\"data:image/png;base64,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\" />"
   ]
  },
  {
   "cell_type": "markdown",
   "metadata": {},
   "source": [
    "As we can see we were able to run entanglement swapping on the Quantinuum emulator and were able to use the mid-circuit measurement capability in the process. We also saw how we could use the Azure Quantum service to submit and process our jobs."
   ]
  }
 ],
 "metadata": {
  "kernelspec": {
   "display_name": "Python 3.9.12 ('qsharp-env')",
   "language": "python",
   "name": "python3"
  },
  "language_info": {
   "codemirror_mode": {
    "name": "ipython",
    "version": 3
   },
   "file_extension": ".py",
   "mimetype": "text/x-python",
   "name": "python",
   "nbconvert_exporter": "python",
   "pygments_lexer": "ipython3",
   "version": "3.9.12"
  },
  "orig_nbformat": 4,
  "vscode": {
   "interpreter": {
    "hash": "b4252e63e8a2fdb4c39caf2c09adc0e7447e3e9bad310da9108967fdc06c19c9"
   }
  }
 },
 "nbformat": 4,
 "nbformat_minor": 2
}
