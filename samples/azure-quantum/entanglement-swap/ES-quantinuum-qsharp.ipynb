{
  "cells": [
    {
      "cell_type": "markdown",
      "metadata": {},
      "source": [
        "# Quantum Teleportation"
      ]
    },
    {
      "cell_type": "markdown",
      "metadata": {},
      "source": [
        "$\\providecommand{\\ket}[1]{\\left|#1\\right\\rangle}$\n",
        "$\\providecommand{\\bra}[1]{\\left\\langle#1\\right|}$\n",
        "\n",
        "In this sample, we will be looking at using quantum teleportation on the Azure Quantum service.\n",
        "\n",
        "To refresh our mind let us review how quantum teleportation works.\n",
        "\n",
        "We have two parties, Alice and Bob, they would like to share information, and they have an entangled state (usually the Bell state $\\frac{1}{\\sqrt{2}} (\\ket{00} + \\ket{11})$). \n",
        "If Alice now wishes to transfer quantum information, she will entangle some payload with her qubit and measure her qubit and payload.She will transmit the results of the measurement to Bob, who can use them to reconstruct Alice's payload on his entangled qubit.\n",
        "\n",
        "In the following code we will implement this operation.\n",
        "\n",
        "Before that, let's connect to the Az Quantum service and set our ta"
      ]
    },
    {
      "cell_type": "code",
      "execution_count": null,
      "metadata": {},
      "outputs": [],
      "source": [
        "operation PrepareBellState(alice : Qubit, bob : Qubit) : Unit is Adj + Ctl {\n",
        "    H(alice);\n",
        "    CNOT(alice, bob);\n",
        "}\n",
        "\n",
        "operation Send(alice : Qubit, payload: Qubit) : (Result, Result) {\n",
        "    CNOT(payload, alice);\n",
        "    H(payload);\n",
        "    return (M(alice), M(payload));\n",
        "}\n",
        "\n",
        "operation Receive(bob : Qubit, (cr_x : Result, cr_z : Result)) : Unit {\n",
        "    if cr_x == One { X(bob); }\n",
        "    if cr_z == One { Z(bob); }\n",
        "}"
      ]
    },
    {
      "cell_type": "markdown",
      "metadata": {},
      "source": [
        "We will now use Q# visualization tools to show the unitary responsible from creating the Bell state.\n",
        "Printing unitary transformations implemented by operations is a great way to check whether your implementation is mathematically correct (for small operations)."
      ]
    },
    {
      "cell_type": "code",
      "execution_count": null,
      "metadata": {},
      "outputs": [],
      "source": [
        "open Microsoft.Quantum.Diagnostics; // Contains DumpOperation\n",
        "\n",
        "operation DumpBellState() : Unit {\n",
        "    DumpOperation(2, qubits => PrepareBellState(qubits[0], qubits[1]));\n",
        "}"
      ]
    },
    {
      "cell_type": "code",
      "execution_count": null,
      "metadata": {},
      "outputs": [],
      "source": [
        "%simulate DumpBellState"
      ]
    },
    {
      "cell_type": "markdown",
      "metadata": {},
      "source": [
        "Below we will now verify that our teleportation does indeed work correctly.\n",
        "\n",
        "In order to do this, we will teleport a state of a qubit that we rotate to an unusual angle from Alice to Bob.\n",
        "\n",
        "We will be using the `DumpRegister` and `AssertQubit` functions from the `Microsoft.Quantum.Diagnostics` to introspect our registers and assert that by the end of the computation the state of Bob's qubit is equivalent to the state of the payload qubit before teleportation."
      ]
    },
    {
      "cell_type": "code",
      "execution_count": null,
      "metadata": {},
      "outputs": [],
      "source": [
        "operation PerformTeleportationOnBellState(alice : Qubit, bob : Qubit, payload : Qubit) : Unit {\n",
        "    let cr = Send(alice, payload);\n",
        "    Receive(bob, cr);\n",
        "}"
      ]
    },
    {
      "cell_type": "code",
      "execution_count": null,
      "metadata": {},
      "outputs": [],
      "source": [
        "operation TestTeleportation() : Unit {\n",
        "    use (alice, bob, payload) = (Qubit(), Qubit(), Qubit());\n",
        "    Ry(1.727, payload);\n",
        "    DumpRegister((), [payload]);\n",
        "    PrepareBellState(alice, bob);\n",
        "    PerformTeleportationOnBellState(alice, bob, payload);\n",
        "    Adjoint Ry(1.727, bob); // Uncompute Bob's qubi, returning it to the |0> state\n",
        "    AssertQubit(Zero, bob);\n",
        "}"
      ]
    },
    {
      "cell_type": "code",
      "execution_count": null,
      "metadata": {},
      "outputs": [],
      "source": [
        "%simulate TestTeleportation"
      ]
    },
    {
      "cell_type": "markdown",
      "metadata": {},
      "source": [
        "Seeing empirically that our teleportation works, we can proceed to run it on hardware.\n",
        "\n",
        "For this we will recreate our test function but run it multiple times."
      ]
    },
    {
      "cell_type": "code",
      "execution_count": null,
      "metadata": {},
      "outputs": [],
      "source": [
        "open Microsoft.Quantum.Convert;"
      ]
    },
    {
      "cell_type": "code",
      "execution_count": null,
      "metadata": {},
      "outputs": [],
      "source": [
        "operation TeleportToBob() : Result {\n",
        "    use (alice, bob, payload) = (Qubit(), Qubit(), Qubit());\n",
        "    Ry(1.727, payload);\n",
        "    PrepareBellState(alice, bob);\n",
        "    PerformTeleportationOnBellState(alice, bob, payload);\n",
        "    Adjoint Ry(1.727, bob);\n",
        "    return M(bob);\n",
        "}\n",
        "\n",
        "operation CountCorrectTeleportation(n : Int) : Double {\n",
        "    let expected = Count(res -> res == Zero, DrawMany(TeleportToBob, n))\n",
        "    return IntAsDouble(expected) / IntAsDouble(n);\n",
        "}"
      ]
    },
    {
      "cell_type": "markdown",
      "metadata": {},
      "source": [
        "Let us now see if our implementation is correct by seeing if the simulator succeeds in the teleportation 100% of the time."
      ]
    },
    {
      "cell_type": "code",
      "execution_count": null,
      "metadata": {},
      "outputs": [],
      "source": [
        "%simulate CountCorrectTeleportation n=100"
      ]
    },
    {
      "cell_type": "markdown",
      "metadata": {},
      "source": [
        "We see that on a perfect machine the teleportation works correctly every time. Now let us try running our work on Azure Quantum."
      ]
    },
    {
      "cell_type": "markdown",
      "metadata": {},
      "source": [
        "When running jobs on Azure Quantum, before going to real hardware it is recommended to run your code through a validator to make sure you don't waste precious resources on faulty code. `quantinuum.hqs-lt-s2-apival` is the appropriate target for this."
      ]
    },
    {
      "cell_type": "code",
      "execution_count": null,
      "metadata": {},
      "outputs": [],
      "source": [
        "%azure.connect resourceId=\"\" location=\"\""
      ]
    },
    {
      "cell_type": "code",
      "execution_count": null,
      "metadata": {},
      "outputs": [],
      "source": [
        "%azure.target quantinuum.hqs-lt-s2-apival"
      ]
    },
    {
      "cell_type": "markdown",
      "metadata": {},
      "source": [
        "Let us now submit our job"
      ]
    },
    {
      "cell_type": "code",
      "execution_count": null,
      "metadata": {},
      "outputs": [],
      "source": [
        "%azure.submit TeleportToBob jobName=\"Teleportation API validaton\""
      ]
    },
    {
      "cell_type": "markdown",
      "metadata": {},
      "source": [
        "Now with the confidence that our job will work we can submit it to the simulator. The Quantinuum emulator provided by Azure Quantum differs from the simulator running locally, in that it accurately models noise and behavior of the Quantinuum quantum computer."
      ]
    },
    {
      "cell_type": "code",
      "execution_count": null,
      "metadata": {},
      "outputs": [],
      "source": [
        "%azure.target quantinuum.hqs-lt-s2-sim"
      ]
    },
    {
      "cell_type": "code",
      "execution_count": null,
      "metadata": {},
      "outputs": [],
      "source": [
        "%azure.submit TeleportToBob jobName=\"Teleporation simulation\""
      ]
    },
    {
      "cell_type": "markdown",
      "metadata": {},
      "source": [
        "Now we will look into our job and wait for its completion using `%azure.status` and once complete see results using `%azure.output`."
      ]
    },
    {
      "cell_type": "code",
      "execution_count": null,
      "metadata": {},
      "outputs": [],
      "source": [
        "%azure.status"
      ]
    },
    {
      "cell_type": "code",
      "execution_count": null,
      "metadata": {},
      "outputs": [],
      "source": [
        "%azure.output"
      ]
    },
    {
      "cell_type": "markdown",
      "metadata": {},
      "source": [
        "Let us now enhance our code by building entanglement swapping. The idea of entanglement swapping is that if Alice and Bob do not have a direct connection but connections to third parties such that a path exists, then each pair of adjacent parties can create Bell states and teleport Alice's second qubit along this path until it reaches Bob.\n",
        "\n",
        "First we build the base case of entanglement swapping `EntanglementSwap3`, then we proceed to build the general case `EntanglementSwapN`\n",
        "\n",
        "We will test entanglement swapping with 3 parties by using the Bell pair we create to send a specific qubit state. With the advanced debugging tools of Q# we can introspect that states mid-simulation allowing us to perform this test. To validate that teleportation protocol was implemented correctly, we will use assertion features provided by Q#. Later in this notebook we will test entanglement swapping by checking that Alice and Bob have a Bell state since we will run on real hardware (or accurate simulators thereof) which does not allow such introspection. Validating concepts on small scale using Q# debugging features before proceeding to building full-scale algorithms is a good quantum software development practice."
      ]
    },
    {
      "cell_type": "code",
      "execution_count": null,
      "metadata": {},
      "outputs": [],
      "source": [
        "operation EntanglementSwap3(aliceCharlie : Qubit[], charlieBob : Qubit[]) : (Qubit, Qubit) {\n",
        "    PrepareBellState(aliceCharlie[0], aliceCharlie[1]);\n",
        "    PrepareBellState(charlieBob[0], charlieBob[1]);\n",
        "    PerformTeleportationOnBellState(charlieBob[0], charlieBob[1], aliceCharlie[1]);\n",
        "    ResetAll([aliceCharlie[1], charlieBob[0]]);\n",
        "    return (aliceCharlie[0], charlieBob[1]);\n",
        "}\n",
        "\n",
        "operation TestEntanglementSwap3() : Unit {\n",
        "    use aliceCharlie = Qubit[2];\n",
        "    use charlieBob = Qubit[2];\n",
        "    let (alice, bob) = EntanglementSwap3(aliceCharlie, charlieBob);\n",
        "    use payload = Qubit();\n",
        "    Ry(1.727, payload);\n",
        "    DumpRegister((), [payload]);\n",
        "    PerformTeleportationOnBellState(alice, bob, payload);\n",
        "    Adjoint Ry(1.727, bob);\n",
        "    AssertQubit(Zero, bob);\n",
        "}"
      ]
    },
    {
      "cell_type": "code",
      "execution_count": null,
      "metadata": {},
      "outputs": [],
      "source": [
        "%simulate TestEntanglementSwap3"
      ]
    },
    {
      "cell_type": "markdown",
      "metadata": {},
      "source": [
        "Now let us build entanglement swapping for $n$ parties, given that we have validated the concept for 3 parties. As mentioned above, we will then test that Alice and Bob end up sharing a Bell state."
      ]
    },
    {
      "cell_type": "code",
      "execution_count": null,
      "metadata": {},
      "outputs": [],
      "source": [
        "operation EntanglementSwapN(nParties : Int, qubits : Qubit[]) : (Qubit, Qubit) {\n",
        "    for i in 0..nParties-1 {\n",
        "        // Entangle pairs of qubits\n",
        "        PrepareBellState(qubits[2 * i], qubits[2 * i + 1]);\n",
        "    }\n",
        "    for i in 1..nParties-1 {\n",
        "        // Teleport previously teleported qubit \n",
        "        PerformTeleportationOnBellState(qubits[2 * i], qubits[2 * i + 1], qubits[2 * i - 1]);\n",
        "    }\n",
        "    return (qubits[0], qubits[2 * nParties - 1]);\n",
        "}"
      ]
    },
    {
      "cell_type": "markdown",
      "metadata": {},
      "source": [
        "Let us now test entanglement swapping with 4 qubits locally by teleporting a state again and using Q#'s debugging features."
      ]
    },
    {
      "cell_type": "code",
      "execution_count": null,
      "metadata": {},
      "outputs": [],
      "source": [
        "operation EntanglementSwap4() : (Result) {\n",
        "    use qubits = Qubit[2 * 4];\n",
        "    let (q1, qn) = EntanglementSwapN(4, qubits);\n",
        "    use payload = Qubit();\n",
        "    let rot = Ry(1.727, _);\n",
        "    rot(payload);\n",
        "    DumpRegister((), [payload]);\n",
        "    PerformTeleportationOnBellState(q1, qn, payload);\n",
        "    DumpRegister((), [qn]);\n",
        "    Adjoint rot(qn);\n",
        "    return M(qn);\n",
        "}"
      ]
    },
    {
      "cell_type": "code",
      "execution_count": null,
      "metadata": {},
      "outputs": [],
      "source": [
        "%simulate EntanglementSwap4"
      ]
    },
    {
      "cell_type": "code",
      "execution_count": null,
      "metadata": {},
      "outputs": [],
      "source": [
        "open Microsoft.Quantum.Arrays;\n",
        "open Microsoft.Quantum.Convert;\n",
        "\n",
        "operation TeleportNParties(nParties : Int) : Result {\n",
        "    use qubits = Qubit[2 * nParties];\n",
        "    let (alice, bob) = EntanglementSwapN(nParties, qubits);\n",
        "    use payload = Qubit();\n",
        "    let rot = Ry(1.727, _);\n",
        "    rot(payload);\n",
        "    PerformTeleportationOnBellState(alice, bob, payload);\n",
        "    Adjoint rot(bob);\n",
        "    return M(bob);\n",
        "}\n",
        "\n",
        "operation CountCorrectTeleportationNParties(n : Int, nParties : Int) : Double {\n",
        "    let success = Count(res -> res == Zero, DrawMany(TeleportNParties, n, nParties));\n",
        "    return IntAsDouble(success) / IntAsDouble(n);\n",
        "}"
      ]
    },
    {
      "cell_type": "markdown",
      "metadata": {},
      "source": [
        "Given that we will run on Quantinuum's H1-2, we can run with up to 6 parties as we have 12 qubits available. So let us run one example job.\n",
        "\n",
        "**Please note that this sample makes use of paid services on Azure Quantum. The cost of running this sample with the provided parameters on Quantinuum in a free trial subscription is approximately 31.8EHQC. This quantity is only an approximate estimate and should not be used as a binding reference. The cost of the service might vary depending on your region, demand and other factors.** \n"
      ]
    },
    {
      "cell_type": "code",
      "execution_count": null,
      "metadata": {},
      "outputs": [],
      "source": [
        "%simulate CountCorrectTeleportationNParties n=100 nParties=6"
      ]
    },
    {
      "cell_type": "code",
      "execution_count": null,
      "metadata": {},
      "outputs": [],
      "source": [
        "%azure.target quantinuum.hqs-lt-s2-apival"
      ]
    },
    {
      "cell_type": "code",
      "execution_count": null,
      "metadata": {},
      "outputs": [],
      "source": [
        "%azure.submit TeleportNParties nParties=5 jobName=\"Entanglement Swapping - 6 parties API validation\""
      ]
    },
    {
      "cell_type": "code",
      "execution_count": null,
      "metadata": {},
      "outputs": [],
      "source": [
        "%azure.status"
      ]
    },
    {
      "cell_type": "code",
      "execution_count": null,
      "metadata": {},
      "outputs": [],
      "source": [
        "%azure.output"
      ]
    },
    {
      "cell_type": "code",
      "execution_count": null,
      "metadata": {},
      "outputs": [],
      "source": [
        "%azure.target quantinuum.hqs-lt-s2-sim"
      ]
    },
    {
      "cell_type": "code",
      "execution_count": null,
      "metadata": {},
      "outputs": [],
      "source": [
        "%azure.submit TeleportNParties nParties=5 jobName=\"Entanglement Swapping - 6 parties\""
      ]
    },
    {
      "cell_type": "code",
      "execution_count": null,
      "metadata": {},
      "outputs": [],
      "source": [
        "%azure.status"
      ]
    },
    {
      "cell_type": "code",
      "execution_count": null,
      "metadata": {},
      "outputs": [],
      "source": [
        "%azure.output"
      ]
    },
    {
      "cell_type": "markdown",
      "metadata": {},
      "source": [
        "As we can see we were able to run entanglement swapping on the Quantinuum emulator and were able to use the mid-circuit measurement capability in the process. We also saw how we could use the Azure Quantum service to submit and process our jobs."
      ]
    }
  ],
  "metadata": {
    "kernel_info": {
      "name": "iqsharp"
    },
    "kernelspec": {
      "display_name": "Q#",
      "language": "qsharp",
      "name": "iqsharp"
    },
    "language_info": {
      "file_extension": ".qs",
      "mimetype": "text/x-qsharp",
      "name": "qsharp",
      "version": "0.24"
    },
    "nteract": {
      "version": "nteract-front-end@1.0.0"
    },
    "orig_nbformat": 4
  },
  "nbformat": 4,
  "nbformat_minor": 2
}
