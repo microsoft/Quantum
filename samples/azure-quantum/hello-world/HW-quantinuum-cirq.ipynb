{
 "cells": [
  {
   "cell_type": "markdown",
   "id": "4f68bf86-fb3b-453a-85ae-dfa702070bd6",
   "metadata": {
    "nteract": {
     "transient": {
      "deleting": false
     }
    }
   },
   "source": [
    "# 👋🌍 Hello, world: Submit a Cirq job to Quantinuum\n",
    "\n",
    "In this notebook, we'll review the basics of Azure Quantum by submitting a simple *job*, or quantum program, to [Quantinuum](https://www.quantinuum.com/). We will use [Cirq](https://quantumai.google/cirq) to express the quantum job."
   ]
  },
  {
   "cell_type": "markdown",
   "id": "ed8cda3b-cac7-4a57-8ea0-ac9cba831a36",
   "metadata": {
    "nteract": {
     "transient": {
      "deleting": false
     }
    }
   },
   "source": [
    "## Submit a simple job to Quantinuum using Azure Quantum\n",
    "Azure Quantum provides several ways to express quantum programs. In this example, we are using Cirq, but note that Q# and Qiskit are also supported. All code in this example will be written in Python.\n",
    "\n",
    "Let's begin. When you see a code block, hover over it and click the triangle play-button to execute it. To avoid any compilation issues, this should be done in order from top to bottom."
   ]
  },
  {
   "cell_type": "markdown",
   "id": "4b7e2f18-b0f8-41b5-9ec2-2907f47959e2",
   "metadata": {
    "nteract": {
     "transient": {
      "deleting": false
     }
    }
   },
   "source": [
    "### 1. Connect to the Azure Quantum workspace\n",
    "\n",
    "To connect to the Azure Quantum service, construct an instance of the `AzureQuantumService`. Note that it's imported from `azure.quantum.cirq`."
   ]
  },
  {
   "cell_type": "code",
   "execution_count": null,
   "id": "d171c652-649f-470d-a980-d02bae9a93db",
   "metadata": {},
   "outputs": [],
   "source": [
    "from azure.quantum.cirq import AzureQuantumService\n",
    "\n",
    "service = AzureQuantumService(\n",
    "    resource_id = \"\",\n",
    "    location = \"\"\n",
    ")"
   ]
  },
  {
   "cell_type": "markdown",
   "id": "7d21b1b5-707d-4732-9d5a-e17bc2d9f569",
   "metadata": {
    "nteract": {
     "transient": {
      "deleting": false
     }
    }
   },
   "source": [
    "Let's see what providers and targets are enabled in this workspace with the following command:\n"
   ]
  },
  {
   "cell_type": "code",
   "execution_count": null,
   "id": "582943f3-8afa-4e99-a1f5-e396d99fdec2",
   "metadata": {
    "jupyter": {
     "outputs_hidden": false,
     "source_hidden": false
    },
    "nteract": {
     "transient": {
      "deleting": false
     }
    }
   },
   "outputs": [],
   "source": [
    "targetInfo = service.targets()\n",
    "\n",
    "print(\"This workspace's targets:\")\n",
    "for target in targetInfo:\n",
    "    print(\"-\", target.name)"
   ]
  },
  {
   "cell_type": "markdown",
   "id": "6c0c1824-23f2-45a9-bf55-f82a64727f1b",
   "metadata": {
    "nteract": {
     "transient": {
      "deleting": false
     }
    }
   },
   "source": [
    "### ❕ Do you see `quantinuum.hqs-lt-s1-apival` in your list of targets? If so, you're ready to keep going.\n",
    "\n",
    "Don't see it? You may need to add Quantinuum to your workspace to run this sample. Navigate to the **Providers** page in the portal and click **+Add** to add the Quantinuum provider. Don't worry, there's a free credits plan available."
   ]
  },
  {
   "cell_type": "markdown",
   "id": "61816cb6-3434-470b-89eb-13192648cfaf",
   "metadata": {
    "nteract": {
     "transient": {
      "deleting": false
     }
    }
   },
   "source": [
    "## Quantinuum: The quantum provider\n",
    "Azure Quantum partners with third-party companies to deliver solutions to quantum jobs. These company offerings are called *providers*. Each provider can offer multiple *targets* with different capabilities. See the table below for Quantinuum's targets.\n",
    "\n",
    "Target name | Target ID | Number of qubits | Description\n",
    "| --- | ---| ---|\n",
    "H1-1 API Validator | `quantinuum.hqs-lt-s1-apival` | 12 | Quantinuum's \"API validator.\" Use this to validate quantum programs before submitting to hardware or emulation on Quantinuum's platform. Free of cost. |\n",
    "H1 Emulator | `quantinuum.hqs-lt-s1-sim` | 12 | Quantinuum's quantum simulator. Uses a noise model that is consistent with their H1 hardware offering. |\n",
    "Quantinuum System Model: H1 Family | `quantinuum.hqs-lt` | 12 | Quantinuum's H1 family of trapped-ion quantum computers. |\n",
    "\n",
    "For this example, we will use `quantinuum.hqs-lt-s1-apival` to avoid any costs or credit usage. If you wish to emulate or run the actual circuit, you may replace all instances of `quantinuum.hqs-lt-s1-apival` in subsequent code cells with one of the other values in the table above, but please note costs may be incurred. To learn more about Quantinuum's targets, check out our [documentation](https://aka.ms/AQ/Quantinuum/Documentation)."
   ]
  },
  {
   "cell_type": "markdown",
   "id": "563fa196-7efd-47a2-a3dd-e6f4f6d0031b",
   "metadata": {},
   "source": [
    "### 2. Build the quantum program\n",
    "\n",
    "Let's create a simple Cirq circuit to run."
   ]
  },
  {
   "cell_type": "code",
   "execution_count": null,
   "id": "9deacc51-c2ea-43a3-a474-c4ff62798609",
   "metadata": {},
   "outputs": [],
   "source": [
    "import cirq\n",
    "\n",
    "q0 = cirq.LineQubit(0)\n",
    "circuit = cirq.Circuit(\n",
    "    cirq.H(q0),               # Apply an H-gate to q0\n",
    "    cirq.measure(q0)          # Measure q0\n",
    ")\n",
    "circuit"
   ]
  },
  {
   "cell_type": "markdown",
   "id": "a9c43dfa-8fd0-435b-90a8-496697d48d33",
   "metadata": {
    "nteract": {
     "transient": {
      "deleting": false
     }
    }
   },
   "source": [
    "The circuit you built is a simple quantum random bit generator. With Quantinuum's API validator, we will be able to confirm that the circuit is able to be run on their H1 emulator and hardware."
   ]
  },
  {
   "cell_type": "markdown",
   "id": "71ab1f66-2a22-4bed-a5cb-6a5f431456ea",
   "metadata": {},
   "source": [
    "### 3. Submit the quantum program to Quantinuum"
   ]
  },
  {
   "cell_type": "code",
   "execution_count": null,
   "id": "55072a59-3df1-4eb6-9096-35fe4f2b4fc0",
   "metadata": {},
   "outputs": [],
   "source": [
    "# Using the Quantinuum API validation target, call \"run\" to submit the job. We'll\n",
    "# use 100 repetitions (simulated runs).\n",
    "job = service.targets(\"quantinuum.hqs-lt-s1-apival\").submit(circuit, name=\"hello world-cirq-quantinuum\", repetitions=100)\n",
    "\n",
    "# Print the job ID.\n",
    "print(\"Job id:\", job.job_id())"
   ]
  },
  {
   "cell_type": "markdown",
   "id": "68845f26-dff9-4c60-9478-895ef346231f",
   "metadata": {
    "nteract": {
     "transient": {
      "deleting": false
     }
    }
   },
   "source": [
    "The job ID can be used to retrieve the results later using the `get_job` function or by viewing it under the **Job management** section of the portal."
   ]
  },
  {
   "cell_type": "markdown",
   "id": "7d1e3a59-9898-41dd-93ef-2a204fbb49e8",
   "metadata": {
    "nteract": {
     "transient": {
      "deleting": false
     }
    }
   },
   "source": [
    "### 4. Obtain the job results\n",
    "To get the job's results, you can await completion and plot the output, as in the next code cell. This may take a few seconds."
   ]
  },
  {
   "cell_type": "code",
   "execution_count": null,
   "id": "a88e4367-23a8-434b-8859-4d7ed328e529",
   "metadata": {},
   "outputs": [],
   "source": [
    "# Await job results.\n",
    "result = job.results()\n",
    "\n",
    "from matplotlib import pyplot\n",
    "\n",
    "# Quantinuum's simulator does not return probabilities. Instead, it returns a dictionary of measurements.\n",
    "# (Note that since we targeted API validation, we expect to see that all measurements result in a zero.)\n",
    "# In order to visualize the result, we can use a histogram. Since the circuit contains only a single\n",
    "# measurement, we can expect that all values will be tied to the key \"m_0\".\n",
    "pyplot.hist(result['m_0'], bins=[0,1,2], width=0.5)\n",
    "pyplot.title(\"Result\")\n",
    "pyplot.xlabel(\"Measurement\")\n",
    "_ = pyplot.ylabel(\"Repetitions\")"
   ]
  },
  {
   "cell_type": "markdown",
   "id": "ac95a368-fe1f-42fe-bb21-11f11e63d177",
   "metadata": {
    "nteract": {
     "transient": {
      "deleting": false
     }
    }
   },
   "source": [
    "**See the histogram above? Congratulations, you've submitted a job with Azure Quantum! 👏**\n"
   ]
  },
  {
   "cell_type": "markdown",
   "id": "8a7def7c",
   "metadata": {},
   "source": [
    "### 5. Estimate costs\n",
    "\n",
    "To estimate the costs of running this program on a simulator or hardware, you can use the `service.estimate_cost` method."
   ]
  },
  {
   "cell_type": "code",
   "execution_count": null,
   "id": "457e8f4c",
   "metadata": {},
   "outputs": [],
   "source": [
    "cost = service.estimate_cost(circuit, repetitions=100, target=\"quantinuum.hqs-lt-s1\")\n",
    "print(f\"Estimated cost: {cost.estimated_total} {cost.currency_code}\")"
   ]
  },
  {
   "cell_type": "markdown",
   "id": "ca314d37-ac46-4a0c-89dc-3cb063eb03b8",
   "metadata": {
    "nteract": {
     "transient": {
      "deleting": false
     }
    }
   },
   "source": [
    "### 6. Next steps\n",
    "Next, you can try running a program on Quantinuum's emulation and hardware targets. Just replace `quantinuum.hqs-lt-s1-apival` with `quantinuum.hqs-lt-s1-sim` or `quantinuum.hqs-lt-s1`. Or try another sample by navigating back to the sample gallery. The same \"hello world\" sample can be run with different quantum providers by choosing another option in the gallery card drop-down menu. Don't worry - your work here is automatically saved.\n",
    "\n",
    "To learn more about submitting Cirq circuits to Azure Quantum, review [this documentation](https://docs.microsoft.com/azure/quantum/quickstart-microsoft-cirq?pivots=platform-quantinuum).\n",
    "\n",
    "To learn more about job pricing, review [this documentation](https://docs.microsoft.com/azure/quantum/azure-quantum-job-costs)."
   ]
  },
  {
   "cell_type": "code",
   "execution_count": null,
   "id": "f8f58c48",
   "metadata": {},
   "outputs": [],
   "source": []
  }
 ],
 "metadata": {
  "kernel_info": {
   "name": "python3"
  },
  "kernelspec": {
   "display_name": "Python 3 (ipykernel)",
   "language": "python",
   "name": "python3"
  },
  "language_info": {
   "codemirror_mode": {
    "name": "ipython",
    "version": 3
   },
   "file_extension": ".py",
   "mimetype": "text/x-python",
   "name": "python",
   "nbconvert_exporter": "python",
   "pygments_lexer": "ipython3",
   "version": "3.7.12"
  },
  "nteract": {
   "version": "nteract-front-end@1.0.0"
  }
 },
 "nbformat": 4,
 "nbformat_minor": 5
}
