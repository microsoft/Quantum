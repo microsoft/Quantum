{
  "cells": [
    {
      "cell_type": "markdown",
      "id": "f4504484-5868-402a-85c3-76858e78d502",
      "metadata": {},
      "source": [
        "# 👋🌍 Hello, world: Submit a Qiskit job to Rigetti\n",
        "\n",
        "In this notebook, we'll review the basics of Azure Quantum by submitting a simple *job*, or quantum program, to [Rigetti](https://www.rigetti.com/). We will use [Q#](https://docs.microsoft.com/azure/quantum/user-guide/) to express the quantum job."
      ]
    },
    {
      "cell_type": "markdown",
      "id": "ea815186-063f-4e6c-a8f1-06838bad5a83",
      "metadata": {
        "nteract": {
          "transient": {
            "deleting": false
          }
        }
      },
      "source": [
        "## Submit a simple job to Rigetti using Azure Quantum\n",
        "Azure Quantum provides several ways to express quantum programs. In this example we are using Q#, but note that Qiskit is also supported. All code in this example will be written in Python and Q#.\n",
        "\n",
        "Let's begin. When you see a code block, hover over it and click the triangle play-button to execute it. To avoid any compilation issues, this should be done in order from top to bottom."
      ]
    },
    {
      "cell_type": "markdown",
      "id": "ca90786b-8432-4e46-abba-05855047aed8",
      "metadata": {
        "nteract": {
          "transient": {
            "deleting": false
          }
        }
      },
      "source": [
        "### 1. Connect to the Azure Quantum workspace\n",
        "\n",
        "To connect to the Azure Quantum service, call the `connect` function as seen below. This can take 30 seconds to run the first time, as the Q# environment is initializing."
      ]
    },
    {
      "cell_type": "code",
      "execution_count": null,
      "id": "0cc00d71-e8d8-447a-b40f-5cc1784002e0",
      "metadata": {},
      "outputs": [],
      "source": [
        "import qsharp.azure\n",
        "targets = qsharp.azure.connect(\n",
        "   resourceId=\"\",\n",
        "   location=\"\")"
      ]
    },
    {
      "cell_type": "markdown",
      "id": "dcd6f6c2-98f5-4a85-900e-6d06625baca7",
      "metadata": {
        "nteract": {
          "transient": {
            "deleting": false
          }
        }
      },
      "source": [
        "We can use the resulting object to see which _targets_ are available for submission."
      ]
    },
    {
      "cell_type": "code",
      "execution_count": null,
      "id": "013e6d23-d364-4926-93b9-4b829a9d85d7",
      "metadata": {
        "jupyter": {
          "outputs_hidden": false,
          "source_hidden": false
        },
        "nteract": {
          "transient": {
            "deleting": false
          }
        }
      },
      "outputs": [],
      "source": [
        "import qsharp\n",
        "\n",
        "print(\"This workspace's targets:\")\n",
        "for target in targets:\n",
        "    print(\"-\", target.id)"
      ]
    },
    {
      "cell_type": "markdown",
      "id": "06babf11-5463-4890-a9da-14aa0add09e6",
      "metadata": {
        "nteract": {
          "transient": {
            "deleting": false
          }
        }
      },
      "source": [
        "### ❕ Do you see `rigetti.sim.qvm` in your list of targets? If so, you're ready to keep going.\n",
        "\n",
        "Don't see it? You may need to add Rigetti to your workspace to run this sample. Navigate to the **Providers** page in the portal and click **+Add** to add the Rigetti provider."
      ]
    },
    {
      "cell_type": "code",
      "execution_count": null,
      "id": "28453967",
      "metadata": {},
      "outputs": [],
      "source": [
        "from azure.quantum.target.rigetti import RigettiTarget\n",
        "\n",
        "# Set the target to Rigetti's QVM simulator. This will be used when we submit a job to Azure Quantum to determine which provider/target to send to.\n",
        "qsharp.azure.target(RigettiTarget.QVM)"
      ]
    },
    {
      "cell_type": "markdown",
      "id": "9c74a673-6d07-4dab-8c28-c0b47e75365b",
      "metadata": {
        "nteract": {
          "transient": {
            "deleting": false
          }
        }
      },
      "source": [
        "## Rigetti: The quantum provider\n",
        "Azure Quantum partners with third-party companies to deliver solutions to quantum jobs. These company offerings are called *providers*. Each provider can offer multiple *targets* with different capabilities. See the table below for Rigetti's targets.\n",
        "\n",
        "| Target name | Target ID | Number of qubits | Description |\n",
        "| --- | --- | --- | --- |\n",
        "| Rigetti QVM (simulator) | `rigetti.sim.qvm` | 20 qubits | Rigetti's cloud-based, [open-source](https://github.com/quil-lang/qvm) \"Quantum Virtual Machine\" simulator. Free to use. |\n",
        "| Aspen 11 (hardware) | `rigetti.qpu.aspen-11` | 40 qubits | Rigetti's \"Aspen-11\" universal, physical QPU. Read more at [Rigetti's website](https://qcs.rigetti.com/qpus). |\n",
        "\n",
        "For this example, we will use `rigetti.sim.qvm`. To learn more about Rigetti's targets, check out [Rigetti's Azure Quantum documentation](https://docs.microsoft.com/azure/quantum/provider-rigetti)."
      ]
    },
    {
      "cell_type": "markdown",
      "id": "380bcb7c-fef2-46ad-bfc6-a29adc24ebe4",
      "metadata": {},
      "source": [
        "### 2. Build the quantum program\n",
        "\n",
        "Let's create a simple Q# program to run."
      ]
    },
    {
      "cell_type": "code",
      "execution_count": null,
      "id": "538a4dcd-8966-4e6e-8ac8-b970be3953c3",
      "metadata": {
        "jupyter": {
          "outputs_hidden": false,
          "source_hidden": false
        },
        "nteract": {
          "transient": {
            "deleting": false
          }
        }
      },
      "outputs": [],
      "source": [
        "# We declare the function we will define in Q# as a callable so that Python recognizes the symbol.\n",
        "GenerateRandomBit: any = None"
      ]
    },
    {
      "cell_type": "code",
      "execution_count": null,
      "id": "12bd673b-7859-4ded-854b-58a4e23572b4",
      "metadata": {
        "microsoft": {
          "language": "qsharp"
        }
      },
      "outputs": [],
      "source": [
        "%%qsharp\n",
        "open Microsoft.Quantum.Measurement;\n",
        "open Microsoft.Quantum.Arrays;\n",
        "open Microsoft.Quantum.Convert;\n",
        "\n",
        "operation GenerateRandomBit() : Result {\n",
        "    use target = Qubit();\n",
        "\n",
        "    // Apply an H-gate and measure.\n",
        "    H(target);\n",
        "    return M(target);\n",
        "}"
      ]
    },
    {
      "cell_type": "markdown",
      "id": "7124cadc-2440-4c00-a555-1a4b5b6da9ad",
      "metadata": {
        "nteract": {
          "transient": {
            "deleting": false
          }
        }
      },
      "source": [
        "The program you built is a simple quantum random bit generator. With Rigetti's simulator, we will be able to estimate the probability of measuring a `1` or `0`."
      ]
    },
    {
      "cell_type": "markdown",
      "id": "df747618-48a7-4156-904c-246e0b42286f",
      "metadata": {},
      "source": [
        "### 3. Submit the quantum program to Rigetti\n",
        "\n",
        "We will use the `execute` function to run the quantum program above on Rigetti's `rigetti.sim.qvm` target, designated by `RigettiTarget.QVM`. This may take a minute or so ⏳. Your job will be packaged and sent to Rigetti, where it will wait its turn to be run."
      ]
    },
    {
      "cell_type": "code",
      "execution_count": null,
      "id": "16243d28-39fc-4f6e-802d-48c438186fd2",
      "metadata": {},
      "outputs": [],
      "source": [
        "# We'll use 100 shots (simulated runs). Timeout is in seconds.\n",
        "result = qsharp.azure.execute(GenerateRandomBit, shots=100, jobName=\"Generate one random bit\", timeout=240)"
      ]
    },
    {
      "cell_type": "markdown",
      "id": "13c0627a-c9f0-424d-9f81-46cfab052c41",
      "metadata": {
        "nteract": {
          "transient": {
            "deleting": false
          }
        }
      },
      "source": [
        "The job ID can be used to retrieve the results later using the `output` and `status` functions or by viewing it under the **Job management** section of the portal."
      ]
    },
    {
      "cell_type": "markdown",
      "id": "e184a04d-02cc-4d42-927a-aadd604120d3",
      "metadata": {
        "nteract": {
          "transient": {
            "deleting": false
          }
        }
      },
      "source": [
        "### 4. Visualize job results \n",
        "You can also view a histogram of the results using [`pyplot`](https://matplotlib.org/stable/api/_as_gen/matplotlib.pyplot.html):"
      ]
    },
    {
      "cell_type": "code",
      "execution_count": null,
      "id": "654f4604-fa9a-4045-882e-5455bcabd3ba",
      "metadata": {
        "jupyter": {
          "outputs_hidden": false,
          "source_hidden": false
        },
        "nteract": {
          "transient": {
            "deleting": false
          }
        }
      },
      "outputs": [],
      "source": [
        "from matplotlib import pyplot\n",
        "\n",
        "pyplot.bar(result.keys(), result.values())\n",
        "pyplot.title(\"Result\")\n",
        "pyplot.xlabel(\"Measurement\")\n",
        "_ = pyplot.ylabel(\"Probability\")"
      ]
    },
    {
      "cell_type": "markdown",
      "id": "ea8f562e-594a-43d9-b278-2f78cd3bc80f",
      "metadata": {
        "nteract": {
          "transient": {
            "deleting": false
          }
        }
      },
      "source": [
        "**See the histogram above? Congratulations, you've submitted a job with Azure Quantum! 👏**\n"
      ]
    },
    {
      "cell_type": "markdown",
      "id": "4cdb3bb1-3044-4b99-81a3-bc8339a34cbe",
      "metadata": {
        "nteract": {
          "transient": {
            "deleting": false
          }
        }
      },
      "source": [
        "### 5. Next steps\n",
        "Next, you can try running a program on Rigetti's hardware target. Just replace `RigettiTarget.QVM` with `RigettiTarget.ASPEN_11` or `RigettiTarget.ASPEN_M_1`. Or try another sample by navigating back to the sample gallery. The same \"hello world\" sample can be run with different quantum providers by choosing another option in the gallery card drop-down menu. Don't worry - your work here is automatically saved.\n",
        "\n",
        "To learn more about submitting jobs to Azure Quantum using Q#, refer to the [Azure Quantum documentation](https://docs.microsoft.com/azure/quantum/how-to-submit-jobs?pivots=ide-python).\n",
        "\n",
        "To learn more about job pricing, review [Azure Quantum's pricing documentation](https://docs.microsoft.com/azure/quantum/azure-quantum-job-costs)."
      ]
    }
  ],
  "metadata": {
    "kernel_info": {
      "name": "python3"
    },
    "kernelspec": {
      "display_name": "Python 3 (ipykernel)",
      "language": "python",
      "name": "python3"
    },
    "language_info": {
      "codemirror_mode": {
        "name": "ipython",
        "version": 3
      },
      "file_extension": ".py",
      "mimetype": "text/x-python",
      "name": "python",
      "nbconvert_exporter": "python",
      "pygments_lexer": "ipython3",
      "version": "3.7.13"
    },
    "nteract": {
      "version": "nteract-front-end@1.0.0"
    }
  },
  "nbformat": 4,
  "nbformat_minor": 5
}
