{
 "cells": [
  {
   "cell_type": "markdown",
   "id": "4f68bf86-fb3b-453a-85ae-dfa702070bd6",
   "metadata": {},
   "source": [
    "# 👋🌍 Hello, world: Submit a Q# job to Honeywell (Quantinuum)\n",
    "\n",
    "In this notebook, we'll review the basics of Azure Quantum by submitting a simple *job*, or quantum program, to [Honeywell (Quantinuum)](https://www.quantinuum.com/). We will use [Q#](https://docs.microsoft.com/azure/quantum/user-guide/) to express the quantum job."
   ]
  },
  {
   "cell_type": "markdown",
   "id": "ed8cda3b-cac7-4a57-8ea0-ac9cba831a36",
   "metadata": {
    "nteract": {
     "transient": {
      "deleting": false
     }
    }
   },
   "source": [
    "## Submit a simple job Honeywell using Azure Quantum\n",
    "Azure Quantum provides several ways to express quantum programs. In this example we are using Q#, but note that Qiskit and Cirq are also supported. All code in this example will be written in Python and Q#.\n",
    "\n",
    "Let's begin. When you see a code block, hover over it and click the triangle play-button to execute it. To avoid any compilation issues, this should be done in order from top to bottom."
   ]
  },
  {
   "cell_type": "markdown",
   "id": "4b7e2f18-b0f8-41b5-9ec2-2907f47959e2",
   "metadata": {
    "nteract": {
     "transient": {
      "deleting": false
     }
    }
   },
   "source": [
    "### 1. Connect to the Azure Quantum workspace\n",
    "\n",
    "To connect to the Azure Quantum service, call the `connect` function as seen below."
   ]
  },
  {
   "cell_type": "code",
   "execution_count": null,
   "id": "d171c652-649f-470d-a980-d02bae9a93db",
   "metadata": {},
   "outputs": [],
   "source": [
    "import qsharp.azure\n",
    "\n",
    "targets = qsharp.azure.connect(\n",
    "    resourceId = \"\",\n",
    "    location = \"\"\n",
    ")"
   ]
  },
  {
   "cell_type": "markdown",
   "id": "ec76e61e-7f6f-41ef-afde-18a2a9271289",
   "metadata": {
    "nteract": {
     "transient": {
      "deleting": false
     }
    }
   },
   "source": [
    "We can use the resulting object to see which _targets_ are available for submission."
   ]
  },
  {
   "cell_type": "code",
   "execution_count": null,
   "id": "50b2ba88-4597-465f-8b37-2f2800b341f0",
   "metadata": {
    "jupyter": {
     "outputs_hidden": false,
     "source_hidden": false
    },
    "nteract": {
     "transient": {
      "deleting": false
     }
    }
   },
   "outputs": [],
   "source": [
    "import qsharp\n",
    "\n",
    "print(\"This workspace's targets:\")\n",
    "for target in targets:\n",
    "    print(\"-\", target.id)"
   ]
  },
  {
   "cell_type": "markdown",
   "id": "61816cb6-3434-470b-89eb-13192648cfaf",
   "metadata": {
    "nteract": {
     "transient": {
      "deleting": false
     }
    }
   },
   "source": [
    "### ❕ Do you see `honeywell.hqs-lt-s1-apival` in your list of targets? If so, you're ready to keep going.\n",
    "\n",
    "Don't see it? You may need to add Honeywell to your workspace to run this sample. Navigate to the **Providers** page in the portal and click **+Add** to add the Honeywell provider. Don't worry, there's a free credits plan available.\n",
    "## Honeywell (Quantinuum): The quantum provider\n",
    "Azure Quantum partners with third-party companies to deliver solutions to quantum jobs. These company offerings are called *providers*. Each provider can offer multiple *targets* with different capabilities. See the table below for Honeywell's targets.\n",
    "\n",
    "Target name | Target ID | Number of qubits | Description\n",
    "| --- | ---| ---|\n",
    "Quantum validator | `honeywell.hqs-lt-s1-apival`* | 12 | Honeywell's \"API validator.\" Use this to validate quantum programs before submitting to hardware or emulation on Honeywell's platform. Free of cost. |\n",
    "Honeywell System Model H1 Emulator | `honeywell.hqs-lt-s1-sim`* | 12 | Honeywell's quantum simulator. Uses a noise model that is consistent with their H1 hardware offering. |\n",
    "Honeywell System Model H1 | `honeywell.hqs-lt-s1` | 12 | Honeywell's trapped-ion quantum computer. |\n",
    "\n",
    "\\*This target contains an alternate of nearly identical function that is referred to by changing the `s1` in its name to `s2`.\n",
    "\n",
    "For this example, we will use `honeywell.hqs-lt-s1-apival` to avoid any costs or credit usage. If you wish to emulate or run the actual circuit, you may replace all instances of `honeywell.hqs-lt-s1-apival` in subsequent code cells with one of the other values in the table above, but please note any costs incurred. To learn more about Honeywell's targets, check out our [documentation](https://docs.microsoft.com/azure/quantum/provider-honeywell)."
   ]
  },
  {
   "cell_type": "markdown",
   "id": "563fa196-7efd-47a2-a3dd-e6f4f6d0031b",
   "metadata": {},
   "source": [
    "### 2. Build the quantum program\n",
    "\n",
    "Let's create a simple Q# program to run."
   ]
  },
  {
   "cell_type": "code",
   "execution_count": null,
   "id": "e0dd93c6-4ef3-4fe7-a96a-847333c27110",
   "metadata": {
    "jupyter": {
     "outputs_hidden": false,
     "source_hidden": false
    },
    "nteract": {
     "transient": {
      "deleting": false
     }
    }
   },
   "outputs": [],
   "source": [
    "# We declare the function we will define in Q# as a callable so that Python recognizes the symbol.\n",
    "GenerateRandomBit: any = None"
   ]
  },
  {
   "cell_type": "code",
   "execution_count": null,
   "id": "9deacc51-c2ea-43a3-a474-c4ff62798609",
   "metadata": {
    "microsoft": {
     "language": "qsharp"
    }
   },
   "outputs": [],
   "source": [
    "%%qsharp\n",
    "open Microsoft.Quantum.Measurement;\n",
    "open Microsoft.Quantum.Arrays;\n",
    "open Microsoft.Quantum.Convert;\n",
    "\n",
    "operation GenerateRandomBit() : Result {\n",
    "    use target = Qubit();\n",
    "\n",
    "    // Apply an H-gate and measure.\n",
    "    H(target);\n",
    "    return M(target);\n",
    "}"
   ]
  },
  {
   "cell_type": "markdown",
   "id": "a9c43dfa-8fd0-435b-90a8-496697d48d33",
   "metadata": {
    "nteract": {
     "transient": {
      "deleting": false
     }
    }
   },
   "source": [
    "The program you built is a simple quantum random bit generator. With Honeywell's API validator, we will be able to confirm that the circuit is able to be run on their H1 emulator and hardware."
   ]
  },
  {
   "cell_type": "markdown",
   "id": "71ab1f66-2a22-4bed-a5cb-6a5f431456ea",
   "metadata": {},
   "source": [
    "### 3. Submit the quantum program to Honeywell\n",
    "\n",
    "We will use the `execute` function to run the quantum program above on Honeywell's `honeywell.hqs-lt-s1-apival` target. This may take a minute or so ⏳. Your job will be packaged and sent to Honeywell, where it will wait its turn to be run."
   ]
  },
  {
   "cell_type": "code",
   "execution_count": null,
   "id": "55072a59-3df1-4eb6-9096-35fe4f2b4fc0",
   "metadata": {
    "scrolled": true
   },
   "outputs": [],
   "source": [
    "# Set the target to honeywell.hqs-lt-s1-apival\n",
    "qsharp.azure.target(\"honeywell.hqs-lt-s1-apival\")\n",
    "\n",
    "# Execute the job. We'll use 100 shots (simulated runs). Timeout is in seconds.\n",
    "result = qsharp.azure.execute(GenerateRandomBit, shots=100, jobName=\"Generate one random bit\", timeout=240)"
   ]
  },
  {
   "cell_type": "markdown",
   "id": "68845f26-dff9-4c60-9478-895ef346231f",
   "metadata": {
    "nteract": {
     "transient": {
      "deleting": false
     }
    }
   },
   "source": [
    "The job ID can be used to retrieve the results later using the `output` and `status` functions or by viewing it under the **Job management** section of the portal."
   ]
  },
  {
   "cell_type": "markdown",
   "id": "bf44c55e-6cc8-4d18-a648-7c13e03e05d9",
   "metadata": {
    "nteract": {
     "transient": {
      "deleting": false
     }
    }
   },
   "source": [
    "### 4. Visualize the job results\n",
    "You can view a histogram of the results using [`pyplot`](https://matplotlib.org/stable/api/_as_gen/matplotlib.pyplot.html):\n"
   ]
  },
  {
   "cell_type": "code",
   "execution_count": null,
   "id": "0b9c71cc",
   "metadata": {},
   "outputs": [],
   "source": [
    "result"
   ]
  },
  {
   "cell_type": "code",
   "execution_count": null,
   "id": "9e07dfd6-c696-47a6-bbf6-eb11147ada24",
   "metadata": {
    "jupyter": {
     "outputs_hidden": false,
     "source_hidden": false
    },
    "nteract": {
     "transient": {
      "deleting": false
     }
    }
   },
   "outputs": [],
   "source": [
    "from matplotlib import pyplot\n",
    "\n",
    "_ = pyplot.bar(result.keys(), result.values())\n",
    "pyplot.title(\"Result\")\n",
    "pyplot.ylabel(\"Probability\")\n",
    "_ = pyplot.xlabel(\"Measurement\")"
   ]
  },
  {
   "cell_type": "markdown",
   "id": "ac95a368-fe1f-42fe-bb21-11f11e63d177",
   "metadata": {
    "nteract": {
     "transient": {
      "deleting": false
     }
    }
   },
   "source": [
    "**See the histogram above? Congratulations, you've submitted a job with Azure Quantum! 👏**"
   ]
  },
  {
   "cell_type": "markdown",
   "id": "ca314d37-ac46-4a0c-89dc-3cb063eb03b8",
   "metadata": {
    "nteract": {
     "transient": {
      "deleting": false
     }
    }
   },
   "source": [
    "### 5. Next steps\n",
    "Next, you can try running a program on Honeywell's emulation target - just replace `honeywell.hqs-lt-s1-apival` with `honeywell.hqs-lt-s1-sim`. Or try another sample by navigating back to the sample gallery. The same \"hello world\" sample can be run with different quantum providers by choosing another option in the gallery card drop-down menu. Don't worry - your work here is automatically saved.\n",
    "\n",
    "To learn more about submitting jobs to Azure Quantum using Q#, refer to [this documentation](https://docs.microsoft.com/azure/quantum/how-to-submit-jobs?pivots=ide-python).\n",
    "\n",
    "To learn more about job pricing, review [this documentation](https://docs.microsoft.com/azure/quantum/azure-quantum-job-costs)."
   ]
  },
  {
   "cell_type": "code",
   "execution_count": null,
   "id": "c4f17d57",
   "metadata": {},
   "outputs": [],
   "source": []
  }
 ],
 "metadata": {
  "kernel_info": {
   "name": "python3"
  },
  "kernelspec": {
   "display_name": "Python 3 (ipykernel)",
   "language": "python",
   "name": "python3"
  },
  "language_info": {
   "codemirror_mode": {
    "name": "ipython",
    "version": 3
   },
   "file_extension": ".py",
   "mimetype": "text/x-python",
   "name": "python",
   "nbconvert_exporter": "python",
   "pygments_lexer": "ipython3",
   "version": "3.7.12"
  },
  "nteract": {
   "version": "nteract-front-end@1.0.0"
  }
 },
 "nbformat": 4,
 "nbformat_minor": 5
}
